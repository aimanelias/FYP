{
 "cells": [
  {
   "cell_type": "code",
   "execution_count": 1,
   "metadata": {},
   "outputs": [],
   "source": [
    "import pandas as pd\n",
    "import numpy as np\n",
    "\n",
    "import matplotlib.pyplot as plt #to visualise\n",
    "import seaborn as sns\n",
    "\n",
    "import nltk #to vectorizer\n",
    "from nltk.stem import PorterStemmer\n",
    "\n",
    "from sklearn.feature_extraction.text import CountVectorizer #to find the similarity"
   ]
  },
  {
   "cell_type": "markdown",
   "metadata": {},
   "source": [
    "1. DATA LOADING"
   ]
  },
  {
   "cell_type": "code",
   "execution_count": 2,
   "metadata": {},
   "outputs": [],
   "source": [
    "laptop = pd.read_csv('dataset/laptops.csv')"
   ]
  },
  {
   "cell_type": "code",
   "execution_count": 3,
   "metadata": {},
   "outputs": [
    {
     "data": {
      "text/html": [
       "<div>\n",
       "<style scoped>\n",
       "    .dataframe tbody tr th:only-of-type {\n",
       "        vertical-align: middle;\n",
       "    }\n",
       "\n",
       "    .dataframe tbody tr th {\n",
       "        vertical-align: top;\n",
       "    }\n",
       "\n",
       "    .dataframe thead th {\n",
       "        text-align: right;\n",
       "    }\n",
       "</style>\n",
       "<table border=\"1\" class=\"dataframe\">\n",
       "  <thead>\n",
       "    <tr style=\"text-align: right;\">\n",
       "      <th></th>\n",
       "      <th>usecases</th>\n",
       "    </tr>\n",
       "  </thead>\n",
       "  <tbody>\n",
       "    <tr>\n",
       "      <th>0</th>\n",
       "      <td>Business/Professional</td>\n",
       "    </tr>\n",
       "    <tr>\n",
       "      <th>1</th>\n",
       "      <td>Gaming</td>\n",
       "    </tr>\n",
       "    <tr>\n",
       "      <th>2</th>\n",
       "      <td>Home/Everyday use</td>\n",
       "    </tr>\n",
       "    <tr>\n",
       "      <th>3</th>\n",
       "      <td>Budget Friendly</td>\n",
       "    </tr>\n",
       "    <tr>\n",
       "      <th>4</th>\n",
       "      <td>Multimedia/Entertainment</td>\n",
       "    </tr>\n",
       "  </tbody>\n",
       "</table>\n",
       "</div>"
      ],
      "text/plain": [
       "                    usecases\n",
       "0      Business/Professional\n",
       "1                     Gaming\n",
       "2          Home/Everyday use\n",
       "3            Budget Friendly\n",
       "4   Multimedia/Entertainment"
      ]
     },
     "execution_count": 3,
     "metadata": {},
     "output_type": "execute_result"
    }
   ],
   "source": [
    "laptop[['usecases']].head()"
   ]
  },
  {
   "cell_type": "code",
   "execution_count": 4,
   "metadata": {},
   "outputs": [
    {
     "data": {
      "text/plain": [
       "(796, 16)"
      ]
     },
     "execution_count": 4,
     "metadata": {},
     "output_type": "execute_result"
    }
   ],
   "source": [
    "laptop.shape #display 796 rows and 16 column"
   ]
  },
  {
   "cell_type": "code",
   "execution_count": 5,
   "metadata": {},
   "outputs": [
    {
     "data": {
      "text/html": [
       "<div>\n",
       "<style scoped>\n",
       "    .dataframe tbody tr th:only-of-type {\n",
       "        vertical-align: middle;\n",
       "    }\n",
       "\n",
       "    .dataframe tbody tr th {\n",
       "        vertical-align: top;\n",
       "    }\n",
       "\n",
       "    .dataframe thead th {\n",
       "        text-align: right;\n",
       "    }\n",
       "</style>\n",
       "<table border=\"1\" class=\"dataframe\">\n",
       "  <thead>\n",
       "    <tr style=\"text-align: right;\">\n",
       "      <th></th>\n",
       "      <th>laptop_id</th>\n",
       "      <th>name</th>\n",
       "      <th>price</th>\n",
       "      <th>processor</th>\n",
       "      <th>ram</th>\n",
       "      <th>os</th>\n",
       "      <th>storage</th>\n",
       "      <th>img_link</th>\n",
       "      <th>display</th>\n",
       "      <th>rating</th>\n",
       "      <th>no_of_ratings</th>\n",
       "      <th>no_of_reviews</th>\n",
       "      <th>laptop_brand</th>\n",
       "      <th>os_brand</th>\n",
       "      <th>processor_brand</th>\n",
       "      <th>usecases</th>\n",
       "    </tr>\n",
       "  </thead>\n",
       "  <tbody>\n",
       "    <tr>\n",
       "      <th>0</th>\n",
       "      <td>0</td>\n",
       "      <td>Lenovo Intel Core i5 11th Gen</td>\n",
       "      <td>62990</td>\n",
       "      <td>Intel Core i5 Processor (11th Gen)</td>\n",
       "      <td>16 GB DDR4 RAM</td>\n",
       "      <td>Windows 11 Operating System</td>\n",
       "      <td>512 GB SSD</td>\n",
       "      <td>https://rukminim1.flixcart.com/image/312/312/x...</td>\n",
       "      <td>15.6</td>\n",
       "      <td>4.5</td>\n",
       "      <td>14.0</td>\n",
       "      <td>1.0</td>\n",
       "      <td>Lenovo</td>\n",
       "      <td>Windows</td>\n",
       "      <td>Intel</td>\n",
       "      <td>Business/Professional</td>\n",
       "    </tr>\n",
       "    <tr>\n",
       "      <th>1</th>\n",
       "      <td>1</td>\n",
       "      <td>ASUS ROG Zephyrus G15 (2022) with 90Whr Batter...</td>\n",
       "      <td>161990</td>\n",
       "      <td>AMD Ryzen 9 Octa Core Processor</td>\n",
       "      <td>16 GB DDR5 RAM</td>\n",
       "      <td>64 bit Windows 11 Operating System</td>\n",
       "      <td>1 TB SSD</td>\n",
       "      <td>https://rukminim1.flixcart.com/image/312/312/l...</td>\n",
       "      <td>15.6</td>\n",
       "      <td>3.8</td>\n",
       "      <td>5.0</td>\n",
       "      <td>1.0</td>\n",
       "      <td>ASUS</td>\n",
       "      <td>Windows</td>\n",
       "      <td>AMD</td>\n",
       "      <td>Gaming</td>\n",
       "    </tr>\n",
       "  </tbody>\n",
       "</table>\n",
       "</div>"
      ],
      "text/plain": [
       "   laptop_id                                               name   price  \\\n",
       "0          0                      Lenovo Intel Core i5 11th Gen   62990   \n",
       "1          1  ASUS ROG Zephyrus G15 (2022) with 90Whr Batter...  161990   \n",
       "\n",
       "                            processor             ram  \\\n",
       "0  Intel Core i5 Processor (11th Gen)  16 GB DDR4 RAM   \n",
       "1     AMD Ryzen 9 Octa Core Processor  16 GB DDR5 RAM   \n",
       "\n",
       "                                   os     storage  \\\n",
       "0         Windows 11 Operating System  512 GB SSD   \n",
       "1  64 bit Windows 11 Operating System    1 TB SSD   \n",
       "\n",
       "                                            img_link  display  rating  \\\n",
       "0  https://rukminim1.flixcart.com/image/312/312/x...     15.6     4.5   \n",
       "1  https://rukminim1.flixcart.com/image/312/312/l...     15.6     3.8   \n",
       "\n",
       "   no_of_ratings  no_of_reviews laptop_brand os_brand processor_brand  \\\n",
       "0           14.0            1.0       Lenovo  Windows           Intel   \n",
       "1            5.0            1.0         ASUS  Windows             AMD   \n",
       "\n",
       "                 usecases  \n",
       "0   Business/Professional  \n",
       "1                  Gaming  "
      ]
     },
     "execution_count": 5,
     "metadata": {},
     "output_type": "execute_result"
    }
   ],
   "source": [
    "laptop.head(2)"
   ]
  },
  {
   "cell_type": "code",
   "execution_count": 6,
   "metadata": {},
   "outputs": [
    {
     "data": {
      "text/plain": [
       "Index(['laptop_id', 'name', 'price', 'processor', 'ram', 'os', 'storage',\n",
       "       'img_link', 'display', 'rating', 'no_of_ratings', 'no_of_reviews',\n",
       "       'laptop_brand', 'os_brand', 'processor_brand', 'usecases'],\n",
       "      dtype='object')"
      ]
     },
     "execution_count": 6,
     "metadata": {},
     "output_type": "execute_result"
    }
   ],
   "source": [
    "laptop.columns #based on these information, we may choose which column that needed"
   ]
  },
  {
   "cell_type": "code",
   "execution_count": 7,
   "metadata": {},
   "outputs": [],
   "source": [
    "laptop['display'] = laptop['display'].astype(str) #convert to string"
   ]
  },
  {
   "cell_type": "code",
   "execution_count": 8,
   "metadata": {},
   "outputs": [
    {
     "name": "stdout",
     "output_type": "stream",
     "text": [
      "laptop_id            int64\n",
      "name                object\n",
      "price                int64\n",
      "processor           object\n",
      "ram                 object\n",
      "os                  object\n",
      "storage             object\n",
      "img_link            object\n",
      "display             object\n",
      "rating             float64\n",
      "no_of_ratings      float64\n",
      "no_of_reviews      float64\n",
      "laptop_brand        object\n",
      "os_brand            object\n",
      "processor_brand     object\n",
      "usecases            object\n",
      "dtype: object\n"
     ]
    }
   ],
   "source": [
    "print(laptop.dtypes)"
   ]
  },
  {
   "cell_type": "code",
   "execution_count": 9,
   "metadata": {},
   "outputs": [],
   "source": [
    "#laptop.merge(other-df, on = 'column') #use this to merge 2 dataset"
   ]
  },
  {
   "cell_type": "markdown",
   "metadata": {},
   "source": [
    "DATA VISUALISE"
   ]
  },
  {
   "cell_type": "code",
   "execution_count": 10,
   "metadata": {},
   "outputs": [
    {
     "data": {
      "text/plain": [
       "\"\\n#to count the occurrences of each brand\\nbrand_counts = laptop['laptop_brand'].value_counts()\\n\\n\\n#create the bar plot OPTIONAL\\nplt.figure(figsize=(10, 5))  # Optional: Adjust figure size\\nax = brand_counts.plot(kind='bar')\\n#ax = brand_counts.plot(kind='bar', color='blue', edgecolor='black')\\n\\n# Set labels and title\\nplt.xlabel('Laptop Brand', fontsize=10)\\nplt.ylabel('Number of Laptops', fontsize=10)\\nplt.title('Laptop Brand Distribution', fontsize=10, weight='bold')\\n\\n\\n# Adding annotations for each bar\\nfor i, value in enumerate(brand_counts):\\n    plt.text(i, value + 0.5, str(value), ha='center', fontsize=13)\\n\\n# Show the plot\\nplt.tight_layout()\\nplt.show()\\n\""
      ]
     },
     "execution_count": 10,
     "metadata": {},
     "output_type": "execute_result"
    }
   ],
   "source": [
    "'''\n",
    "#to count the occurrences of each brand\n",
    "brand_counts = laptop['laptop_brand'].value_counts()\n",
    "\n",
    "\n",
    "#create the bar plot OPTIONAL\n",
    "plt.figure(figsize=(10, 5))  # Optional: Adjust figure size\n",
    "ax = brand_counts.plot(kind='bar')\n",
    "#ax = brand_counts.plot(kind='bar', color='blue', edgecolor='black')\n",
    "\n",
    "# Set labels and title\n",
    "plt.xlabel('Laptop Brand', fontsize=10)\n",
    "plt.ylabel('Number of Laptops', fontsize=10)\n",
    "plt.title('Laptop Brand Distribution', fontsize=10, weight='bold')\n",
    "\n",
    "\n",
    "# Adding annotations for each bar\n",
    "for i, value in enumerate(brand_counts):\n",
    "    plt.text(i, value + 0.5, str(value), ha='center', fontsize=13)\n",
    "\n",
    "# Show the plot\n",
    "plt.tight_layout()\n",
    "plt.show()\n",
    "'''"
   ]
  },
  {
   "cell_type": "code",
   "execution_count": 11,
   "metadata": {},
   "outputs": [
    {
     "data": {
      "text/plain": [
       "\"# Count the occurrences of each use case\\nusecase_counts = laptop['os_brand'].value_counts()\\n\\n# Create the pie chart\\nplt.figure(figsize=(8, 8))  # Adjust figure size\\nplt.pie(\\n    usecase_counts, \\n    labels=usecase_counts.index,  # Add labels for each use case\\n    autopct='%1.1f%%',  # Display percentages with 1 decimal point\\n    startangle=140,  # Rotate chart for better appearance\\n    colors=plt.cm.tab10.colors  # Optional: Use a color map\\n)\\n\\n# Add a title\\nplt.title('Laptop OS Distribution', fontsize=12, weight='bold')\\n\\n# Show the pie chart\\nplt.show()\""
      ]
     },
     "execution_count": 11,
     "metadata": {},
     "output_type": "execute_result"
    }
   ],
   "source": [
    "'''# Count the occurrences of each use case\n",
    "usecase_counts = laptop['os_brand'].value_counts()\n",
    "\n",
    "# Create the pie chart\n",
    "plt.figure(figsize=(8, 8))  # Adjust figure size\n",
    "plt.pie(\n",
    "    usecase_counts, \n",
    "    labels=usecase_counts.index,  # Add labels for each use case\n",
    "    autopct='%1.1f%%',  # Display percentages with 1 decimal point\n",
    "    startangle=140,  # Rotate chart for better appearance\n",
    "    colors=plt.cm.tab10.colors  # Optional: Use a color map\n",
    ")\n",
    "\n",
    "# Add a title\n",
    "plt.title('Laptop OS Distribution', fontsize=12, weight='bold')\n",
    "\n",
    "# Show the pie chart\n",
    "plt.show()'''\n"
   ]
  },
  {
   "cell_type": "code",
   "execution_count": 12,
   "metadata": {},
   "outputs": [
    {
     "data": {
      "text/plain": [
       "\"# Count the occurrences of each use case\\nusecase_counts = laptop['usecases'].value_counts()\\n\\n# Create the pie chart\\nplt.figure(figsize=(8, 8))  # Adjust figure size\\nplt.pie(\\n    usecase_counts, \\n    labels=usecase_counts.index,  # Add labels for each use case\\n    autopct='%1.1f%%',  # Display percentages with 1 decimal point\\n    startangle=140,  # Rotate chart for better appearance\\n    colors=plt.cm.tab10.colors  # Optional: Use a color map\\n)\\n\\n# Add a title\\nplt.title('Laptop Usecase Distribution', fontsize=12, weight='bold')\\n\\n# Show the pie chart\\nplt.show()\""
      ]
     },
     "execution_count": 12,
     "metadata": {},
     "output_type": "execute_result"
    }
   ],
   "source": [
    "'''# Count the occurrences of each use case\n",
    "usecase_counts = laptop['usecases'].value_counts()\n",
    "\n",
    "# Create the pie chart\n",
    "plt.figure(figsize=(8, 8))  # Adjust figure size\n",
    "plt.pie(\n",
    "    usecase_counts, \n",
    "    labels=usecase_counts.index,  # Add labels for each use case\n",
    "    autopct='%1.1f%%',  # Display percentages with 1 decimal point\n",
    "    startangle=140,  # Rotate chart for better appearance\n",
    "    colors=plt.cm.tab10.colors  # Optional: Use a color map\n",
    ")\n",
    "\n",
    "# Add a title\n",
    "plt.title('Laptop Usecase Distribution', fontsize=12, weight='bold')\n",
    "\n",
    "# Show the pie chart\n",
    "plt.show()'''\n"
   ]
  },
  {
   "cell_type": "markdown",
   "metadata": {},
   "source": [
    "2. DATA PREPROCESSING"
   ]
  },
  {
   "cell_type": "code",
   "execution_count": 13,
   "metadata": {},
   "outputs": [
    {
     "data": {
      "text/plain": [
       "laptop_id            0\n",
       "name                 0\n",
       "price                0\n",
       "processor            0\n",
       "ram                  0\n",
       "os                   0\n",
       "storage              0\n",
       "img_link             0\n",
       "display              0\n",
       "rating             266\n",
       "no_of_ratings      266\n",
       "no_of_reviews      266\n",
       "laptop_brand         0\n",
       "os_brand             0\n",
       "processor_brand      0\n",
       "usecases             0\n",
       "dtype: int64"
      ]
     },
     "execution_count": 13,
     "metadata": {},
     "output_type": "execute_result"
    }
   ],
   "source": [
    "#Checking NULL value\n",
    "laptop.isnull().sum()"
   ]
  },
  {
   "cell_type": "code",
   "execution_count": 14,
   "metadata": {},
   "outputs": [
    {
     "data": {
      "text/plain": [
       "(796, 16)"
      ]
     },
     "execution_count": 14,
     "metadata": {},
     "output_type": "execute_result"
    }
   ],
   "source": [
    "laptop.shape"
   ]
  },
  {
   "cell_type": "code",
   "execution_count": 15,
   "metadata": {},
   "outputs": [],
   "source": [
    "laptop.dropna(inplace=True)"
   ]
  },
  {
   "cell_type": "code",
   "execution_count": 16,
   "metadata": {},
   "outputs": [
    {
     "data": {
      "text/plain": [
       "(530, 16)"
      ]
     },
     "execution_count": 16,
     "metadata": {},
     "output_type": "execute_result"
    }
   ],
   "source": [
    "laptop.shape #total instances have been reduced"
   ]
  },
  {
   "cell_type": "code",
   "execution_count": 17,
   "metadata": {},
   "outputs": [
    {
     "data": {
      "text/html": [
       "<div>\n",
       "<style scoped>\n",
       "    .dataframe tbody tr th:only-of-type {\n",
       "        vertical-align: middle;\n",
       "    }\n",
       "\n",
       "    .dataframe tbody tr th {\n",
       "        vertical-align: top;\n",
       "    }\n",
       "\n",
       "    .dataframe thead th {\n",
       "        text-align: right;\n",
       "    }\n",
       "</style>\n",
       "<table border=\"1\" class=\"dataframe\">\n",
       "  <thead>\n",
       "    <tr style=\"text-align: right;\">\n",
       "      <th></th>\n",
       "      <th>laptop_id</th>\n",
       "      <th>name</th>\n",
       "      <th>price</th>\n",
       "      <th>processor</th>\n",
       "      <th>ram</th>\n",
       "      <th>os</th>\n",
       "      <th>storage</th>\n",
       "      <th>img_link</th>\n",
       "      <th>display</th>\n",
       "      <th>rating</th>\n",
       "      <th>no_of_ratings</th>\n",
       "      <th>no_of_reviews</th>\n",
       "      <th>laptop_brand</th>\n",
       "      <th>os_brand</th>\n",
       "      <th>processor_brand</th>\n",
       "      <th>usecases</th>\n",
       "    </tr>\n",
       "  </thead>\n",
       "  <tbody>\n",
       "    <tr>\n",
       "      <th>0</th>\n",
       "      <td>0</td>\n",
       "      <td>Lenovo Intel Core i5 11th Gen</td>\n",
       "      <td>62990</td>\n",
       "      <td>Intel Core i5 Processor (11th Gen)</td>\n",
       "      <td>16 GB DDR4 RAM</td>\n",
       "      <td>Windows 11 Operating System</td>\n",
       "      <td>512 GB SSD</td>\n",
       "      <td>https://rukminim1.flixcart.com/image/312/312/x...</td>\n",
       "      <td>15.6</td>\n",
       "      <td>4.5</td>\n",
       "      <td>14.0</td>\n",
       "      <td>1.0</td>\n",
       "      <td>Lenovo</td>\n",
       "      <td>Windows</td>\n",
       "      <td>Intel</td>\n",
       "      <td>Business/Professional</td>\n",
       "    </tr>\n",
       "  </tbody>\n",
       "</table>\n",
       "</div>"
      ],
      "text/plain": [
       "   laptop_id                           name  price  \\\n",
       "0          0  Lenovo Intel Core i5 11th Gen  62990   \n",
       "\n",
       "                            processor             ram  \\\n",
       "0  Intel Core i5 Processor (11th Gen)  16 GB DDR4 RAM   \n",
       "\n",
       "                            os     storage  \\\n",
       "0  Windows 11 Operating System  512 GB SSD   \n",
       "\n",
       "                                            img_link display  rating  \\\n",
       "0  https://rukminim1.flixcart.com/image/312/312/x...    15.6     4.5   \n",
       "\n",
       "   no_of_ratings  no_of_reviews laptop_brand os_brand processor_brand  \\\n",
       "0           14.0            1.0       Lenovo  Windows           Intel   \n",
       "\n",
       "                 usecases  \n",
       "0   Business/Professional  "
      ]
     },
     "execution_count": 17,
     "metadata": {},
     "output_type": "execute_result"
    }
   ],
   "source": [
    "laptop.head(1)"
   ]
  },
  {
   "cell_type": "markdown",
   "metadata": {},
   "source": [
    "VISUALISATION AND ANALYSIS"
   ]
  },
  {
   "cell_type": "code",
   "execution_count": 18,
   "metadata": {},
   "outputs": [
    {
     "data": {
      "text/plain": [
       "\"#to count the occurrences of each brand\\nbrand_counts = laptop['laptop_brand'].value_counts()\\n\\n\\n#create the bar plot OPTIONAL\\nplt.figure(figsize=(10, 5))  # Optional: Adjust figure size\\nax = brand_counts.plot(kind='bar')\\n#ax = brand_counts.plot(kind='bar', color='blue', edgecolor='black')\\n\\n# Set labels and title\\nplt.xlabel('Laptop Brand', fontsize=10)\\nplt.ylabel('Number of Laptops', fontsize=10)\\nplt.title('Laptop Brand Distribution', fontsize=10, weight='bold')\\n\\n\\n# Adding annotations for each bar\\nfor i, value in enumerate(brand_counts):\\n    plt.text(i, value + 0.5, str(value), ha='center', fontsize=13)\\n\\n# Show the plot\\nplt.tight_layout()\\nplt.show()\""
      ]
     },
     "execution_count": 18,
     "metadata": {},
     "output_type": "execute_result"
    }
   ],
   "source": [
    "'''#to count the occurrences of each brand\n",
    "brand_counts = laptop['laptop_brand'].value_counts()\n",
    "\n",
    "\n",
    "#create the bar plot OPTIONAL\n",
    "plt.figure(figsize=(10, 5))  # Optional: Adjust figure size\n",
    "ax = brand_counts.plot(kind='bar')\n",
    "#ax = brand_counts.plot(kind='bar', color='blue', edgecolor='black')\n",
    "\n",
    "# Set labels and title\n",
    "plt.xlabel('Laptop Brand', fontsize=10)\n",
    "plt.ylabel('Number of Laptops', fontsize=10)\n",
    "plt.title('Laptop Brand Distribution', fontsize=10, weight='bold')\n",
    "\n",
    "\n",
    "# Adding annotations for each bar\n",
    "for i, value in enumerate(brand_counts):\n",
    "    plt.text(i, value + 0.5, str(value), ha='center', fontsize=13)\n",
    "\n",
    "# Show the plot\n",
    "plt.tight_layout()\n",
    "plt.show()'''"
   ]
  },
  {
   "cell_type": "code",
   "execution_count": 19,
   "metadata": {},
   "outputs": [],
   "source": [
    "#laptop['laptop_brand'].value_counts().plot(kind='bar')"
   ]
  },
  {
   "cell_type": "code",
   "execution_count": 20,
   "metadata": {},
   "outputs": [
    {
     "data": {
      "text/plain": [
       "\"# Count the occurrences of each use case\\nusecase_counts = laptop['os_brand'].value_counts()\\n\\n# Create the pie chart\\nplt.figure(figsize=(8, 8))  # Adjust figure size\\nplt.pie(\\n    usecase_counts, \\n    labels=usecase_counts.index,  # Add labels for each use case\\n    autopct='%1.1f%%',  # Display percentages with 1 decimal point\\n    startangle=140,  # Rotate chart for better appearance\\n    colors=plt.cm.tab10.colors  # Optional: Use a color map\\n)\\n\\n# Add a title\\nplt.title('Laptop OS Distribution', fontsize=12, weight='bold')\\n\\n# Show the pie chart\\nplt.show()\\n\""
      ]
     },
     "execution_count": 20,
     "metadata": {},
     "output_type": "execute_result"
    }
   ],
   "source": [
    "'''# Count the occurrences of each use case\n",
    "usecase_counts = laptop['os_brand'].value_counts()\n",
    "\n",
    "# Create the pie chart\n",
    "plt.figure(figsize=(8, 8))  # Adjust figure size\n",
    "plt.pie(\n",
    "    usecase_counts, \n",
    "    labels=usecase_counts.index,  # Add labels for each use case\n",
    "    autopct='%1.1f%%',  # Display percentages with 1 decimal point\n",
    "    startangle=140,  # Rotate chart for better appearance\n",
    "    colors=plt.cm.tab10.colors  # Optional: Use a color map\n",
    ")\n",
    "\n",
    "# Add a title\n",
    "plt.title('Laptop OS Distribution', fontsize=12, weight='bold')\n",
    "\n",
    "# Show the pie chart\n",
    "plt.show()\n",
    "'''"
   ]
  },
  {
   "cell_type": "code",
   "execution_count": 21,
   "metadata": {},
   "outputs": [
    {
     "data": {
      "text/plain": [
       "\"# Count the occurrences of each use case\\nusecase_counts = laptop['usecases'].value_counts()\\n\\n# Create the pie chart\\nplt.figure(figsize=(8, 8))  # Adjust figure size\\nplt.pie(\\n    usecase_counts, \\n    labels=usecase_counts.index,  # Add labels for each use case\\n    autopct='%1.1f%%',  # Display percentages with 1 decimal point\\n    startangle=140,  # Rotate chart for better appearance\\n    colors=plt.cm.tab10.colors  # Optional: Use a color map\\n)\\n\\n# Add a title\\nplt.title('Laptop Usecase Distribution', fontsize=12, weight='bold')\\n\\n# Show the pie chart\\nplt.show()\\n\""
      ]
     },
     "execution_count": 21,
     "metadata": {},
     "output_type": "execute_result"
    }
   ],
   "source": [
    "'''# Count the occurrences of each use case\n",
    "usecase_counts = laptop['usecases'].value_counts()\n",
    "\n",
    "# Create the pie chart\n",
    "plt.figure(figsize=(8, 8))  # Adjust figure size\n",
    "plt.pie(\n",
    "    usecase_counts, \n",
    "    labels=usecase_counts.index,  # Add labels for each use case\n",
    "    autopct='%1.1f%%',  # Display percentages with 1 decimal point\n",
    "    startangle=140,  # Rotate chart for better appearance\n",
    "    colors=plt.cm.tab10.colors  # Optional: Use a color map\n",
    ")\n",
    "\n",
    "# Add a title\n",
    "plt.title('Laptop Usecase Distribution', fontsize=12, weight='bold')\n",
    "\n",
    "# Show the pie chart\n",
    "plt.show()\n",
    "'''"
   ]
  },
  {
   "cell_type": "code",
   "execution_count": 22,
   "metadata": {},
   "outputs": [
    {
     "data": {
      "text/plain": [
       "\"# Count the occurrences of each brand\\nbrand_counts = laptop['usecases'].value_counts()\\n\\n# Create the bar plot\\nplt.figure(figsize=(7, 5))  # Optional: Adjust figure size\\nax = brand_counts.plot(kind='bar')\\n\\n# Set labels and title\\nplt.xlabel('Laptop Usecase', fontsize=10)\\nplt.ylabel('Number of Laptops', fontsize=10)\\nplt.title('Laptop Usecase Distribution', fontsize=10)\\n\\n# Adding annotations for each bar\\nfor i, value in enumerate(brand_counts):\\n    plt.text(i, value + 0.5, str(value), ha='center', fontsize=13)\\n\\n# Show the plot\\nplt.tight_layout()\\nplt.show()\""
      ]
     },
     "execution_count": 22,
     "metadata": {},
     "output_type": "execute_result"
    }
   ],
   "source": [
    "'''# Count the occurrences of each brand\n",
    "brand_counts = laptop['usecases'].value_counts()\n",
    "\n",
    "# Create the bar plot\n",
    "plt.figure(figsize=(7, 5))  # Optional: Adjust figure size\n",
    "ax = brand_counts.plot(kind='bar')\n",
    "\n",
    "# Set labels and title\n",
    "plt.xlabel('Laptop Usecase', fontsize=10)\n",
    "plt.ylabel('Number of Laptops', fontsize=10)\n",
    "plt.title('Laptop Usecase Distribution', fontsize=10)\n",
    "\n",
    "# Adding annotations for each bar\n",
    "for i, value in enumerate(brand_counts):\n",
    "    plt.text(i, value + 0.5, str(value), ha='center', fontsize=13)\n",
    "\n",
    "# Show the plot\n",
    "plt.tight_layout()\n",
    "plt.show()'''"
   ]
  },
  {
   "cell_type": "code",
   "execution_count": 23,
   "metadata": {},
   "outputs": [],
   "source": [
    "#laptop['usecases'].value_counts().plot(kind = 'bar')"
   ]
  },
  {
   "cell_type": "markdown",
   "metadata": {},
   "source": [
    "3. Data Transformation"
   ]
  },
  {
   "cell_type": "code",
   "execution_count": 24,
   "metadata": {},
   "outputs": [],
   "source": [
    "#Price Conversion\n",
    "laptop['price_rm'] = laptop['price'] * 0.055   #add one more column that price in RM"
   ]
  },
  {
   "cell_type": "code",
   "execution_count": 25,
   "metadata": {},
   "outputs": [
    {
     "data": {
      "text/html": [
       "<div>\n",
       "<style scoped>\n",
       "    .dataframe tbody tr th:only-of-type {\n",
       "        vertical-align: middle;\n",
       "    }\n",
       "\n",
       "    .dataframe tbody tr th {\n",
       "        vertical-align: top;\n",
       "    }\n",
       "\n",
       "    .dataframe thead th {\n",
       "        text-align: right;\n",
       "    }\n",
       "</style>\n",
       "<table border=\"1\" class=\"dataframe\">\n",
       "  <thead>\n",
       "    <tr style=\"text-align: right;\">\n",
       "      <th></th>\n",
       "      <th>price</th>\n",
       "      <th>price_rm</th>\n",
       "    </tr>\n",
       "  </thead>\n",
       "  <tbody>\n",
       "    <tr>\n",
       "      <th>0</th>\n",
       "      <td>62990</td>\n",
       "      <td>3464.45</td>\n",
       "    </tr>\n",
       "    <tr>\n",
       "      <th>1</th>\n",
       "      <td>161990</td>\n",
       "      <td>8909.45</td>\n",
       "    </tr>\n",
       "  </tbody>\n",
       "</table>\n",
       "</div>"
      ],
      "text/plain": [
       "    price  price_rm\n",
       "0   62990   3464.45\n",
       "1  161990   8909.45"
      ]
     },
     "execution_count": 25,
     "metadata": {},
     "output_type": "execute_result"
    }
   ],
   "source": [
    "laptop[['price', 'price_rm']].head(2)  # Check the original and new price columns"
   ]
  },
  {
   "cell_type": "code",
   "execution_count": 26,
   "metadata": {},
   "outputs": [],
   "source": [
    "laptop.drop(columns=['price'], inplace=True) #To drop column"
   ]
  },
  {
   "cell_type": "code",
   "execution_count": 27,
   "metadata": {},
   "outputs": [],
   "source": [
    "new_csv = laptop[['laptop_id','img_link','name','price_rm','laptop_brand','usecases', 'processor','ram', 'os', 'storage']]\t"
   ]
  },
  {
   "cell_type": "code",
   "execution_count": 28,
   "metadata": {},
   "outputs": [
    {
     "data": {
      "text/plain": [
       "(530, 10)"
      ]
     },
     "execution_count": 28,
     "metadata": {},
     "output_type": "execute_result"
    }
   ],
   "source": [
    "new_csv.shape #reduced dataset, same as laptops"
   ]
  },
  {
   "cell_type": "code",
   "execution_count": 29,
   "metadata": {},
   "outputs": [
    {
     "name": "stderr",
     "output_type": "stream",
     "text": [
      "C:\\Users\\aiman\\AppData\\Local\\Temp\\ipykernel_2340\\3008621298.py:1: SettingWithCopyWarning: \n",
      "A value is trying to be set on a copy of a slice from a DataFrame\n",
      "\n",
      "See the caveats in the documentation: https://pandas.pydata.org/pandas-docs/stable/user_guide/indexing.html#returning-a-view-versus-a-copy\n",
      "  new_csv.rename(columns={'price_rm': 'price', 'laptop_brand': 'brand', 'usecases': 'use'}, inplace=True)\n"
     ]
    }
   ],
   "source": [
    "new_csv.rename(columns={'price_rm': 'price', 'laptop_brand': 'brand', 'usecases': 'use'}, inplace=True)"
   ]
  },
  {
   "cell_type": "code",
   "execution_count": 30,
   "metadata": {},
   "outputs": [
    {
     "data": {
      "text/plain": [
       "\"plt.figure(figsize=(10, 5))\\nsns.histplot(new_csv['price'], kde=True)  # kde=True adds a smooth line\\nplt.xlabel('Price')  # Label the x-axis as 'Price'\\nplt.title('Price Distribution of Laptops')\\nplt.show()\""
      ]
     },
     "execution_count": 30,
     "metadata": {},
     "output_type": "execute_result"
    }
   ],
   "source": [
    "'''plt.figure(figsize=(10, 5))\n",
    "sns.histplot(new_csv['price'], kde=True)  # kde=True adds a smooth line\n",
    "plt.xlabel('Price')  # Label the x-axis as 'Price'\n",
    "plt.title('Price Distribution of Laptops')\n",
    "plt.show()'''"
   ]
  },
  {
   "cell_type": "code",
   "execution_count": 31,
   "metadata": {},
   "outputs": [
    {
     "data": {
      "text/plain": [
       "\"#display price range\\nsns.distplot(new_csv['price']);\""
      ]
     },
     "execution_count": 31,
     "metadata": {},
     "output_type": "execute_result"
    }
   ],
   "source": [
    "'''#display price range\n",
    "sns.distplot(new_csv['price']);'''"
   ]
  },
  {
   "cell_type": "code",
   "execution_count": 32,
   "metadata": {},
   "outputs": [
    {
     "data": {
      "text/plain": [
       "'#to get min and max laptop price\\nd = {\"min_saleprice\": [new_csv[\"price\"].min()] ,\\n     \"max_saleprice\": [new_csv[\"price\"].max()]\\n    }\\nmin_max_price=pd.DataFrame(d)\\nmin_max_price'"
      ]
     },
     "execution_count": 32,
     "metadata": {},
     "output_type": "execute_result"
    }
   ],
   "source": [
    "'''#to get min and max laptop price\n",
    "d = {\"min_saleprice\": [new_csv[\"price\"].min()] ,\n",
    "     \"max_saleprice\": [new_csv[\"price\"].max()]\n",
    "    }\n",
    "min_max_price=pd.DataFrame(d)\n",
    "min_max_price'''"
   ]
  },
  {
   "cell_type": "code",
   "execution_count": 33,
   "metadata": {},
   "outputs": [
    {
     "data": {
      "text/plain": [
       "\"sns.barplot(x=new_csv['brand'],y=new_csv['price'],color='orange')\\nplt.xticks(rotation='vertical')\\nplt.xlabel('Laptop Brand') \\nplt.ylabel('Price') \\nplt.show()\""
      ]
     },
     "execution_count": 33,
     "metadata": {},
     "output_type": "execute_result"
    }
   ],
   "source": [
    "'''sns.barplot(x=new_csv['brand'],y=new_csv['price'],color='orange')\n",
    "plt.xticks(rotation='vertical')\n",
    "plt.xlabel('Laptop Brand') \n",
    "plt.ylabel('Price') \n",
    "plt.show()'''"
   ]
  },
  {
   "cell_type": "code",
   "execution_count": 34,
   "metadata": {},
   "outputs": [
    {
     "data": {
      "text/plain": [
       "\"sns.barplot(x = new_csv['use'], y = new_csv['price'])\\nplt.xticks(rotation='vertical')\\nplt.show()\""
      ]
     },
     "execution_count": 34,
     "metadata": {},
     "output_type": "execute_result"
    }
   ],
   "source": [
    "'''sns.barplot(x = new_csv['use'], y = new_csv['price'])\n",
    "plt.xticks(rotation='vertical')\n",
    "plt.show()'''"
   ]
  },
  {
   "cell_type": "code",
   "execution_count": 35,
   "metadata": {},
   "outputs": [
    {
     "data": {
      "text/plain": [
       "name\n",
       "DELL Inspiron Core i5 11th Gen          6\n",
       "APPLE MacBook Air M1                    6\n",
       "DELL Core i5 11th Gen                   6\n",
       "ASUS TUF Gaming F15 Core i5 10th Gen    6\n",
       "HP Pavilion Intel Core i5 12th Gen      5\n",
       "Name: count, dtype: int64"
      ]
     },
     "execution_count": 35,
     "metadata": {},
     "output_type": "execute_result"
    }
   ],
   "source": [
    "laptop['name'].value_counts().head(5)"
   ]
  },
  {
   "cell_type": "code",
   "execution_count": 36,
   "metadata": {},
   "outputs": [
    {
     "data": {
      "text/html": [
       "<div>\n",
       "<style scoped>\n",
       "    .dataframe tbody tr th:only-of-type {\n",
       "        vertical-align: middle;\n",
       "    }\n",
       "\n",
       "    .dataframe tbody tr th {\n",
       "        vertical-align: top;\n",
       "    }\n",
       "\n",
       "    .dataframe thead th {\n",
       "        text-align: right;\n",
       "    }\n",
       "</style>\n",
       "<table border=\"1\" class=\"dataframe\">\n",
       "  <thead>\n",
       "    <tr style=\"text-align: right;\">\n",
       "      <th></th>\n",
       "      <th>laptop_id</th>\n",
       "      <th>name</th>\n",
       "      <th>processor</th>\n",
       "      <th>ram</th>\n",
       "      <th>os</th>\n",
       "      <th>storage</th>\n",
       "      <th>img_link</th>\n",
       "      <th>display</th>\n",
       "      <th>rating</th>\n",
       "      <th>no_of_ratings</th>\n",
       "      <th>no_of_reviews</th>\n",
       "      <th>laptop_brand</th>\n",
       "      <th>os_brand</th>\n",
       "      <th>processor_brand</th>\n",
       "      <th>usecases</th>\n",
       "      <th>price_rm</th>\n",
       "    </tr>\n",
       "  </thead>\n",
       "  <tbody>\n",
       "    <tr>\n",
       "      <th>0</th>\n",
       "      <td>0</td>\n",
       "      <td>Lenovo Intel Core i5 11th Gen</td>\n",
       "      <td>Intel Core i5 Processor (11th Gen)</td>\n",
       "      <td>16 GB DDR4 RAM</td>\n",
       "      <td>Windows 11 Operating System</td>\n",
       "      <td>512 GB SSD</td>\n",
       "      <td>https://rukminim1.flixcart.com/image/312/312/x...</td>\n",
       "      <td>15.6</td>\n",
       "      <td>4.5</td>\n",
       "      <td>14.0</td>\n",
       "      <td>1.0</td>\n",
       "      <td>Lenovo</td>\n",
       "      <td>Windows</td>\n",
       "      <td>Intel</td>\n",
       "      <td>Business/Professional</td>\n",
       "      <td>3464.45</td>\n",
       "    </tr>\n",
       "  </tbody>\n",
       "</table>\n",
       "</div>"
      ],
      "text/plain": [
       "   laptop_id                           name  \\\n",
       "0          0  Lenovo Intel Core i5 11th Gen   \n",
       "\n",
       "                            processor             ram  \\\n",
       "0  Intel Core i5 Processor (11th Gen)  16 GB DDR4 RAM   \n",
       "\n",
       "                            os     storage  \\\n",
       "0  Windows 11 Operating System  512 GB SSD   \n",
       "\n",
       "                                            img_link display  rating  \\\n",
       "0  https://rukminim1.flixcart.com/image/312/312/x...    15.6     4.5   \n",
       "\n",
       "   no_of_ratings  no_of_reviews laptop_brand os_brand processor_brand  \\\n",
       "0           14.0            1.0       Lenovo  Windows           Intel   \n",
       "\n",
       "                 usecases  price_rm  \n",
       "0   Business/Professional   3464.45  "
      ]
     },
     "execution_count": 36,
     "metadata": {},
     "output_type": "execute_result"
    }
   ],
   "source": [
    "laptop.head(1)"
   ]
  },
  {
   "cell_type": "code",
   "execution_count": 37,
   "metadata": {},
   "outputs": [],
   "source": [
    "laptop['processor'] = laptop['processor'].apply(lambda x:x.split())\n",
    "laptop['ram'] = laptop['ram'].apply(lambda x:x.split())\n",
    "laptop['os'] = laptop['os'].apply(lambda x:x.split())\n",
    "laptop['use'] = laptop['usecases'].apply(lambda x:x.split())\n",
    "laptop['display'] = laptop['display'].apply(lambda x:x.split())"
   ]
  },
  {
   "cell_type": "code",
   "execution_count": 38,
   "metadata": {},
   "outputs": [
    {
     "data": {
      "text/html": [
       "<div>\n",
       "<style scoped>\n",
       "    .dataframe tbody tr th:only-of-type {\n",
       "        vertical-align: middle;\n",
       "    }\n",
       "\n",
       "    .dataframe tbody tr th {\n",
       "        vertical-align: top;\n",
       "    }\n",
       "\n",
       "    .dataframe thead th {\n",
       "        text-align: right;\n",
       "    }\n",
       "</style>\n",
       "<table border=\"1\" class=\"dataframe\">\n",
       "  <thead>\n",
       "    <tr style=\"text-align: right;\">\n",
       "      <th></th>\n",
       "      <th>laptop_id</th>\n",
       "      <th>name</th>\n",
       "      <th>processor</th>\n",
       "      <th>ram</th>\n",
       "      <th>os</th>\n",
       "      <th>storage</th>\n",
       "      <th>img_link</th>\n",
       "      <th>display</th>\n",
       "      <th>rating</th>\n",
       "      <th>no_of_ratings</th>\n",
       "      <th>no_of_reviews</th>\n",
       "      <th>laptop_brand</th>\n",
       "      <th>os_brand</th>\n",
       "      <th>processor_brand</th>\n",
       "      <th>usecases</th>\n",
       "      <th>price_rm</th>\n",
       "      <th>use</th>\n",
       "    </tr>\n",
       "  </thead>\n",
       "  <tbody>\n",
       "    <tr>\n",
       "      <th>0</th>\n",
       "      <td>0</td>\n",
       "      <td>Lenovo Intel Core i5 11th Gen</td>\n",
       "      <td>[Intel, Core, i5, Processor, (11th, Gen)]</td>\n",
       "      <td>[16, GB, DDR4, RAM]</td>\n",
       "      <td>[Windows, 11, Operating, System]</td>\n",
       "      <td>512 GB SSD</td>\n",
       "      <td>https://rukminim1.flixcart.com/image/312/312/x...</td>\n",
       "      <td>[15.6]</td>\n",
       "      <td>4.5</td>\n",
       "      <td>14.0</td>\n",
       "      <td>1.0</td>\n",
       "      <td>Lenovo</td>\n",
       "      <td>Windows</td>\n",
       "      <td>Intel</td>\n",
       "      <td>Business/Professional</td>\n",
       "      <td>3464.45</td>\n",
       "      <td>[Business/Professional]</td>\n",
       "    </tr>\n",
       "  </tbody>\n",
       "</table>\n",
       "</div>"
      ],
      "text/plain": [
       "   laptop_id                           name  \\\n",
       "0          0  Lenovo Intel Core i5 11th Gen   \n",
       "\n",
       "                                   processor                  ram  \\\n",
       "0  [Intel, Core, i5, Processor, (11th, Gen)]  [16, GB, DDR4, RAM]   \n",
       "\n",
       "                                 os     storage  \\\n",
       "0  [Windows, 11, Operating, System]  512 GB SSD   \n",
       "\n",
       "                                            img_link display  rating  \\\n",
       "0  https://rukminim1.flixcart.com/image/312/312/x...  [15.6]     4.5   \n",
       "\n",
       "   no_of_ratings  no_of_reviews laptop_brand os_brand processor_brand  \\\n",
       "0           14.0            1.0       Lenovo  Windows           Intel   \n",
       "\n",
       "                 usecases  price_rm                      use  \n",
       "0   Business/Professional   3464.45  [Business/Professional]  "
      ]
     },
     "execution_count": 38,
     "metadata": {},
     "output_type": "execute_result"
    }
   ],
   "source": [
    "laptop.head(1)"
   ]
  },
  {
   "cell_type": "code",
   "execution_count": 39,
   "metadata": {},
   "outputs": [
    {
     "data": {
      "text/plain": [
       "['Intel', 'Core', 'i5', 'Processor', '(11th', 'Gen)']"
      ]
     },
     "execution_count": 39,
     "metadata": {},
     "output_type": "execute_result"
    }
   ],
   "source": [
    "laptop.iloc[0]['processor']"
   ]
  },
  {
   "cell_type": "code",
   "execution_count": 40,
   "metadata": {},
   "outputs": [],
   "source": [
    "#Tag column creation\n",
    "#use concatenate to merge different attributes\n",
    "laptop['tags'] = laptop['processor']+laptop['ram']+laptop['os']+laptop['use']+laptop['display']"
   ]
  },
  {
   "cell_type": "code",
   "execution_count": 41,
   "metadata": {},
   "outputs": [
    {
     "data": {
      "text/plain": [
       "['Intel',\n",
       " 'Core',\n",
       " 'i5',\n",
       " 'Processor',\n",
       " '(11th',\n",
       " 'Gen)',\n",
       " '16',\n",
       " 'GB',\n",
       " 'DDR4',\n",
       " 'RAM',\n",
       " 'Windows',\n",
       " '11',\n",
       " 'Operating',\n",
       " 'System',\n",
       " 'Business/Professional',\n",
       " '15.6']"
      ]
     },
     "execution_count": 41,
     "metadata": {},
     "output_type": "execute_result"
    }
   ],
   "source": [
    "laptop.iloc[0]['tags']"
   ]
  },
  {
   "cell_type": "code",
   "execution_count": 42,
   "metadata": {},
   "outputs": [
    {
     "data": {
      "text/plain": [
       "(530, 18)"
      ]
     },
     "execution_count": 42,
     "metadata": {},
     "output_type": "execute_result"
    }
   ],
   "source": [
    "laptop.shape"
   ]
  },
  {
   "cell_type": "code",
   "execution_count": 43,
   "metadata": {},
   "outputs": [],
   "source": [
    "#new = laptop[['laptop_id','img_link','name','price_rm','laptop_brand','use','tags', 'processor','ram', 'os', 'storage']]\t\n",
    "\n",
    "rec_df = laptop[['laptop_id','name','tags', 'img_link', 'price_rm','laptop_brand','usecases', 'processor','ram', 'os', 'storage']] #create a new df and only store 3 specs/attributes"
   ]
  },
  {
   "cell_type": "code",
   "execution_count": 44,
   "metadata": {},
   "outputs": [
    {
     "name": "stderr",
     "output_type": "stream",
     "text": [
      "C:\\Users\\aiman\\AppData\\Local\\Temp\\ipykernel_2340\\1666404946.py:1: SettingWithCopyWarning: \n",
      "A value is trying to be set on a copy of a slice from a DataFrame\n",
      "\n",
      "See the caveats in the documentation: https://pandas.pydata.org/pandas-docs/stable/user_guide/indexing.html#returning-a-view-versus-a-copy\n",
      "  rec_df.rename(columns={'price_rm': 'price', 'laptop_brand': 'brand', 'usecases': 'use'}, inplace=True)\n"
     ]
    }
   ],
   "source": [
    "rec_df.rename(columns={'price_rm': 'price', 'laptop_brand': 'brand', 'usecases': 'use'}, inplace=True)"
   ]
  },
  {
   "cell_type": "code",
   "execution_count": 45,
   "metadata": {},
   "outputs": [
    {
     "data": {
      "text/plain": [
       "(530, 11)"
      ]
     },
     "execution_count": 45,
     "metadata": {},
     "output_type": "execute_result"
    }
   ],
   "source": [
    "rec_df.shape"
   ]
  },
  {
   "cell_type": "code",
   "execution_count": 46,
   "metadata": {},
   "outputs": [
    {
     "data": {
      "text/html": [
       "<div>\n",
       "<style scoped>\n",
       "    .dataframe tbody tr th:only-of-type {\n",
       "        vertical-align: middle;\n",
       "    }\n",
       "\n",
       "    .dataframe tbody tr th {\n",
       "        vertical-align: top;\n",
       "    }\n",
       "\n",
       "    .dataframe thead th {\n",
       "        text-align: right;\n",
       "    }\n",
       "</style>\n",
       "<table border=\"1\" class=\"dataframe\">\n",
       "  <thead>\n",
       "    <tr style=\"text-align: right;\">\n",
       "      <th></th>\n",
       "      <th>laptop_id</th>\n",
       "      <th>name</th>\n",
       "      <th>tags</th>\n",
       "      <th>img_link</th>\n",
       "      <th>price</th>\n",
       "      <th>brand</th>\n",
       "      <th>use</th>\n",
       "      <th>processor</th>\n",
       "      <th>ram</th>\n",
       "      <th>os</th>\n",
       "      <th>storage</th>\n",
       "    </tr>\n",
       "  </thead>\n",
       "  <tbody>\n",
       "    <tr>\n",
       "      <th>0</th>\n",
       "      <td>0</td>\n",
       "      <td>Lenovo Intel Core i5 11th Gen</td>\n",
       "      <td>[Intel, Core, i5, Processor, (11th, Gen), 16, ...</td>\n",
       "      <td>https://rukminim1.flixcart.com/image/312/312/x...</td>\n",
       "      <td>3464.45</td>\n",
       "      <td>Lenovo</td>\n",
       "      <td>Business/Professional</td>\n",
       "      <td>[Intel, Core, i5, Processor, (11th, Gen)]</td>\n",
       "      <td>[16, GB, DDR4, RAM]</td>\n",
       "      <td>[Windows, 11, Operating, System]</td>\n",
       "      <td>512 GB SSD</td>\n",
       "    </tr>\n",
       "    <tr>\n",
       "      <th>1</th>\n",
       "      <td>1</td>\n",
       "      <td>ASUS ROG Zephyrus G15 (2022) with 90Whr Batter...</td>\n",
       "      <td>[AMD, Ryzen, 9, Octa, Core, Processor, 16, GB,...</td>\n",
       "      <td>https://rukminim1.flixcart.com/image/312/312/l...</td>\n",
       "      <td>8909.45</td>\n",
       "      <td>ASUS</td>\n",
       "      <td>Gaming</td>\n",
       "      <td>[AMD, Ryzen, 9, Octa, Core, Processor]</td>\n",
       "      <td>[16, GB, DDR5, RAM]</td>\n",
       "      <td>[64, bit, Windows, 11, Operating, System]</td>\n",
       "      <td>1 TB SSD</td>\n",
       "    </tr>\n",
       "  </tbody>\n",
       "</table>\n",
       "</div>"
      ],
      "text/plain": [
       "   laptop_id                                               name  \\\n",
       "0          0                      Lenovo Intel Core i5 11th Gen   \n",
       "1          1  ASUS ROG Zephyrus G15 (2022) with 90Whr Batter...   \n",
       "\n",
       "                                                tags  \\\n",
       "0  [Intel, Core, i5, Processor, (11th, Gen), 16, ...   \n",
       "1  [AMD, Ryzen, 9, Octa, Core, Processor, 16, GB,...   \n",
       "\n",
       "                                            img_link    price   brand  \\\n",
       "0  https://rukminim1.flixcart.com/image/312/312/x...  3464.45  Lenovo   \n",
       "1  https://rukminim1.flixcart.com/image/312/312/l...  8909.45    ASUS   \n",
       "\n",
       "                      use                                  processor  \\\n",
       "0   Business/Professional  [Intel, Core, i5, Processor, (11th, Gen)]   \n",
       "1                  Gaming     [AMD, Ryzen, 9, Octa, Core, Processor]   \n",
       "\n",
       "                   ram                                         os     storage  \n",
       "0  [16, GB, DDR4, RAM]           [Windows, 11, Operating, System]  512 GB SSD  \n",
       "1  [16, GB, DDR5, RAM]  [64, bit, Windows, 11, Operating, System]    1 TB SSD  "
      ]
     },
     "execution_count": 46,
     "metadata": {},
     "output_type": "execute_result"
    }
   ],
   "source": [
    "rec_df.head(2)"
   ]
  },
  {
   "cell_type": "code",
   "execution_count": 47,
   "metadata": {},
   "outputs": [
    {
     "name": "stderr",
     "output_type": "stream",
     "text": [
      "C:\\Users\\aiman\\AppData\\Local\\Temp\\ipykernel_2340\\4088501178.py:1: SettingWithCopyWarning: \n",
      "A value is trying to be set on a copy of a slice from a DataFrame.\n",
      "Try using .loc[row_indexer,col_indexer] = value instead\n",
      "\n",
      "See the caveats in the documentation: https://pandas.pydata.org/pandas-docs/stable/user_guide/indexing.html#returning-a-view-versus-a-copy\n",
      "  rec_df['tags'] = rec_df['tags'].apply(lambda x:\" \".join(x)) #convert tags into paragraph format\n"
     ]
    }
   ],
   "source": [
    "rec_df['tags'] = rec_df['tags'].apply(lambda x:\" \".join(x)) #convert tags into paragraph format"
   ]
  },
  {
   "cell_type": "code",
   "execution_count": 48,
   "metadata": {},
   "outputs": [
    {
     "name": "stderr",
     "output_type": "stream",
     "text": [
      "C:\\Users\\aiman\\AppData\\Local\\Temp\\ipykernel_2340\\2212234119.py:1: SettingWithCopyWarning: \n",
      "A value is trying to be set on a copy of a slice from a DataFrame.\n",
      "Try using .loc[row_indexer,col_indexer] = value instead\n",
      "\n",
      "See the caveats in the documentation: https://pandas.pydata.org/pandas-docs/stable/user_guide/indexing.html#returning-a-view-versus-a-copy\n",
      "  rec_df['tags'] = rec_df['tags'].apply(lambda x:x.lower()) #convert tags into small letter\n"
     ]
    }
   ],
   "source": [
    "rec_df['tags'] = rec_df['tags'].apply(lambda x:x.lower()) #convert tags into small letter"
   ]
  },
  {
   "cell_type": "code",
   "execution_count": 49,
   "metadata": {},
   "outputs": [
    {
     "data": {
      "text/plain": [
       "'intel core i5 processor (11th gen) 16 gb ddr4 ram windows 11 operating system business/professional 15.6'"
      ]
     },
     "execution_count": 49,
     "metadata": {},
     "output_type": "execute_result"
    }
   ],
   "source": [
    "rec_df.iloc[0]['tags']"
   ]
  },
  {
   "cell_type": "markdown",
   "metadata": {},
   "source": [
    "4. TF IDF"
   ]
  },
  {
   "cell_type": "code",
   "execution_count": 50,
   "metadata": {},
   "outputs": [],
   "source": [
    "#use stem to reduce words in the tags column to their base or root forms. For example, \"running\" might be reduced to \"run.\"\n",
    "#import nltk\n",
    "#from nltk.stem import PorterStemmer\n",
    "\n",
    "ps = PorterStemmer()"
   ]
  },
  {
   "cell_type": "code",
   "execution_count": 51,
   "metadata": {},
   "outputs": [],
   "source": [
    "def stem(text):\n",
    "    l=[]\n",
    "    for i in text.split():\n",
    "        l.append(ps.stem(i))\n",
    "\n",
    "    return \" \".join(l)"
   ]
  },
  {
   "cell_type": "code",
   "execution_count": 52,
   "metadata": {},
   "outputs": [
    {
     "name": "stderr",
     "output_type": "stream",
     "text": [
      "C:\\Users\\aiman\\AppData\\Local\\Temp\\ipykernel_2340\\3558667872.py:1: SettingWithCopyWarning: \n",
      "A value is trying to be set on a copy of a slice from a DataFrame.\n",
      "Try using .loc[row_indexer,col_indexer] = value instead\n",
      "\n",
      "See the caveats in the documentation: https://pandas.pydata.org/pandas-docs/stable/user_guide/indexing.html#returning-a-view-versus-a-copy\n",
      "  rec_df['tags'] = rec_df['tags'].apply(stem)\n"
     ]
    }
   ],
   "source": [
    "rec_df['tags'] = rec_df['tags'].apply(stem)"
   ]
  },
  {
   "cell_type": "code",
   "execution_count": 53,
   "metadata": {},
   "outputs": [],
   "source": [
    "#use vectorizer to vectorise the tags\n",
    "#from sklearn.feature_extraction.text import CountVectorizer\n",
    "cv = CountVectorizer(max_features=5000, stop_words='english')\n",
    "\n",
    "#max feature means can consider 5000 frequent word\n",
    "#stop word will remove word 'in', 'the, etc, word that dont have meaning"
   ]
  },
  {
   "cell_type": "code",
   "execution_count": 54,
   "metadata": {},
   "outputs": [],
   "source": [
    "vector = cv.fit_transform(rec_df['tags']).toarray()"
   ]
  },
  {
   "cell_type": "code",
   "execution_count": 55,
   "metadata": {},
   "outputs": [
    {
     "data": {
      "text/plain": [
       "array([[0, 0, 1, ..., 0, 0, 1],\n",
       "       [0, 0, 1, ..., 0, 0, 1],\n",
       "       [0, 1, 1, ..., 0, 1, 1],\n",
       "       ...,\n",
       "       [0, 0, 2, ..., 0, 0, 1],\n",
       "       [0, 0, 1, ..., 0, 0, 1],\n",
       "       [0, 0, 1, ..., 0, 0, 1]], dtype=int64)"
      ]
     },
     "execution_count": 55,
     "metadata": {},
     "output_type": "execute_result"
    }
   ],
   "source": [
    "vector"
   ]
  },
  {
   "cell_type": "code",
   "execution_count": 56,
   "metadata": {},
   "outputs": [
    {
     "data": {
      "text/plain": [
       "(530, 83)"
      ]
     },
     "execution_count": 56,
     "metadata": {},
     "output_type": "execute_result"
    }
   ],
   "source": [
    "vector.shape"
   ]
  },
  {
   "cell_type": "code",
   "execution_count": 57,
   "metadata": {},
   "outputs": [
    {
     "data": {
      "text/plain": [
       "\"# Get feature names (unique words) and their counts\\nfeature_names = cv.get_feature_names_out()\\nword_counts = vector.sum(axis=0)  # Sum the occurrences of each word across all rows\\n\\n# Convert to a DataFrame for visualization\\nword_freq_df = pd.DataFrame({'Word': feature_names, 'Count': word_counts.tolist()[0]})\\nword_freq_df = word_freq_df.sort_values(by='Count', ascending=False)\\n\\n# Plot the top 15 words\\nplt.figure(figsize=(12, 6))\\nplt.bar(word_freq_df['Word'][:15], word_freq_df['Count'][:15], color='orange')\\nplt.title('Top 15 Words in Tags Column')\\nplt.xticks(rotation=45)\\nplt.xlabel('Words')\\nplt.ylabel('Frequency')\\nplt.show()\""
      ]
     },
     "execution_count": 57,
     "metadata": {},
     "output_type": "execute_result"
    }
   ],
   "source": [
    "'''# Get feature names (unique words) and their counts\n",
    "feature_names = cv.get_feature_names_out()\n",
    "word_counts = vector.sum(axis=0)  # Sum the occurrences of each word across all rows\n",
    "\n",
    "# Convert to a DataFrame for visualization\n",
    "word_freq_df = pd.DataFrame({'Word': feature_names, 'Count': word_counts.tolist()[0]})\n",
    "word_freq_df = word_freq_df.sort_values(by='Count', ascending=False)\n",
    "\n",
    "# Plot the top 15 words\n",
    "plt.figure(figsize=(12, 6))\n",
    "plt.bar(word_freq_df['Word'][:15], word_freq_df['Count'][:15], color='orange')\n",
    "plt.title('Top 15 Words in Tags Column')\n",
    "plt.xticks(rotation=45)\n",
    "plt.xlabel('Words')\n",
    "plt.ylabel('Frequency')\n",
    "plt.show()'''"
   ]
  },
  {
   "cell_type": "code",
   "execution_count": 58,
   "metadata": {},
   "outputs": [
    {
     "data": {
      "text/plain": [
       "'subset = vector[:10, :10]\\n\\n# Create a heatmap\\nplt.figure(figsize=(10, 6))\\nsns.heatmap(subset, annot=True, cmap=\"YlGnBu\", xticklabels=feature_names[:10], yticklabels=range(1, 11))\\nplt.title(\\'Heatmap of TF-IDF Values (First 10 Rows and Columns)\\')\\nplt.xlabel(\\'Words\\')\\nplt.ylabel(\\'Instances\\')\\nplt.show()'"
      ]
     },
     "execution_count": 58,
     "metadata": {},
     "output_type": "execute_result"
    }
   ],
   "source": [
    "'''subset = vector[:10, :10]\n",
    "\n",
    "# Create a heatmap\n",
    "plt.figure(figsize=(10, 6))\n",
    "sns.heatmap(subset, annot=True, cmap=\"YlGnBu\", xticklabels=feature_names[:10], yticklabels=range(1, 11))\n",
    "plt.title('Heatmap of TF-IDF Values (First 10 Rows and Columns)')\n",
    "plt.xlabel('Words')\n",
    "plt.ylabel('Instances')\n",
    "plt.show()'''"
   ]
  },
  {
   "cell_type": "markdown",
   "metadata": {},
   "source": [
    "5. COSINE SIMILARITY"
   ]
  },
  {
   "cell_type": "code",
   "execution_count": 59,
   "metadata": {},
   "outputs": [],
   "source": [
    "from sklearn.metrics.pairwise import cosine_similarity"
   ]
  },
  {
   "cell_type": "code",
   "execution_count": 60,
   "metadata": {},
   "outputs": [],
   "source": [
    "similarity = cosine_similarity(vector)"
   ]
  },
  {
   "cell_type": "code",
   "execution_count": 61,
   "metadata": {},
   "outputs": [
    {
     "data": {
      "text/plain": [
       "array([[1.        , 0.5625    , 0.64818122, ..., 0.58925565, 0.5547002 ,\n",
       "        0.84887469],\n",
       "       [0.5625    , 1.        , 0.58925565, ..., 0.58925565, 0.69337525,\n",
       "        0.60633906],\n",
       "       [0.64818122, 0.58925565, 1.        , ..., 0.66666667, 0.52297636,\n",
       "        0.80032673],\n",
       "       ...,\n",
       "       [0.58925565, 0.58925565, 0.66666667, ..., 1.        , 0.58834841,\n",
       "        0.68599434],\n",
       "       [0.5547002 , 0.69337525, 0.52297636, ..., 0.58834841, 1.        ,\n",
       "        0.53813824],\n",
       "       [0.84887469, 0.60633906, 0.80032673, ..., 0.68599434, 0.53813824,\n",
       "        1.        ]])"
      ]
     },
     "execution_count": 61,
     "metadata": {},
     "output_type": "execute_result"
    }
   ],
   "source": [
    "similarity #similarity != distance"
   ]
  },
  {
   "cell_type": "code",
   "execution_count": 62,
   "metadata": {},
   "outputs": [
    {
     "data": {
      "text/plain": [
       "(530, 530)"
      ]
     },
     "execution_count": 62,
     "metadata": {},
     "output_type": "execute_result"
    }
   ],
   "source": [
    "similarity.shape "
   ]
  },
  {
   "cell_type": "code",
   "execution_count": 63,
   "metadata": {},
   "outputs": [
    {
     "data": {
      "text/plain": [
       "(530, 11)"
      ]
     },
     "execution_count": 63,
     "metadata": {},
     "output_type": "execute_result"
    }
   ],
   "source": [
    "rec_df.shape"
   ]
  },
  {
   "cell_type": "code",
   "execution_count": 64,
   "metadata": {},
   "outputs": [
    {
     "data": {
      "text/plain": [
       "1.0"
      ]
     },
     "execution_count": 64,
     "metadata": {},
     "output_type": "execute_result"
    }
   ],
   "source": [
    "similarity[0][0]"
   ]
  },
  {
   "cell_type": "code",
   "execution_count": 65,
   "metadata": {},
   "outputs": [
    {
     "data": {
      "text/plain": [
       "\"plt.figure(figsize=(5, 5))  # Adjust the size to fit the data\\nsns.heatmap(similarity[:100, :100], cmap='coolwarm', annot=False, fmt='.2f', linewidths=0.5)\\n\\n# Set title and labels\\nplt.title('Cosine Similarity Matrix of Laptops', fontsize=16)\\nplt.xlabel('Laptop Instances', fontsize=12)\\nplt.ylabel('Laptop Instances', fontsize=12)\\n\\n# Show the plot\\nplt.show()\""
      ]
     },
     "execution_count": 65,
     "metadata": {},
     "output_type": "execute_result"
    }
   ],
   "source": [
    "'''plt.figure(figsize=(5, 5))  # Adjust the size to fit the data\n",
    "sns.heatmap(similarity[:100, :100], cmap='coolwarm', annot=False, fmt='.2f', linewidths=0.5)\n",
    "\n",
    "# Set title and labels\n",
    "plt.title('Cosine Similarity Matrix of Laptops', fontsize=16)\n",
    "plt.xlabel('Laptop Instances', fontsize=12)\n",
    "plt.ylabel('Laptop Instances', fontsize=12)\n",
    "\n",
    "# Show the plot\n",
    "plt.show()'''"
   ]
  },
  {
   "cell_type": "code",
   "execution_count": 66,
   "metadata": {},
   "outputs": [
    {
     "data": {
      "text/plain": [
       "\"from sklearn.decomposition import PCA\\n\\n# Reduce the similarity matrix to 2D\\npca = PCA(n_components=2)\\nreduced_data = pca.fit_transform(similarity)\\n\\n# Plot the reduced data\\nplt.scatter(reduced_data[:, 0], reduced_data[:, 1], c='blue', alpha=0.6)\\nplt.title('2D PCA Visualization of Cosine Similarity')\\nplt.xlabel('Principal Component 1')\\nplt.ylabel('Principal Component 2')\\nplt.show()\\n\""
      ]
     },
     "execution_count": 66,
     "metadata": {},
     "output_type": "execute_result"
    }
   ],
   "source": [
    "'''from sklearn.decomposition import PCA\n",
    "\n",
    "# Reduce the similarity matrix to 2D\n",
    "pca = PCA(n_components=2)\n",
    "reduced_data = pca.fit_transform(similarity)\n",
    "\n",
    "# Plot the reduced data\n",
    "plt.scatter(reduced_data[:, 0], reduced_data[:, 1], c='blue', alpha=0.6)\n",
    "plt.title('2D PCA Visualization of Cosine Similarity')\n",
    "plt.xlabel('Principal Component 1')\n",
    "plt.ylabel('Principal Component 2')\n",
    "plt.show()\n",
    "'''"
   ]
  },
  {
   "cell_type": "markdown",
   "metadata": {},
   "source": [
    "6. RECOMMENDING FUNCTION"
   ]
  },
  {
   "cell_type": "code",
   "execution_count": 67,
   "metadata": {},
   "outputs": [
    {
     "data": {
      "text/plain": [
       "[(1, 1.0),\n",
       " (30, 1.0),\n",
       " (260, 1.0),\n",
       " (282, 1.0),\n",
       " (420, 0.9428090415820631),\n",
       " (75, 0.9375),\n",
       " (81, 0.9375),\n",
       " (145, 0.9375),\n",
       " (186, 0.9375),\n",
       " (247, 0.9375),\n",
       " (516, 0.9375),\n",
       " (518, 0.9375),\n",
       " (476, 0.9354143466934851),\n",
       " (139, 0.9095085938862489),\n",
       " (49, 0.9036961141150636),\n",
       " (88, 0.9036961141150636),\n",
       " (143, 0.9036961141150636),\n",
       " (184, 0.8838834764831842),\n",
       " (194, 0.8838834764831842),\n",
       " (201, 0.8838834764831842),\n",
       " (86, 0.875),\n",
       " (100, 0.875),\n",
       " (204, 0.875),\n",
       " (212, 0.875),\n",
       " (300, 0.875),\n",
       " (320, 0.875),\n",
       " (338, 0.875),\n",
       " (369, 0.875),\n",
       " (394, 0.875),\n",
       " (352, 0.868599036215379),\n",
       " (31, 0.8488746876271657),\n",
       " (87, 0.8488746876271657),\n",
       " (115, 0.8488746876271657),\n",
       " (275, 0.8488746876271657),\n",
       " (52, 0.8391463916782733),\n",
       " (55, 0.8391463916782733),\n",
       " (169, 0.8391463916782733),\n",
       " (187, 0.8391463916782733),\n",
       " (202, 0.8391463916782733),\n",
       " (223, 0.8391463916782733),\n",
       " (226, 0.8391463916782733),\n",
       " (316, 0.8391463916782733),\n",
       " (353, 0.8391463916782733),\n",
       " (383, 0.8391463916782733),\n",
       " (405, 0.8391463916782733),\n",
       " (417, 0.8391463916782733),\n",
       " (109, 0.8125),\n",
       " (445, 0.8125),\n",
       " (374, 0.802955068546966),\n",
       " (167, 0.801783725737273),\n",
       " (171, 0.801783725737273),\n",
       " (193, 0.801783725737273),\n",
       " (315, 0.801783725737273),\n",
       " (15, 0.7882407813680824),\n",
       " (94, 0.7882407813680824),\n",
       " (131, 0.7882407813680824),\n",
       " (166, 0.7882407813680824),\n",
       " (242, 0.7882407813680824),\n",
       " (276, 0.7882407813680824),\n",
       " (306, 0.7882407813680824),\n",
       " (412, 0.7882407813680824),\n",
       " (434, 0.7882407813680824),\n",
       " (490, 0.7882407813680824),\n",
       " (495, 0.7882407813680824),\n",
       " (178, 0.7745966692414831),\n",
       " (270, 0.7745966692414831),\n",
       " (277, 0.7745966692414831),\n",
       " (355, 0.7745966692414831),\n",
       " (360, 0.7745966692414831),\n",
       " (415, 0.7745966692414831),\n",
       " (419, 0.7745966692414831),\n",
       " (424, 0.7745966692414831),\n",
       " (443, 0.7745966692414831),\n",
       " (446, 0.7745966692414831),\n",
       " (512, 0.7745966692414831),\n",
       " (517, 0.7745966692414831),\n",
       " (141, 0.7660323462854264),\n",
       " (285, 0.7660323462854264),\n",
       " (322, 0.7660323462854264),\n",
       " (411, 0.7627127698096903),\n",
       " (16, 0.75),\n",
       " (21, 0.75),\n",
       " (27, 0.75),\n",
       " (117, 0.75),\n",
       " (127, 0.75),\n",
       " (144, 0.75),\n",
       " (150, 0.75),\n",
       " (177, 0.75),\n",
       " (225, 0.75),\n",
       " (254, 0.75),\n",
       " (293, 0.75),\n",
       " (311, 0.75),\n",
       " (343, 0.75),\n",
       " (351, 0.75),\n",
       " (365, 0.75),\n",
       " (390, 0.75),\n",
       " (61, 0.7456011350793256),\n",
       " (8, 0.7276068751089991),\n",
       " (39, 0.7276068751089991),\n",
       " (66, 0.7276068751089991),\n",
       " (85, 0.7276068751089991),\n",
       " (104, 0.7276068751089991),\n",
       " (105, 0.7276068751089991),\n",
       " (129, 0.7276068751089991),\n",
       " (135, 0.7276068751089991),\n",
       " (137, 0.7276068751089991),\n",
       " (138, 0.7276068751089991),\n",
       " (154, 0.7276068751089991),\n",
       " (172, 0.7276068751089991),\n",
       " (174, 0.7276068751089991),\n",
       " (180, 0.7276068751089991),\n",
       " (182, 0.7276068751089991),\n",
       " (190, 0.7276068751089991),\n",
       " (216, 0.7276068751089991),\n",
       " (228, 0.7276068751089991),\n",
       " (240, 0.7276068751089991),\n",
       " (241, 0.7276068751089991),\n",
       " (278, 0.7276068751089991),\n",
       " (279, 0.7276068751089991),\n",
       " (281, 0.7276068751089991),\n",
       " (291, 0.7276068751089991),\n",
       " (327, 0.7276068751089991),\n",
       " (368, 0.7276068751089991),\n",
       " (402, 0.7276068751089991),\n",
       " (407, 0.7276068751089991),\n",
       " (414, 0.7276068751089991),\n",
       " (423, 0.7276068751089991),\n",
       " (427, 0.7276068751089991),\n",
       " (432, 0.7276068751089991),\n",
       " (451, 0.7276068751089991),\n",
       " (499, 0.7276068751089991),\n",
       " (507, 0.7276068751089991),\n",
       " (63, 0.7100469468046928),\n",
       " (165, 0.7100469468046928),\n",
       " (211, 0.7100469468046928),\n",
       " (395, 0.7071067811865475),\n",
       " (528, 0.6933752452815366),\n",
       " (74, 0.6882472016116852),\n",
       " (344, 0.6882472016116852),\n",
       " (456, 0.6882472016116852),\n",
       " (26, 0.6875),\n",
       " (35, 0.6875),\n",
       " (130, 0.6875),\n",
       " (140, 0.6875),\n",
       " (162, 0.6875),\n",
       " (164, 0.6875),\n",
       " (207, 0.6875),\n",
       " (210, 0.6875),\n",
       " (213, 0.6875),\n",
       " (221, 0.6875),\n",
       " (295, 0.6875),\n",
       " (314, 0.6875),\n",
       " (332, 0.6875),\n",
       " (363, 0.6875),\n",
       " (370, 0.6875),\n",
       " (376, 0.6875),\n",
       " (398, 0.6875),\n",
       " (408, 0.6875),\n",
       " (450, 0.6875),\n",
       " (452, 0.6875),\n",
       " (455, 0.6875),\n",
       " (473, 0.6875),\n",
       " (506, 0.6875),\n",
       " (523, 0.6875),\n",
       " (524, 0.6875),\n",
       " (70, 0.6681531047810608),\n",
       " (345, 0.6681531047810608),\n",
       " (396, 0.6681531047810608),\n",
       " (505, 0.6681531047810608),\n",
       " (522, 0.6681531047810608),\n",
       " (72, 0.6669729688499159),\n",
       " (102, 0.6669729688499159),\n",
       " (121, 0.6669729688499159),\n",
       " (183, 0.6669729688499159),\n",
       " (188, 0.6669729688499159),\n",
       " (206, 0.6669729688499159),\n",
       " (208, 0.6669729688499159),\n",
       " (215, 0.6669729688499159),\n",
       " (224, 0.6669729688499159),\n",
       " (244, 0.6669729688499159),\n",
       " (252, 0.6669729688499159),\n",
       " (257, 0.6669729688499159),\n",
       " (259, 0.6669729688499159),\n",
       " (264, 0.6669729688499159),\n",
       " (265, 0.6669729688499159),\n",
       " (286, 0.6669729688499159),\n",
       " (309, 0.6669729688499159),\n",
       " (317, 0.6669729688499159),\n",
       " (318, 0.6669729688499159),\n",
       " (364, 0.6669729688499159),\n",
       " (384, 0.6669729688499159),\n",
       " (416, 0.6669729688499159),\n",
       " (444, 0.6669729688499159),\n",
       " (458, 0.6669729688499159),\n",
       " (461, 0.6669729688499159),\n",
       " (491, 0.6669729688499159),\n",
       " (45, 0.6481812160876685),\n",
       " (54, 0.6481812160876685),\n",
       " (76, 0.6481812160876685),\n",
       " (90, 0.6481812160876685),\n",
       " (92, 0.6481812160876685),\n",
       " (108, 0.6481812160876685),\n",
       " (114, 0.6481812160876685),\n",
       " (124, 0.6481812160876685),\n",
       " (146, 0.6481812160876685),\n",
       " (147, 0.6481812160876685),\n",
       " (149, 0.6481812160876685),\n",
       " (156, 0.6481812160876685),\n",
       " (160, 0.6481812160876685),\n",
       " (163, 0.6481812160876685),\n",
       " (385, 0.6481812160876685),\n",
       " (448, 0.6481812160876685),\n",
       " (480, 0.6481812160876685),\n",
       " (290, 0.6454972243679026),\n",
       " (484, 0.6454972243679026),\n",
       " (151, 0.6308932681440448),\n",
       " (159, 0.6308932681440448),\n",
       " (168, 0.6308932681440448),\n",
       " (24, 0.625),\n",
       " (44, 0.625),\n",
       " (65, 0.625),\n",
       " (112, 0.625),\n",
       " (197, 0.625),\n",
       " (219, 0.625),\n",
       " (263, 0.625),\n",
       " (274, 0.625),\n",
       " (283, 0.625),\n",
       " (307, 0.625),\n",
       " (321, 0.625),\n",
       " (333, 0.625),\n",
       " (339, 0.625),\n",
       " (373, 0.625),\n",
       " (380, 0.625),\n",
       " (436, 0.625),\n",
       " (449, 0.625),\n",
       " (453, 0.625),\n",
       " (462, 0.625),\n",
       " (463, 0.625),\n",
       " (475, 0.625),\n",
       " (485, 0.625),\n",
       " (488, 0.625),\n",
       " (497, 0.625),\n",
       " (508, 0.625),\n",
       " (509, 0.625),\n",
       " (248, 0.6149186938124422),\n",
       " (10, 0.6063390625908326),\n",
       " (20, 0.6063390625908326),\n",
       " (25, 0.6063390625908326),\n",
       " (28, 0.6063390625908326),\n",
       " (32, 0.6063390625908326),\n",
       " (33, 0.6063390625908326),\n",
       " (37, 0.6063390625908326),\n",
       " (41, 0.6063390625908326),\n",
       " (47, 0.6063390625908326),\n",
       " (67, 0.6063390625908326),\n",
       " (68, 0.6063390625908326),\n",
       " (73, 0.6063390625908326),\n",
       " (91, 0.6063390625908326),\n",
       " (93, 0.6063390625908326),\n",
       " (103, 0.6063390625908326),\n",
       " (118, 0.6063390625908326),\n",
       " (119, 0.6063390625908326),\n",
       " (136, 0.6063390625908326),\n",
       " (158, 0.6063390625908326),\n",
       " (175, 0.6063390625908326),\n",
       " (189, 0.6063390625908326),\n",
       " (191, 0.6063390625908326),\n",
       " (199, 0.6063390625908326),\n",
       " (227, 0.6063390625908326),\n",
       " (266, 0.6063390625908326),\n",
       " (273, 0.6063390625908326),\n",
       " (299, 0.6063390625908326),\n",
       " (319, 0.6063390625908326),\n",
       " (323, 0.6063390625908326),\n",
       " (328, 0.6063390625908326),\n",
       " (330, 0.6063390625908326),\n",
       " (335, 0.6063390625908326),\n",
       " (340, 0.6063390625908326),\n",
       " (356, 0.6063390625908326),\n",
       " (358, 0.6063390625908326),\n",
       " (361, 0.6063390625908326),\n",
       " (382, 0.6063390625908326),\n",
       " (389, 0.6063390625908326),\n",
       " (392, 0.6063390625908326),\n",
       " (426, 0.6063390625908326),\n",
       " (437, 0.6063390625908326),\n",
       " (465, 0.6063390625908326),\n",
       " (486, 0.6063390625908326),\n",
       " (496, 0.6063390625908326),\n",
       " (503, 0.6063390625908326),\n",
       " (519, 0.6063390625908326),\n",
       " (529, 0.6063390625908326),\n",
       " (107, 0.6013377943029548),\n",
       " (331, 0.6013377943029548),\n",
       " (2, 0.5892556509887896),\n",
       " (6, 0.5892556509887896),\n",
       " (9, 0.5892556509887896),\n",
       " (17, 0.5892556509887896),\n",
       " (19, 0.5892556509887896),\n",
       " (40, 0.5892556509887896),\n",
       " (43, 0.5892556509887896),\n",
       " (64, 0.5892556509887896),\n",
       " (80, 0.5892556509887896),\n",
       " (96, 0.5892556509887896),\n",
       " (98, 0.5892556509887896),\n",
       " (125, 0.5892556509887896),\n",
       " (134, 0.5892556509887896),\n",
       " (181, 0.5892556509887896),\n",
       " (196, 0.5892556509887896),\n",
       " (200, 0.5892556509887896),\n",
       " (234, 0.5892556509887896),\n",
       " (235, 0.5892556509887896),\n",
       " (236, 0.5892556509887896),\n",
       " (237, 0.5892556509887896),\n",
       " (245, 0.5892556509887896),\n",
       " (249, 0.5892556509887896),\n",
       " (294, 0.5892556509887896),\n",
       " (302, 0.5892556509887896),\n",
       " (313, 0.5892556509887896),\n",
       " (347, 0.5892556509887896),\n",
       " (366, 0.5892556509887896),\n",
       " (413, 0.5892556509887896),\n",
       " (440, 0.5892556509887896),\n",
       " (442, 0.5892556509887896),\n",
       " (447, 0.5892556509887896),\n",
       " (469, 0.5892556509887896),\n",
       " (479, 0.5892556509887896),\n",
       " (526, 0.5892556509887896),\n",
       " (527, 0.5892556509887896),\n",
       " (122, 0.5809475019311123),\n",
       " (176, 0.5735393346764044),\n",
       " (0, 0.5625),\n",
       " (5, 0.5625),\n",
       " (11, 0.5625),\n",
       " (29, 0.5625),\n",
       " (128, 0.5625),\n",
       " (231, 0.5625),\n",
       " (243, 0.5625),\n",
       " (261, 0.5625),\n",
       " (298, 0.5625),\n",
       " (303, 0.5625),\n",
       " (372, 0.5625),\n",
       " (428, 0.5625),\n",
       " (470, 0.5625),\n",
       " (483, 0.5625),\n",
       " (501, 0.5625),\n",
       " (504, 0.5625),\n",
       " (284, 0.5590169943749475),\n",
       " (379, 0.5547001962252293),\n",
       " (36, 0.5457051563317493),\n",
       " (50, 0.5457051563317493),\n",
       " (57, 0.5457051563317493),\n",
       " (60, 0.5457051563317493),\n",
       " (62, 0.5457051563317493),\n",
       " (69, 0.5457051563317493),\n",
       " (82, 0.5457051563317493),\n",
       " (83, 0.5457051563317493),\n",
       " (97, 0.5457051563317493),\n",
       " (113, 0.5457051563317493),\n",
       " (153, 0.5457051563317493),\n",
       " (157, 0.5457051563317493),\n",
       " (205, 0.5457051563317493),\n",
       " (217, 0.5457051563317493),\n",
       " (218, 0.5457051563317493),\n",
       " (222, 0.5457051563317493),\n",
       " (232, 0.5457051563317493),\n",
       " (238, 0.5457051563317493),\n",
       " (239, 0.5457051563317493),\n",
       " (246, 0.5457051563317493),\n",
       " (256, 0.5457051563317493),\n",
       " (288, 0.5457051563317493),\n",
       " (292, 0.5457051563317493),\n",
       " (325, 0.5457051563317493),\n",
       " (326, 0.5457051563317493),\n",
       " (329, 0.5457051563317493),\n",
       " (334, 0.5457051563317493),\n",
       " (336, 0.5457051563317493),\n",
       " (381, 0.5457051563317493),\n",
       " (386, 0.5457051563317493),\n",
       " (387, 0.5457051563317493),\n",
       " (388, 0.5457051563317493),\n",
       " (403, 0.5457051563317493),\n",
       " (404, 0.5457051563317493),\n",
       " (464, 0.5457051563317493),\n",
       " (467, 0.5457051563317493),\n",
       " (471, 0.5457051563317493),\n",
       " (474, 0.5457051563317493),\n",
       " (478, 0.5457051563317493),\n",
       " (482, 0.5457051563317493),\n",
       " (520, 0.5457051563317493),\n",
       " (312, 0.5345224838248487),\n",
       " (14, 0.5303300858899107),\n",
       " (22, 0.5303300858899107),\n",
       " (46, 0.5303300858899107),\n",
       " (152, 0.5303300858899107),\n",
       " (250, 0.5303300858899107),\n",
       " (258, 0.5303300858899107),\n",
       " (280, 0.5303300858899107),\n",
       " (287, 0.5303300858899107),\n",
       " (296, 0.5303300858899107),\n",
       " (304, 0.5303300858899107),\n",
       " (341, 0.5303300858899107),\n",
       " (346, 0.5303300858899107),\n",
       " (367, 0.5303300858899107),\n",
       " (406, 0.5303300858899107),\n",
       " (410, 0.5303300858899107),\n",
       " (418, 0.5303300858899107),\n",
       " (422, 0.5303300858899107),\n",
       " (425, 0.5303300858899107),\n",
       " (430, 0.5303300858899107),\n",
       " (438, 0.5303300858899107),\n",
       " (457, 0.5303300858899107),\n",
       " (502, 0.5303300858899107),\n",
       " (514, 0.5303300858899107),\n",
       " (525, 0.5303300858899107),\n",
       " (7, 0.5163977794943221),\n",
       " (12, 0.5163977794943221),\n",
       " (42, 0.5163977794943221),\n",
       " (51, 0.5163977794943221),\n",
       " (56, 0.5163977794943221),\n",
       " (71, 0.5163977794943221),\n",
       " (120, 0.5163977794943221),\n",
       " (214, 0.5163977794943221),\n",
       " (308, 0.5163977794943221),\n",
       " (357, 0.5163977794943221),\n",
       " (362, 0.5163977794943221),\n",
       " (400, 0.5163977794943221),\n",
       " (439, 0.5163977794943221),\n",
       " (459, 0.5163977794943221),\n",
       " (511, 0.5163977794943221),\n",
       " (269, 0.516185401208764),\n",
       " (433, 0.5051814855409226),\n",
       " (84, 0.5),\n",
       " (101, 0.5),\n",
       " (111, 0.5),\n",
       " (123, 0.5),\n",
       " (185, 0.5),\n",
       " (230, 0.5),\n",
       " (262, 0.5),\n",
       " (272, 0.5),\n",
       " (350, 0.5),\n",
       " (421, 0.5),\n",
       " (429, 0.5),\n",
       " (95, 0.48507125007266605),\n",
       " (251, 0.48507125007266605),\n",
       " (324, 0.48507125007266605),\n",
       " (337, 0.48507125007266605),\n",
       " (342, 0.48507125007266605),\n",
       " (348, 0.48507125007266605),\n",
       " (349, 0.48507125007266605),\n",
       " (354, 0.48507125007266605),\n",
       " (371, 0.48507125007266605),\n",
       " (397, 0.48507125007266605),\n",
       " (401, 0.48507125007266605),\n",
       " (409, 0.48507125007266605),\n",
       " (431, 0.48507125007266605),\n",
       " (435, 0.48507125007266605),\n",
       " (441, 0.48507125007266605),\n",
       " (460, 0.48507125007266605),\n",
       " (472, 0.48507125007266605),\n",
       " (487, 0.48507125007266605),\n",
       " (489, 0.48507125007266605),\n",
       " (510, 0.48507125007266605),\n",
       " (513, 0.48507125007266605),\n",
       " (515, 0.48507125007266605),\n",
       " (13, 0.47140452079103173),\n",
       " (38, 0.47140452079103173),\n",
       " (126, 0.47140452079103173),\n",
       " (132, 0.47140452079103173),\n",
       " (192, 0.47140452079103173),\n",
       " (267, 0.47140452079103173),\n",
       " (268, 0.47140452079103173),\n",
       " (289, 0.47140452079103173),\n",
       " (301, 0.47140452079103173),\n",
       " (481, 0.47140452079103173),\n",
       " (494, 0.47140452079103173),\n",
       " (310, 0.45883146774112354),\n",
       " (23, 0.45184805705753184),\n",
       " (99, 0.45184805705753184),\n",
       " (233, 0.45184805705753184),\n",
       " (359, 0.45184805705753184),\n",
       " (399, 0.45184805705753184),\n",
       " (466, 0.45184805705753184),\n",
       " (477, 0.45184805705753184),\n",
       " (492, 0.45184805705753184),\n",
       " (493, 0.45184805705753184),\n",
       " (498, 0.45184805705753184),\n",
       " (500, 0.45184805705753184),\n",
       " (48, 0.4375),\n",
       " (116, 0.4375),\n",
       " (173, 0.4375),\n",
       " (255, 0.4375),\n",
       " (3, 0.43301270189221935),\n",
       " (209, 0.43301270189221935),\n",
       " (58, 0.4160251471689219),\n",
       " (59, 0.4160251471689219),\n",
       " (391, 0.4160251471689219),\n",
       " (393, 0.4160251471689219),\n",
       " (468, 0.4160251471689219),\n",
       " (521, 0.4160251471689219),\n",
       " (34, 0.40089186286863654),\n",
       " (305, 0.375),\n",
       " (179, 0.3638034375544995),\n",
       " (229, 0.3638034375544995),\n",
       " (271, 0.3638034375544995),\n",
       " (89, 0.34668762264076824),\n",
       " (106, 0.34668762264076824),\n",
       " (148, 0.34668762264076824),\n",
       " (161, 0.34668762264076824),\n",
       " (377, 0.34668762264076824),\n",
       " (378, 0.34668762264076824),\n",
       " (110, 0.32274861218395134),\n",
       " (133, 0.32274861218395134),\n",
       " (253, 0.32274861218395134),\n",
       " (297, 0.32274861218395134),\n",
       " (454, 0.32274861218395134),\n",
       " (4, 0.2886751345948129),\n",
       " (18, 0.2886751345948129),\n",
       " (53, 0.2886751345948129),\n",
       " (155, 0.2886751345948129),\n",
       " (170, 0.2886751345948129),\n",
       " (198, 0.2886751345948129),\n",
       " (203, 0.2886751345948129),\n",
       " (220, 0.2886751345948129),\n",
       " (375, 0.2886751345948129),\n",
       " (77, 0.2773500981126146),\n",
       " (78, 0.2773500981126146),\n",
       " (79, 0.2773500981126146),\n",
       " (142, 0.2773500981126146),\n",
       " (195, 0.2773500981126146)]"
      ]
     },
     "execution_count": 67,
     "metadata": {},
     "output_type": "execute_result"
    }
   ],
   "source": [
    "sorted(list(enumerate(similarity[1])), reverse=True, key= lambda x: x[1]) #distance between item to all items"
   ]
  },
  {
   "cell_type": "code",
   "execution_count": 68,
   "metadata": {},
   "outputs": [
    {
     "data": {
      "text/html": [
       "<div>\n",
       "<style scoped>\n",
       "    .dataframe tbody tr th:only-of-type {\n",
       "        vertical-align: middle;\n",
       "    }\n",
       "\n",
       "    .dataframe tbody tr th {\n",
       "        vertical-align: top;\n",
       "    }\n",
       "\n",
       "    .dataframe thead th {\n",
       "        text-align: right;\n",
       "    }\n",
       "</style>\n",
       "<table border=\"1\" class=\"dataframe\">\n",
       "  <thead>\n",
       "    <tr style=\"text-align: right;\">\n",
       "      <th></th>\n",
       "      <th>laptop_id</th>\n",
       "      <th>name</th>\n",
       "      <th>tags</th>\n",
       "      <th>img_link</th>\n",
       "      <th>price</th>\n",
       "      <th>brand</th>\n",
       "      <th>use</th>\n",
       "      <th>processor</th>\n",
       "      <th>ram</th>\n",
       "      <th>os</th>\n",
       "      <th>storage</th>\n",
       "    </tr>\n",
       "  </thead>\n",
       "  <tbody>\n",
       "    <tr>\n",
       "      <th>724</th>\n",
       "      <td>724</td>\n",
       "      <td>MSI GF63 Thin Core i7 9th Gen</td>\n",
       "      <td>intel core i7 processor (9th gen) 8 gb ddr4 ra...</td>\n",
       "      <td>https://rukminim1.flixcart.com/image/312/312/k...</td>\n",
       "      <td>3684.45</td>\n",
       "      <td>MSI</td>\n",
       "      <td>Gaming</td>\n",
       "      <td>[Intel, Core, i7, Processor, (9th, Gen)]</td>\n",
       "      <td>[8, GB, DDR4, RAM]</td>\n",
       "      <td>[64, bit, Windows, 10, Operating, System]</td>\n",
       "      <td>512 GB SSD</td>\n",
       "    </tr>\n",
       "  </tbody>\n",
       "</table>\n",
       "</div>"
      ],
      "text/plain": [
       "     laptop_id                           name  \\\n",
       "724        724  MSI GF63 Thin Core i7 9th Gen   \n",
       "\n",
       "                                                  tags  \\\n",
       "724  intel core i7 processor (9th gen) 8 gb ddr4 ra...   \n",
       "\n",
       "                                              img_link    price brand  \\\n",
       "724  https://rukminim1.flixcart.com/image/312/312/k...  3684.45   MSI   \n",
       "\n",
       "         use                                 processor                 ram  \\\n",
       "724   Gaming  [Intel, Core, i7, Processor, (9th, Gen)]  [8, GB, DDR4, RAM]   \n",
       "\n",
       "                                            os     storage  \n",
       "724  [64, bit, Windows, 10, Operating, System]  512 GB SSD  "
      ]
     },
     "execution_count": 68,
     "metadata": {},
     "output_type": "execute_result"
    }
   ],
   "source": [
    "rec_df[rec_df['name'] == 'MSI GF63 Thin Core i7 9th Gen'] #we get the index for the specific laptop"
   ]
  },
  {
   "cell_type": "code",
   "execution_count": 69,
   "metadata": {},
   "outputs": [
    {
     "data": {
      "text/plain": [
       "724"
      ]
     },
     "execution_count": 69,
     "metadata": {},
     "output_type": "execute_result"
    }
   ],
   "source": [
    "rec_df[rec_df['name'] == 'MSI GF63 Thin Core i7 9th Gen'].index[0] #we get the index for the specific laptop"
   ]
  },
  {
   "cell_type": "code",
   "execution_count": 70,
   "metadata": {},
   "outputs": [
    {
     "data": {
      "text/html": [
       "<div>\n",
       "<style scoped>\n",
       "    .dataframe tbody tr th:only-of-type {\n",
       "        vertical-align: middle;\n",
       "    }\n",
       "\n",
       "    .dataframe tbody tr th {\n",
       "        vertical-align: top;\n",
       "    }\n",
       "\n",
       "    .dataframe thead th {\n",
       "        text-align: right;\n",
       "    }\n",
       "</style>\n",
       "<table border=\"1\" class=\"dataframe\">\n",
       "  <thead>\n",
       "    <tr style=\"text-align: right;\">\n",
       "      <th></th>\n",
       "      <th>laptop_id</th>\n",
       "      <th>name</th>\n",
       "      <th>tags</th>\n",
       "      <th>img_link</th>\n",
       "      <th>price</th>\n",
       "      <th>brand</th>\n",
       "      <th>use</th>\n",
       "      <th>processor</th>\n",
       "      <th>ram</th>\n",
       "      <th>os</th>\n",
       "      <th>storage</th>\n",
       "    </tr>\n",
       "  </thead>\n",
       "  <tbody>\n",
       "    <tr>\n",
       "      <th>0</th>\n",
       "      <td>0</td>\n",
       "      <td>Lenovo Intel Core i5 11th Gen</td>\n",
       "      <td>intel core i5 processor (11th gen) 16 gb ddr4 ...</td>\n",
       "      <td>https://rukminim1.flixcart.com/image/312/312/x...</td>\n",
       "      <td>3464.45</td>\n",
       "      <td>Lenovo</td>\n",
       "      <td>Business/Professional</td>\n",
       "      <td>[Intel, Core, i5, Processor, (11th, Gen)]</td>\n",
       "      <td>[16, GB, DDR4, RAM]</td>\n",
       "      <td>[Windows, 11, Operating, System]</td>\n",
       "      <td>512 GB SSD</td>\n",
       "    </tr>\n",
       "    <tr>\n",
       "      <th>1</th>\n",
       "      <td>1</td>\n",
       "      <td>ASUS ROG Zephyrus G15 (2022) with 90Whr Batter...</td>\n",
       "      <td>amd ryzen 9 octa core processor 16 gb ddr5 ram...</td>\n",
       "      <td>https://rukminim1.flixcart.com/image/312/312/l...</td>\n",
       "      <td>8909.45</td>\n",
       "      <td>ASUS</td>\n",
       "      <td>Gaming</td>\n",
       "      <td>[AMD, Ryzen, 9, Octa, Core, Processor]</td>\n",
       "      <td>[16, GB, DDR5, RAM]</td>\n",
       "      <td>[64, bit, Windows, 11, Operating, System]</td>\n",
       "      <td>1 TB SSD</td>\n",
       "    </tr>\n",
       "    <tr>\n",
       "      <th>2</th>\n",
       "      <td>2</td>\n",
       "      <td>ASUS VivoBook 15 (2022) Core i3 10th Gen</td>\n",
       "      <td>intel core i3 processor (10th gen) 8 gb ddr4 r...</td>\n",
       "      <td>https://rukminim1.flixcart.com/image/312/312/x...</td>\n",
       "      <td>1869.45</td>\n",
       "      <td>ASUS</td>\n",
       "      <td>Home/Everyday use</td>\n",
       "      <td>[Intel, Core, i3, Processor, (10th, Gen)]</td>\n",
       "      <td>[8, GB, DDR4, RAM]</td>\n",
       "      <td>[64, bit, Windows, 11, Operating, System]</td>\n",
       "      <td>512 GB SSD</td>\n",
       "    </tr>\n",
       "    <tr>\n",
       "      <th>3</th>\n",
       "      <td>3</td>\n",
       "      <td>Lenovo Athlon Dual Core</td>\n",
       "      <td>amd athlon dual core processor 4 gb ddr4 ram d...</td>\n",
       "      <td>https://rukminim1.flixcart.com/image/312/312/x...</td>\n",
       "      <td>1044.45</td>\n",
       "      <td>Lenovo</td>\n",
       "      <td>Budget Friendly</td>\n",
       "      <td>[AMD, Athlon, Dual, Core, Processor]</td>\n",
       "      <td>[4, GB, DDR4, RAM]</td>\n",
       "      <td>[DOS, Operating, System]</td>\n",
       "      <td>256 GB SSD</td>\n",
       "    </tr>\n",
       "  </tbody>\n",
       "</table>\n",
       "</div>"
      ],
      "text/plain": [
       "   laptop_id                                               name  \\\n",
       "0          0                      Lenovo Intel Core i5 11th Gen   \n",
       "1          1  ASUS ROG Zephyrus G15 (2022) with 90Whr Batter...   \n",
       "2          2           ASUS VivoBook 15 (2022) Core i3 10th Gen   \n",
       "3          3                            Lenovo Athlon Dual Core   \n",
       "\n",
       "                                                tags  \\\n",
       "0  intel core i5 processor (11th gen) 16 gb ddr4 ...   \n",
       "1  amd ryzen 9 octa core processor 16 gb ddr5 ram...   \n",
       "2  intel core i3 processor (10th gen) 8 gb ddr4 r...   \n",
       "3  amd athlon dual core processor 4 gb ddr4 ram d...   \n",
       "\n",
       "                                            img_link    price   brand  \\\n",
       "0  https://rukminim1.flixcart.com/image/312/312/x...  3464.45  Lenovo   \n",
       "1  https://rukminim1.flixcart.com/image/312/312/l...  8909.45    ASUS   \n",
       "2  https://rukminim1.flixcart.com/image/312/312/x...  1869.45    ASUS   \n",
       "3  https://rukminim1.flixcart.com/image/312/312/x...  1044.45  Lenovo   \n",
       "\n",
       "                      use                                  processor  \\\n",
       "0   Business/Professional  [Intel, Core, i5, Processor, (11th, Gen)]   \n",
       "1                  Gaming     [AMD, Ryzen, 9, Octa, Core, Processor]   \n",
       "2       Home/Everyday use  [Intel, Core, i3, Processor, (10th, Gen)]   \n",
       "3         Budget Friendly       [AMD, Athlon, Dual, Core, Processor]   \n",
       "\n",
       "                   ram                                         os     storage  \n",
       "0  [16, GB, DDR4, RAM]           [Windows, 11, Operating, System]  512 GB SSD  \n",
       "1  [16, GB, DDR5, RAM]  [64, bit, Windows, 11, Operating, System]    1 TB SSD  \n",
       "2   [8, GB, DDR4, RAM]  [64, bit, Windows, 11, Operating, System]  512 GB SSD  \n",
       "3   [4, GB, DDR4, RAM]                   [DOS, Operating, System]  256 GB SSD  "
      ]
     },
     "execution_count": 70,
     "metadata": {},
     "output_type": "execute_result"
    }
   ],
   "source": [
    "rec_df.head(4)"
   ]
  },
  {
   "cell_type": "code",
   "execution_count": 71,
   "metadata": {},
   "outputs": [
    {
     "data": {
      "text/plain": [
       "\" From github\\ndef recommend(use):\\n    index = rec_df[rec_df['name'] == use].index[0]\\n    distances = sorted(list(enumerate(similarity[index])), reverse=True, key=lambda x: x[1])\\n    printed_names = set()\\n    #display top 5\\n    for i in distances[1:6]: #iterates 1 to 5, excluding 6\\n        row_index = i[0]\\n        name = rec_df.iloc[row_index]['name']\\n        if name not in printed_names:\\n            printed_names.add(name)\\n            print(name)\\n\""
      ]
     },
     "execution_count": 71,
     "metadata": {},
     "output_type": "execute_result"
    }
   ],
   "source": [
    "''' From github\n",
    "def recommend(use):\n",
    "    index = rec_df[rec_df['name'] == use].index[0]\n",
    "    distances = sorted(list(enumerate(similarity[index])), reverse=True, key=lambda x: x[1])\n",
    "    printed_names = set()\n",
    "    #display top 5\n",
    "    for i in distances[1:6]: #iterates 1 to 5, excluding 6\n",
    "        row_index = i[0]\n",
    "        name = rec_df.iloc[row_index]['name']\n",
    "        if name not in printed_names:\n",
    "            printed_names.add(name)\n",
    "            print(name)\n",
    "'''"
   ]
  },
  {
   "cell_type": "code",
   "execution_count": 72,
   "metadata": {},
   "outputs": [
    {
     "data": {
      "text/plain": [
       "'\\ndef recommend(x):\\n    index = rec_df[rec_df[\\'name\\'] == x].index[0]  # Find the index of the input laptop\\n    distance = sorted(list(enumerate(similarity[index])), reverse=True, key= lambda x: x[1])  # Sort the similarities\\n    print(f\"Laptops similar to \\'{x}\\':\")\\n    for i in distance[1:6]:\\n        laptop = rec_df.iloc[i[0]]  #get the laptop information\\n        similarity_score = i[1]  #get the similarity score\\n        print(f\"{laptop[\\'name\\']} | Similarity Score: {similarity_score:.2f} | Image Link: {laptop[\\'img_link\\']}\")\\n'"
      ]
     },
     "execution_count": 72,
     "metadata": {},
     "output_type": "execute_result"
    }
   ],
   "source": [
    "#create Recommend Function 1 (CHOOSE THIS FOR STREAMLIT)\n",
    "'''\n",
    "def recommend(x):\n",
    "    index = rec_df[rec_df['name'] == x].index[0]  # Find the index of the input laptop\n",
    "    distance = sorted(list(enumerate(similarity[index])), reverse=True, key= lambda x: x[1])  # Sort the similarities\n",
    "    print(f\"Laptops similar to '{x}':\")\n",
    "    for i in distance[1:6]:\n",
    "        laptop = rec_df.iloc[i[0]]  #get the laptop information\n",
    "        similarity_score = i[1]  #get the similarity score\n",
    "        print(f\"{laptop['name']} | Similarity Score: {similarity_score:.2f} | Image Link: {laptop['img_link']}\")\n",
    "'''"
   ]
  },
  {
   "cell_type": "code",
   "execution_count": 73,
   "metadata": {},
   "outputs": [],
   "source": [
    "#Recommend Function 2\n",
    "rec_df.reset_index(drop=True, inplace=True) # Reset the index to align with the similarity matrix\n",
    "def recommend(x):\n",
    "    # Check if the input exists in the database\n",
    "    if x not in rec_df['name'].values:\n",
    "        print(f\"Laptop '{x}' is not found in the database.\")\n",
    "        return\n",
    "\n",
    "    # Get the index of the laptop model of the input\n",
    "    index = rec_df[rec_df['name'] == x].index[0]\n",
    "\n",
    "    # Ensure the index is within bounds\n",
    "    if index >= len(similarity):\n",
    "        print(\"Error: The index is out of bounds for the similarity matrix.\")\n",
    "        return\n",
    "\n",
    "    # Sort laptops by similarity, retrieving similarity scores\n",
    "    distances = sorted(list(enumerate(similarity[index])), reverse=True, key=lambda x: x[1])\n",
    "\n",
    "    printed_names = set()\n",
    "    print(f\"Laptops similar to '{x}':\")\n",
    "\n",
    "    # Display recommendations\n",
    "    for i in distances[1:]:\n",
    "        name = rec_df.iloc[i[0]]['name']\n",
    "        similarity_score = i[1]\n",
    "\n",
    "        # Check to ensure that the input is excluded as recommendations\n",
    "        if name != x and name not in printed_names:\n",
    "            printed_names.add(name)\n",
    "            print(f\"{name} (Similarity Score: {similarity_score:.2f})\")\n",
    "        if len(printed_names) == 5:\n",
    "            break\n"
   ]
  },
  {
   "cell_type": "markdown",
   "metadata": {},
   "source": [
    "7. TESTING"
   ]
  },
  {
   "cell_type": "code",
   "execution_count": 74,
   "metadata": {},
   "outputs": [
    {
     "name": "stdout",
     "output_type": "stream",
     "text": [
      "Laptops similar to 'Lenovo Intel Core i5 11th Gen':\n",
      "RedmiBook Pro Core i5 11th Gen (Similarity Score: 0.97)\n",
      "ASUS Vivobook 15 Touch Core i5 11th Gen (Similarity Score: 0.97)\n",
      "Lenovo IdeaPad Core i5 11th Gen (Similarity Score: 0.97)\n",
      "DELL Core i5 11th Gen (Similarity Score: 0.97)\n",
      "ASUS VivoBook K15 OLED (2022) Core i5 11th Gen (Similarity Score: 0.94)\n"
     ]
    }
   ],
   "source": [
    "recommend('Lenovo Intel Core i5 11th Gen')"
   ]
  },
  {
   "cell_type": "code",
   "execution_count": 75,
   "metadata": {},
   "outputs": [
    {
     "data": {
      "text/html": [
       "<div>\n",
       "<style scoped>\n",
       "    .dataframe tbody tr th:only-of-type {\n",
       "        vertical-align: middle;\n",
       "    }\n",
       "\n",
       "    .dataframe tbody tr th {\n",
       "        vertical-align: top;\n",
       "    }\n",
       "\n",
       "    .dataframe thead th {\n",
       "        text-align: right;\n",
       "    }\n",
       "</style>\n",
       "<table border=\"1\" class=\"dataframe\">\n",
       "  <thead>\n",
       "    <tr style=\"text-align: right;\">\n",
       "      <th></th>\n",
       "      <th>laptop_id</th>\n",
       "      <th>name</th>\n",
       "      <th>processor</th>\n",
       "      <th>ram</th>\n",
       "      <th>os</th>\n",
       "      <th>storage</th>\n",
       "      <th>img_link</th>\n",
       "      <th>display</th>\n",
       "      <th>rating</th>\n",
       "      <th>no_of_ratings</th>\n",
       "      <th>no_of_reviews</th>\n",
       "      <th>laptop_brand</th>\n",
       "      <th>os_brand</th>\n",
       "      <th>processor_brand</th>\n",
       "      <th>usecases</th>\n",
       "      <th>price_rm</th>\n",
       "      <th>use</th>\n",
       "      <th>tags</th>\n",
       "    </tr>\n",
       "  </thead>\n",
       "  <tbody>\n",
       "    <tr>\n",
       "      <th>0</th>\n",
       "      <td>0</td>\n",
       "      <td>Lenovo Intel Core i5 11th Gen</td>\n",
       "      <td>[Intel, Core, i5, Processor, (11th, Gen)]</td>\n",
       "      <td>[16, GB, DDR4, RAM]</td>\n",
       "      <td>[Windows, 11, Operating, System]</td>\n",
       "      <td>512 GB SSD</td>\n",
       "      <td>https://rukminim1.flixcart.com/image/312/312/x...</td>\n",
       "      <td>[15.6]</td>\n",
       "      <td>4.5</td>\n",
       "      <td>14.0</td>\n",
       "      <td>1.0</td>\n",
       "      <td>Lenovo</td>\n",
       "      <td>Windows</td>\n",
       "      <td>Intel</td>\n",
       "      <td>Business/Professional</td>\n",
       "      <td>3464.45</td>\n",
       "      <td>[Business/Professional]</td>\n",
       "      <td>[Intel, Core, i5, Processor, (11th, Gen), 16, ...</td>\n",
       "    </tr>\n",
       "    <tr>\n",
       "      <th>29</th>\n",
       "      <td>29</td>\n",
       "      <td>Lenovo Intel Core i5 11th Gen</td>\n",
       "      <td>[Intel, Core, i5, Processor, (11th, Gen)]</td>\n",
       "      <td>[16, GB, DDR4, RAM]</td>\n",
       "      <td>[Windows, 11, Operating, System]</td>\n",
       "      <td>512 GB SSD</td>\n",
       "      <td>https://rukminim1.flixcart.com/image/312/312/x...</td>\n",
       "      <td>[15.6]</td>\n",
       "      <td>4.5</td>\n",
       "      <td>14.0</td>\n",
       "      <td>1.0</td>\n",
       "      <td>Lenovo</td>\n",
       "      <td>Windows</td>\n",
       "      <td>Intel</td>\n",
       "      <td>Business/Professional</td>\n",
       "      <td>2908.95</td>\n",
       "      <td>[Business/Professional]</td>\n",
       "      <td>[Intel, Core, i5, Processor, (11th, Gen), 16, ...</td>\n",
       "    </tr>\n",
       "    <tr>\n",
       "      <th>182</th>\n",
       "      <td>182</td>\n",
       "      <td>Lenovo Intel Core i5 11th Gen</td>\n",
       "      <td>[Intel, Core, i5, Processor, (11th, Gen)]</td>\n",
       "      <td>[8, GB, DDR4, RAM]</td>\n",
       "      <td>[64, bit, Windows, 11, Operating, System]</td>\n",
       "      <td>1 TB HDD|256 GB SSD</td>\n",
       "      <td>https://rukminim1.flixcart.com/image/312/312/k...</td>\n",
       "      <td>[15.6]</td>\n",
       "      <td>4.4</td>\n",
       "      <td>395.0</td>\n",
       "      <td>43.0</td>\n",
       "      <td>Lenovo</td>\n",
       "      <td>Windows</td>\n",
       "      <td>Intel</td>\n",
       "      <td>Student/Education</td>\n",
       "      <td>3574.45</td>\n",
       "      <td>[Student/Education]</td>\n",
       "      <td>[Intel, Core, i5, Processor, (11th, Gen), 8, G...</td>\n",
       "    </tr>\n",
       "    <tr>\n",
       "      <th>697</th>\n",
       "      <td>697</td>\n",
       "      <td>Lenovo Intel Core i5 11th Gen</td>\n",
       "      <td>[Intel, Core, i5, Processor, (11th, Gen)]</td>\n",
       "      <td>[16, GB, DDR4, RAM]</td>\n",
       "      <td>[Windows, 11, Operating, System]</td>\n",
       "      <td>512 GB SSD</td>\n",
       "      <td>https://rukminim1.flixcart.com/image/312/312/x...</td>\n",
       "      <td>[15.6]</td>\n",
       "      <td>4.1</td>\n",
       "      <td>8.0</td>\n",
       "      <td>0.0</td>\n",
       "      <td>Lenovo</td>\n",
       "      <td>Windows</td>\n",
       "      <td>Intel</td>\n",
       "      <td>Business/Professional</td>\n",
       "      <td>3755.95</td>\n",
       "      <td>[Business/Professional]</td>\n",
       "      <td>[Intel, Core, i5, Processor, (11th, Gen), 16, ...</td>\n",
       "    </tr>\n",
       "  </tbody>\n",
       "</table>\n",
       "</div>"
      ],
      "text/plain": [
       "     laptop_id                           name  \\\n",
       "0            0  Lenovo Intel Core i5 11th Gen   \n",
       "29          29  Lenovo Intel Core i5 11th Gen   \n",
       "182        182  Lenovo Intel Core i5 11th Gen   \n",
       "697        697  Lenovo Intel Core i5 11th Gen   \n",
       "\n",
       "                                     processor                  ram  \\\n",
       "0    [Intel, Core, i5, Processor, (11th, Gen)]  [16, GB, DDR4, RAM]   \n",
       "29   [Intel, Core, i5, Processor, (11th, Gen)]  [16, GB, DDR4, RAM]   \n",
       "182  [Intel, Core, i5, Processor, (11th, Gen)]   [8, GB, DDR4, RAM]   \n",
       "697  [Intel, Core, i5, Processor, (11th, Gen)]  [16, GB, DDR4, RAM]   \n",
       "\n",
       "                                            os              storage  \\\n",
       "0             [Windows, 11, Operating, System]           512 GB SSD   \n",
       "29            [Windows, 11, Operating, System]           512 GB SSD   \n",
       "182  [64, bit, Windows, 11, Operating, System]  1 TB HDD|256 GB SSD   \n",
       "697           [Windows, 11, Operating, System]           512 GB SSD   \n",
       "\n",
       "                                              img_link display  rating  \\\n",
       "0    https://rukminim1.flixcart.com/image/312/312/x...  [15.6]     4.5   \n",
       "29   https://rukminim1.flixcart.com/image/312/312/x...  [15.6]     4.5   \n",
       "182  https://rukminim1.flixcart.com/image/312/312/k...  [15.6]     4.4   \n",
       "697  https://rukminim1.flixcart.com/image/312/312/x...  [15.6]     4.1   \n",
       "\n",
       "     no_of_ratings  no_of_reviews laptop_brand os_brand processor_brand  \\\n",
       "0             14.0            1.0       Lenovo  Windows           Intel   \n",
       "29            14.0            1.0       Lenovo  Windows           Intel   \n",
       "182          395.0           43.0       Lenovo  Windows           Intel   \n",
       "697            8.0            0.0       Lenovo  Windows           Intel   \n",
       "\n",
       "                   usecases  price_rm                      use  \\\n",
       "0     Business/Professional   3464.45  [Business/Professional]   \n",
       "29    Business/Professional   2908.95  [Business/Professional]   \n",
       "182       Student/Education   3574.45      [Student/Education]   \n",
       "697   Business/Professional   3755.95  [Business/Professional]   \n",
       "\n",
       "                                                  tags  \n",
       "0    [Intel, Core, i5, Processor, (11th, Gen), 16, ...  \n",
       "29   [Intel, Core, i5, Processor, (11th, Gen), 16, ...  \n",
       "182  [Intel, Core, i5, Processor, (11th, Gen), 8, G...  \n",
       "697  [Intel, Core, i5, Processor, (11th, Gen), 16, ...  "
      ]
     },
     "execution_count": 75,
     "metadata": {},
     "output_type": "execute_result"
    }
   ],
   "source": [
    "laptop[laptop['name'] == 'Lenovo Intel Core i5 11th Gen']"
   ]
  },
  {
   "cell_type": "code",
   "execution_count": 76,
   "metadata": {},
   "outputs": [
    {
     "name": "stderr",
     "output_type": "stream",
     "text": [
      "C:\\Users\\aiman\\AppData\\Local\\Temp\\ipykernel_2340\\1203269833.py:1: SettingWithCopyWarning: \n",
      "A value is trying to be set on a copy of a slice from a DataFrame.\n",
      "Try using .loc[row_indexer,col_indexer] = value instead\n",
      "\n",
      "See the caveats in the documentation: https://pandas.pydata.org/pandas-docs/stable/user_guide/indexing.html#returning-a-view-versus-a-copy\n",
      "  rec_df['ram'] = new_csv['ram']\n",
      "C:\\Users\\aiman\\AppData\\Local\\Temp\\ipykernel_2340\\1203269833.py:2: SettingWithCopyWarning: \n",
      "A value is trying to be set on a copy of a slice from a DataFrame.\n",
      "Try using .loc[row_indexer,col_indexer] = value instead\n",
      "\n",
      "See the caveats in the documentation: https://pandas.pydata.org/pandas-docs/stable/user_guide/indexing.html#returning-a-view-versus-a-copy\n",
      "  rec_df['processor'] = new_csv['processor']\n",
      "C:\\Users\\aiman\\AppData\\Local\\Temp\\ipykernel_2340\\1203269833.py:3: SettingWithCopyWarning: \n",
      "A value is trying to be set on a copy of a slice from a DataFrame.\n",
      "Try using .loc[row_indexer,col_indexer] = value instead\n",
      "\n",
      "See the caveats in the documentation: https://pandas.pydata.org/pandas-docs/stable/user_guide/indexing.html#returning-a-view-versus-a-copy\n",
      "  rec_df['os'] = new_csv['os']\n"
     ]
    }
   ],
   "source": [
    "rec_df['ram'] = new_csv['ram']\n",
    "rec_df['processor'] = new_csv['processor']\n",
    "rec_df['os'] = new_csv['os']"
   ]
  },
  {
   "cell_type": "code",
   "execution_count": 77,
   "metadata": {},
   "outputs": [],
   "source": [
    "import pickle\n",
    "\n",
    "pickle.dump(rec_df, open('model/laptop_list.pkl', 'wb'))\n",
    "pickle.dump(similarity, open('model/similarity.pkl', 'wb'))\n",
    "new_csv.to_csv('model/update_laptop.csv', sep=',', index=False, encoding='utf-8')\n",
    "pickle.dump(laptop, open('model/analysis.pkl', 'wb'))"
   ]
  },
  {
   "cell_type": "code",
   "execution_count": 80,
   "id": "7a7a6cdc",
   "metadata": {},
   "outputs": [
    {
     "name": "stdout",
     "output_type": "stream",
     "text": [
      "Average Precision@5: 0.20\n"
     ]
    }
   ],
   "source": [
    "from sklearn.feature_extraction.text import TfidfVectorizer\n",
    "from sklearn.metrics.pairwise import cosine_similarity\n",
    "\n",
    "# Define and fit the vectorizer on the dataset\n",
    "vectorizer = TfidfVectorizer()\n",
    "tfidf_matrix = vectorizer.fit_transform(rec_df['tags'])  # Fit on the 'tags' column\n",
    "\n",
    "# Simulating a test dataset by sampling from the existing dataset\n",
    "def simulate_test_data(df, sample_size=10):\n",
    "    return df.sample(n=sample_size, random_state=42)\n",
    "\n",
    "# Function to evaluate recommendations using Precision@K\n",
    "def precision_at_k(recommendations, relevant_items, k=5):\n",
    "    relevant_at_k = [item for item in recommendations[:k] if item in relevant_items]\n",
    "    return len(relevant_at_k) / k\n",
    "\n",
    "# Simulating test queries\n",
    "test_data = simulate_test_data(rec_df, sample_size=10)  # Assuming 'rec_df' is the dataset DataFrame\n",
    "\n",
    "precision_scores = []\n",
    "for index, row in test_data.iterrows():\n",
    "    query = row['tags']  # Assuming 'tags' column exists in the dataset\n",
    "    actual_item = row['name']  # Assuming 'name' column exists\n",
    "    \n",
    "    # Get recommendations for the query\n",
    "    query_vector = vectorizer.transform([query])\n",
    "    cosine_similarities = cosine_similarity(query_vector, tfidf_matrix).flatten()\n",
    "    recommended_indices = cosine_similarities.argsort()[-10:][::-1]\n",
    "    recommended_items = rec_df.iloc[recommended_indices]['name'].tolist()\n",
    "    \n",
    "    # Evaluate precision at K (e.g., K=5)\n",
    "    precision = precision_at_k(recommended_items, [actual_item], k=5)\n",
    "    precision_scores.append(precision)\n",
    "\n",
    "# Displaying the average Precision@K\n",
    "average_precision = sum(precision_scores) / len(precision_scores)\n",
    "print(f\"Average Precision@5: {average_precision:.2f}\")\n"
   ]
  }
 ],
 "metadata": {
  "kernelspec": {
   "display_name": "base",
   "language": "python",
   "name": "python3"
  },
  "language_info": {
   "codemirror_mode": {
    "name": "ipython",
    "version": 3
   },
   "file_extension": ".py",
   "mimetype": "text/x-python",
   "name": "python",
   "nbconvert_exporter": "python",
   "pygments_lexer": "ipython3",
   "version": "3.11.7"
  }
 },
 "nbformat": 4,
 "nbformat_minor": 2
}

{
 "cells": [
  {
   "cell_type": "code",
   "execution_count": 1466,
   "metadata": {},
   "outputs": [],
   "source": [
    "import numpy as np\n",
    "import pandas as pd\n",
    "import matplotlib.pyplot as okt\n",
    "import os"
   ]
  },
  {
   "cell_type": "markdown",
   "metadata": {},
   "source": [
    "1. DATA LOADING"
   ]
  },
  {
   "cell_type": "code",
   "execution_count": 1467,
   "metadata": {},
   "outputs": [],
   "source": [
    "laptop = pd.read_csv('dataset/laptops.csv')"
   ]
  },
  {
   "cell_type": "code",
   "execution_count": 1468,
   "metadata": {},
   "outputs": [
    {
     "data": {
      "text/html": [
       "<div>\n",
       "<style scoped>\n",
       "    .dataframe tbody tr th:only-of-type {\n",
       "        vertical-align: middle;\n",
       "    }\n",
       "\n",
       "    .dataframe tbody tr th {\n",
       "        vertical-align: top;\n",
       "    }\n",
       "\n",
       "    .dataframe thead th {\n",
       "        text-align: right;\n",
       "    }\n",
       "</style>\n",
       "<table border=\"1\" class=\"dataframe\">\n",
       "  <thead>\n",
       "    <tr style=\"text-align: right;\">\n",
       "      <th></th>\n",
       "      <th>laptop_id</th>\n",
       "      <th>name</th>\n",
       "      <th>price</th>\n",
       "      <th>processor</th>\n",
       "      <th>ram</th>\n",
       "      <th>os</th>\n",
       "      <th>storage</th>\n",
       "      <th>img_link</th>\n",
       "      <th>display</th>\n",
       "      <th>rating</th>\n",
       "      <th>no_of_ratings</th>\n",
       "      <th>no_of_reviews</th>\n",
       "      <th>laptop_brand</th>\n",
       "      <th>os_brand</th>\n",
       "      <th>processor_brand</th>\n",
       "      <th>usecases</th>\n",
       "    </tr>\n",
       "  </thead>\n",
       "  <tbody>\n",
       "    <tr>\n",
       "      <th>0</th>\n",
       "      <td>0</td>\n",
       "      <td>Lenovo Intel Core i5 11th Gen</td>\n",
       "      <td>62990</td>\n",
       "      <td>Intel Core i5 Processor (11th Gen)</td>\n",
       "      <td>16 GB DDR4 RAM</td>\n",
       "      <td>Windows 11 Operating System</td>\n",
       "      <td>512 GB SSD</td>\n",
       "      <td>https://rukminim1.flixcart.com/image/312/312/xif0q/computer/1/b/0/15itl6-thin-and-light-laptop-lenovo-original-imagkwgzafjp33es.jpeg?q=70</td>\n",
       "      <td>15.6</td>\n",
       "      <td>4.5</td>\n",
       "      <td>14.0</td>\n",
       "      <td>1.0</td>\n",
       "      <td>Lenovo</td>\n",
       "      <td>Windows</td>\n",
       "      <td>Intel</td>\n",
       "      <td>Business/Professional</td>\n",
       "    </tr>\n",
       "    <tr>\n",
       "      <th>1</th>\n",
       "      <td>1</td>\n",
       "      <td>ASUS ROG Zephyrus G15 (2022) with 90Whr Battery Ryzen 9 Octa Core 6900HS</td>\n",
       "      <td>161990</td>\n",
       "      <td>AMD Ryzen 9 Octa Core Processor</td>\n",
       "      <td>16 GB DDR5 RAM</td>\n",
       "      <td>64 bit Windows 11 Operating System</td>\n",
       "      <td>1 TB SSD</td>\n",
       "      <td>https://rukminim1.flixcart.com/image/312/312/l58iaa80/computer/e/u/f/ga503rm-hq030ws-gaming-laptop-asus-original-imagfyjedtcx2vfw.jpeg?q=70</td>\n",
       "      <td>15.6</td>\n",
       "      <td>3.8</td>\n",
       "      <td>5.0</td>\n",
       "      <td>1.0</td>\n",
       "      <td>ASUS</td>\n",
       "      <td>Windows</td>\n",
       "      <td>AMD</td>\n",
       "      <td>Gaming</td>\n",
       "    </tr>\n",
       "  </tbody>\n",
       "</table>\n",
       "</div>"
      ],
      "text/plain": [
       "   laptop_id  \\\n",
       "0          0   \n",
       "1          1   \n",
       "\n",
       "                                                                       name  \\\n",
       "0                                             Lenovo Intel Core i5 11th Gen   \n",
       "1  ASUS ROG Zephyrus G15 (2022) with 90Whr Battery Ryzen 9 Octa Core 6900HS   \n",
       "\n",
       "    price                           processor             ram  \\\n",
       "0   62990  Intel Core i5 Processor (11th Gen)  16 GB DDR4 RAM   \n",
       "1  161990     AMD Ryzen 9 Octa Core Processor  16 GB DDR5 RAM   \n",
       "\n",
       "                                   os     storage  \\\n",
       "0         Windows 11 Operating System  512 GB SSD   \n",
       "1  64 bit Windows 11 Operating System    1 TB SSD   \n",
       "\n",
       "                                                                                                                                      img_link  \\\n",
       "0    https://rukminim1.flixcart.com/image/312/312/xif0q/computer/1/b/0/15itl6-thin-and-light-laptop-lenovo-original-imagkwgzafjp33es.jpeg?q=70   \n",
       "1  https://rukminim1.flixcart.com/image/312/312/l58iaa80/computer/e/u/f/ga503rm-hq030ws-gaming-laptop-asus-original-imagfyjedtcx2vfw.jpeg?q=70   \n",
       "\n",
       "   display  rating  no_of_ratings  no_of_reviews laptop_brand os_brand  \\\n",
       "0     15.6     4.5           14.0            1.0       Lenovo  Windows   \n",
       "1     15.6     3.8            5.0            1.0         ASUS  Windows   \n",
       "\n",
       "  processor_brand                usecases  \n",
       "0           Intel   Business/Professional  \n",
       "1             AMD                  Gaming  "
      ]
     },
     "execution_count": 1468,
     "metadata": {},
     "output_type": "execute_result"
    }
   ],
   "source": [
    "laptop.head(2)"
   ]
  },
  {
   "cell_type": "code",
   "execution_count": 1469,
   "metadata": {},
   "outputs": [
    {
     "data": {
      "text/plain": [
       "(796, 16)"
      ]
     },
     "execution_count": 1469,
     "metadata": {},
     "output_type": "execute_result"
    }
   ],
   "source": [
    "laptop.shape #display 796 rows and 16 column"
   ]
  },
  {
   "cell_type": "code",
   "execution_count": 1470,
   "metadata": {},
   "outputs": [
    {
     "data": {
      "text/plain": [
       "Index(['laptop_id', 'name', 'price', 'processor', 'ram', 'os', 'storage',\n",
       "       'img_link', 'display', 'rating', 'no_of_ratings', 'no_of_reviews',\n",
       "       'laptop_brand', 'os_brand', 'processor_brand', 'usecases'],\n",
       "      dtype='object')"
      ]
     },
     "execution_count": 1470,
     "metadata": {},
     "output_type": "execute_result"
    }
   ],
   "source": [
    "laptop.columns #based on these information, we may choose which column that needed"
   ]
  },
  {
   "cell_type": "code",
   "execution_count": 1471,
   "metadata": {},
   "outputs": [],
   "source": [
    "#laptop.merge(other-df, on = 'column') #use this to merge 2 dataset"
   ]
  },
  {
   "cell_type": "markdown",
   "metadata": {},
   "source": [
    "2. DATA PREPROCESSING"
   ]
  },
  {
   "cell_type": "code",
   "execution_count": 1472,
   "metadata": {},
   "outputs": [
    {
     "data": {
      "text/plain": [
       "laptop_id            0\n",
       "name                 0\n",
       "price                0\n",
       "processor            0\n",
       "ram                  0\n",
       "os                   0\n",
       "storage              0\n",
       "img_link             0\n",
       "display              0\n",
       "rating             266\n",
       "no_of_ratings      266\n",
       "no_of_reviews      266\n",
       "laptop_brand         0\n",
       "os_brand             0\n",
       "processor_brand      0\n",
       "usecases             0\n",
       "dtype: int64"
      ]
     },
     "execution_count": 1472,
     "metadata": {},
     "output_type": "execute_result"
    }
   ],
   "source": [
    "#Checking NULL value\n",
    "laptop.isnull().sum()"
   ]
  },
  {
   "cell_type": "code",
   "execution_count": 1473,
   "metadata": {},
   "outputs": [
    {
     "data": {
      "text/plain": [
       "(796, 16)"
      ]
     },
     "execution_count": 1473,
     "metadata": {},
     "output_type": "execute_result"
    }
   ],
   "source": [
    "laptop.shape"
   ]
  },
  {
   "cell_type": "code",
   "execution_count": 1474,
   "metadata": {},
   "outputs": [],
   "source": [
    "laptop.dropna(inplace=True)"
   ]
  },
  {
   "cell_type": "code",
   "execution_count": 1475,
   "metadata": {},
   "outputs": [
    {
     "data": {
      "text/plain": [
       "(530, 16)"
      ]
     },
     "execution_count": 1475,
     "metadata": {},
     "output_type": "execute_result"
    }
   ],
   "source": [
    "laptop.shape #total instances have been reduced"
   ]
  },
  {
   "cell_type": "code",
   "execution_count": 1476,
   "metadata": {},
   "outputs": [
    {
     "data": {
      "text/plain": [
       "laptop_id          0\n",
       "name               0\n",
       "price              0\n",
       "processor          0\n",
       "ram                0\n",
       "os                 0\n",
       "storage            0\n",
       "img_link           0\n",
       "display            0\n",
       "rating             0\n",
       "no_of_ratings      0\n",
       "no_of_reviews      0\n",
       "laptop_brand       0\n",
       "os_brand           0\n",
       "processor_brand    0\n",
       "usecases           0\n",
       "dtype: int64"
      ]
     },
     "execution_count": 1476,
     "metadata": {},
     "output_type": "execute_result"
    }
   ],
   "source": [
    "laptop.isnull().sum()"
   ]
  },
  {
   "cell_type": "code",
   "execution_count": 1477,
   "metadata": {},
   "outputs": [
    {
     "data": {
      "text/plain": [
       "0"
      ]
     },
     "execution_count": 1477,
     "metadata": {},
     "output_type": "execute_result"
    }
   ],
   "source": [
    "#Checking duplicate value\n",
    "laptop.duplicated().sum() #if 0 means no duplicate value"
   ]
  },
  {
   "cell_type": "markdown",
   "metadata": {},
   "source": [
    "3. Data Transformation"
   ]
  },
  {
   "cell_type": "code",
   "execution_count": 1478,
   "metadata": {},
   "outputs": [],
   "source": [
    "#Price Conversion\n",
    "laptop['price_rm'] = laptop['price'] * 0.055   #add one more column that price in RM"
   ]
  },
  {
   "cell_type": "code",
   "execution_count": 1479,
   "metadata": {},
   "outputs": [
    {
     "data": {
      "text/html": [
       "<div>\n",
       "<style scoped>\n",
       "    .dataframe tbody tr th:only-of-type {\n",
       "        vertical-align: middle;\n",
       "    }\n",
       "\n",
       "    .dataframe tbody tr th {\n",
       "        vertical-align: top;\n",
       "    }\n",
       "\n",
       "    .dataframe thead th {\n",
       "        text-align: right;\n",
       "    }\n",
       "</style>\n",
       "<table border=\"1\" class=\"dataframe\">\n",
       "  <thead>\n",
       "    <tr style=\"text-align: right;\">\n",
       "      <th></th>\n",
       "      <th>price</th>\n",
       "      <th>price_rm</th>\n",
       "    </tr>\n",
       "  </thead>\n",
       "  <tbody>\n",
       "    <tr>\n",
       "      <th>0</th>\n",
       "      <td>62990</td>\n",
       "      <td>3464.45</td>\n",
       "    </tr>\n",
       "    <tr>\n",
       "      <th>1</th>\n",
       "      <td>161990</td>\n",
       "      <td>8909.45</td>\n",
       "    </tr>\n",
       "  </tbody>\n",
       "</table>\n",
       "</div>"
      ],
      "text/plain": [
       "    price  price_rm\n",
       "0   62990   3464.45\n",
       "1  161990   8909.45"
      ]
     },
     "execution_count": 1479,
     "metadata": {},
     "output_type": "execute_result"
    }
   ],
   "source": [
    "laptop[['price', 'price_rm']].head(2)  # Check the original and new price columns"
   ]
  },
  {
   "cell_type": "code",
   "execution_count": 1480,
   "metadata": {},
   "outputs": [],
   "source": [
    "laptop.drop(columns=['price'], inplace=True) #To drop column"
   ]
  },
  {
   "cell_type": "code",
   "execution_count": 1481,
   "metadata": {},
   "outputs": [],
   "source": [
    "new_csv = laptop[['laptop_id','img_link','name','price_rm','laptop_brand','usecases', 'processor','ram', 'os', 'storage']]\t"
   ]
  },
  {
   "cell_type": "code",
   "execution_count": 1482,
   "metadata": {},
   "outputs": [
    {
     "data": {
      "text/plain": [
       "(530, 10)"
      ]
     },
     "execution_count": 1482,
     "metadata": {},
     "output_type": "execute_result"
    }
   ],
   "source": [
    "new_csv.shape #reduced dataset, same as laptops"
   ]
  },
  {
   "cell_type": "code",
   "execution_count": 1483,
   "metadata": {},
   "outputs": [
    {
     "name": "stderr",
     "output_type": "stream",
     "text": [
      "C:\\Users\\aiman\\AppData\\Local\\Temp\\ipykernel_21680\\3008621298.py:1: SettingWithCopyWarning: \n",
      "A value is trying to be set on a copy of a slice from a DataFrame\n",
      "\n",
      "See the caveats in the documentation: https://pandas.pydata.org/pandas-docs/stable/user_guide/indexing.html#returning-a-view-versus-a-copy\n",
      "  new_csv.rename(columns={'price_rm': 'price', 'laptop_brand': 'brand', 'usecases': 'use'}, inplace=True)\n"
     ]
    }
   ],
   "source": [
    "new_csv.rename(columns={'price_rm': 'price', 'laptop_brand': 'brand', 'usecases': 'use'}, inplace=True)"
   ]
  },
  {
   "cell_type": "code",
   "execution_count": 1484,
   "metadata": {},
   "outputs": [
    {
     "data": {
      "text/html": [
       "<div>\n",
       "<style scoped>\n",
       "    .dataframe tbody tr th:only-of-type {\n",
       "        vertical-align: middle;\n",
       "    }\n",
       "\n",
       "    .dataframe tbody tr th {\n",
       "        vertical-align: top;\n",
       "    }\n",
       "\n",
       "    .dataframe thead th {\n",
       "        text-align: right;\n",
       "    }\n",
       "</style>\n",
       "<table border=\"1\" class=\"dataframe\">\n",
       "  <thead>\n",
       "    <tr style=\"text-align: right;\">\n",
       "      <th></th>\n",
       "      <th>laptop_id</th>\n",
       "      <th>name</th>\n",
       "      <th>processor</th>\n",
       "      <th>ram</th>\n",
       "      <th>os</th>\n",
       "      <th>storage</th>\n",
       "      <th>img_link</th>\n",
       "      <th>display</th>\n",
       "      <th>rating</th>\n",
       "      <th>no_of_ratings</th>\n",
       "      <th>no_of_reviews</th>\n",
       "      <th>laptop_brand</th>\n",
       "      <th>os_brand</th>\n",
       "      <th>processor_brand</th>\n",
       "      <th>usecases</th>\n",
       "      <th>price_rm</th>\n",
       "    </tr>\n",
       "  </thead>\n",
       "  <tbody>\n",
       "    <tr>\n",
       "      <th>0</th>\n",
       "      <td>0</td>\n",
       "      <td>Lenovo Intel Core i5 11th Gen</td>\n",
       "      <td>Intel Core i5 Processor (11th Gen)</td>\n",
       "      <td>16 GB DDR4 RAM</td>\n",
       "      <td>Windows 11 Operating System</td>\n",
       "      <td>512 GB SSD</td>\n",
       "      <td>https://rukminim1.flixcart.com/image/312/312/xif0q/computer/1/b/0/15itl6-thin-and-light-laptop-lenovo-original-imagkwgzafjp33es.jpeg?q=70</td>\n",
       "      <td>15.6</td>\n",
       "      <td>4.5</td>\n",
       "      <td>14.0</td>\n",
       "      <td>1.0</td>\n",
       "      <td>Lenovo</td>\n",
       "      <td>Windows</td>\n",
       "      <td>Intel</td>\n",
       "      <td>Business/Professional</td>\n",
       "      <td>3464.45</td>\n",
       "    </tr>\n",
       "  </tbody>\n",
       "</table>\n",
       "</div>"
      ],
      "text/plain": [
       "   laptop_id                           name  \\\n",
       "0          0  Lenovo Intel Core i5 11th Gen   \n",
       "\n",
       "                            processor             ram  \\\n",
       "0  Intel Core i5 Processor (11th Gen)  16 GB DDR4 RAM   \n",
       "\n",
       "                            os     storage  \\\n",
       "0  Windows 11 Operating System  512 GB SSD   \n",
       "\n",
       "                                                                                                                                    img_link  \\\n",
       "0  https://rukminim1.flixcart.com/image/312/312/xif0q/computer/1/b/0/15itl6-thin-and-light-laptop-lenovo-original-imagkwgzafjp33es.jpeg?q=70   \n",
       "\n",
       "   display  rating  no_of_ratings  no_of_reviews laptop_brand os_brand  \\\n",
       "0     15.6     4.5           14.0            1.0       Lenovo  Windows   \n",
       "\n",
       "  processor_brand                usecases  price_rm  \n",
       "0           Intel   Business/Professional   3464.45  "
      ]
     },
     "execution_count": 1484,
     "metadata": {},
     "output_type": "execute_result"
    }
   ],
   "source": [
    "laptop.head(1)"
   ]
  },
  {
   "cell_type": "code",
   "execution_count": 1485,
   "metadata": {},
   "outputs": [],
   "source": [
    "laptop['processor'] = laptop['processor'].apply(lambda x:x.split())\n",
    "laptop['ram'] = laptop['ram'].apply(lambda x:x.split())\n",
    "laptop['os'] = laptop['os'].apply(lambda x:x.split())\n",
    "laptop['use'] = laptop['usecases'].apply(lambda x:x.split())"
   ]
  },
  {
   "cell_type": "code",
   "execution_count": 1486,
   "metadata": {},
   "outputs": [
    {
     "data": {
      "text/html": [
       "<div>\n",
       "<style scoped>\n",
       "    .dataframe tbody tr th:only-of-type {\n",
       "        vertical-align: middle;\n",
       "    }\n",
       "\n",
       "    .dataframe tbody tr th {\n",
       "        vertical-align: top;\n",
       "    }\n",
       "\n",
       "    .dataframe thead th {\n",
       "        text-align: right;\n",
       "    }\n",
       "</style>\n",
       "<table border=\"1\" class=\"dataframe\">\n",
       "  <thead>\n",
       "    <tr style=\"text-align: right;\">\n",
       "      <th></th>\n",
       "      <th>laptop_id</th>\n",
       "      <th>name</th>\n",
       "      <th>processor</th>\n",
       "      <th>ram</th>\n",
       "      <th>os</th>\n",
       "      <th>storage</th>\n",
       "      <th>img_link</th>\n",
       "      <th>display</th>\n",
       "      <th>rating</th>\n",
       "      <th>no_of_ratings</th>\n",
       "      <th>no_of_reviews</th>\n",
       "      <th>laptop_brand</th>\n",
       "      <th>os_brand</th>\n",
       "      <th>processor_brand</th>\n",
       "      <th>usecases</th>\n",
       "      <th>price_rm</th>\n",
       "      <th>use</th>\n",
       "    </tr>\n",
       "  </thead>\n",
       "  <tbody>\n",
       "    <tr>\n",
       "      <th>0</th>\n",
       "      <td>0</td>\n",
       "      <td>Lenovo Intel Core i5 11th Gen</td>\n",
       "      <td>[Intel, Core, i5, Processor, (11th, Gen)]</td>\n",
       "      <td>[16, GB, DDR4, RAM]</td>\n",
       "      <td>[Windows, 11, Operating, System]</td>\n",
       "      <td>512 GB SSD</td>\n",
       "      <td>https://rukminim1.flixcart.com/image/312/312/xif0q/computer/1/b/0/15itl6-thin-and-light-laptop-lenovo-original-imagkwgzafjp33es.jpeg?q=70</td>\n",
       "      <td>15.6</td>\n",
       "      <td>4.5</td>\n",
       "      <td>14.0</td>\n",
       "      <td>1.0</td>\n",
       "      <td>Lenovo</td>\n",
       "      <td>Windows</td>\n",
       "      <td>Intel</td>\n",
       "      <td>Business/Professional</td>\n",
       "      <td>3464.45</td>\n",
       "      <td>[Business/Professional]</td>\n",
       "    </tr>\n",
       "  </tbody>\n",
       "</table>\n",
       "</div>"
      ],
      "text/plain": [
       "   laptop_id                           name  \\\n",
       "0          0  Lenovo Intel Core i5 11th Gen   \n",
       "\n",
       "                                   processor                  ram  \\\n",
       "0  [Intel, Core, i5, Processor, (11th, Gen)]  [16, GB, DDR4, RAM]   \n",
       "\n",
       "                                 os     storage  \\\n",
       "0  [Windows, 11, Operating, System]  512 GB SSD   \n",
       "\n",
       "                                                                                                                                    img_link  \\\n",
       "0  https://rukminim1.flixcart.com/image/312/312/xif0q/computer/1/b/0/15itl6-thin-and-light-laptop-lenovo-original-imagkwgzafjp33es.jpeg?q=70   \n",
       "\n",
       "   display  rating  no_of_ratings  no_of_reviews laptop_brand os_brand  \\\n",
       "0     15.6     4.5           14.0            1.0       Lenovo  Windows   \n",
       "\n",
       "  processor_brand                usecases  price_rm                      use  \n",
       "0           Intel   Business/Professional   3464.45  [Business/Professional]  "
      ]
     },
     "execution_count": 1486,
     "metadata": {},
     "output_type": "execute_result"
    }
   ],
   "source": [
    "laptop.head(1)"
   ]
  },
  {
   "cell_type": "code",
   "execution_count": 1487,
   "metadata": {},
   "outputs": [
    {
     "data": {
      "text/plain": [
       "['Intel', 'Core', 'i5', 'Processor', '(11th', 'Gen)']"
      ]
     },
     "execution_count": 1487,
     "metadata": {},
     "output_type": "execute_result"
    }
   ],
   "source": [
    "laptop.iloc[0]['processor']"
   ]
  },
  {
   "cell_type": "code",
   "execution_count": 1488,
   "metadata": {},
   "outputs": [
    {
     "data": {
      "text/html": [
       "<div>\n",
       "<style scoped>\n",
       "    .dataframe tbody tr th:only-of-type {\n",
       "        vertical-align: middle;\n",
       "    }\n",
       "\n",
       "    .dataframe tbody tr th {\n",
       "        vertical-align: top;\n",
       "    }\n",
       "\n",
       "    .dataframe thead th {\n",
       "        text-align: right;\n",
       "    }\n",
       "</style>\n",
       "<table border=\"1\" class=\"dataframe\">\n",
       "  <thead>\n",
       "    <tr style=\"text-align: right;\">\n",
       "      <th></th>\n",
       "      <th>laptop_id</th>\n",
       "      <th>name</th>\n",
       "      <th>processor</th>\n",
       "      <th>ram</th>\n",
       "      <th>os</th>\n",
       "      <th>storage</th>\n",
       "      <th>img_link</th>\n",
       "      <th>display</th>\n",
       "      <th>rating</th>\n",
       "      <th>no_of_ratings</th>\n",
       "      <th>no_of_reviews</th>\n",
       "      <th>laptop_brand</th>\n",
       "      <th>os_brand</th>\n",
       "      <th>processor_brand</th>\n",
       "      <th>usecases</th>\n",
       "      <th>price_rm</th>\n",
       "      <th>use</th>\n",
       "    </tr>\n",
       "  </thead>\n",
       "  <tbody>\n",
       "    <tr>\n",
       "      <th>0</th>\n",
       "      <td>0</td>\n",
       "      <td>Lenovo Intel Core i5 11th Gen</td>\n",
       "      <td>[Intel, Core, i5, Processor, (11th, Gen)]</td>\n",
       "      <td>[16, GB, DDR4, RAM]</td>\n",
       "      <td>[Windows, 11, Operating, System]</td>\n",
       "      <td>512 GB SSD</td>\n",
       "      <td>https://rukminim1.flixcart.com/image/312/312/xif0q/computer/1/b/0/15itl6-thin-and-light-laptop-lenovo-original-imagkwgzafjp33es.jpeg?q=70</td>\n",
       "      <td>15.6</td>\n",
       "      <td>4.5</td>\n",
       "      <td>14.0</td>\n",
       "      <td>1.0</td>\n",
       "      <td>Lenovo</td>\n",
       "      <td>Windows</td>\n",
       "      <td>Intel</td>\n",
       "      <td>Business/Professional</td>\n",
       "      <td>3464.45</td>\n",
       "      <td>[Business/Professional]</td>\n",
       "    </tr>\n",
       "    <tr>\n",
       "      <th>1</th>\n",
       "      <td>1</td>\n",
       "      <td>ASUS ROG Zephyrus G15 (2022) with 90Whr Battery Ryzen 9 Octa Core 6900HS</td>\n",
       "      <td>[AMD, Ryzen, 9, Octa, Core, Processor]</td>\n",
       "      <td>[16, GB, DDR5, RAM]</td>\n",
       "      <td>[64, bit, Windows, 11, Operating, System]</td>\n",
       "      <td>1 TB SSD</td>\n",
       "      <td>https://rukminim1.flixcart.com/image/312/312/l58iaa80/computer/e/u/f/ga503rm-hq030ws-gaming-laptop-asus-original-imagfyjedtcx2vfw.jpeg?q=70</td>\n",
       "      <td>15.6</td>\n",
       "      <td>3.8</td>\n",
       "      <td>5.0</td>\n",
       "      <td>1.0</td>\n",
       "      <td>ASUS</td>\n",
       "      <td>Windows</td>\n",
       "      <td>AMD</td>\n",
       "      <td>Gaming</td>\n",
       "      <td>8909.45</td>\n",
       "      <td>[Gaming]</td>\n",
       "    </tr>\n",
       "  </tbody>\n",
       "</table>\n",
       "</div>"
      ],
      "text/plain": [
       "   laptop_id  \\\n",
       "0          0   \n",
       "1          1   \n",
       "\n",
       "                                                                       name  \\\n",
       "0                                             Lenovo Intel Core i5 11th Gen   \n",
       "1  ASUS ROG Zephyrus G15 (2022) with 90Whr Battery Ryzen 9 Octa Core 6900HS   \n",
       "\n",
       "                                   processor                  ram  \\\n",
       "0  [Intel, Core, i5, Processor, (11th, Gen)]  [16, GB, DDR4, RAM]   \n",
       "1     [AMD, Ryzen, 9, Octa, Core, Processor]  [16, GB, DDR5, RAM]   \n",
       "\n",
       "                                          os     storage  \\\n",
       "0           [Windows, 11, Operating, System]  512 GB SSD   \n",
       "1  [64, bit, Windows, 11, Operating, System]    1 TB SSD   \n",
       "\n",
       "                                                                                                                                      img_link  \\\n",
       "0    https://rukminim1.flixcart.com/image/312/312/xif0q/computer/1/b/0/15itl6-thin-and-light-laptop-lenovo-original-imagkwgzafjp33es.jpeg?q=70   \n",
       "1  https://rukminim1.flixcart.com/image/312/312/l58iaa80/computer/e/u/f/ga503rm-hq030ws-gaming-laptop-asus-original-imagfyjedtcx2vfw.jpeg?q=70   \n",
       "\n",
       "   display  rating  no_of_ratings  no_of_reviews laptop_brand os_brand  \\\n",
       "0     15.6     4.5           14.0            1.0       Lenovo  Windows   \n",
       "1     15.6     3.8            5.0            1.0         ASUS  Windows   \n",
       "\n",
       "  processor_brand                usecases  price_rm                      use  \n",
       "0           Intel   Business/Professional   3464.45  [Business/Professional]  \n",
       "1             AMD                  Gaming   8909.45                 [Gaming]  "
      ]
     },
     "execution_count": 1488,
     "metadata": {},
     "output_type": "execute_result"
    }
   ],
   "source": [
    "laptop.head(2)"
   ]
  },
  {
   "cell_type": "code",
   "execution_count": 1489,
   "metadata": {},
   "outputs": [],
   "source": [
    "#Tag column creation\n",
    "#use concatenate \n",
    "laptop['tags'] = laptop['processor']+laptop['ram']+laptop['os']+laptop['use']"
   ]
  },
  {
   "cell_type": "code",
   "execution_count": 1490,
   "metadata": {},
   "outputs": [
    {
     "data": {
      "text/plain": [
       "(530, 18)"
      ]
     },
     "execution_count": 1490,
     "metadata": {},
     "output_type": "execute_result"
    }
   ],
   "source": [
    "laptop.shape"
   ]
  },
  {
   "cell_type": "code",
   "execution_count": 1491,
   "metadata": {},
   "outputs": [],
   "source": [
    "#new = laptop[['laptop_id','img_link','name','price_rm','laptop_brand','use','tags', 'processor','ram', 'os', 'storage']]\t\n",
    "\n",
    "new = laptop[['laptop_id','name','tags', 'img_link', 'price_rm','laptop_brand','usecases', 'processor','ram', 'os', 'storage']] #create a new df and only store 3 specs/attributes"
   ]
  },
  {
   "cell_type": "code",
   "execution_count": 1492,
   "metadata": {},
   "outputs": [
    {
     "name": "stderr",
     "output_type": "stream",
     "text": [
      "C:\\Users\\aiman\\AppData\\Local\\Temp\\ipykernel_21680\\303086359.py:1: SettingWithCopyWarning: \n",
      "A value is trying to be set on a copy of a slice from a DataFrame\n",
      "\n",
      "See the caveats in the documentation: https://pandas.pydata.org/pandas-docs/stable/user_guide/indexing.html#returning-a-view-versus-a-copy\n",
      "  new.rename(columns={'price_rm': 'price', 'laptop_brand': 'brand', 'usecases': 'use'}, inplace=True)\n"
     ]
    }
   ],
   "source": [
    "new.rename(columns={'price_rm': 'price', 'laptop_brand': 'brand', 'usecases': 'use'}, inplace=True)"
   ]
  },
  {
   "cell_type": "code",
   "execution_count": 1493,
   "metadata": {},
   "outputs": [
    {
     "data": {
      "text/plain": [
       "(530, 11)"
      ]
     },
     "execution_count": 1493,
     "metadata": {},
     "output_type": "execute_result"
    }
   ],
   "source": [
    "new.shape"
   ]
  },
  {
   "cell_type": "code",
   "execution_count": 1494,
   "metadata": {},
   "outputs": [
    {
     "data": {
      "text/html": [
       "<div>\n",
       "<style scoped>\n",
       "    .dataframe tbody tr th:only-of-type {\n",
       "        vertical-align: middle;\n",
       "    }\n",
       "\n",
       "    .dataframe tbody tr th {\n",
       "        vertical-align: top;\n",
       "    }\n",
       "\n",
       "    .dataframe thead th {\n",
       "        text-align: right;\n",
       "    }\n",
       "</style>\n",
       "<table border=\"1\" class=\"dataframe\">\n",
       "  <thead>\n",
       "    <tr style=\"text-align: right;\">\n",
       "      <th></th>\n",
       "      <th>laptop_id</th>\n",
       "      <th>name</th>\n",
       "      <th>tags</th>\n",
       "      <th>img_link</th>\n",
       "      <th>price</th>\n",
       "      <th>brand</th>\n",
       "      <th>use</th>\n",
       "      <th>processor</th>\n",
       "      <th>ram</th>\n",
       "      <th>os</th>\n",
       "      <th>storage</th>\n",
       "    </tr>\n",
       "  </thead>\n",
       "  <tbody>\n",
       "    <tr>\n",
       "      <th>0</th>\n",
       "      <td>0</td>\n",
       "      <td>Lenovo Intel Core i5 11th Gen</td>\n",
       "      <td>[Intel, Core, i5, Processor, (11th, Gen), 16, GB, DDR4, RAM, Windows, 11, Operating, System, Business/Professional]</td>\n",
       "      <td>https://rukminim1.flixcart.com/image/312/312/xif0q/computer/1/b/0/15itl6-thin-and-light-laptop-lenovo-original-imagkwgzafjp33es.jpeg?q=70</td>\n",
       "      <td>3464.45</td>\n",
       "      <td>Lenovo</td>\n",
       "      <td>Business/Professional</td>\n",
       "      <td>[Intel, Core, i5, Processor, (11th, Gen)]</td>\n",
       "      <td>[16, GB, DDR4, RAM]</td>\n",
       "      <td>[Windows, 11, Operating, System]</td>\n",
       "      <td>512 GB SSD</td>\n",
       "    </tr>\n",
       "    <tr>\n",
       "      <th>1</th>\n",
       "      <td>1</td>\n",
       "      <td>ASUS ROG Zephyrus G15 (2022) with 90Whr Battery Ryzen 9 Octa Core 6900HS</td>\n",
       "      <td>[AMD, Ryzen, 9, Octa, Core, Processor, 16, GB, DDR5, RAM, 64, bit, Windows, 11, Operating, System, Gaming]</td>\n",
       "      <td>https://rukminim1.flixcart.com/image/312/312/l58iaa80/computer/e/u/f/ga503rm-hq030ws-gaming-laptop-asus-original-imagfyjedtcx2vfw.jpeg?q=70</td>\n",
       "      <td>8909.45</td>\n",
       "      <td>ASUS</td>\n",
       "      <td>Gaming</td>\n",
       "      <td>[AMD, Ryzen, 9, Octa, Core, Processor]</td>\n",
       "      <td>[16, GB, DDR5, RAM]</td>\n",
       "      <td>[64, bit, Windows, 11, Operating, System]</td>\n",
       "      <td>1 TB SSD</td>\n",
       "    </tr>\n",
       "  </tbody>\n",
       "</table>\n",
       "</div>"
      ],
      "text/plain": [
       "   laptop_id  \\\n",
       "0          0   \n",
       "1          1   \n",
       "\n",
       "                                                                       name  \\\n",
       "0                                             Lenovo Intel Core i5 11th Gen   \n",
       "1  ASUS ROG Zephyrus G15 (2022) with 90Whr Battery Ryzen 9 Octa Core 6900HS   \n",
       "\n",
       "                                                                                                                  tags  \\\n",
       "0  [Intel, Core, i5, Processor, (11th, Gen), 16, GB, DDR4, RAM, Windows, 11, Operating, System, Business/Professional]   \n",
       "1           [AMD, Ryzen, 9, Octa, Core, Processor, 16, GB, DDR5, RAM, 64, bit, Windows, 11, Operating, System, Gaming]   \n",
       "\n",
       "                                                                                                                                      img_link  \\\n",
       "0    https://rukminim1.flixcart.com/image/312/312/xif0q/computer/1/b/0/15itl6-thin-and-light-laptop-lenovo-original-imagkwgzafjp33es.jpeg?q=70   \n",
       "1  https://rukminim1.flixcart.com/image/312/312/l58iaa80/computer/e/u/f/ga503rm-hq030ws-gaming-laptop-asus-original-imagfyjedtcx2vfw.jpeg?q=70   \n",
       "\n",
       "     price   brand                     use  \\\n",
       "0  3464.45  Lenovo   Business/Professional   \n",
       "1  8909.45    ASUS                  Gaming   \n",
       "\n",
       "                                   processor                  ram  \\\n",
       "0  [Intel, Core, i5, Processor, (11th, Gen)]  [16, GB, DDR4, RAM]   \n",
       "1     [AMD, Ryzen, 9, Octa, Core, Processor]  [16, GB, DDR5, RAM]   \n",
       "\n",
       "                                          os     storage  \n",
       "0           [Windows, 11, Operating, System]  512 GB SSD  \n",
       "1  [64, bit, Windows, 11, Operating, System]    1 TB SSD  "
      ]
     },
     "execution_count": 1494,
     "metadata": {},
     "output_type": "execute_result"
    }
   ],
   "source": [
    "new.head(2)"
   ]
  },
  {
   "cell_type": "code",
   "execution_count": 1495,
   "metadata": {},
   "outputs": [
    {
     "name": "stderr",
     "output_type": "stream",
     "text": [
      "C:\\Users\\aiman\\AppData\\Local\\Temp\\ipykernel_21680\\3566823600.py:1: SettingWithCopyWarning: \n",
      "A value is trying to be set on a copy of a slice from a DataFrame.\n",
      "Try using .loc[row_indexer,col_indexer] = value instead\n",
      "\n",
      "See the caveats in the documentation: https://pandas.pydata.org/pandas-docs/stable/user_guide/indexing.html#returning-a-view-versus-a-copy\n",
      "  new['tags'] = new['tags'].apply(lambda x:\" \".join(x)) #convert tags into paragraph format\n"
     ]
    }
   ],
   "source": [
    "new['tags'] = new['tags'].apply(lambda x:\" \".join(x)) #convert tags into paragraph format"
   ]
  },
  {
   "cell_type": "code",
   "execution_count": 1496,
   "metadata": {},
   "outputs": [
    {
     "name": "stderr",
     "output_type": "stream",
     "text": [
      "C:\\Users\\aiman\\AppData\\Local\\Temp\\ipykernel_21680\\1279253556.py:1: SettingWithCopyWarning: \n",
      "A value is trying to be set on a copy of a slice from a DataFrame.\n",
      "Try using .loc[row_indexer,col_indexer] = value instead\n",
      "\n",
      "See the caveats in the documentation: https://pandas.pydata.org/pandas-docs/stable/user_guide/indexing.html#returning-a-view-versus-a-copy\n",
      "  new['tags'] = new['tags'].apply(lambda x:x.lower()) #convert tags into small letter\n"
     ]
    }
   ],
   "source": [
    "new['tags'] = new['tags'].apply(lambda x:x.lower()) #convert tags into small letter"
   ]
  },
  {
   "cell_type": "code",
   "execution_count": 1497,
   "metadata": {},
   "outputs": [
    {
     "data": {
      "text/html": [
       "<div>\n",
       "<style scoped>\n",
       "    .dataframe tbody tr th:only-of-type {\n",
       "        vertical-align: middle;\n",
       "    }\n",
       "\n",
       "    .dataframe tbody tr th {\n",
       "        vertical-align: top;\n",
       "    }\n",
       "\n",
       "    .dataframe thead th {\n",
       "        text-align: right;\n",
       "    }\n",
       "</style>\n",
       "<table border=\"1\" class=\"dataframe\">\n",
       "  <thead>\n",
       "    <tr style=\"text-align: right;\">\n",
       "      <th></th>\n",
       "      <th>laptop_id</th>\n",
       "      <th>name</th>\n",
       "      <th>tags</th>\n",
       "      <th>img_link</th>\n",
       "      <th>price</th>\n",
       "      <th>brand</th>\n",
       "      <th>use</th>\n",
       "      <th>processor</th>\n",
       "      <th>ram</th>\n",
       "      <th>os</th>\n",
       "      <th>storage</th>\n",
       "    </tr>\n",
       "  </thead>\n",
       "  <tbody>\n",
       "    <tr>\n",
       "      <th>0</th>\n",
       "      <td>0</td>\n",
       "      <td>Lenovo Intel Core i5 11th Gen</td>\n",
       "      <td>intel core i5 processor (11th gen) 16 gb ddr4 ram windows 11 operating system business/professional</td>\n",
       "      <td>https://rukminim1.flixcart.com/image/312/312/xif0q/computer/1/b/0/15itl6-thin-and-light-laptop-lenovo-original-imagkwgzafjp33es.jpeg?q=70</td>\n",
       "      <td>3464.45</td>\n",
       "      <td>Lenovo</td>\n",
       "      <td>Business/Professional</td>\n",
       "      <td>[Intel, Core, i5, Processor, (11th, Gen)]</td>\n",
       "      <td>[16, GB, DDR4, RAM]</td>\n",
       "      <td>[Windows, 11, Operating, System]</td>\n",
       "      <td>512 GB SSD</td>\n",
       "    </tr>\n",
       "    <tr>\n",
       "      <th>1</th>\n",
       "      <td>1</td>\n",
       "      <td>ASUS ROG Zephyrus G15 (2022) with 90Whr Battery Ryzen 9 Octa Core 6900HS</td>\n",
       "      <td>amd ryzen 9 octa core processor 16 gb ddr5 ram 64 bit windows 11 operating system gaming</td>\n",
       "      <td>https://rukminim1.flixcart.com/image/312/312/l58iaa80/computer/e/u/f/ga503rm-hq030ws-gaming-laptop-asus-original-imagfyjedtcx2vfw.jpeg?q=70</td>\n",
       "      <td>8909.45</td>\n",
       "      <td>ASUS</td>\n",
       "      <td>Gaming</td>\n",
       "      <td>[AMD, Ryzen, 9, Octa, Core, Processor]</td>\n",
       "      <td>[16, GB, DDR5, RAM]</td>\n",
       "      <td>[64, bit, Windows, 11, Operating, System]</td>\n",
       "      <td>1 TB SSD</td>\n",
       "    </tr>\n",
       "  </tbody>\n",
       "</table>\n",
       "</div>"
      ],
      "text/plain": [
       "   laptop_id  \\\n",
       "0          0   \n",
       "1          1   \n",
       "\n",
       "                                                                       name  \\\n",
       "0                                             Lenovo Intel Core i5 11th Gen   \n",
       "1  ASUS ROG Zephyrus G15 (2022) with 90Whr Battery Ryzen 9 Octa Core 6900HS   \n",
       "\n",
       "                                                                                                  tags  \\\n",
       "0  intel core i5 processor (11th gen) 16 gb ddr4 ram windows 11 operating system business/professional   \n",
       "1             amd ryzen 9 octa core processor 16 gb ddr5 ram 64 bit windows 11 operating system gaming   \n",
       "\n",
       "                                                                                                                                      img_link  \\\n",
       "0    https://rukminim1.flixcart.com/image/312/312/xif0q/computer/1/b/0/15itl6-thin-and-light-laptop-lenovo-original-imagkwgzafjp33es.jpeg?q=70   \n",
       "1  https://rukminim1.flixcart.com/image/312/312/l58iaa80/computer/e/u/f/ga503rm-hq030ws-gaming-laptop-asus-original-imagfyjedtcx2vfw.jpeg?q=70   \n",
       "\n",
       "     price   brand                     use  \\\n",
       "0  3464.45  Lenovo   Business/Professional   \n",
       "1  8909.45    ASUS                  Gaming   \n",
       "\n",
       "                                   processor                  ram  \\\n",
       "0  [Intel, Core, i5, Processor, (11th, Gen)]  [16, GB, DDR4, RAM]   \n",
       "1     [AMD, Ryzen, 9, Octa, Core, Processor]  [16, GB, DDR5, RAM]   \n",
       "\n",
       "                                          os     storage  \n",
       "0           [Windows, 11, Operating, System]  512 GB SSD  \n",
       "1  [64, bit, Windows, 11, Operating, System]    1 TB SSD  "
      ]
     },
     "execution_count": 1497,
     "metadata": {},
     "output_type": "execute_result"
    }
   ],
   "source": [
    "new.head(2)"
   ]
  },
  {
   "cell_type": "markdown",
   "metadata": {},
   "source": [
    "4. TF IDF"
   ]
  },
  {
   "cell_type": "code",
   "execution_count": 1498,
   "metadata": {},
   "outputs": [],
   "source": [
    "#use stem to reduce words in the tags column to their base or root forms. For example, \"running\" might be reduced to \"run.\"\n",
    "import nltk\n",
    "from nltk.stem import PorterStemmer\n",
    "\n",
    "ps = PorterStemmer()"
   ]
  },
  {
   "cell_type": "code",
   "execution_count": 1499,
   "metadata": {},
   "outputs": [],
   "source": [
    "def stem(text):\n",
    "    l=[]\n",
    "    for i in text.split():\n",
    "        l.append(ps.stem(i))\n",
    "\n",
    "    return \" \".join(l)"
   ]
  },
  {
   "cell_type": "code",
   "execution_count": 1500,
   "metadata": {},
   "outputs": [
    {
     "name": "stderr",
     "output_type": "stream",
     "text": [
      "C:\\Users\\aiman\\AppData\\Local\\Temp\\ipykernel_21680\\1164172309.py:1: SettingWithCopyWarning: \n",
      "A value is trying to be set on a copy of a slice from a DataFrame.\n",
      "Try using .loc[row_indexer,col_indexer] = value instead\n",
      "\n",
      "See the caveats in the documentation: https://pandas.pydata.org/pandas-docs/stable/user_guide/indexing.html#returning-a-view-versus-a-copy\n",
      "  new['tags'] = new['tags'].apply(stem)\n"
     ]
    }
   ],
   "source": [
    "new['tags'] = new['tags'].apply(stem)"
   ]
  },
  {
   "cell_type": "code",
   "execution_count": 1501,
   "metadata": {},
   "outputs": [
    {
     "data": {
      "text/plain": [
       "'intel core i5 processor (11th gen) 16 gb ddr4 ram window 11 oper system business/profession'"
      ]
     },
     "execution_count": 1501,
     "metadata": {},
     "output_type": "execute_result"
    }
   ],
   "source": [
    "new.iloc[0]['tags']"
   ]
  },
  {
   "cell_type": "code",
   "execution_count": 1502,
   "metadata": {},
   "outputs": [],
   "source": [
    "#use vectorizer to vectorise the tags\n",
    "from sklearn.feature_extraction.text import CountVectorizer\n",
    "cv = CountVectorizer(max_features=5000, stop_words='english')\n",
    "\n",
    "#max feature means can consider 5000 frequent word\n",
    "#stop word will remove word 'in', 'the, etc, word that dont have meaning"
   ]
  },
  {
   "cell_type": "code",
   "execution_count": 1503,
   "metadata": {},
   "outputs": [],
   "source": [
    "vector = cv.fit_transform(new['tags']).toarray()"
   ]
  },
  {
   "cell_type": "code",
   "execution_count": 1504,
   "metadata": {},
   "outputs": [
    {
     "data": {
      "text/plain": [
       "array([[0, 0, 1, ..., 0, 0, 1],\n",
       "       [0, 0, 1, ..., 0, 0, 1],\n",
       "       [0, 1, 1, ..., 0, 1, 1],\n",
       "       ...,\n",
       "       [0, 0, 1, ..., 0, 0, 1],\n",
       "       [0, 0, 1, ..., 0, 0, 1],\n",
       "       [0, 0, 1, ..., 0, 0, 1]], dtype=int64)"
      ]
     },
     "execution_count": 1504,
     "metadata": {},
     "output_type": "execute_result"
    }
   ],
   "source": [
    "vector"
   ]
  },
  {
   "cell_type": "code",
   "execution_count": 1505,
   "metadata": {},
   "outputs": [
    {
     "data": {
      "text/plain": [
       "(530, 77)"
      ]
     },
     "execution_count": 1505,
     "metadata": {},
     "output_type": "execute_result"
    }
   ],
   "source": [
    "vector.shape"
   ]
  },
  {
   "cell_type": "markdown",
   "metadata": {},
   "source": [
    "5. COSINE SIMILARITY"
   ]
  },
  {
   "cell_type": "code",
   "execution_count": 1506,
   "metadata": {},
   "outputs": [],
   "source": [
    "from sklearn.metrics.pairwise import cosine_similarity"
   ]
  },
  {
   "cell_type": "code",
   "execution_count": 1507,
   "metadata": {},
   "outputs": [],
   "source": [
    "similarity = cosine_similarity(vector)"
   ]
  },
  {
   "cell_type": "code",
   "execution_count": 1508,
   "metadata": {},
   "outputs": [
    {
     "data": {
      "text/plain": [
       "array([[1.        , 0.53333333, 0.62622429, ..., 0.6       , 0.59628479,\n",
       "        0.83914639],\n",
       "       [0.53333333, 1.        , 0.56360186, ..., 0.6       , 0.74535599,\n",
       "        0.5809475 ],\n",
       "       [0.62622429, 0.56360186, 1.        , ..., 0.68884672, 0.56011203,\n",
       "        0.78824078],\n",
       "       ...,\n",
       "       [0.6       , 0.6       , 0.68884672, ..., 1.        , 0.59628479,\n",
       "        0.71004695],\n",
       "       [0.59628479, 0.74535599, 0.56011203, ..., 0.59628479, 1.        ,\n",
       "        0.57735027],\n",
       "       [0.83914639, 0.5809475 , 0.78824078, ..., 0.71004695, 0.57735027,\n",
       "        1.        ]])"
      ]
     },
     "execution_count": 1508,
     "metadata": {},
     "output_type": "execute_result"
    }
   ],
   "source": [
    "similarity #similarity = distance"
   ]
  },
  {
   "cell_type": "code",
   "execution_count": 1509,
   "metadata": {},
   "outputs": [
    {
     "data": {
      "text/plain": [
       "(530, 530)"
      ]
     },
     "execution_count": 1509,
     "metadata": {},
     "output_type": "execute_result"
    }
   ],
   "source": [
    "similarity.shape "
   ]
  },
  {
   "cell_type": "code",
   "execution_count": 1510,
   "metadata": {},
   "outputs": [
    {
     "data": {
      "text/plain": [
       "(530, 11)"
      ]
     },
     "execution_count": 1510,
     "metadata": {},
     "output_type": "execute_result"
    }
   ],
   "source": [
    "new.shape"
   ]
  },
  {
   "cell_type": "code",
   "execution_count": 1511,
   "metadata": {},
   "outputs": [
    {
     "data": {
      "text/plain": [
       "array([1.        , 0.53333333, 0.62622429, 0.46709937, 0.38924947,\n",
       "       0.6       , 0.68884672, 0.96609178, 0.51639778, 0.87671401,\n",
       "       0.83914639, 0.93333333, 0.89708523, 0.62622429, 0.68884672,\n",
       "       0.71004695, 0.66666667, 0.68884672, 0.38924947, 0.62622429,\n",
       "       0.90369611, 0.66666667, 0.68884672, 0.82807867, 0.53333333,\n",
       "       0.83914639, 0.66666667, 0.53333333, 0.83914639, 1.        ,\n",
       "       0.53333333, 0.5809475 , 0.83914639, 0.83914639, 0.50128041,\n",
       "       0.66666667, 0.77459667, 0.90369611, 0.62622429, 0.64549722,\n",
       "       0.87671401, 0.83914639, 0.55205245, 0.68884672, 0.53333333,\n",
       "       0.87671401, 0.68884672, 0.90369611, 0.6       , 0.55205245,\n",
       "       0.77459667, 0.89708523, 0.55205245, 0.38924947, 0.93933644,\n",
       "       0.55205245, 0.82807867, 0.83914639, 0.4472136 , 0.4472136 ,\n",
       "       0.77459667, 0.5809475 , 0.71004695, 0.48304589, 0.87671401,\n",
       "       0.53333333, 0.51639778, 0.77459667, 0.83914639, 0.83914639,\n",
       "       0.71611487, 0.96609178, 0.51639778, 0.83914639, 0.77459667,\n",
       "       0.6       , 0.87671401, 0.4472136 , 0.4472136 , 0.4472136 ,\n",
       "       0.87671401, 0.6       , 0.83914639, 0.83914639, 0.86666667,\n",
       "       0.71004695, 0.6       , 0.71004695, 0.55205245, 0.59628479,\n",
       "       0.93933644, 0.90369611, 0.87671401, 0.83914639, 0.64549722,\n",
       "       0.83914639, 0.87671401, 0.77459667, 0.87671401, 0.89708523,\n",
       "       0.6       , 0.73333333, 0.71004695, 0.83914639, 0.71004695,\n",
       "       0.71004695, 0.59628479, 0.78772636, 0.87671401, 0.53333333,\n",
       "       0.41403934, 0.66666667, 0.6       , 0.83914639, 0.68884672,\n",
       "       0.5809475 , 0.73333333, 0.53333333, 0.83914639, 0.77459667,\n",
       "       0.96609178, 0.77459667, 0.55205245, 0.73333333, 0.81409158,\n",
       "       0.68884672, 0.62622429, 0.53333333, 0.86666667, 0.5809475 ,\n",
       "       0.73333333, 0.5809475 , 0.68884672, 0.34503278, 0.62622429,\n",
       "       0.5809475 , 0.90369611, 0.71004695, 0.51639778, 0.51639778,\n",
       "       0.53333333, 0.56360186, 0.2981424 , 0.55205245, 0.53333333,\n",
       "       0.6       , 0.68884672, 0.68884672, 0.4472136 , 0.68884672,\n",
       "       0.66666667, 0.79115481, 0.68884672, 0.71004695, 0.51639778,\n",
       "       0.38924947, 0.75146915, 0.51639778, 0.77459667, 0.79115481,\n",
       "       0.75146915, 0.4472136 , 0.73333333, 0.75146915, 0.53333333,\n",
       "       0.75907212, 0.64549722, 0.5728919 , 0.73029674, 0.55205245,\n",
       "       0.38924947, 0.64450339, 0.77459667, 0.66666667, 0.5809475 ,\n",
       "       0.77459667, 0.73029674, 0.53333333, 0.48304589, 0.34503278,\n",
       "       0.51639778, 0.68884672, 0.71004695, 0.64549722, 0.62622429,\n",
       "       0.8       , 0.6       , 0.55205245, 0.45184806, 0.38729833,\n",
       "       0.5809475 , 0.5809475 , 0.62622429, 0.64450339, 0.6       ,\n",
       "       0.2981424 , 0.93933644, 0.73333333, 0.38924947, 0.64549722,\n",
       "       0.75146915, 0.6       , 0.48304589, 0.38924947, 0.53333333,\n",
       "       0.64549722, 0.71004695, 0.8       , 0.71004695, 0.46709937,\n",
       "       0.73333333, 0.48304589, 0.53333333, 0.46666667, 0.55205245,\n",
       "       0.71004695, 0.64549722, 0.64549722, 0.64549722, 0.6       ,\n",
       "       0.38924947, 0.46666667, 0.5809475 , 0.55205245, 0.51639778,\n",
       "       0.53333333, 0.55205245, 0.77459667, 0.51639778, 0.34503278,\n",
       "       0.66666667, 0.73333333, 0.75907212, 0.69006556, 0.75146915,\n",
       "       0.68884672, 0.68884672, 0.68884672, 0.64549722, 0.71004695,\n",
       "       0.5809475 , 0.77459667, 0.64549722, 0.6       , 0.64549722,\n",
       "       0.75146915, 0.64549722, 0.53333333, 0.75146915, 0.62622429,\n",
       "       0.62622429, 0.5809475 , 0.71004695, 0.34503278, 0.66666667,\n",
       "       0.66666667, 0.64549722, 0.45184806, 0.68884672, 0.71004695,\n",
       "       0.53333333, 0.93333333, 0.8       , 0.6       , 0.64549722,\n",
       "       0.64549722, 0.71004695, 0.56360186, 0.68884672, 0.68884672,\n",
       "       0.48304589, 0.34503278, 0.66666667, 0.5809475 , 0.66666667,\n",
       "       0.5809475 , 0.64549722, 0.48304589, 0.51639778, 0.51639778,\n",
       "       0.62622429, 0.51639778, 0.53333333, 0.73333333, 0.81409158,\n",
       "       0.56360186, 0.64549722, 0.62622429, 0.71004695, 0.62622429,\n",
       "       0.55205245, 0.77459667, 0.64549722, 0.53333333, 0.68884672,\n",
       "       0.73333333, 0.56360186, 0.55205245, 0.6       , 0.71004695,\n",
       "       0.6       , 0.62622429, 0.6       , 0.93333333, 0.62622429,\n",
       "       0.6       , 0.64549722, 0.66666667, 0.75907212, 0.64549722,\n",
       "       0.62622429, 0.53333333, 0.78772636, 0.68884672, 0.73333333,\n",
       "       0.5728919 , 0.55205245, 0.45184806, 0.77459667, 0.71004695,\n",
       "       0.53333333, 0.66666667, 0.56360186, 0.45184806, 0.51639778,\n",
       "       0.5809475 , 0.71004695, 0.45184806, 0.71004695, 0.64549722,\n",
       "       0.5809475 , 0.5728919 , 0.73333333, 0.6       , 0.5809475 ,\n",
       "       0.71004695, 0.77459667, 0.83914639, 0.53333333, 0.73333333,\n",
       "       0.77459667, 0.68884672, 0.5809475 , 0.53333333, 0.64549722,\n",
       "       0.5728919 , 0.64549722, 0.75146915, 0.71004695, 0.5809475 ,\n",
       "       0.66666667, 0.53333333, 0.64450339, 0.48304589, 0.64549722,\n",
       "       0.48304589, 0.64549722, 0.69006556, 0.71004695, 0.69006556,\n",
       "       0.48304589, 0.64549722, 0.89708523, 0.73333333, 0.64549722,\n",
       "       0.66666667, 0.68884672, 0.68884672, 0.64549722, 0.53333333,\n",
       "       0.46666667, 0.64549722, 0.6       , 0.6       , 0.5809475 ,\n",
       "       0.38924947, 0.6       , 0.4472136 , 0.4472136 , 0.52174919,\n",
       "       0.73333333, 0.64549722, 0.77459667, 0.55205245, 0.83914639,\n",
       "       0.68884672, 0.64549722, 0.71004695, 0.71004695, 0.71004695,\n",
       "       0.66666667, 0.4472136 , 0.64549722, 0.4472136 , 0.6       ,\n",
       "       0.62622429, 0.5728919 , 0.5809475 , 0.6       , 0.621059  ,\n",
       "       0.75907212, 0.71004695, 0.77459667, 0.71004695, 0.45184806,\n",
       "       0.55205245, 0.68884672, 0.71004695, 0.46666667, 0.64549722,\n",
       "       0.62622429, 0.59628479, 0.64549722, 0.75146915, 0.83914639,\n",
       "       0.48304589, 0.71004695, 0.55205245, 0.68884672, 0.48304589,\n",
       "       0.53333333, 0.6       , 0.68884672, 0.51639778, 0.48304589,\n",
       "       0.68884672, 0.71004695, 0.64549722, 0.66666667, 0.73333333,\n",
       "       0.62622429, 0.51639778, 0.45184806, 0.62279916, 0.71004695,\n",
       "       0.77459667, 0.73333333, 0.71004695, 0.56360186, 0.96609178,\n",
       "       0.81409158, 0.5809475 , 0.62622429, 0.48304589, 0.64549722,\n",
       "       0.53333333, 0.48304589, 0.68884672, 0.68884672, 0.66666667,\n",
       "       0.73333333, 0.51639778, 0.6       , 0.66666667, 0.27602622,\n",
       "       0.73333333, 0.77459667, 0.62622429, 0.64549722, 0.41403934,\n",
       "       0.77459667, 0.71004695, 0.6       , 0.6       , 0.71004695,\n",
       "       0.71004695, 0.41403934, 0.71004695, 0.67082039, 0.87671401,\n",
       "       1.        , 0.5809475 , 0.64549722, 0.46666667, 0.64549722,\n",
       "       0.66666667, 0.5728919 , 0.69006556, 0.64549722, 0.62622429,\n",
       "       0.93933644, 0.56360186, 0.77459667, 0.73333333, 0.55205245,\n",
       "       0.6       , 0.90369611, 0.77459667, 0.6       , 0.77459667,\n",
       "       0.5809475 , 0.71004695, 0.75907212, 0.41403934, 0.5809475 ,\n",
       "       0.64549722, 0.71004695, 0.66666667, 0.41403934, 0.77459667,\n",
       "       0.621059  , 0.53333333, 0.56360186, 0.71004695, 0.53333333,\n",
       "       0.5728919 , 0.46666667, 0.5809475 , 0.66666667, 0.66666667,\n",
       "       0.64549722, 0.41403934, 0.48304589, 0.5809475 , 0.68884672,\n",
       "       0.5809475 , 0.6       , 0.55205245, 0.6       , 0.90369611,\n",
       "       0.77459667, 0.4472136 , 0.5728919 , 0.46666667, 0.73333333,\n",
       "       0.62622429, 0.62622429, 0.6       , 0.59628479, 0.83914639])"
      ]
     },
     "execution_count": 1511,
     "metadata": {},
     "output_type": "execute_result"
    }
   ],
   "source": [
    "similarity[0]"
   ]
  },
  {
   "cell_type": "code",
   "execution_count": 1512,
   "metadata": {},
   "outputs": [
    {
     "data": {
      "text/plain": [
       "[(1, 0.9999999999999998),\n",
       " (30, 0.9999999999999998),\n",
       " (260, 0.9999999999999998),\n",
       " (282, 0.9999999999999998),\n",
       " (420, 0.9999999999999998),\n",
       " (75, 0.9333333333333331),\n",
       " (81, 0.9333333333333331),\n",
       " (86, 0.9333333333333331),\n",
       " (145, 0.9333333333333331),\n",
       " (186, 0.9333333333333331),\n",
       " (194, 0.9333333333333331),\n",
       " (201, 0.9333333333333331),\n",
       " (247, 0.9333333333333331),\n",
       " (300, 0.9333333333333331),\n",
       " (369, 0.9333333333333331),\n",
       " (394, 0.9333333333333331),\n",
       " (516, 0.9333333333333331),\n",
       " (518, 0.9333333333333331),\n",
       " (476, 0.9309493362512627),\n",
       " (139, 0.9036961141150636),\n",
       " (49, 0.8970852271450606),\n",
       " (88, 0.8970852271450606),\n",
       " (143, 0.8970852271450606),\n",
       " (223, 0.8970852271450606),\n",
       " (184, 0.8767140075192089),\n",
       " (100, 0.8666666666666665),\n",
       " (204, 0.8666666666666665),\n",
       " (212, 0.8666666666666665),\n",
       " (320, 0.8666666666666665),\n",
       " (338, 0.8666666666666665),\n",
       " (445, 0.8666666666666665),\n",
       " (352, 0.8593378488473195),\n",
       " (31, 0.8391463916782733),\n",
       " (87, 0.8391463916782733),\n",
       " (115, 0.8391463916782733),\n",
       " (275, 0.8391463916782733),\n",
       " (374, 0.8391463916782733),\n",
       " (52, 0.8280786712108251),\n",
       " (55, 0.8280786712108251),\n",
       " (169, 0.8280786712108251),\n",
       " (187, 0.8280786712108251),\n",
       " (202, 0.8280786712108251),\n",
       " (226, 0.8280786712108251),\n",
       " (316, 0.8280786712108251),\n",
       " (353, 0.8280786712108251),\n",
       " (383, 0.8280786712108251),\n",
       " (405, 0.8280786712108251),\n",
       " (417, 0.8280786712108251),\n",
       " (517, 0.8280786712108251),\n",
       " (109, 0.7999999999999998),\n",
       " (167, 0.7877263614433762),\n",
       " (171, 0.7877263614433762),\n",
       " (193, 0.7877263614433762),\n",
       " (315, 0.7877263614433762),\n",
       " (15, 0.7745966692414831),\n",
       " (39, 0.7745966692414831),\n",
       " (61, 0.7745966692414831),\n",
       " (85, 0.7745966692414831),\n",
       " (94, 0.7745966692414831),\n",
       " (104, 0.7745966692414831),\n",
       " (129, 0.7745966692414831),\n",
       " (131, 0.7745966692414831),\n",
       " (135, 0.7745966692414831),\n",
       " (137, 0.7745966692414831),\n",
       " (166, 0.7745966692414831),\n",
       " (216, 0.7745966692414831),\n",
       " (240, 0.7745966692414831),\n",
       " (242, 0.7745966692414831),\n",
       " (276, 0.7745966692414831),\n",
       " (306, 0.7745966692414831),\n",
       " (368, 0.7745966692414831),\n",
       " (407, 0.7745966692414831),\n",
       " (412, 0.7745966692414831),\n",
       " (427, 0.7745966692414831),\n",
       " (432, 0.7745966692414831),\n",
       " (434, 0.7745966692414831),\n",
       " (490, 0.7745966692414831),\n",
       " (495, 0.7745966692414831),\n",
       " (507, 0.7745966692414831),\n",
       " (63, 0.7590721152765897),\n",
       " (178, 0.7590721152765897),\n",
       " (211, 0.7590721152765897),\n",
       " (270, 0.7590721152765897),\n",
       " (277, 0.7590721152765897),\n",
       " (355, 0.7590721152765897),\n",
       " (360, 0.7590721152765897),\n",
       " (415, 0.7590721152765897),\n",
       " (419, 0.7590721152765897),\n",
       " (424, 0.7590721152765897),\n",
       " (443, 0.7590721152765897),\n",
       " (446, 0.7590721152765897),\n",
       " (512, 0.7590721152765897),\n",
       " (141, 0.7514691493021791),\n",
       " (285, 0.7514691493021791),\n",
       " (322, 0.7514691493021791),\n",
       " (411, 0.7453559924999299),\n",
       " (528, 0.7453559924999299),\n",
       " (16, 0.7333333333333332),\n",
       " (21, 0.7333333333333332),\n",
       " (26, 0.7333333333333332),\n",
       " (27, 0.7333333333333332),\n",
       " (35, 0.7333333333333332),\n",
       " (117, 0.7333333333333332),\n",
       " (127, 0.7333333333333332),\n",
       " (140, 0.7333333333333332),\n",
       " (144, 0.7333333333333332),\n",
       " (150, 0.7333333333333332),\n",
       " (164, 0.7333333333333332),\n",
       " (177, 0.7333333333333332),\n",
       " (213, 0.7333333333333332),\n",
       " (225, 0.7333333333333332),\n",
       " (254, 0.7333333333333332),\n",
       " (293, 0.7333333333333332),\n",
       " (311, 0.7333333333333332),\n",
       " (343, 0.7333333333333332),\n",
       " (351, 0.7333333333333332),\n",
       " (365, 0.7333333333333332),\n",
       " (390, 0.7333333333333332),\n",
       " (8, 0.7100469468046928),\n",
       " (66, 0.7100469468046928),\n",
       " (74, 0.7100469468046928),\n",
       " (105, 0.7100469468046928),\n",
       " (121, 0.7100469468046928),\n",
       " (138, 0.7100469468046928),\n",
       " (154, 0.7100469468046928),\n",
       " (172, 0.7100469468046928),\n",
       " (174, 0.7100469468046928),\n",
       " (180, 0.7100469468046928),\n",
       " (182, 0.7100469468046928),\n",
       " (190, 0.7100469468046928),\n",
       " (224, 0.7100469468046928),\n",
       " (228, 0.7100469468046928),\n",
       " (241, 0.7100469468046928),\n",
       " (278, 0.7100469468046928),\n",
       " (279, 0.7100469468046928),\n",
       " (281, 0.7100469468046928),\n",
       " (291, 0.7100469468046928),\n",
       " (327, 0.7100469468046928),\n",
       " (344, 0.7100469468046928),\n",
       " (384, 0.7100469468046928),\n",
       " (402, 0.7100469468046928),\n",
       " (414, 0.7100469468046928),\n",
       " (423, 0.7100469468046928),\n",
       " (451, 0.7100469468046928),\n",
       " (456, 0.7100469468046928),\n",
       " (499, 0.7100469468046928),\n",
       " (165, 0.6900655593423543),\n",
       " (484, 0.6900655593423543),\n",
       " (395, 0.6888467201936642),\n",
       " (24, 0.6666666666666665),\n",
       " (44, 0.6666666666666665),\n",
       " (65, 0.6666666666666665),\n",
       " (130, 0.6666666666666665),\n",
       " (162, 0.6666666666666665),\n",
       " (207, 0.6666666666666665),\n",
       " (210, 0.6666666666666665),\n",
       " (221, 0.6666666666666665),\n",
       " (295, 0.6666666666666665),\n",
       " (314, 0.6666666666666665),\n",
       " (332, 0.6666666666666665),\n",
       " (363, 0.6666666666666665),\n",
       " (370, 0.6666666666666665),\n",
       " (373, 0.6666666666666665),\n",
       " (376, 0.6666666666666665),\n",
       " (380, 0.6666666666666665),\n",
       " (398, 0.6666666666666665),\n",
       " (408, 0.6666666666666665),\n",
       " (450, 0.6666666666666665),\n",
       " (452, 0.6666666666666665),\n",
       " (455, 0.6666666666666665),\n",
       " (463, 0.6666666666666665),\n",
       " (473, 0.6666666666666665),\n",
       " (506, 0.6666666666666665),\n",
       " (523, 0.6666666666666665),\n",
       " (524, 0.6666666666666665),\n",
       " (72, 0.6454972243679026),\n",
       " (102, 0.6454972243679026),\n",
       " (183, 0.6454972243679026),\n",
       " (188, 0.6454972243679026),\n",
       " (189, 0.6454972243679026),\n",
       " (206, 0.6454972243679026),\n",
       " (208, 0.6454972243679026),\n",
       " (215, 0.6454972243679026),\n",
       " (244, 0.6454972243679026),\n",
       " (252, 0.6454972243679026),\n",
       " (257, 0.6454972243679026),\n",
       " (259, 0.6454972243679026),\n",
       " (264, 0.6454972243679026),\n",
       " (265, 0.6454972243679026),\n",
       " (286, 0.6454972243679026),\n",
       " (309, 0.6454972243679026),\n",
       " (317, 0.6454972243679026),\n",
       " (318, 0.6454972243679026),\n",
       " (323, 0.6454972243679026),\n",
       " (364, 0.6454972243679026),\n",
       " (389, 0.6454972243679026),\n",
       " (392, 0.6454972243679026),\n",
       " (416, 0.6454972243679026),\n",
       " (437, 0.6454972243679026),\n",
       " (444, 0.6454972243679026),\n",
       " (458, 0.6454972243679026),\n",
       " (461, 0.6454972243679026),\n",
       " (491, 0.6454972243679026),\n",
       " (70, 0.6445033866354896),\n",
       " (331, 0.6445033866354896),\n",
       " (345, 0.6445033866354896),\n",
       " (396, 0.6445033866354896),\n",
       " (505, 0.6445033866354896),\n",
       " (522, 0.6445033866354896),\n",
       " (9, 0.6262242910851493),\n",
       " (17, 0.6262242910851493),\n",
       " (40, 0.6262242910851493),\n",
       " (45, 0.6262242910851493),\n",
       " (54, 0.6262242910851493),\n",
       " (64, 0.6262242910851493),\n",
       " (76, 0.6262242910851493),\n",
       " (80, 0.6262242910851493),\n",
       " (90, 0.6262242910851493),\n",
       " (92, 0.6262242910851493),\n",
       " (96, 0.6262242910851493),\n",
       " (98, 0.6262242910851493),\n",
       " (108, 0.6262242910851493),\n",
       " (114, 0.6262242910851493),\n",
       " (124, 0.6262242910851493),\n",
       " (146, 0.6262242910851493),\n",
       " (147, 0.6262242910851493),\n",
       " (149, 0.6262242910851493),\n",
       " (156, 0.6262242910851493),\n",
       " (160, 0.6262242910851493),\n",
       " (163, 0.6262242910851493),\n",
       " (196, 0.6262242910851493),\n",
       " (234, 0.6262242910851493),\n",
       " (236, 0.6262242910851493),\n",
       " (248, 0.6262242910851493),\n",
       " (347, 0.6262242910851493),\n",
       " (385, 0.6262242910851493),\n",
       " (447, 0.6262242910851493),\n",
       " (448, 0.6262242910851493),\n",
       " (469, 0.6262242910851493),\n",
       " (479, 0.6262242910851493),\n",
       " (480, 0.6262242910851493),\n",
       " (526, 0.6262242910851493),\n",
       " (290, 0.6210590034081188),\n",
       " (151, 0.6085806194501845),\n",
       " (159, 0.6085806194501845),\n",
       " (168, 0.6085806194501845),\n",
       " (176, 0.6085806194501845),\n",
       " (5, 0.5999999999999999),\n",
       " (112, 0.5999999999999999),\n",
       " (197, 0.5999999999999999),\n",
       " (219, 0.5999999999999999),\n",
       " (243, 0.5999999999999999),\n",
       " (263, 0.5999999999999999),\n",
       " (274, 0.5999999999999999),\n",
       " (283, 0.5999999999999999),\n",
       " (298, 0.5999999999999999),\n",
       " (302, 0.5999999999999999),\n",
       " (307, 0.5999999999999999),\n",
       " (321, 0.5999999999999999),\n",
       " (333, 0.5999999999999999),\n",
       " (339, 0.5999999999999999),\n",
       " (372, 0.5999999999999999),\n",
       " (428, 0.5999999999999999),\n",
       " (436, 0.5999999999999999),\n",
       " (449, 0.5999999999999999),\n",
       " (453, 0.5999999999999999),\n",
       " (462, 0.5999999999999999),\n",
       " (475, 0.5999999999999999),\n",
       " (485, 0.5999999999999999),\n",
       " (488, 0.5999999999999999),\n",
       " (497, 0.5999999999999999),\n",
       " (501, 0.5999999999999999),\n",
       " (504, 0.5999999999999999),\n",
       " (508, 0.5999999999999999),\n",
       " (509, 0.5999999999999999),\n",
       " (527, 0.5999999999999999),\n",
       " (379, 0.5962847939999439),\n",
       " (10, 0.5809475019311123),\n",
       " (20, 0.5809475019311123),\n",
       " (25, 0.5809475019311123),\n",
       " (28, 0.5809475019311123),\n",
       " (32, 0.5809475019311123),\n",
       " (33, 0.5809475019311123),\n",
       " (36, 0.5809475019311123),\n",
       " (37, 0.5809475019311123),\n",
       " (41, 0.5809475019311123),\n",
       " (47, 0.5809475019311123),\n",
       " (50, 0.5809475019311123),\n",
       " (57, 0.5809475019311123),\n",
       " (60, 0.5809475019311123),\n",
       " (62, 0.5809475019311123),\n",
       " (67, 0.5809475019311123),\n",
       " (68, 0.5809475019311123),\n",
       " (69, 0.5809475019311123),\n",
       " (73, 0.5809475019311123),\n",
       " (82, 0.5809475019311123),\n",
       " (83, 0.5809475019311123),\n",
       " (91, 0.5809475019311123),\n",
       " (93, 0.5809475019311123),\n",
       " (97, 0.5809475019311123),\n",
       " (103, 0.5809475019311123),\n",
       " (118, 0.5809475019311123),\n",
       " (119, 0.5809475019311123),\n",
       " (136, 0.5809475019311123),\n",
       " (153, 0.5809475019311123),\n",
       " (158, 0.5809475019311123),\n",
       " (175, 0.5809475019311123),\n",
       " (191, 0.5809475019311123),\n",
       " (199, 0.5809475019311123),\n",
       " (222, 0.5809475019311123),\n",
       " (227, 0.5809475019311123),\n",
       " (238, 0.5809475019311123),\n",
       " (239, 0.5809475019311123),\n",
       " (246, 0.5809475019311123),\n",
       " (256, 0.5809475019311123),\n",
       " (266, 0.5809475019311123),\n",
       " (273, 0.5809475019311123),\n",
       " (288, 0.5809475019311123),\n",
       " (299, 0.5809475019311123),\n",
       " (319, 0.5809475019311123),\n",
       " (326, 0.5809475019311123),\n",
       " (328, 0.5809475019311123),\n",
       " (330, 0.5809475019311123),\n",
       " (335, 0.5809475019311123),\n",
       " (336, 0.5809475019311123),\n",
       " (340, 0.5809475019311123),\n",
       " (346, 0.5809475019311123),\n",
       " (356, 0.5809475019311123),\n",
       " (358, 0.5809475019311123),\n",
       " (361, 0.5809475019311123),\n",
       " (382, 0.5809475019311123),\n",
       " (404, 0.5809475019311123),\n",
       " (426, 0.5809475019311123),\n",
       " (464, 0.5809475019311123),\n",
       " (465, 0.5809475019311123),\n",
       " (474, 0.5809475019311123),\n",
       " (486, 0.5809475019311123),\n",
       " (496, 0.5809475019311123),\n",
       " (503, 0.5809475019311123),\n",
       " (519, 0.5809475019311123),\n",
       " (520, 0.5809475019311123),\n",
       " (529, 0.5809475019311123),\n",
       " (107, 0.5728918992315463),\n",
       " (2, 0.5636018619766344),\n",
       " (6, 0.5636018619766344),\n",
       " (14, 0.5636018619766344),\n",
       " (19, 0.5636018619766344),\n",
       " (22, 0.5636018619766344),\n",
       " (43, 0.5636018619766344),\n",
       " (46, 0.5636018619766344),\n",
       " (125, 0.5636018619766344),\n",
       " (134, 0.5636018619766344),\n",
       " (152, 0.5636018619766344),\n",
       " (181, 0.5636018619766344),\n",
       " (200, 0.5636018619766344),\n",
       " (235, 0.5636018619766344),\n",
       " (237, 0.5636018619766344),\n",
       " (245, 0.5636018619766344),\n",
       " (249, 0.5636018619766344),\n",
       " (269, 0.5636018619766344),\n",
       " (280, 0.5636018619766344),\n",
       " (284, 0.5636018619766344),\n",
       " (287, 0.5636018619766344),\n",
       " (294, 0.5636018619766344),\n",
       " (296, 0.5636018619766344),\n",
       " (304, 0.5636018619766344),\n",
       " (313, 0.5636018619766344),\n",
       " (341, 0.5636018619766344),\n",
       " (366, 0.5636018619766344),\n",
       " (367, 0.5636018619766344),\n",
       " (406, 0.5636018619766344),\n",
       " (413, 0.5636018619766344),\n",
       " (422, 0.5636018619766344),\n",
       " (425, 0.5636018619766344),\n",
       " (440, 0.5636018619766344),\n",
       " (442, 0.5636018619766344),\n",
       " (457, 0.5636018619766344),\n",
       " (514, 0.5636018619766344),\n",
       " (525, 0.5636018619766344),\n",
       " (42, 0.5520524474738834),\n",
       " (122, 0.5520524474738834),\n",
       " (214, 0.5520524474738834),\n",
       " (232, 0.5520524474738834),\n",
       " (0, 0.5333333333333332),\n",
       " (11, 0.5333333333333332),\n",
       " (29, 0.5333333333333332),\n",
       " (84, 0.5333333333333332),\n",
       " (123, 0.5333333333333332),\n",
       " (128, 0.5333333333333332),\n",
       " (230, 0.5333333333333332),\n",
       " (231, 0.5333333333333332),\n",
       " (261, 0.5333333333333332),\n",
       " (303, 0.5333333333333332),\n",
       " (350, 0.5333333333333332),\n",
       " (470, 0.5333333333333332),\n",
       " (483, 0.5333333333333332),\n",
       " (95, 0.5163977794943221),\n",
       " (113, 0.5163977794943221),\n",
       " (157, 0.5163977794943221),\n",
       " (205, 0.5163977794943221),\n",
       " (217, 0.5163977794943221),\n",
       " (218, 0.5163977794943221),\n",
       " (251, 0.5163977794943221),\n",
       " (292, 0.5163977794943221),\n",
       " (324, 0.5163977794943221),\n",
       " (325, 0.5163977794943221),\n",
       " (329, 0.5163977794943221),\n",
       " (334, 0.5163977794943221),\n",
       " (337, 0.5163977794943221),\n",
       " (342, 0.5163977794943221),\n",
       " (348, 0.5163977794943221),\n",
       " (349, 0.5163977794943221),\n",
       " (354, 0.5163977794943221),\n",
       " (371, 0.5163977794943221),\n",
       " (381, 0.5163977794943221),\n",
       " (386, 0.5163977794943221),\n",
       " (387, 0.5163977794943221),\n",
       " (388, 0.5163977794943221),\n",
       " (397, 0.5163977794943221),\n",
       " (401, 0.5163977794943221),\n",
       " (403, 0.5163977794943221),\n",
       " (409, 0.5163977794943221),\n",
       " (431, 0.5163977794943221),\n",
       " (435, 0.5163977794943221),\n",
       " (441, 0.5163977794943221),\n",
       " (460, 0.5163977794943221),\n",
       " (467, 0.5163977794943221),\n",
       " (471, 0.5163977794943221),\n",
       " (472, 0.5163977794943221),\n",
       " (478, 0.5163977794943221),\n",
       " (482, 0.5163977794943221),\n",
       " (487, 0.5163977794943221),\n",
       " (489, 0.5163977794943221),\n",
       " (494, 0.5163977794943221),\n",
       " (510, 0.5163977794943221),\n",
       " (513, 0.5163977794943221),\n",
       " (515, 0.5163977794943221),\n",
       " (312, 0.501280411827603),\n",
       " (13, 0.5009794328681195),\n",
       " (38, 0.5009794328681195),\n",
       " (126, 0.5009794328681195),\n",
       " (132, 0.5009794328681195),\n",
       " (192, 0.5009794328681195),\n",
       " (250, 0.5009794328681195),\n",
       " (258, 0.5009794328681195),\n",
       " (267, 0.5009794328681195),\n",
       " (268, 0.5009794328681195),\n",
       " (289, 0.5009794328681195),\n",
       " (301, 0.5009794328681195),\n",
       " (310, 0.5009794328681195),\n",
       " (410, 0.5009794328681195),\n",
       " (418, 0.5009794328681195),\n",
       " (430, 0.5009794328681195),\n",
       " (438, 0.5009794328681195),\n",
       " (481, 0.5009794328681195),\n",
       " (502, 0.5009794328681195),\n",
       " (7, 0.483045891539648),\n",
       " (12, 0.483045891539648),\n",
       " (23, 0.483045891539648),\n",
       " (51, 0.483045891539648),\n",
       " (56, 0.483045891539648),\n",
       " (71, 0.483045891539648),\n",
       " (99, 0.483045891539648),\n",
       " (120, 0.483045891539648),\n",
       " (233, 0.483045891539648),\n",
       " (308, 0.483045891539648),\n",
       " (357, 0.483045891539648),\n",
       " (359, 0.483045891539648),\n",
       " (362, 0.483045891539648),\n",
       " (400, 0.483045891539648),\n",
       " (439, 0.483045891539648),\n",
       " (459, 0.483045891539648),\n",
       " (466, 0.483045891539648),\n",
       " (492, 0.483045891539648),\n",
       " (493, 0.483045891539648),\n",
       " (498, 0.483045891539648),\n",
       " (511, 0.483045891539648),\n",
       " (3, 0.4670993664969138),\n",
       " (433, 0.4670993664969138),\n",
       " (48, 0.46666666666666656),\n",
       " (101, 0.46666666666666656),\n",
       " (111, 0.46666666666666656),\n",
       " (116, 0.46666666666666656),\n",
       " (173, 0.46666666666666656),\n",
       " (185, 0.46666666666666656),\n",
       " (262, 0.46666666666666656),\n",
       " (272, 0.46666666666666656),\n",
       " (421, 0.46666666666666656),\n",
       " (429, 0.46666666666666656),\n",
       " (34, 0.4296689244236597),\n",
       " (399, 0.41403933560541256),\n",
       " (477, 0.41403933560541256),\n",
       " (500, 0.41403933560541256),\n",
       " (255, 0.3999999999999999),\n",
       " (305, 0.3999999999999999),\n",
       " (209, 0.3892494720807615),\n",
       " (58, 0.37267799624996495),\n",
       " (59, 0.37267799624996495),\n",
       " (89, 0.37267799624996495),\n",
       " (106, 0.37267799624996495),\n",
       " (148, 0.37267799624996495),\n",
       " (161, 0.37267799624996495),\n",
       " (377, 0.37267799624996495),\n",
       " (378, 0.37267799624996495),\n",
       " (391, 0.37267799624996495),\n",
       " (393, 0.37267799624996495),\n",
       " (468, 0.37267799624996495),\n",
       " (521, 0.37267799624996495),\n",
       " (133, 0.3450327796711771),\n",
       " (179, 0.3450327796711771),\n",
       " (229, 0.3450327796711771),\n",
       " (253, 0.3450327796711771),\n",
       " (271, 0.3450327796711771),\n",
       " (297, 0.3450327796711771),\n",
       " (4, 0.3113995776646092),\n",
       " (18, 0.3113995776646092),\n",
       " (53, 0.3113995776646092),\n",
       " (155, 0.3113995776646092),\n",
       " (170, 0.3113995776646092),\n",
       " (198, 0.3113995776646092),\n",
       " (203, 0.3113995776646092),\n",
       " (220, 0.3113995776646092),\n",
       " (375, 0.3113995776646092),\n",
       " (77, 0.29814239699997197),\n",
       " (78, 0.29814239699997197),\n",
       " (79, 0.29814239699997197),\n",
       " (142, 0.29814239699997197),\n",
       " (195, 0.29814239699997197),\n",
       " (110, 0.2760262237369417),\n",
       " (454, 0.2760262237369417)]"
      ]
     },
     "execution_count": 1512,
     "metadata": {},
     "output_type": "execute_result"
    }
   ],
   "source": [
    "sorted(list(enumerate(similarity[1])), reverse=True, key= lambda x: x[1]) #distance between item to all items"
   ]
  },
  {
   "cell_type": "markdown",
   "metadata": {},
   "source": [
    "6. TESTING"
   ]
  },
  {
   "cell_type": "code",
   "execution_count": 1513,
   "metadata": {},
   "outputs": [
    {
     "data": {
      "text/html": [
       "<div>\n",
       "<style scoped>\n",
       "    .dataframe tbody tr th:only-of-type {\n",
       "        vertical-align: middle;\n",
       "    }\n",
       "\n",
       "    .dataframe tbody tr th {\n",
       "        vertical-align: top;\n",
       "    }\n",
       "\n",
       "    .dataframe thead th {\n",
       "        text-align: right;\n",
       "    }\n",
       "</style>\n",
       "<table border=\"1\" class=\"dataframe\">\n",
       "  <thead>\n",
       "    <tr style=\"text-align: right;\">\n",
       "      <th></th>\n",
       "      <th>laptop_id</th>\n",
       "      <th>name</th>\n",
       "      <th>tags</th>\n",
       "      <th>img_link</th>\n",
       "      <th>price</th>\n",
       "      <th>brand</th>\n",
       "      <th>use</th>\n",
       "      <th>processor</th>\n",
       "      <th>ram</th>\n",
       "      <th>os</th>\n",
       "      <th>storage</th>\n",
       "    </tr>\n",
       "  </thead>\n",
       "  <tbody>\n",
       "    <tr>\n",
       "      <th>724</th>\n",
       "      <td>724</td>\n",
       "      <td>MSI GF63 Thin Core i7 9th Gen</td>\n",
       "      <td>intel core i7 processor (9th gen) 8 gb ddr4 ram 64 bit window 10 oper system game</td>\n",
       "      <td>https://rukminim1.flixcart.com/image/312/312/kb1470w0/computer/z/5/f/msi-na-gaming-laptop-original-imafsh7ahbgkmvtm.jpeg?q=70</td>\n",
       "      <td>3684.45</td>\n",
       "      <td>MSI</td>\n",
       "      <td>Gaming</td>\n",
       "      <td>[Intel, Core, i7, Processor, (9th, Gen)]</td>\n",
       "      <td>[8, GB, DDR4, RAM]</td>\n",
       "      <td>[64, bit, Windows, 10, Operating, System]</td>\n",
       "      <td>512 GB SSD</td>\n",
       "    </tr>\n",
       "  </tbody>\n",
       "</table>\n",
       "</div>"
      ],
      "text/plain": [
       "     laptop_id                           name  \\\n",
       "724        724  MSI GF63 Thin Core i7 9th Gen   \n",
       "\n",
       "                                                                                  tags  \\\n",
       "724  intel core i7 processor (9th gen) 8 gb ddr4 ram 64 bit window 10 oper system game   \n",
       "\n",
       "                                                                                                                          img_link  \\\n",
       "724  https://rukminim1.flixcart.com/image/312/312/kb1470w0/computer/z/5/f/msi-na-gaming-laptop-original-imafsh7ahbgkmvtm.jpeg?q=70   \n",
       "\n",
       "       price brand      use                                 processor  \\\n",
       "724  3684.45   MSI   Gaming  [Intel, Core, i7, Processor, (9th, Gen)]   \n",
       "\n",
       "                    ram                                         os     storage  \n",
       "724  [8, GB, DDR4, RAM]  [64, bit, Windows, 10, Operating, System]  512 GB SSD  "
      ]
     },
     "execution_count": 1513,
     "metadata": {},
     "output_type": "execute_result"
    }
   ],
   "source": [
    "new[new['name'] == 'MSI GF63 Thin Core i7 9th Gen'] #we get the index for the specific laptop"
   ]
  },
  {
   "cell_type": "code",
   "execution_count": 1514,
   "metadata": {},
   "outputs": [
    {
     "data": {
      "text/plain": [
       "724"
      ]
     },
     "execution_count": 1514,
     "metadata": {},
     "output_type": "execute_result"
    }
   ],
   "source": [
    "new[new['name'] == 'MSI GF63 Thin Core i7 9th Gen'].index[0] #we get the index for the specific laptop"
   ]
  },
  {
   "cell_type": "code",
   "execution_count": 1515,
   "metadata": {},
   "outputs": [
    {
     "data": {
      "text/html": [
       "<div>\n",
       "<style scoped>\n",
       "    .dataframe tbody tr th:only-of-type {\n",
       "        vertical-align: middle;\n",
       "    }\n",
       "\n",
       "    .dataframe tbody tr th {\n",
       "        vertical-align: top;\n",
       "    }\n",
       "\n",
       "    .dataframe thead th {\n",
       "        text-align: right;\n",
       "    }\n",
       "</style>\n",
       "<table border=\"1\" class=\"dataframe\">\n",
       "  <thead>\n",
       "    <tr style=\"text-align: right;\">\n",
       "      <th></th>\n",
       "      <th>laptop_id</th>\n",
       "      <th>name</th>\n",
       "      <th>tags</th>\n",
       "      <th>img_link</th>\n",
       "      <th>price</th>\n",
       "      <th>brand</th>\n",
       "      <th>use</th>\n",
       "      <th>processor</th>\n",
       "      <th>ram</th>\n",
       "      <th>os</th>\n",
       "      <th>storage</th>\n",
       "    </tr>\n",
       "  </thead>\n",
       "  <tbody>\n",
       "    <tr>\n",
       "      <th>0</th>\n",
       "      <td>0</td>\n",
       "      <td>Lenovo Intel Core i5 11th Gen</td>\n",
       "      <td>intel core i5 processor (11th gen) 16 gb ddr4 ram window 11 oper system business/profession</td>\n",
       "      <td>https://rukminim1.flixcart.com/image/312/312/xif0q/computer/1/b/0/15itl6-thin-and-light-laptop-lenovo-original-imagkwgzafjp33es.jpeg?q=70</td>\n",
       "      <td>3464.45</td>\n",
       "      <td>Lenovo</td>\n",
       "      <td>Business/Professional</td>\n",
       "      <td>[Intel, Core, i5, Processor, (11th, Gen)]</td>\n",
       "      <td>[16, GB, DDR4, RAM]</td>\n",
       "      <td>[Windows, 11, Operating, System]</td>\n",
       "      <td>512 GB SSD</td>\n",
       "    </tr>\n",
       "    <tr>\n",
       "      <th>1</th>\n",
       "      <td>1</td>\n",
       "      <td>ASUS ROG Zephyrus G15 (2022) with 90Whr Battery Ryzen 9 Octa Core 6900HS</td>\n",
       "      <td>amd ryzen 9 octa core processor 16 gb ddr5 ram 64 bit window 11 oper system game</td>\n",
       "      <td>https://rukminim1.flixcart.com/image/312/312/l58iaa80/computer/e/u/f/ga503rm-hq030ws-gaming-laptop-asus-original-imagfyjedtcx2vfw.jpeg?q=70</td>\n",
       "      <td>8909.45</td>\n",
       "      <td>ASUS</td>\n",
       "      <td>Gaming</td>\n",
       "      <td>[AMD, Ryzen, 9, Octa, Core, Processor]</td>\n",
       "      <td>[16, GB, DDR5, RAM]</td>\n",
       "      <td>[64, bit, Windows, 11, Operating, System]</td>\n",
       "      <td>1 TB SSD</td>\n",
       "    </tr>\n",
       "    <tr>\n",
       "      <th>2</th>\n",
       "      <td>2</td>\n",
       "      <td>ASUS VivoBook 15 (2022) Core i3 10th Gen</td>\n",
       "      <td>intel core i3 processor (10th gen) 8 gb ddr4 ram 64 bit window 11 oper system home/everyday use</td>\n",
       "      <td>https://rukminim1.flixcart.com/image/312/312/xif0q/computer/e/1/7/-original-imag3ebnzawky4kn.jpeg?q=70</td>\n",
       "      <td>1869.45</td>\n",
       "      <td>ASUS</td>\n",
       "      <td>Home/Everyday use</td>\n",
       "      <td>[Intel, Core, i3, Processor, (10th, Gen)]</td>\n",
       "      <td>[8, GB, DDR4, RAM]</td>\n",
       "      <td>[64, bit, Windows, 11, Operating, System]</td>\n",
       "      <td>512 GB SSD</td>\n",
       "    </tr>\n",
       "    <tr>\n",
       "      <th>3</th>\n",
       "      <td>3</td>\n",
       "      <td>Lenovo Athlon Dual Core</td>\n",
       "      <td>amd athlon dual core processor 4 gb ddr4 ram do oper system budget friendli</td>\n",
       "      <td>https://rukminim1.flixcart.com/image/312/312/xif0q/computer/g/w/y/-original-imagmuhrzbmzwnee.jpeg?q=70</td>\n",
       "      <td>1044.45</td>\n",
       "      <td>Lenovo</td>\n",
       "      <td>Budget Friendly</td>\n",
       "      <td>[AMD, Athlon, Dual, Core, Processor]</td>\n",
       "      <td>[4, GB, DDR4, RAM]</td>\n",
       "      <td>[DOS, Operating, System]</td>\n",
       "      <td>256 GB SSD</td>\n",
       "    </tr>\n",
       "  </tbody>\n",
       "</table>\n",
       "</div>"
      ],
      "text/plain": [
       "   laptop_id  \\\n",
       "0          0   \n",
       "1          1   \n",
       "2          2   \n",
       "3          3   \n",
       "\n",
       "                                                                       name  \\\n",
       "0                                             Lenovo Intel Core i5 11th Gen   \n",
       "1  ASUS ROG Zephyrus G15 (2022) with 90Whr Battery Ryzen 9 Octa Core 6900HS   \n",
       "2                                  ASUS VivoBook 15 (2022) Core i3 10th Gen   \n",
       "3                                                   Lenovo Athlon Dual Core   \n",
       "\n",
       "                                                                                              tags  \\\n",
       "0      intel core i5 processor (11th gen) 16 gb ddr4 ram window 11 oper system business/profession   \n",
       "1                 amd ryzen 9 octa core processor 16 gb ddr5 ram 64 bit window 11 oper system game   \n",
       "2  intel core i3 processor (10th gen) 8 gb ddr4 ram 64 bit window 11 oper system home/everyday use   \n",
       "3                      amd athlon dual core processor 4 gb ddr4 ram do oper system budget friendli   \n",
       "\n",
       "                                                                                                                                      img_link  \\\n",
       "0    https://rukminim1.flixcart.com/image/312/312/xif0q/computer/1/b/0/15itl6-thin-and-light-laptop-lenovo-original-imagkwgzafjp33es.jpeg?q=70   \n",
       "1  https://rukminim1.flixcart.com/image/312/312/l58iaa80/computer/e/u/f/ga503rm-hq030ws-gaming-laptop-asus-original-imagfyjedtcx2vfw.jpeg?q=70   \n",
       "2                                       https://rukminim1.flixcart.com/image/312/312/xif0q/computer/e/1/7/-original-imag3ebnzawky4kn.jpeg?q=70   \n",
       "3                                       https://rukminim1.flixcart.com/image/312/312/xif0q/computer/g/w/y/-original-imagmuhrzbmzwnee.jpeg?q=70   \n",
       "\n",
       "     price   brand                     use  \\\n",
       "0  3464.45  Lenovo   Business/Professional   \n",
       "1  8909.45    ASUS                  Gaming   \n",
       "2  1869.45    ASUS       Home/Everyday use   \n",
       "3  1044.45  Lenovo         Budget Friendly   \n",
       "\n",
       "                                   processor                  ram  \\\n",
       "0  [Intel, Core, i5, Processor, (11th, Gen)]  [16, GB, DDR4, RAM]   \n",
       "1     [AMD, Ryzen, 9, Octa, Core, Processor]  [16, GB, DDR5, RAM]   \n",
       "2  [Intel, Core, i3, Processor, (10th, Gen)]   [8, GB, DDR4, RAM]   \n",
       "3       [AMD, Athlon, Dual, Core, Processor]   [4, GB, DDR4, RAM]   \n",
       "\n",
       "                                          os     storage  \n",
       "0           [Windows, 11, Operating, System]  512 GB SSD  \n",
       "1  [64, bit, Windows, 11, Operating, System]    1 TB SSD  \n",
       "2  [64, bit, Windows, 11, Operating, System]  512 GB SSD  \n",
       "3                   [DOS, Operating, System]  256 GB SSD  "
      ]
     },
     "execution_count": 1515,
     "metadata": {},
     "output_type": "execute_result"
    }
   ],
   "source": [
    "new.head(4)"
   ]
  },
  {
   "cell_type": "code",
   "execution_count": 1516,
   "metadata": {},
   "outputs": [
    {
     "data": {
      "text/plain": [
       "\" From github\\ndef recommend(use):\\n    index = new[new['name'] == use].index[0]\\n    distances = sorted(list(enumerate(similarity[index])), reverse=True, key=lambda x: x[1])\\n    printed_names = set()\\n    #display top 5\\n    for i in distances[1:6]: #iterates 1 to 5, excluding 6\\n        row_index = i[0]\\n        name = new.iloc[row_index]['name']\\n        if name not in printed_names:\\n            printed_names.add(name)\\n            print(name)\\n\""
      ]
     },
     "execution_count": 1516,
     "metadata": {},
     "output_type": "execute_result"
    }
   ],
   "source": [
    "''' From github\n",
    "def recommend(use):\n",
    "    index = new[new['name'] == use].index[0]\n",
    "    distances = sorted(list(enumerate(similarity[index])), reverse=True, key=lambda x: x[1])\n",
    "    printed_names = set()\n",
    "    #display top 5\n",
    "    for i in distances[1:6]: #iterates 1 to 5, excluding 6\n",
    "        row_index = i[0]\n",
    "        name = new.iloc[row_index]['name']\n",
    "        if name not in printed_names:\n",
    "            printed_names.add(name)\n",
    "            print(name)\n",
    "'''"
   ]
  },
  {
   "cell_type": "code",
   "execution_count": 1517,
   "metadata": {},
   "outputs": [
    {
     "data": {
      "text/plain": [
       "'\\ndef recommend(x):\\n    index = new[new[\\'name\\'] == x].index[0]  # Find the index of the input laptop\\n    distance = sorted(list(enumerate(similarity[index])), reverse=True, key= lambda x: x[1])  # Sort the similarities\\n    print(f\"Laptops similar to \\'{x}\\':\")\\n    for i in distance[1:6]:\\n        laptop = new.iloc[i[0]]  #get the laptop information\\n        similarity_score = i[1]  #get the similarity score\\n        print(f\"{laptop[\\'name\\']} | Similarity Score: {similarity_score:.2f} | Image Link: {laptop[\\'img_link\\']}\")\\n'"
      ]
     },
     "execution_count": 1517,
     "metadata": {},
     "output_type": "execute_result"
    }
   ],
   "source": [
    "#create Recommend Function 1 (CHOOSE THIS FOR STREAMLIT)\n",
    "'''\n",
    "def recommend(x):\n",
    "    index = new[new['name'] == x].index[0]  # Find the index of the input laptop\n",
    "    distance = sorted(list(enumerate(similarity[index])), reverse=True, key= lambda x: x[1])  # Sort the similarities\n",
    "    print(f\"Laptops similar to '{x}':\")\n",
    "    for i in distance[1:6]:\n",
    "        laptop = new.iloc[i[0]]  #get the laptop information\n",
    "        similarity_score = i[1]  #get the similarity score\n",
    "        print(f\"{laptop['name']} | Similarity Score: {similarity_score:.2f} | Image Link: {laptop['img_link']}\")\n",
    "'''"
   ]
  },
  {
   "cell_type": "code",
   "execution_count": 1518,
   "metadata": {},
   "outputs": [],
   "source": [
    "#Recommend Function 2\n",
    "new.reset_index(drop=True, inplace=True) # Reset the index to align with the similarity matrix\n",
    "def recommend(x):\n",
    "    # Check if the input exists in the database\n",
    "    if x not in new['name'].values:\n",
    "        print(f\"Laptop '{x}' is not found in the database.\")\n",
    "        return\n",
    "\n",
    "    # Get the index of the laptop model of the input\n",
    "    index = new[new['name'] == x].index[0]\n",
    "\n",
    "    # Ensure the index is within bounds\n",
    "    if index >= len(similarity):\n",
    "        print(\"Error: The index is out of bounds for the similarity matrix.\")\n",
    "        return\n",
    "\n",
    "    # Sort laptops by similarity, retrieving similarity scores\n",
    "    distances = sorted(list(enumerate(similarity[index])), reverse=True, key=lambda x: x[1])\n",
    "\n",
    "    printed_names = set()\n",
    "    print(f\"Laptops similar to '{x}':\")\n",
    "\n",
    "    # Display recommendations\n",
    "    for i in distances[1:]:\n",
    "        name = new.iloc[i[0]]['name']\n",
    "        similarity_score = i[1]\n",
    "\n",
    "        # Check to ensure that the input is excluded as recommendations\n",
    "        if name != x and name not in printed_names:\n",
    "            printed_names.add(name)\n",
    "            print(f\"{name} (Similarity Score: {similarity_score:.2f})\")\n",
    "        if len(printed_names) == 5:\n",
    "            break\n"
   ]
  },
  {
   "cell_type": "code",
   "execution_count": 1519,
   "metadata": {},
   "outputs": [
    {
     "name": "stdout",
     "output_type": "stream",
     "text": [
      "(530, 530)\n"
     ]
    }
   ],
   "source": [
    "print(similarity.shape)  # Check the shape of the similarity matrix"
   ]
  },
  {
   "cell_type": "code",
   "execution_count": 1520,
   "metadata": {},
   "outputs": [
    {
     "name": "stdout",
     "output_type": "stream",
     "text": [
      "(530, 11)\n"
     ]
    }
   ],
   "source": [
    "print(new.shape) "
   ]
  },
  {
   "cell_type": "code",
   "execution_count": 1521,
   "metadata": {},
   "outputs": [
    {
     "name": "stdout",
     "output_type": "stream",
     "text": [
      "530\n"
     ]
    }
   ],
   "source": [
    "print(len(new)) "
   ]
  },
  {
   "cell_type": "code",
   "execution_count": 1542,
   "metadata": {},
   "outputs": [
    {
     "name": "stdout",
     "output_type": "stream",
     "text": [
      "Laptops similar to 'Infinix X1 Slim Series Core i3 10th Gen':\n",
      "Infinix X1 Slim Series Core i5 10th Gen (Similarity Score: 0.94)\n",
      "DELL Vostro Core i3 10th Gen (Similarity Score: 0.94)\n",
      "DELL Core i3 10th Gen (Similarity Score: 0.94)\n",
      "ASUS Vivobook 15 Core i3 11th Gen (Similarity Score: 0.88)\n",
      "Lenovo Intel Core i3 11th Gen (Similarity Score: 0.88)\n"
     ]
    }
   ],
   "source": [
    "recommend('Infinix X1 Slim Series Core i3 10th Gen')"
   ]
  },
  {
   "cell_type": "code",
   "execution_count": 1525,
   "metadata": {},
   "outputs": [
    {
     "data": {
      "text/html": [
       "<div>\n",
       "<style scoped>\n",
       "    .dataframe tbody tr th:only-of-type {\n",
       "        vertical-align: middle;\n",
       "    }\n",
       "\n",
       "    .dataframe tbody tr th {\n",
       "        vertical-align: top;\n",
       "    }\n",
       "\n",
       "    .dataframe thead th {\n",
       "        text-align: right;\n",
       "    }\n",
       "</style>\n",
       "<table border=\"1\" class=\"dataframe\">\n",
       "  <thead>\n",
       "    <tr style=\"text-align: right;\">\n",
       "      <th></th>\n",
       "      <th>laptop_id</th>\n",
       "      <th>name</th>\n",
       "      <th>processor</th>\n",
       "      <th>ram</th>\n",
       "      <th>os</th>\n",
       "      <th>storage</th>\n",
       "      <th>img_link</th>\n",
       "      <th>display</th>\n",
       "      <th>rating</th>\n",
       "      <th>no_of_ratings</th>\n",
       "      <th>no_of_reviews</th>\n",
       "      <th>laptop_brand</th>\n",
       "      <th>os_brand</th>\n",
       "      <th>processor_brand</th>\n",
       "      <th>usecases</th>\n",
       "      <th>price_rm</th>\n",
       "      <th>use</th>\n",
       "      <th>tags</th>\n",
       "    </tr>\n",
       "  </thead>\n",
       "  <tbody>\n",
       "    <tr>\n",
       "      <th>0</th>\n",
       "      <td>0</td>\n",
       "      <td>Lenovo Intel Core i5 11th Gen</td>\n",
       "      <td>[Intel, Core, i5, Processor, (11th, Gen)]</td>\n",
       "      <td>[16, GB, DDR4, RAM]</td>\n",
       "      <td>[Windows, 11, Operating, System]</td>\n",
       "      <td>512 GB SSD</td>\n",
       "      <td>https://rukminim1.flixcart.com/image/312/312/xif0q/computer/1/b/0/15itl6-thin-and-light-laptop-lenovo-original-imagkwgzafjp33es.jpeg?q=70</td>\n",
       "      <td>15.6</td>\n",
       "      <td>4.5</td>\n",
       "      <td>14.0</td>\n",
       "      <td>1.0</td>\n",
       "      <td>Lenovo</td>\n",
       "      <td>Windows</td>\n",
       "      <td>Intel</td>\n",
       "      <td>Business/Professional</td>\n",
       "      <td>3464.45</td>\n",
       "      <td>[Business/Professional]</td>\n",
       "      <td>[Intel, Core, i5, Processor, (11th, Gen), 16, GB, DDR4, RAM, Windows, 11, Operating, System, Business/Professional]</td>\n",
       "    </tr>\n",
       "    <tr>\n",
       "      <th>29</th>\n",
       "      <td>29</td>\n",
       "      <td>Lenovo Intel Core i5 11th Gen</td>\n",
       "      <td>[Intel, Core, i5, Processor, (11th, Gen)]</td>\n",
       "      <td>[16, GB, DDR4, RAM]</td>\n",
       "      <td>[Windows, 11, Operating, System]</td>\n",
       "      <td>512 GB SSD</td>\n",
       "      <td>https://rukminim1.flixcart.com/image/312/312/xif0q/computer/1/b/0/15itl6-thin-and-light-laptop-lenovo-original-imagkwgzafjp33es.jpeg?q=70</td>\n",
       "      <td>15.6</td>\n",
       "      <td>4.5</td>\n",
       "      <td>14.0</td>\n",
       "      <td>1.0</td>\n",
       "      <td>Lenovo</td>\n",
       "      <td>Windows</td>\n",
       "      <td>Intel</td>\n",
       "      <td>Business/Professional</td>\n",
       "      <td>2908.95</td>\n",
       "      <td>[Business/Professional]</td>\n",
       "      <td>[Intel, Core, i5, Processor, (11th, Gen), 16, GB, DDR4, RAM, Windows, 11, Operating, System, Business/Professional]</td>\n",
       "    </tr>\n",
       "    <tr>\n",
       "      <th>182</th>\n",
       "      <td>182</td>\n",
       "      <td>Lenovo Intel Core i5 11th Gen</td>\n",
       "      <td>[Intel, Core, i5, Processor, (11th, Gen)]</td>\n",
       "      <td>[8, GB, DDR4, RAM]</td>\n",
       "      <td>[64, bit, Windows, 11, Operating, System]</td>\n",
       "      <td>1 TB HDD|256 GB SSD</td>\n",
       "      <td>https://rukminim1.flixcart.com/image/312/312/kynb6vk0/computer/k/j/a/-original-imagaufne7h4hgbz.jpeg?q=70</td>\n",
       "      <td>15.6</td>\n",
       "      <td>4.4</td>\n",
       "      <td>395.0</td>\n",
       "      <td>43.0</td>\n",
       "      <td>Lenovo</td>\n",
       "      <td>Windows</td>\n",
       "      <td>Intel</td>\n",
       "      <td>Student/Education</td>\n",
       "      <td>3574.45</td>\n",
       "      <td>[Student/Education]</td>\n",
       "      <td>[Intel, Core, i5, Processor, (11th, Gen), 8, GB, DDR4, RAM, 64, bit, Windows, 11, Operating, System, Student/Education]</td>\n",
       "    </tr>\n",
       "    <tr>\n",
       "      <th>697</th>\n",
       "      <td>697</td>\n",
       "      <td>Lenovo Intel Core i5 11th Gen</td>\n",
       "      <td>[Intel, Core, i5, Processor, (11th, Gen)]</td>\n",
       "      <td>[16, GB, DDR4, RAM]</td>\n",
       "      <td>[Windows, 11, Operating, System]</td>\n",
       "      <td>512 GB SSD</td>\n",
       "      <td>https://rukminim1.flixcart.com/image/312/312/xif0q/computer/f/i/m/15ihu6-gaming-laptop-lenovo-original-imagkwgwgbxysnr2.jpeg?q=70</td>\n",
       "      <td>15.6</td>\n",
       "      <td>4.1</td>\n",
       "      <td>8.0</td>\n",
       "      <td>0.0</td>\n",
       "      <td>Lenovo</td>\n",
       "      <td>Windows</td>\n",
       "      <td>Intel</td>\n",
       "      <td>Business/Professional</td>\n",
       "      <td>3755.95</td>\n",
       "      <td>[Business/Professional]</td>\n",
       "      <td>[Intel, Core, i5, Processor, (11th, Gen), 16, GB, DDR4, RAM, Windows, 11, Operating, System, Business/Professional]</td>\n",
       "    </tr>\n",
       "  </tbody>\n",
       "</table>\n",
       "</div>"
      ],
      "text/plain": [
       "     laptop_id                           name  \\\n",
       "0            0  Lenovo Intel Core i5 11th Gen   \n",
       "29          29  Lenovo Intel Core i5 11th Gen   \n",
       "182        182  Lenovo Intel Core i5 11th Gen   \n",
       "697        697  Lenovo Intel Core i5 11th Gen   \n",
       "\n",
       "                                     processor                  ram  \\\n",
       "0    [Intel, Core, i5, Processor, (11th, Gen)]  [16, GB, DDR4, RAM]   \n",
       "29   [Intel, Core, i5, Processor, (11th, Gen)]  [16, GB, DDR4, RAM]   \n",
       "182  [Intel, Core, i5, Processor, (11th, Gen)]   [8, GB, DDR4, RAM]   \n",
       "697  [Intel, Core, i5, Processor, (11th, Gen)]  [16, GB, DDR4, RAM]   \n",
       "\n",
       "                                            os              storage  \\\n",
       "0             [Windows, 11, Operating, System]           512 GB SSD   \n",
       "29            [Windows, 11, Operating, System]           512 GB SSD   \n",
       "182  [64, bit, Windows, 11, Operating, System]  1 TB HDD|256 GB SSD   \n",
       "697           [Windows, 11, Operating, System]           512 GB SSD   \n",
       "\n",
       "                                                                                                                                      img_link  \\\n",
       "0    https://rukminim1.flixcart.com/image/312/312/xif0q/computer/1/b/0/15itl6-thin-and-light-laptop-lenovo-original-imagkwgzafjp33es.jpeg?q=70   \n",
       "29   https://rukminim1.flixcart.com/image/312/312/xif0q/computer/1/b/0/15itl6-thin-and-light-laptop-lenovo-original-imagkwgzafjp33es.jpeg?q=70   \n",
       "182                                  https://rukminim1.flixcart.com/image/312/312/kynb6vk0/computer/k/j/a/-original-imagaufne7h4hgbz.jpeg?q=70   \n",
       "697          https://rukminim1.flixcart.com/image/312/312/xif0q/computer/f/i/m/15ihu6-gaming-laptop-lenovo-original-imagkwgwgbxysnr2.jpeg?q=70   \n",
       "\n",
       "     display  rating  no_of_ratings  no_of_reviews laptop_brand os_brand  \\\n",
       "0       15.6     4.5           14.0            1.0       Lenovo  Windows   \n",
       "29      15.6     4.5           14.0            1.0       Lenovo  Windows   \n",
       "182     15.6     4.4          395.0           43.0       Lenovo  Windows   \n",
       "697     15.6     4.1            8.0            0.0       Lenovo  Windows   \n",
       "\n",
       "    processor_brand                usecases  price_rm  \\\n",
       "0             Intel   Business/Professional   3464.45   \n",
       "29            Intel   Business/Professional   2908.95   \n",
       "182           Intel       Student/Education   3574.45   \n",
       "697           Intel   Business/Professional   3755.95   \n",
       "\n",
       "                         use  \\\n",
       "0    [Business/Professional]   \n",
       "29   [Business/Professional]   \n",
       "182      [Student/Education]   \n",
       "697  [Business/Professional]   \n",
       "\n",
       "                                                                                                                        tags  \n",
       "0        [Intel, Core, i5, Processor, (11th, Gen), 16, GB, DDR4, RAM, Windows, 11, Operating, System, Business/Professional]  \n",
       "29       [Intel, Core, i5, Processor, (11th, Gen), 16, GB, DDR4, RAM, Windows, 11, Operating, System, Business/Professional]  \n",
       "182  [Intel, Core, i5, Processor, (11th, Gen), 8, GB, DDR4, RAM, 64, bit, Windows, 11, Operating, System, Student/Education]  \n",
       "697      [Intel, Core, i5, Processor, (11th, Gen), 16, GB, DDR4, RAM, Windows, 11, Operating, System, Business/Professional]  "
      ]
     },
     "execution_count": 1525,
     "metadata": {},
     "output_type": "execute_result"
    }
   ],
   "source": [
    "laptop[laptop['name'] == 'Lenovo Intel Core i5 11th Gen']"
   ]
  },
  {
   "attachments": {
    "image-2.png": {
     "image/png": "[encoded data removed]"
    },
    "image.png": {
     "image/png": "[encoded data removed]"
    }
   },
   "cell_type": "markdown",
   "metadata": {},
   "source": [
    "![image.png](attachment:image.png) ![image-2.png](attachment:image-2.png)"
   ]
  },
  {
   "cell_type": "code",
   "execution_count": 1526,
   "metadata": {},
   "outputs": [
    {
     "name": "stderr",
     "output_type": "stream",
     "text": [
      "C:\\Users\\aiman\\AppData\\Local\\Temp\\ipykernel_21680\\577124195.py:1: SettingWithCopyWarning: \n",
      "A value is trying to be set on a copy of a slice from a DataFrame.\n",
      "Try using .loc[row_indexer,col_indexer] = value instead\n",
      "\n",
      "See the caveats in the documentation: https://pandas.pydata.org/pandas-docs/stable/user_guide/indexing.html#returning-a-view-versus-a-copy\n",
      "  new['ram'] = new_csv['ram']\n",
      "C:\\Users\\aiman\\AppData\\Local\\Temp\\ipykernel_21680\\577124195.py:2: SettingWithCopyWarning: \n",
      "A value is trying to be set on a copy of a slice from a DataFrame.\n",
      "Try using .loc[row_indexer,col_indexer] = value instead\n",
      "\n",
      "See the caveats in the documentation: https://pandas.pydata.org/pandas-docs/stable/user_guide/indexing.html#returning-a-view-versus-a-copy\n",
      "  new['processor'] = new_csv['processor']\n",
      "C:\\Users\\aiman\\AppData\\Local\\Temp\\ipykernel_21680\\577124195.py:3: SettingWithCopyWarning: \n",
      "A value is trying to be set on a copy of a slice from a DataFrame.\n",
      "Try using .loc[row_indexer,col_indexer] = value instead\n",
      "\n",
      "See the caveats in the documentation: https://pandas.pydata.org/pandas-docs/stable/user_guide/indexing.html#returning-a-view-versus-a-copy\n",
      "  new['os'] = new_csv['os']\n"
     ]
    }
   ],
   "source": [
    "new['ram'] = new_csv['ram']\n",
    "new['processor'] = new_csv['processor']\n",
    "new['os'] = new_csv['os']"
   ]
  },
  {
   "cell_type": "code",
   "execution_count": 1532,
   "metadata": {},
   "outputs": [],
   "source": [
    "import pickle\n",
    "\n",
    "pickle.dump(new, open('model/laptop_list.pkl', 'wb'))\n",
    "pickle.dump(similarity, open('model/similarity.pkl', 'wb'))\n",
    "new_csv.to_csv('model/update_laptop.csv', sep=',', index=False, encoding='utf-8')"
   ]
  }
 ],
 "metadata": {
  "kernelspec": {
   "display_name": "base",
   "language": "python",
   "name": "python3"
  },
  "language_info": {
   "codemirror_mode": {
    "name": "ipython",
    "version": 3
   },
   "file_extension": ".py",
   "mimetype": "text/x-python",
   "name": "python",
   "nbconvert_exporter": "python",
   "pygments_lexer": "ipython3",
   "version": "3.11.7"
  }
 },
 "nbformat": 4,
 "nbformat_minor": 2
}

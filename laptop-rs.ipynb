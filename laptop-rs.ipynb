{
 "cells": [
  {
   "cell_type": "markdown",
   "metadata": {},
   "source": [
    "COMPLETED TF IDF MODEL\n",
    "\n",
    "SPECS FOR EACH USECASE\n",
    "https://us.dynabook.com/computers/research-center/shopping-guides/laptop-buying-guide/types-of-laptops/ "
   ]
  },
  {
   "cell_type": "code",
   "execution_count": 1,
   "metadata": {},
   "outputs": [],
   "source": [
    "import pandas as pd\n",
    "import numpy as np\n",
    "\n",
    "import matplotlib.pyplot as plt #to visualise\n",
    "import seaborn as sns\n",
    "\n",
    "import nltk #to vectorizer\n",
    "from nltk.stem import PorterStemmer\n",
    "\n",
    "from sklearn.feature_extraction.text import CountVectorizer #to find the similarity"
   ]
  },
  {
   "cell_type": "markdown",
   "metadata": {},
   "source": [
    "### 1. DATA LOADING"
   ]
  },
  {
   "cell_type": "code",
   "execution_count": 2,
   "metadata": {},
   "outputs": [],
   "source": [
    "laptop = pd.read_csv('dataset/laptops.csv')"
   ]
  },
  {
   "cell_type": "code",
   "execution_count": 3,
   "metadata": {},
   "outputs": [
    {
     "data": {
      "text/plain": [
       "laptop_id            int64\n",
       "name                object\n",
       "price                int64\n",
       "processor           object\n",
       "ram                 object\n",
       "os                  object\n",
       "storage             object\n",
       "img_link            object\n",
       "display            float64\n",
       "rating             float64\n",
       "no_of_ratings      float64\n",
       "no_of_reviews      float64\n",
       "laptop_brand        object\n",
       "os_brand            object\n",
       "processor_brand     object\n",
       "usecases            object\n",
       "dtype: object"
      ]
     },
     "execution_count": 3,
     "metadata": {},
     "output_type": "execute_result"
    }
   ],
   "source": [
    "laptop.dtypes"
   ]
  },
  {
   "cell_type": "code",
   "execution_count": 4,
   "metadata": {},
   "outputs": [
    {
     "name": "stdout",
     "output_type": "stream",
     "text": [
      "display\n",
      "15.60    416\n",
      "14.00    181\n",
      "13.30     41\n",
      "16.00     40\n",
      "16.10     26\n",
      "17.30     25\n",
      "13.40     15\n",
      "13.60     12\n",
      "11.60     10\n",
      "14.10      6\n",
      "14.96      5\n",
      "16.20      5\n",
      "15.00      3\n",
      "14.20      2\n",
      "17.00      2\n",
      "35.00      2\n",
      "14.50      1\n",
      "13.50      1\n",
      "16.60      1\n",
      "15.30      1\n",
      "12.00      1\n",
      "Name: count, dtype: int64\n"
     ]
    },
    {
     "data": {
      "text/html": [
       "<div>\n",
       "<style scoped>\n",
       "    .dataframe tbody tr th:only-of-type {\n",
       "        vertical-align: middle;\n",
       "    }\n",
       "\n",
       "    .dataframe tbody tr th {\n",
       "        vertical-align: top;\n",
       "    }\n",
       "\n",
       "    .dataframe thead th {\n",
       "        text-align: right;\n",
       "    }\n",
       "</style>\n",
       "<table border=\"1\" class=\"dataframe\">\n",
       "  <thead>\n",
       "    <tr style=\"text-align: right;\">\n",
       "      <th></th>\n",
       "      <th>laptop_id</th>\n",
       "      <th>name</th>\n",
       "      <th>price</th>\n",
       "      <th>processor</th>\n",
       "      <th>ram</th>\n",
       "      <th>os</th>\n",
       "      <th>storage</th>\n",
       "      <th>img_link</th>\n",
       "      <th>display</th>\n",
       "      <th>rating</th>\n",
       "      <th>no_of_ratings</th>\n",
       "      <th>no_of_reviews</th>\n",
       "      <th>laptop_brand</th>\n",
       "      <th>os_brand</th>\n",
       "      <th>processor_brand</th>\n",
       "      <th>usecases</th>\n",
       "    </tr>\n",
       "  </thead>\n",
       "  <tbody>\n",
       "    <tr>\n",
       "      <th>472</th>\n",
       "      <td>472</td>\n",
       "      <td>DELL Vostro Core i5 11th Gen</td>\n",
       "      <td>63090</td>\n",
       "      <td>Intel Core i5 Processor (11th Gen)</td>\n",
       "      <td>8 GB DDR4 RAM</td>\n",
       "      <td>64 bit Windows 10 Operating System</td>\n",
       "      <td>512 GB SSD</td>\n",
       "      <td>https://rukminim1.flixcart.com/image/312/312/k...</td>\n",
       "      <td>35.0</td>\n",
       "      <td>3.9</td>\n",
       "      <td>89.0</td>\n",
       "      <td>9.0</td>\n",
       "      <td>DELL</td>\n",
       "      <td>Windows</td>\n",
       "      <td>Intel</td>\n",
       "      <td>Business/Professional</td>\n",
       "    </tr>\n",
       "    <tr>\n",
       "      <th>687</th>\n",
       "      <td>687</td>\n",
       "      <td>DELL Vostro Core i3 11th Gen</td>\n",
       "      <td>43090</td>\n",
       "      <td>Intel Core i3 Processor (11th Gen)</td>\n",
       "      <td>4 GB DDR4 RAM</td>\n",
       "      <td>64 bit Windows 11 Operating System</td>\n",
       "      <td>1 TB HDD|256 GB SSD</td>\n",
       "      <td>https://rukminim1.flixcart.com/image/312/312/k...</td>\n",
       "      <td>35.0</td>\n",
       "      <td>4.2</td>\n",
       "      <td>33.0</td>\n",
       "      <td>7.0</td>\n",
       "      <td>DELL</td>\n",
       "      <td>Windows</td>\n",
       "      <td>Intel</td>\n",
       "      <td>Budget Friendly</td>\n",
       "    </tr>\n",
       "  </tbody>\n",
       "</table>\n",
       "</div>"
      ],
      "text/plain": [
       "     laptop_id                          name  price  \\\n",
       "472        472  DELL Vostro Core i5 11th Gen  63090   \n",
       "687        687  DELL Vostro Core i3 11th Gen  43090   \n",
       "\n",
       "                              processor            ram  \\\n",
       "472  Intel Core i5 Processor (11th Gen)  8 GB DDR4 RAM   \n",
       "687  Intel Core i3 Processor (11th Gen)  4 GB DDR4 RAM   \n",
       "\n",
       "                                     os              storage  \\\n",
       "472  64 bit Windows 10 Operating System           512 GB SSD   \n",
       "687  64 bit Windows 11 Operating System  1 TB HDD|256 GB SSD   \n",
       "\n",
       "                                              img_link  display  rating  \\\n",
       "472  https://rukminim1.flixcart.com/image/312/312/k...     35.0     3.9   \n",
       "687  https://rukminim1.flixcart.com/image/312/312/k...     35.0     4.2   \n",
       "\n",
       "     no_of_ratings  no_of_reviews laptop_brand os_brand processor_brand  \\\n",
       "472           89.0            9.0         DELL  Windows           Intel   \n",
       "687           33.0            7.0         DELL  Windows           Intel   \n",
       "\n",
       "                   usecases  \n",
       "472   Business/Professional  \n",
       "687         Budget Friendly  "
      ]
     },
     "execution_count": 4,
     "metadata": {},
     "output_type": "execute_result"
    }
   ],
   "source": [
    "print(laptop['display'].value_counts())\n",
    "\n",
    "laptop[laptop['display'] == 35.0]\n"
   ]
  },
  {
   "cell_type": "code",
   "execution_count": 5,
   "metadata": {},
   "outputs": [
    {
     "data": {
      "text/plain": [
       "(796, 16)"
      ]
     },
     "execution_count": 5,
     "metadata": {},
     "output_type": "execute_result"
    }
   ],
   "source": [
    "laptop.shape #display 796 rows and 16 column"
   ]
  },
  {
   "cell_type": "code",
   "execution_count": 6,
   "metadata": {},
   "outputs": [
    {
     "data": {
      "text/html": [
       "<div>\n",
       "<style scoped>\n",
       "    .dataframe tbody tr th:only-of-type {\n",
       "        vertical-align: middle;\n",
       "    }\n",
       "\n",
       "    .dataframe tbody tr th {\n",
       "        vertical-align: top;\n",
       "    }\n",
       "\n",
       "    .dataframe thead th {\n",
       "        text-align: right;\n",
       "    }\n",
       "</style>\n",
       "<table border=\"1\" class=\"dataframe\">\n",
       "  <thead>\n",
       "    <tr style=\"text-align: right;\">\n",
       "      <th></th>\n",
       "      <th>laptop_id</th>\n",
       "      <th>name</th>\n",
       "      <th>price</th>\n",
       "      <th>processor</th>\n",
       "      <th>ram</th>\n",
       "      <th>os</th>\n",
       "      <th>storage</th>\n",
       "      <th>img_link</th>\n",
       "      <th>display</th>\n",
       "      <th>rating</th>\n",
       "      <th>no_of_ratings</th>\n",
       "      <th>no_of_reviews</th>\n",
       "      <th>laptop_brand</th>\n",
       "      <th>os_brand</th>\n",
       "      <th>processor_brand</th>\n",
       "      <th>usecases</th>\n",
       "    </tr>\n",
       "  </thead>\n",
       "  <tbody>\n",
       "    <tr>\n",
       "      <th>0</th>\n",
       "      <td>0</td>\n",
       "      <td>Lenovo Intel Core i5 11th Gen</td>\n",
       "      <td>62990</td>\n",
       "      <td>Intel Core i5 Processor (11th Gen)</td>\n",
       "      <td>16 GB DDR4 RAM</td>\n",
       "      <td>Windows 11 Operating System</td>\n",
       "      <td>512 GB SSD</td>\n",
       "      <td>https://rukminim1.flixcart.com/image/312/312/x...</td>\n",
       "      <td>15.6</td>\n",
       "      <td>4.5</td>\n",
       "      <td>14.0</td>\n",
       "      <td>1.0</td>\n",
       "      <td>Lenovo</td>\n",
       "      <td>Windows</td>\n",
       "      <td>Intel</td>\n",
       "      <td>Business/Professional</td>\n",
       "    </tr>\n",
       "    <tr>\n",
       "      <th>1</th>\n",
       "      <td>1</td>\n",
       "      <td>ASUS ROG Zephyrus G15 (2022) with 90Whr Batter...</td>\n",
       "      <td>161990</td>\n",
       "      <td>AMD Ryzen 9 Octa Core Processor</td>\n",
       "      <td>16 GB DDR5 RAM</td>\n",
       "      <td>64 bit Windows 11 Operating System</td>\n",
       "      <td>1 TB SSD</td>\n",
       "      <td>https://rukminim1.flixcart.com/image/312/312/l...</td>\n",
       "      <td>15.6</td>\n",
       "      <td>3.8</td>\n",
       "      <td>5.0</td>\n",
       "      <td>1.0</td>\n",
       "      <td>ASUS</td>\n",
       "      <td>Windows</td>\n",
       "      <td>AMD</td>\n",
       "      <td>Gaming</td>\n",
       "    </tr>\n",
       "  </tbody>\n",
       "</table>\n",
       "</div>"
      ],
      "text/plain": [
       "   laptop_id                                               name   price  \\\n",
       "0          0                      Lenovo Intel Core i5 11th Gen   62990   \n",
       "1          1  ASUS ROG Zephyrus G15 (2022) with 90Whr Batter...  161990   \n",
       "\n",
       "                            processor             ram  \\\n",
       "0  Intel Core i5 Processor (11th Gen)  16 GB DDR4 RAM   \n",
       "1     AMD Ryzen 9 Octa Core Processor  16 GB DDR5 RAM   \n",
       "\n",
       "                                   os     storage  \\\n",
       "0         Windows 11 Operating System  512 GB SSD   \n",
       "1  64 bit Windows 11 Operating System    1 TB SSD   \n",
       "\n",
       "                                            img_link  display  rating  \\\n",
       "0  https://rukminim1.flixcart.com/image/312/312/x...     15.6     4.5   \n",
       "1  https://rukminim1.flixcart.com/image/312/312/l...     15.6     3.8   \n",
       "\n",
       "   no_of_ratings  no_of_reviews laptop_brand os_brand processor_brand  \\\n",
       "0           14.0            1.0       Lenovo  Windows           Intel   \n",
       "1            5.0            1.0         ASUS  Windows             AMD   \n",
       "\n",
       "                 usecases  \n",
       "0   Business/Professional  \n",
       "1                  Gaming  "
      ]
     },
     "execution_count": 6,
     "metadata": {},
     "output_type": "execute_result"
    }
   ],
   "source": [
    "laptop.head(2)"
   ]
  },
  {
   "cell_type": "code",
   "execution_count": 7,
   "metadata": {},
   "outputs": [
    {
     "data": {
      "text/plain": [
       "Index(['laptop_id', 'name', 'price', 'processor', 'ram', 'os', 'storage',\n",
       "       'img_link', 'display', 'rating', 'no_of_ratings', 'no_of_reviews',\n",
       "       'laptop_brand', 'os_brand', 'processor_brand', 'usecases'],\n",
       "      dtype='object')"
      ]
     },
     "execution_count": 7,
     "metadata": {},
     "output_type": "execute_result"
    }
   ],
   "source": [
    "laptop.columns #based on these information, we may choose which column that needed"
   ]
  },
  {
   "cell_type": "code",
   "execution_count": 8,
   "metadata": {},
   "outputs": [],
   "source": [
    "laptop['display'] = laptop['display'].astype(str) #convert to string"
   ]
  },
  {
   "cell_type": "code",
   "execution_count": 9,
   "metadata": {},
   "outputs": [
    {
     "name": "stdout",
     "output_type": "stream",
     "text": [
      "laptop_id            int64\n",
      "name                object\n",
      "price                int64\n",
      "processor           object\n",
      "ram                 object\n",
      "os                  object\n",
      "storage             object\n",
      "img_link            object\n",
      "display             object\n",
      "rating             float64\n",
      "no_of_ratings      float64\n",
      "no_of_reviews      float64\n",
      "laptop_brand        object\n",
      "os_brand            object\n",
      "processor_brand     object\n",
      "usecases            object\n",
      "dtype: object\n"
     ]
    }
   ],
   "source": [
    "print(laptop.dtypes)"
   ]
  },
  {
   "cell_type": "code",
   "execution_count": 10,
   "metadata": {},
   "outputs": [],
   "source": [
    "#laptop.merge(other-df, on = 'column') #use this to merge 2 dataset"
   ]
  },
  {
   "cell_type": "code",
   "execution_count": 11,
   "metadata": {},
   "outputs": [
    {
     "name": "stdout",
     "output_type": "stream",
     "text": [
      "usecases\n",
      "Hybrid    302\n",
      "Gaming    263\n",
      "Office    231\n",
      "Name: count, dtype: int64\n"
     ]
    }
   ],
   "source": [
    "laptop['usecases'] = laptop['usecases'].replace(' Gaming', 'Gaming')\n",
    "laptop['usecases'] = laptop['usecases'].replace(' Business/Professional', 'Office')\n",
    "laptop['usecases'] = laptop['usecases'].replace(' Budget Friendly', 'Office')\n",
    "laptop['usecases'] = laptop['usecases'].replace(' Home/Everyday use', 'Hybrid')\n",
    "laptop['usecases'] = laptop['usecases'].replace(' Student/Education', 'Hybrid')\n",
    "laptop['usecases'] = laptop['usecases'].replace(' Creative/Design', 'Hybrid')\n",
    "laptop['usecases'] = laptop['usecases'].replace(' Multimedia/Entertainment', 'Hybrid')\n",
    "laptop['usecases'] = laptop['usecases'].replace('Ultra-portable', 'Hybrid')\n",
    "\n",
    "print(laptop['usecases'].value_counts())"
   ]
  },
  {
   "cell_type": "markdown",
   "metadata": {},
   "source": [
    "DATA VISUALISE"
   ]
  },
  {
   "cell_type": "code",
   "execution_count": 12,
   "metadata": {},
   "outputs": [
    {
     "data": {
      "text/plain": [
       "\"\\n#to count the occurrences of each brand\\nbrand_counts = laptop['laptop_brand'].value_counts()\\n\\n\\n#create the bar plot OPTIONAL\\nplt.figure(figsize=(10, 5))  # Optional: Adjust figure size\\nax = brand_counts.plot(kind='bar')\\n#ax = brand_counts.plot(kind='bar', color='blue', edgecolor='black')\\n\\n# Set labels and title\\nplt.xlabel('Laptop Brand', fontsize=10)\\nplt.ylabel('Number of Laptops', fontsize=10)\\nplt.title('Laptop Brand Distribution', fontsize=10, weight='bold')\\n\\n\\n# Adding annotations for each bar\\nfor i, value in enumerate(brand_counts):\\n    plt.text(i, value + 0.5, str(value), ha='center', fontsize=13)\\n\\n# Show the plot\\nplt.tight_layout()\\nplt.show()\\n\""
      ]
     },
     "execution_count": 12,
     "metadata": {},
     "output_type": "execute_result"
    }
   ],
   "source": [
    "'''\n",
    "#to count the occurrences of each brand\n",
    "brand_counts = laptop['laptop_brand'].value_counts()\n",
    "\n",
    "\n",
    "#create the bar plot OPTIONAL\n",
    "plt.figure(figsize=(10, 5))  # Optional: Adjust figure size\n",
    "ax = brand_counts.plot(kind='bar')\n",
    "#ax = brand_counts.plot(kind='bar', color='blue', edgecolor='black')\n",
    "\n",
    "# Set labels and title\n",
    "plt.xlabel('Laptop Brand', fontsize=10)\n",
    "plt.ylabel('Number of Laptops', fontsize=10)\n",
    "plt.title('Laptop Brand Distribution', fontsize=10, weight='bold')\n",
    "\n",
    "\n",
    "# Adding annotations for each bar\n",
    "for i, value in enumerate(brand_counts):\n",
    "    plt.text(i, value + 0.5, str(value), ha='center', fontsize=13)\n",
    "\n",
    "# Show the plot\n",
    "plt.tight_layout()\n",
    "plt.show()\n",
    "'''"
   ]
  },
  {
   "cell_type": "code",
   "execution_count": 13,
   "metadata": {},
   "outputs": [
    {
     "data": {
      "text/plain": [
       "\"# Count the occurrences of each use case\\nusecase_counts = laptop['os_brand'].value_counts()\\n\\n# Create the pie chart\\nplt.figure(figsize=(8, 8))  # Adjust figure size\\nplt.pie(\\n    usecase_counts, \\n    labels=usecase_counts.index,  # Add labels for each use case\\n    autopct='%1.1f%%',  # Display percentages with 1 decimal point\\n    startangle=140,  # Rotate chart for better appearance\\n    colors=plt.cm.tab10.colors  # Optional: Use a color map\\n)\\n\\n# Add a title\\nplt.title('Laptop OS Distribution', fontsize=12, weight='bold')\\n\\n# Show the pie chart\\nplt.show()\""
      ]
     },
     "execution_count": 13,
     "metadata": {},
     "output_type": "execute_result"
    }
   ],
   "source": [
    "'''# Count the occurrences of each use case\n",
    "usecase_counts = laptop['os_brand'].value_counts()\n",
    "\n",
    "# Create the pie chart\n",
    "plt.figure(figsize=(8, 8))  # Adjust figure size\n",
    "plt.pie(\n",
    "    usecase_counts, \n",
    "    labels=usecase_counts.index,  # Add labels for each use case\n",
    "    autopct='%1.1f%%',  # Display percentages with 1 decimal point\n",
    "    startangle=140,  # Rotate chart for better appearance\n",
    "    colors=plt.cm.tab10.colors  # Optional: Use a color map\n",
    ")\n",
    "\n",
    "# Add a title\n",
    "plt.title('Laptop OS Distribution', fontsize=12, weight='bold')\n",
    "\n",
    "# Show the pie chart\n",
    "plt.show()'''\n"
   ]
  },
  {
   "cell_type": "code",
   "execution_count": 14,
   "metadata": {},
   "outputs": [
    {
     "data": {
      "text/plain": [
       "\"# Count the occurrences of each use case\\nusecase_counts = laptop['usecases'].value_counts()\\n\\n# Create the pie chart\\nplt.figure(figsize=(8, 8))  # Adjust figure size\\nplt.pie(\\n    usecase_counts, \\n    labels=usecase_counts.index,  # Add labels for each use case\\n    autopct='%1.1f%%',  # Display percentages with 1 decimal point\\n    startangle=140,  # Rotate chart for better appearance\\n    colors=plt.cm.tab10.colors  # Optional: Use a color map\\n)\\n\\n# Add a title\\nplt.title('Laptop Usecase Distribution', fontsize=12, weight='bold')\\n\\n# Show the pie chart\\nplt.show()\""
      ]
     },
     "execution_count": 14,
     "metadata": {},
     "output_type": "execute_result"
    }
   ],
   "source": [
    "'''# Count the occurrences of each use case\n",
    "usecase_counts = laptop['usecases'].value_counts()\n",
    "\n",
    "# Create the pie chart\n",
    "plt.figure(figsize=(8, 8))  # Adjust figure size\n",
    "plt.pie(\n",
    "    usecase_counts, \n",
    "    labels=usecase_counts.index,  # Add labels for each use case\n",
    "    autopct='%1.1f%%',  # Display percentages with 1 decimal point\n",
    "    startangle=140,  # Rotate chart for better appearance\n",
    "    colors=plt.cm.tab10.colors  # Optional: Use a color map\n",
    ")\n",
    "\n",
    "# Add a title\n",
    "plt.title('Laptop Usecase Distribution', fontsize=12, weight='bold')\n",
    "\n",
    "# Show the pie chart\n",
    "plt.show()'''\n"
   ]
  },
  {
   "cell_type": "markdown",
   "metadata": {},
   "source": [
    "### 2. DATA PREPROCESSING"
   ]
  },
  {
   "cell_type": "code",
   "execution_count": 15,
   "metadata": {},
   "outputs": [],
   "source": [
    "laptop.drop(columns=['no_of_ratings', 'no_of_reviews', 'rating'], inplace=True) #To drop column"
   ]
  },
  {
   "cell_type": "code",
   "execution_count": 16,
   "metadata": {},
   "outputs": [
    {
     "data": {
      "text/plain": [
       "laptop_id          0\n",
       "name               0\n",
       "price              0\n",
       "processor          0\n",
       "ram                0\n",
       "os                 0\n",
       "storage            0\n",
       "img_link           0\n",
       "display            0\n",
       "laptop_brand       0\n",
       "os_brand           0\n",
       "processor_brand    0\n",
       "usecases           0\n",
       "dtype: int64"
      ]
     },
     "execution_count": 16,
     "metadata": {},
     "output_type": "execute_result"
    }
   ],
   "source": [
    "#Checking NULL value\n",
    "laptop.isnull().sum()"
   ]
  },
  {
   "cell_type": "code",
   "execution_count": 17,
   "metadata": {},
   "outputs": [
    {
     "data": {
      "text/plain": [
       "(796, 13)"
      ]
     },
     "execution_count": 17,
     "metadata": {},
     "output_type": "execute_result"
    }
   ],
   "source": [
    "laptop.shape"
   ]
  },
  {
   "cell_type": "code",
   "execution_count": 18,
   "metadata": {},
   "outputs": [],
   "source": [
    "laptop.dropna(inplace=True)"
   ]
  },
  {
   "cell_type": "code",
   "execution_count": 19,
   "metadata": {},
   "outputs": [
    {
     "data": {
      "text/plain": [
       "(796, 13)"
      ]
     },
     "execution_count": 19,
     "metadata": {},
     "output_type": "execute_result"
    }
   ],
   "source": [
    "laptop.shape #total instances have been reduced"
   ]
  },
  {
   "cell_type": "code",
   "execution_count": 20,
   "metadata": {},
   "outputs": [
    {
     "data": {
      "text/html": [
       "<div>\n",
       "<style scoped>\n",
       "    .dataframe tbody tr th:only-of-type {\n",
       "        vertical-align: middle;\n",
       "    }\n",
       "\n",
       "    .dataframe tbody tr th {\n",
       "        vertical-align: top;\n",
       "    }\n",
       "\n",
       "    .dataframe thead th {\n",
       "        text-align: right;\n",
       "    }\n",
       "</style>\n",
       "<table border=\"1\" class=\"dataframe\">\n",
       "  <thead>\n",
       "    <tr style=\"text-align: right;\">\n",
       "      <th></th>\n",
       "      <th>laptop_id</th>\n",
       "      <th>name</th>\n",
       "      <th>price</th>\n",
       "      <th>processor</th>\n",
       "      <th>ram</th>\n",
       "      <th>os</th>\n",
       "      <th>storage</th>\n",
       "      <th>img_link</th>\n",
       "      <th>display</th>\n",
       "      <th>laptop_brand</th>\n",
       "      <th>os_brand</th>\n",
       "      <th>processor_brand</th>\n",
       "      <th>usecases</th>\n",
       "    </tr>\n",
       "  </thead>\n",
       "  <tbody>\n",
       "    <tr>\n",
       "      <th>0</th>\n",
       "      <td>0</td>\n",
       "      <td>Lenovo Intel Core i5 11th Gen</td>\n",
       "      <td>62990</td>\n",
       "      <td>Intel Core i5 Processor (11th Gen)</td>\n",
       "      <td>16 GB DDR4 RAM</td>\n",
       "      <td>Windows 11 Operating System</td>\n",
       "      <td>512 GB SSD</td>\n",
       "      <td>https://rukminim1.flixcart.com/image/312/312/x...</td>\n",
       "      <td>15.6</td>\n",
       "      <td>Lenovo</td>\n",
       "      <td>Windows</td>\n",
       "      <td>Intel</td>\n",
       "      <td>Office</td>\n",
       "    </tr>\n",
       "  </tbody>\n",
       "</table>\n",
       "</div>"
      ],
      "text/plain": [
       "   laptop_id                           name  price  \\\n",
       "0          0  Lenovo Intel Core i5 11th Gen  62990   \n",
       "\n",
       "                            processor             ram  \\\n",
       "0  Intel Core i5 Processor (11th Gen)  16 GB DDR4 RAM   \n",
       "\n",
       "                            os     storage  \\\n",
       "0  Windows 11 Operating System  512 GB SSD   \n",
       "\n",
       "                                            img_link display laptop_brand  \\\n",
       "0  https://rukminim1.flixcart.com/image/312/312/x...    15.6       Lenovo   \n",
       "\n",
       "  os_brand processor_brand usecases  \n",
       "0  Windows           Intel   Office  "
      ]
     },
     "execution_count": 20,
     "metadata": {},
     "output_type": "execute_result"
    }
   ],
   "source": [
    "laptop.head(1)"
   ]
  },
  {
   "cell_type": "markdown",
   "metadata": {},
   "source": [
    "### VISUALISATION AND ANALYSIS"
   ]
  },
  {
   "cell_type": "code",
   "execution_count": 21,
   "metadata": {},
   "outputs": [
    {
     "data": {
      "text/plain": [
       "\"#to count the occurrences of each brand\\nbrand_counts = laptop['laptop_brand'].value_counts()\\n\\n\\n#create the bar plot OPTIONAL\\nplt.figure(figsize=(10, 5))  # Optional: Adjust figure size\\nax = brand_counts.plot(kind='bar')\\n#ax = brand_counts.plot(kind='bar', color='blue', edgecolor='black')\\n\\n# Set labels and title\\nplt.xlabel('Laptop Brand', fontsize=10)\\nplt.ylabel('Number of Laptops', fontsize=10)\\nplt.title('Laptop Brand Distribution', fontsize=10, weight='bold')\\n\\n\\n# Adding annotations for each bar\\nfor i, value in enumerate(brand_counts):\\n    plt.text(i, value + 0.5, str(value), ha='center', fontsize=13)\\n\\n# Show the plot\\nplt.tight_layout()\\nplt.show()\""
      ]
     },
     "execution_count": 21,
     "metadata": {},
     "output_type": "execute_result"
    }
   ],
   "source": [
    "'''#to count the occurrences of each brand\n",
    "brand_counts = laptop['laptop_brand'].value_counts()\n",
    "\n",
    "\n",
    "#create the bar plot OPTIONAL\n",
    "plt.figure(figsize=(10, 5))  # Optional: Adjust figure size\n",
    "ax = brand_counts.plot(kind='bar')\n",
    "#ax = brand_counts.plot(kind='bar', color='blue', edgecolor='black')\n",
    "\n",
    "# Set labels and title\n",
    "plt.xlabel('Laptop Brand', fontsize=10)\n",
    "plt.ylabel('Number of Laptops', fontsize=10)\n",
    "plt.title('Laptop Brand Distribution', fontsize=10, weight='bold')\n",
    "\n",
    "\n",
    "# Adding annotations for each bar\n",
    "for i, value in enumerate(brand_counts):\n",
    "    plt.text(i, value + 0.5, str(value), ha='center', fontsize=13)\n",
    "\n",
    "# Show the plot\n",
    "plt.tight_layout()\n",
    "plt.show()'''"
   ]
  },
  {
   "cell_type": "code",
   "execution_count": 22,
   "metadata": {},
   "outputs": [],
   "source": [
    "#laptop['laptop_brand'].value_counts().plot(kind='bar')"
   ]
  },
  {
   "cell_type": "code",
   "execution_count": 23,
   "metadata": {},
   "outputs": [
    {
     "data": {
      "text/plain": [
       "\"# Count the occurrences of each use case\\nusecase_counts = laptop['os_brand'].value_counts()\\n\\n# Create the pie chart\\nplt.figure(figsize=(8, 8))  # Adjust figure size\\nplt.pie(\\n    usecase_counts, \\n    labels=usecase_counts.index,  # Add labels for each use case\\n    autopct='%1.1f%%',  # Display percentages with 1 decimal point\\n    startangle=140,  # Rotate chart for better appearance\\n    colors=plt.cm.tab10.colors  # Optional: Use a color map\\n)\\n\\n# Add a title\\nplt.title('Laptop OS Distribution', fontsize=12, weight='bold')\\n\\n# Show the pie chart\\nplt.show()\\n\""
      ]
     },
     "execution_count": 23,
     "metadata": {},
     "output_type": "execute_result"
    }
   ],
   "source": [
    "'''# Count the occurrences of each use case\n",
    "usecase_counts = laptop['os_brand'].value_counts()\n",
    "\n",
    "# Create the pie chart\n",
    "plt.figure(figsize=(8, 8))  # Adjust figure size\n",
    "plt.pie(\n",
    "    usecase_counts, \n",
    "    labels=usecase_counts.index,  # Add labels for each use case\n",
    "    autopct='%1.1f%%',  # Display percentages with 1 decimal point\n",
    "    startangle=140,  # Rotate chart for better appearance\n",
    "    colors=plt.cm.tab10.colors  # Optional: Use a color map\n",
    ")\n",
    "\n",
    "# Add a title\n",
    "plt.title('Laptop OS Distribution', fontsize=12, weight='bold')\n",
    "\n",
    "# Show the pie chart\n",
    "plt.show()\n",
    "'''"
   ]
  },
  {
   "cell_type": "code",
   "execution_count": 24,
   "metadata": {},
   "outputs": [
    {
     "data": {
      "text/plain": [
       "\"# Count the occurrences of each use case\\nusecase_counts = laptop['usecases'].value_counts()\\n\\n# Create the pie chart\\nplt.figure(figsize=(8, 8))  # Adjust figure size\\nplt.pie(\\n    usecase_counts, \\n    labels=usecase_counts.index,  # Add labels for each use case\\n    autopct='%1.1f%%',  # Display percentages with 1 decimal point\\n    startangle=140,  # Rotate chart for better appearance\\n    colors=plt.cm.tab10.colors  # Optional: Use a color map\\n)\\n\\n# Add a title\\nplt.title('Laptop Usecase Distribution', fontsize=12, weight='bold')\\n\\n# Show the pie chart\\nplt.show()\\n\""
      ]
     },
     "execution_count": 24,
     "metadata": {},
     "output_type": "execute_result"
    }
   ],
   "source": [
    "'''# Count the occurrences of each use case\n",
    "usecase_counts = laptop['usecases'].value_counts()\n",
    "\n",
    "# Create the pie chart\n",
    "plt.figure(figsize=(8, 8))  # Adjust figure size\n",
    "plt.pie(\n",
    "    usecase_counts, \n",
    "    labels=usecase_counts.index,  # Add labels for each use case\n",
    "    autopct='%1.1f%%',  # Display percentages with 1 decimal point\n",
    "    startangle=140,  # Rotate chart for better appearance\n",
    "    colors=plt.cm.tab10.colors  # Optional: Use a color map\n",
    ")\n",
    "\n",
    "# Add a title\n",
    "plt.title('Laptop Usecase Distribution', fontsize=12, weight='bold')\n",
    "\n",
    "# Show the pie chart\n",
    "plt.show()\n",
    "'''"
   ]
  },
  {
   "cell_type": "code",
   "execution_count": 25,
   "metadata": {},
   "outputs": [
    {
     "data": {
      "text/plain": [
       "\"# Count the occurrences of each brand\\nbrand_counts = laptop['usecases'].value_counts()\\n\\n# Create the bar plot\\nplt.figure(figsize=(7, 5))  # Optional: Adjust figure size\\nax = brand_counts.plot(kind='bar')\\n\\n# Set labels and title\\nplt.xlabel('Laptop Usecase', fontsize=10)\\nplt.ylabel('Number of Laptops', fontsize=10)\\nplt.title('Laptop Usecase Distribution', fontsize=10)\\n\\n# Adding annotations for each bar\\nfor i, value in enumerate(brand_counts):\\n    plt.text(i, value + 0.5, str(value), ha='center', fontsize=13)\\n\\n# Show the plot\\nplt.tight_layout()\\nplt.show()\""
      ]
     },
     "execution_count": 25,
     "metadata": {},
     "output_type": "execute_result"
    }
   ],
   "source": [
    "'''# Count the occurrences of each brand\n",
    "brand_counts = laptop['usecases'].value_counts()\n",
    "\n",
    "# Create the bar plot\n",
    "plt.figure(figsize=(7, 5))  # Optional: Adjust figure size\n",
    "ax = brand_counts.plot(kind='bar')\n",
    "\n",
    "# Set labels and title\n",
    "plt.xlabel('Laptop Usecase', fontsize=10)\n",
    "plt.ylabel('Number of Laptops', fontsize=10)\n",
    "plt.title('Laptop Usecase Distribution', fontsize=10)\n",
    "\n",
    "# Adding annotations for each bar\n",
    "for i, value in enumerate(brand_counts):\n",
    "    plt.text(i, value + 0.5, str(value), ha='center', fontsize=13)\n",
    "\n",
    "# Show the plot\n",
    "plt.tight_layout()\n",
    "plt.show()'''"
   ]
  },
  {
   "cell_type": "code",
   "execution_count": 26,
   "metadata": {},
   "outputs": [],
   "source": [
    "#laptop['usecases'].value_counts().plot(kind = 'bar')"
   ]
  },
  {
   "cell_type": "markdown",
   "metadata": {},
   "source": [
    "### 3. Data Transformation"
   ]
  },
  {
   "cell_type": "code",
   "execution_count": 27,
   "metadata": {},
   "outputs": [],
   "source": [
    "#Price Conversion\n",
    "laptop['price_rm'] = laptop['price'] * 0.055   #add one more column that price in RM"
   ]
  },
  {
   "cell_type": "code",
   "execution_count": 28,
   "metadata": {},
   "outputs": [
    {
     "data": {
      "text/html": [
       "<div>\n",
       "<style scoped>\n",
       "    .dataframe tbody tr th:only-of-type {\n",
       "        vertical-align: middle;\n",
       "    }\n",
       "\n",
       "    .dataframe tbody tr th {\n",
       "        vertical-align: top;\n",
       "    }\n",
       "\n",
       "    .dataframe thead th {\n",
       "        text-align: right;\n",
       "    }\n",
       "</style>\n",
       "<table border=\"1\" class=\"dataframe\">\n",
       "  <thead>\n",
       "    <tr style=\"text-align: right;\">\n",
       "      <th></th>\n",
       "      <th>price</th>\n",
       "      <th>price_rm</th>\n",
       "    </tr>\n",
       "  </thead>\n",
       "  <tbody>\n",
       "    <tr>\n",
       "      <th>0</th>\n",
       "      <td>62990</td>\n",
       "      <td>3464.45</td>\n",
       "    </tr>\n",
       "    <tr>\n",
       "      <th>1</th>\n",
       "      <td>161990</td>\n",
       "      <td>8909.45</td>\n",
       "    </tr>\n",
       "  </tbody>\n",
       "</table>\n",
       "</div>"
      ],
      "text/plain": [
       "    price  price_rm\n",
       "0   62990   3464.45\n",
       "1  161990   8909.45"
      ]
     },
     "execution_count": 28,
     "metadata": {},
     "output_type": "execute_result"
    }
   ],
   "source": [
    "laptop[['price', 'price_rm']].head(2)  # Check the original and new price columns"
   ]
  },
  {
   "cell_type": "code",
   "execution_count": 29,
   "metadata": {},
   "outputs": [
    {
     "data": {
      "text/plain": [
       "laptop_id            int64\n",
       "name                object\n",
       "price                int64\n",
       "processor           object\n",
       "ram                 object\n",
       "os                  object\n",
       "storage             object\n",
       "img_link            object\n",
       "display             object\n",
       "laptop_brand        object\n",
       "os_brand            object\n",
       "processor_brand     object\n",
       "usecases            object\n",
       "price_rm           float64\n",
       "dtype: object"
      ]
     },
     "execution_count": 29,
     "metadata": {},
     "output_type": "execute_result"
    }
   ],
   "source": [
    "laptop.dtypes"
   ]
  },
  {
   "cell_type": "code",
   "execution_count": 30,
   "metadata": {},
   "outputs": [],
   "source": [
    "laptop.drop(columns=['price'], inplace=True) #To drop column"
   ]
  },
  {
   "cell_type": "code",
   "execution_count": 31,
   "metadata": {},
   "outputs": [],
   "source": [
    "new_csv = laptop[['laptop_id','img_link','name','price_rm','laptop_brand','usecases', 'processor','ram', 'os', 'storage']]\t"
   ]
  },
  {
   "cell_type": "code",
   "execution_count": 32,
   "metadata": {},
   "outputs": [
    {
     "data": {
      "text/plain": [
       "(796, 10)"
      ]
     },
     "execution_count": 32,
     "metadata": {},
     "output_type": "execute_result"
    }
   ],
   "source": [
    "new_csv.shape #reduced dataset, same as laptops"
   ]
  },
  {
   "cell_type": "code",
   "execution_count": 33,
   "metadata": {},
   "outputs": [
    {
     "name": "stderr",
     "output_type": "stream",
     "text": [
      "C:\\Users\\aiman\\AppData\\Local\\Temp\\ipykernel_21468\\3008621298.py:1: SettingWithCopyWarning: \n",
      "A value is trying to be set on a copy of a slice from a DataFrame\n",
      "\n",
      "See the caveats in the documentation: https://pandas.pydata.org/pandas-docs/stable/user_guide/indexing.html#returning-a-view-versus-a-copy\n",
      "  new_csv.rename(columns={'price_rm': 'price', 'laptop_brand': 'brand', 'usecases': 'use'}, inplace=True)\n"
     ]
    }
   ],
   "source": [
    "new_csv.rename(columns={'price_rm': 'price', 'laptop_brand': 'brand', 'usecases': 'use'}, inplace=True)"
   ]
  },
  {
   "cell_type": "code",
   "execution_count": 34,
   "metadata": {},
   "outputs": [
    {
     "data": {
      "text/plain": [
       "\"plt.figure(figsize=(10, 5))\\nsns.histplot(new_csv['price'], kde=True)  # kde=True adds a smooth line\\nplt.xlabel('Price')  # Label the x-axis as 'Price'\\nplt.title('Price Distribution of Laptops')\\nplt.show()\""
      ]
     },
     "execution_count": 34,
     "metadata": {},
     "output_type": "execute_result"
    }
   ],
   "source": [
    "'''plt.figure(figsize=(10, 5))\n",
    "sns.histplot(new_csv['price'], kde=True)  # kde=True adds a smooth line\n",
    "plt.xlabel('Price')  # Label the x-axis as 'Price'\n",
    "plt.title('Price Distribution of Laptops')\n",
    "plt.show()'''"
   ]
  },
  {
   "cell_type": "code",
   "execution_count": 35,
   "metadata": {},
   "outputs": [
    {
     "data": {
      "text/plain": [
       "\"#display price range\\nsns.distplot(new_csv['price']);\""
      ]
     },
     "execution_count": 35,
     "metadata": {},
     "output_type": "execute_result"
    }
   ],
   "source": [
    "'''#display price range\n",
    "sns.distplot(new_csv['price']);'''"
   ]
  },
  {
   "cell_type": "code",
   "execution_count": 36,
   "metadata": {},
   "outputs": [
    {
     "data": {
      "text/plain": [
       "'#to get min and max laptop price\\nd = {\"min_saleprice\": [new_csv[\"price\"].min()] ,\\n     \"max_saleprice\": [new_csv[\"price\"].max()]\\n    }\\nmin_max_price=pd.DataFrame(d)\\nmin_max_price'"
      ]
     },
     "execution_count": 36,
     "metadata": {},
     "output_type": "execute_result"
    }
   ],
   "source": [
    "'''#to get min and max laptop price\n",
    "d = {\"min_saleprice\": [new_csv[\"price\"].min()] ,\n",
    "     \"max_saleprice\": [new_csv[\"price\"].max()]\n",
    "    }\n",
    "min_max_price=pd.DataFrame(d)\n",
    "min_max_price'''"
   ]
  },
  {
   "cell_type": "code",
   "execution_count": 37,
   "metadata": {},
   "outputs": [
    {
     "data": {
      "text/plain": [
       "\"sns.barplot(x=new_csv['brand'],y=new_csv['price'],color='orange')\\nplt.xticks(rotation='vertical')\\nplt.xlabel('Laptop Brand') \\nplt.ylabel('Price') \\nplt.show()\""
      ]
     },
     "execution_count": 37,
     "metadata": {},
     "output_type": "execute_result"
    }
   ],
   "source": [
    "'''sns.barplot(x=new_csv['brand'],y=new_csv['price'],color='orange')\n",
    "plt.xticks(rotation='vertical')\n",
    "plt.xlabel('Laptop Brand') \n",
    "plt.ylabel('Price') \n",
    "plt.show()'''"
   ]
  },
  {
   "cell_type": "code",
   "execution_count": 38,
   "metadata": {},
   "outputs": [
    {
     "data": {
      "text/plain": [
       "\"sns.barplot(x = new_csv['use'], y = new_csv['price'])\\nplt.xticks(rotation='vertical')\\nplt.show()\""
      ]
     },
     "execution_count": 38,
     "metadata": {},
     "output_type": "execute_result"
    }
   ],
   "source": [
    "'''sns.barplot(x = new_csv['use'], y = new_csv['price'])\n",
    "plt.xticks(rotation='vertical')\n",
    "plt.show()'''"
   ]
  },
  {
   "cell_type": "code",
   "execution_count": 39,
   "metadata": {},
   "outputs": [
    {
     "data": {
      "text/plain": [
       "name\n",
       "DELL Core i5 12th Gen                 12\n",
       "APPLE 2022 MacBook AIR M2             12\n",
       "DELL Core i5 11th Gen                 10\n",
       "DELL Inspiron Core i5 11th Gen         9\n",
       "HP Pavilion Intel Core i5 12th Gen     6\n",
       "Name: count, dtype: int64"
      ]
     },
     "execution_count": 39,
     "metadata": {},
     "output_type": "execute_result"
    }
   ],
   "source": [
    "laptop['name'].value_counts().head(5)"
   ]
  },
  {
   "cell_type": "code",
   "execution_count": 40,
   "metadata": {},
   "outputs": [
    {
     "data": {
      "text/html": [
       "<div>\n",
       "<style scoped>\n",
       "    .dataframe tbody tr th:only-of-type {\n",
       "        vertical-align: middle;\n",
       "    }\n",
       "\n",
       "    .dataframe tbody tr th {\n",
       "        vertical-align: top;\n",
       "    }\n",
       "\n",
       "    .dataframe thead th {\n",
       "        text-align: right;\n",
       "    }\n",
       "</style>\n",
       "<table border=\"1\" class=\"dataframe\">\n",
       "  <thead>\n",
       "    <tr style=\"text-align: right;\">\n",
       "      <th></th>\n",
       "      <th>laptop_id</th>\n",
       "      <th>name</th>\n",
       "      <th>processor</th>\n",
       "      <th>ram</th>\n",
       "      <th>os</th>\n",
       "      <th>storage</th>\n",
       "      <th>img_link</th>\n",
       "      <th>display</th>\n",
       "      <th>laptop_brand</th>\n",
       "      <th>os_brand</th>\n",
       "      <th>processor_brand</th>\n",
       "      <th>usecases</th>\n",
       "      <th>price_rm</th>\n",
       "    </tr>\n",
       "  </thead>\n",
       "  <tbody>\n",
       "    <tr>\n",
       "      <th>0</th>\n",
       "      <td>0</td>\n",
       "      <td>Lenovo Intel Core i5 11th Gen</td>\n",
       "      <td>Intel Core i5 Processor (11th Gen)</td>\n",
       "      <td>16 GB DDR4 RAM</td>\n",
       "      <td>Windows 11 Operating System</td>\n",
       "      <td>512 GB SSD</td>\n",
       "      <td>https://rukminim1.flixcart.com/image/312/312/x...</td>\n",
       "      <td>15.6</td>\n",
       "      <td>Lenovo</td>\n",
       "      <td>Windows</td>\n",
       "      <td>Intel</td>\n",
       "      <td>Office</td>\n",
       "      <td>3464.45</td>\n",
       "    </tr>\n",
       "  </tbody>\n",
       "</table>\n",
       "</div>"
      ],
      "text/plain": [
       "   laptop_id                           name  \\\n",
       "0          0  Lenovo Intel Core i5 11th Gen   \n",
       "\n",
       "                            processor             ram  \\\n",
       "0  Intel Core i5 Processor (11th Gen)  16 GB DDR4 RAM   \n",
       "\n",
       "                            os     storage  \\\n",
       "0  Windows 11 Operating System  512 GB SSD   \n",
       "\n",
       "                                            img_link display laptop_brand  \\\n",
       "0  https://rukminim1.flixcart.com/image/312/312/x...    15.6       Lenovo   \n",
       "\n",
       "  os_brand processor_brand usecases  price_rm  \n",
       "0  Windows           Intel   Office   3464.45  "
      ]
     },
     "execution_count": 40,
     "metadata": {},
     "output_type": "execute_result"
    }
   ],
   "source": [
    "laptop.head(1)"
   ]
  },
  {
   "cell_type": "code",
   "execution_count": 41,
   "metadata": {},
   "outputs": [],
   "source": [
    "laptop['processor'] = laptop['processor'].apply(lambda x:x.split())\n",
    "laptop['ram'] = laptop['ram'].apply(lambda x:x.split())\n",
    "laptop['os'] = laptop['os'].apply(lambda x:x.split())\n",
    "laptop['use'] = laptop['usecases'].apply(lambda x:x.split())\n",
    "laptop['display'] = laptop['display'].apply(lambda x:x.split())"
   ]
  },
  {
   "cell_type": "code",
   "execution_count": 42,
   "metadata": {},
   "outputs": [
    {
     "data": {
      "text/html": [
       "<div>\n",
       "<style scoped>\n",
       "    .dataframe tbody tr th:only-of-type {\n",
       "        vertical-align: middle;\n",
       "    }\n",
       "\n",
       "    .dataframe tbody tr th {\n",
       "        vertical-align: top;\n",
       "    }\n",
       "\n",
       "    .dataframe thead th {\n",
       "        text-align: right;\n",
       "    }\n",
       "</style>\n",
       "<table border=\"1\" class=\"dataframe\">\n",
       "  <thead>\n",
       "    <tr style=\"text-align: right;\">\n",
       "      <th></th>\n",
       "      <th>laptop_id</th>\n",
       "      <th>name</th>\n",
       "      <th>processor</th>\n",
       "      <th>ram</th>\n",
       "      <th>os</th>\n",
       "      <th>storage</th>\n",
       "      <th>img_link</th>\n",
       "      <th>display</th>\n",
       "      <th>laptop_brand</th>\n",
       "      <th>os_brand</th>\n",
       "      <th>processor_brand</th>\n",
       "      <th>usecases</th>\n",
       "      <th>price_rm</th>\n",
       "      <th>use</th>\n",
       "    </tr>\n",
       "  </thead>\n",
       "  <tbody>\n",
       "    <tr>\n",
       "      <th>0</th>\n",
       "      <td>0</td>\n",
       "      <td>Lenovo Intel Core i5 11th Gen</td>\n",
       "      <td>[Intel, Core, i5, Processor, (11th, Gen)]</td>\n",
       "      <td>[16, GB, DDR4, RAM]</td>\n",
       "      <td>[Windows, 11, Operating, System]</td>\n",
       "      <td>512 GB SSD</td>\n",
       "      <td>https://rukminim1.flixcart.com/image/312/312/x...</td>\n",
       "      <td>[15.6]</td>\n",
       "      <td>Lenovo</td>\n",
       "      <td>Windows</td>\n",
       "      <td>Intel</td>\n",
       "      <td>Office</td>\n",
       "      <td>3464.45</td>\n",
       "      <td>[Office]</td>\n",
       "    </tr>\n",
       "  </tbody>\n",
       "</table>\n",
       "</div>"
      ],
      "text/plain": [
       "   laptop_id                           name  \\\n",
       "0          0  Lenovo Intel Core i5 11th Gen   \n",
       "\n",
       "                                   processor                  ram  \\\n",
       "0  [Intel, Core, i5, Processor, (11th, Gen)]  [16, GB, DDR4, RAM]   \n",
       "\n",
       "                                 os     storage  \\\n",
       "0  [Windows, 11, Operating, System]  512 GB SSD   \n",
       "\n",
       "                                            img_link display laptop_brand  \\\n",
       "0  https://rukminim1.flixcart.com/image/312/312/x...  [15.6]       Lenovo   \n",
       "\n",
       "  os_brand processor_brand usecases  price_rm       use  \n",
       "0  Windows           Intel   Office   3464.45  [Office]  "
      ]
     },
     "execution_count": 42,
     "metadata": {},
     "output_type": "execute_result"
    }
   ],
   "source": [
    "laptop.head(1)"
   ]
  },
  {
   "cell_type": "code",
   "execution_count": 43,
   "metadata": {},
   "outputs": [
    {
     "data": {
      "text/plain": [
       "['Intel', 'Core', 'i5', 'Processor', '(11th', 'Gen)']"
      ]
     },
     "execution_count": 43,
     "metadata": {},
     "output_type": "execute_result"
    }
   ],
   "source": [
    "laptop.iloc[0]['processor']"
   ]
  },
  {
   "cell_type": "code",
   "execution_count": 44,
   "metadata": {},
   "outputs": [],
   "source": [
    "#Tag column creation\n",
    "#use concatenate to merge different attributes\n",
    "laptop['tags'] = laptop['processor']+laptop['ram']+laptop['os']+laptop['use']+laptop['display']"
   ]
  },
  {
   "cell_type": "code",
   "execution_count": 45,
   "metadata": {},
   "outputs": [
    {
     "data": {
      "text/plain": [
       "['Intel',\n",
       " 'Core',\n",
       " 'i5',\n",
       " 'Processor',\n",
       " '(11th',\n",
       " 'Gen)',\n",
       " '16',\n",
       " 'GB',\n",
       " 'DDR4',\n",
       " 'RAM',\n",
       " 'Windows',\n",
       " '11',\n",
       " 'Operating',\n",
       " 'System',\n",
       " 'Office',\n",
       " '15.6']"
      ]
     },
     "execution_count": 45,
     "metadata": {},
     "output_type": "execute_result"
    }
   ],
   "source": [
    "laptop.iloc[0]['tags']"
   ]
  },
  {
   "cell_type": "code",
   "execution_count": 46,
   "metadata": {},
   "outputs": [
    {
     "data": {
      "text/plain": [
       "(796, 15)"
      ]
     },
     "execution_count": 46,
     "metadata": {},
     "output_type": "execute_result"
    }
   ],
   "source": [
    "laptop.shape"
   ]
  },
  {
   "cell_type": "code",
   "execution_count": 47,
   "metadata": {},
   "outputs": [],
   "source": [
    "#new = laptop[['laptop_id','img_link','name','price_rm','laptop_brand','use','tags', 'processor','ram', 'os', 'storage']]\t\n",
    "\n",
    "rec_df = laptop[['laptop_id','name','tags', 'img_link', 'price_rm','laptop_brand','usecases', 'processor','ram', 'os', 'storage']] #create a new df and only store 3 specs/attributes"
   ]
  },
  {
   "cell_type": "code",
   "execution_count": 48,
   "metadata": {},
   "outputs": [
    {
     "name": "stderr",
     "output_type": "stream",
     "text": [
      "C:\\Users\\aiman\\AppData\\Local\\Temp\\ipykernel_21468\\1666404946.py:1: SettingWithCopyWarning: \n",
      "A value is trying to be set on a copy of a slice from a DataFrame\n",
      "\n",
      "See the caveats in the documentation: https://pandas.pydata.org/pandas-docs/stable/user_guide/indexing.html#returning-a-view-versus-a-copy\n",
      "  rec_df.rename(columns={'price_rm': 'price', 'laptop_brand': 'brand', 'usecases': 'use'}, inplace=True)\n"
     ]
    }
   ],
   "source": [
    "rec_df.rename(columns={'price_rm': 'price', 'laptop_brand': 'brand', 'usecases': 'use'}, inplace=True)"
   ]
  },
  {
   "cell_type": "code",
   "execution_count": 49,
   "metadata": {},
   "outputs": [
    {
     "data": {
      "text/plain": [
       "(796, 11)"
      ]
     },
     "execution_count": 49,
     "metadata": {},
     "output_type": "execute_result"
    }
   ],
   "source": [
    "rec_df.shape"
   ]
  },
  {
   "cell_type": "code",
   "execution_count": 50,
   "metadata": {},
   "outputs": [
    {
     "data": {
      "text/html": [
       "<div>\n",
       "<style scoped>\n",
       "    .dataframe tbody tr th:only-of-type {\n",
       "        vertical-align: middle;\n",
       "    }\n",
       "\n",
       "    .dataframe tbody tr th {\n",
       "        vertical-align: top;\n",
       "    }\n",
       "\n",
       "    .dataframe thead th {\n",
       "        text-align: right;\n",
       "    }\n",
       "</style>\n",
       "<table border=\"1\" class=\"dataframe\">\n",
       "  <thead>\n",
       "    <tr style=\"text-align: right;\">\n",
       "      <th></th>\n",
       "      <th>laptop_id</th>\n",
       "      <th>name</th>\n",
       "      <th>tags</th>\n",
       "      <th>img_link</th>\n",
       "      <th>price</th>\n",
       "      <th>brand</th>\n",
       "      <th>use</th>\n",
       "      <th>processor</th>\n",
       "      <th>ram</th>\n",
       "      <th>os</th>\n",
       "      <th>storage</th>\n",
       "    </tr>\n",
       "  </thead>\n",
       "  <tbody>\n",
       "    <tr>\n",
       "      <th>0</th>\n",
       "      <td>0</td>\n",
       "      <td>Lenovo Intel Core i5 11th Gen</td>\n",
       "      <td>[Intel, Core, i5, Processor, (11th, Gen), 16, ...</td>\n",
       "      <td>https://rukminim1.flixcart.com/image/312/312/x...</td>\n",
       "      <td>3464.45</td>\n",
       "      <td>Lenovo</td>\n",
       "      <td>Office</td>\n",
       "      <td>[Intel, Core, i5, Processor, (11th, Gen)]</td>\n",
       "      <td>[16, GB, DDR4, RAM]</td>\n",
       "      <td>[Windows, 11, Operating, System]</td>\n",
       "      <td>512 GB SSD</td>\n",
       "    </tr>\n",
       "    <tr>\n",
       "      <th>1</th>\n",
       "      <td>1</td>\n",
       "      <td>ASUS ROG Zephyrus G15 (2022) with 90Whr Batter...</td>\n",
       "      <td>[AMD, Ryzen, 9, Octa, Core, Processor, 16, GB,...</td>\n",
       "      <td>https://rukminim1.flixcart.com/image/312/312/l...</td>\n",
       "      <td>8909.45</td>\n",
       "      <td>ASUS</td>\n",
       "      <td>Gaming</td>\n",
       "      <td>[AMD, Ryzen, 9, Octa, Core, Processor]</td>\n",
       "      <td>[16, GB, DDR5, RAM]</td>\n",
       "      <td>[64, bit, Windows, 11, Operating, System]</td>\n",
       "      <td>1 TB SSD</td>\n",
       "    </tr>\n",
       "  </tbody>\n",
       "</table>\n",
       "</div>"
      ],
      "text/plain": [
       "   laptop_id                                               name  \\\n",
       "0          0                      Lenovo Intel Core i5 11th Gen   \n",
       "1          1  ASUS ROG Zephyrus G15 (2022) with 90Whr Batter...   \n",
       "\n",
       "                                                tags  \\\n",
       "0  [Intel, Core, i5, Processor, (11th, Gen), 16, ...   \n",
       "1  [AMD, Ryzen, 9, Octa, Core, Processor, 16, GB,...   \n",
       "\n",
       "                                            img_link    price   brand     use  \\\n",
       "0  https://rukminim1.flixcart.com/image/312/312/x...  3464.45  Lenovo  Office   \n",
       "1  https://rukminim1.flixcart.com/image/312/312/l...  8909.45    ASUS  Gaming   \n",
       "\n",
       "                                   processor                  ram  \\\n",
       "0  [Intel, Core, i5, Processor, (11th, Gen)]  [16, GB, DDR4, RAM]   \n",
       "1     [AMD, Ryzen, 9, Octa, Core, Processor]  [16, GB, DDR5, RAM]   \n",
       "\n",
       "                                          os     storage  \n",
       "0           [Windows, 11, Operating, System]  512 GB SSD  \n",
       "1  [64, bit, Windows, 11, Operating, System]    1 TB SSD  "
      ]
     },
     "execution_count": 50,
     "metadata": {},
     "output_type": "execute_result"
    }
   ],
   "source": [
    "rec_df.head(2)"
   ]
  },
  {
   "cell_type": "code",
   "execution_count": 51,
   "metadata": {},
   "outputs": [
    {
     "name": "stderr",
     "output_type": "stream",
     "text": [
      "C:\\Users\\aiman\\AppData\\Local\\Temp\\ipykernel_21468\\4088501178.py:1: SettingWithCopyWarning: \n",
      "A value is trying to be set on a copy of a slice from a DataFrame.\n",
      "Try using .loc[row_indexer,col_indexer] = value instead\n",
      "\n",
      "See the caveats in the documentation: https://pandas.pydata.org/pandas-docs/stable/user_guide/indexing.html#returning-a-view-versus-a-copy\n",
      "  rec_df['tags'] = rec_df['tags'].apply(lambda x:\" \".join(x)) #convert tags into paragraph format\n"
     ]
    }
   ],
   "source": [
    "rec_df['tags'] = rec_df['tags'].apply(lambda x:\" \".join(x)) #convert tags into paragraph format"
   ]
  },
  {
   "cell_type": "code",
   "execution_count": 52,
   "metadata": {},
   "outputs": [
    {
     "name": "stderr",
     "output_type": "stream",
     "text": [
      "C:\\Users\\aiman\\AppData\\Local\\Temp\\ipykernel_21468\\2212234119.py:1: SettingWithCopyWarning: \n",
      "A value is trying to be set on a copy of a slice from a DataFrame.\n",
      "Try using .loc[row_indexer,col_indexer] = value instead\n",
      "\n",
      "See the caveats in the documentation: https://pandas.pydata.org/pandas-docs/stable/user_guide/indexing.html#returning-a-view-versus-a-copy\n",
      "  rec_df['tags'] = rec_df['tags'].apply(lambda x:x.lower()) #convert tags into small letter\n"
     ]
    }
   ],
   "source": [
    "rec_df['tags'] = rec_df['tags'].apply(lambda x:x.lower()) #convert tags into small letter"
   ]
  },
  {
   "cell_type": "code",
   "execution_count": 53,
   "metadata": {},
   "outputs": [
    {
     "data": {
      "text/plain": [
       "'intel core i5 processor (11th gen) 16 gb ddr4 ram windows 11 operating system office 15.6'"
      ]
     },
     "execution_count": 53,
     "metadata": {},
     "output_type": "execute_result"
    }
   ],
   "source": [
    "rec_df.iloc[0]['tags']"
   ]
  },
  {
   "cell_type": "markdown",
   "metadata": {},
   "source": [
    "### 4. TF IDF"
   ]
  },
  {
   "cell_type": "code",
   "execution_count": 54,
   "metadata": {},
   "outputs": [],
   "source": [
    "#use stem to reduce words in the tags column to their base or root forms. For example, \"running\" might be reduced to \"run.\"\n",
    "#import nltk\n",
    "#from nltk.stem import PorterStemmer\n",
    "\n",
    "ps = PorterStemmer()"
   ]
  },
  {
   "cell_type": "code",
   "execution_count": 55,
   "metadata": {},
   "outputs": [],
   "source": [
    "def stem(text):\n",
    "    l=[]\n",
    "    for i in text.split():\n",
    "        l.append(ps.stem(i))\n",
    "\n",
    "    return \" \".join(l)"
   ]
  },
  {
   "cell_type": "code",
   "execution_count": 56,
   "metadata": {},
   "outputs": [
    {
     "name": "stderr",
     "output_type": "stream",
     "text": [
      "C:\\Users\\aiman\\AppData\\Local\\Temp\\ipykernel_21468\\3558667872.py:1: SettingWithCopyWarning: \n",
      "A value is trying to be set on a copy of a slice from a DataFrame.\n",
      "Try using .loc[row_indexer,col_indexer] = value instead\n",
      "\n",
      "See the caveats in the documentation: https://pandas.pydata.org/pandas-docs/stable/user_guide/indexing.html#returning-a-view-versus-a-copy\n",
      "  rec_df['tags'] = rec_df['tags'].apply(stem)\n"
     ]
    }
   ],
   "source": [
    "rec_df['tags'] = rec_df['tags'].apply(stem)"
   ]
  },
  {
   "cell_type": "code",
   "execution_count": 57,
   "metadata": {},
   "outputs": [],
   "source": [
    "#use vectorizer to vectorise the tags\n",
    "#from sklearn.feature_extraction.text import CountVectorizer\n",
    "cv = CountVectorizer(max_features=5000, stop_words='english')\n",
    "\n",
    "#max feature means can consider 5000 frequent word\n",
    "#stop word will remove word 'in', 'the, etc, word that dont have meaning"
   ]
  },
  {
   "cell_type": "code",
   "execution_count": 58,
   "metadata": {},
   "outputs": [],
   "source": [
    "vector = cv.fit_transform(rec_df['tags']).toarray()"
   ]
  },
  {
   "cell_type": "code",
   "execution_count": 59,
   "metadata": {},
   "outputs": [
    {
     "data": {
      "text/plain": [
       "array([[0, 0, 1, ..., 0, 0, 1],\n",
       "       [0, 0, 1, ..., 0, 0, 1],\n",
       "       [0, 1, 1, ..., 0, 0, 1],\n",
       "       ...,\n",
       "       [0, 0, 1, ..., 0, 0, 1],\n",
       "       [0, 0, 1, ..., 0, 0, 1],\n",
       "       [0, 1, 1, ..., 0, 0, 1]], dtype=int64)"
      ]
     },
     "execution_count": 59,
     "metadata": {},
     "output_type": "execute_result"
    }
   ],
   "source": [
    "vector"
   ]
  },
  {
   "cell_type": "code",
   "execution_count": 60,
   "metadata": {},
   "outputs": [
    {
     "data": {
      "text/plain": [
       "(796, 74)"
      ]
     },
     "execution_count": 60,
     "metadata": {},
     "output_type": "execute_result"
    }
   ],
   "source": [
    "vector.shape"
   ]
  },
  {
   "cell_type": "code",
   "execution_count": 61,
   "metadata": {},
   "outputs": [
    {
     "data": {
      "text/plain": [
       "\"# Get feature names (unique words) and their counts\\nfeature_names = cv.get_feature_names_out()\\nword_counts = vector.sum(axis=0)  # Sum the occurrences of each word across all rows\\n\\n# Convert to a DataFrame for visualization\\nword_freq_df = pd.DataFrame({'Word': feature_names, 'Count': word_counts.tolist()[0]})\\nword_freq_df = word_freq_df.sort_values(by='Count', ascending=False)\\n\\n# Plot the top 15 words\\nplt.figure(figsize=(12, 6))\\nplt.bar(word_freq_df['Word'][:15], word_freq_df['Count'][:15], color='orange')\\nplt.title('Top 15 Words in Tags Column')\\nplt.xticks(rotation=45)\\nplt.xlabel('Words')\\nplt.ylabel('Frequency')\\nplt.show()\""
      ]
     },
     "execution_count": 61,
     "metadata": {},
     "output_type": "execute_result"
    }
   ],
   "source": [
    "'''# Get feature names (unique words) and their counts\n",
    "feature_names = cv.get_feature_names_out()\n",
    "word_counts = vector.sum(axis=0)  # Sum the occurrences of each word across all rows\n",
    "\n",
    "# Convert to a DataFrame for visualization\n",
    "word_freq_df = pd.DataFrame({'Word': feature_names, 'Count': word_counts.tolist()[0]})\n",
    "word_freq_df = word_freq_df.sort_values(by='Count', ascending=False)\n",
    "\n",
    "# Plot the top 15 words\n",
    "plt.figure(figsize=(12, 6))\n",
    "plt.bar(word_freq_df['Word'][:15], word_freq_df['Count'][:15], color='orange')\n",
    "plt.title('Top 15 Words in Tags Column')\n",
    "plt.xticks(rotation=45)\n",
    "plt.xlabel('Words')\n",
    "plt.ylabel('Frequency')\n",
    "plt.show()'''"
   ]
  },
  {
   "cell_type": "code",
   "execution_count": 62,
   "metadata": {},
   "outputs": [
    {
     "data": {
      "text/plain": [
       "'subset = vector[:10, :10]\\n\\n# Create a heatmap\\nplt.figure(figsize=(10, 6))\\nsns.heatmap(subset, annot=True, cmap=\"YlGnBu\", xticklabels=feature_names[:10], yticklabels=range(1, 11))\\nplt.title(\\'Heatmap of TF-IDF Values (First 10 Rows and Columns)\\')\\nplt.xlabel(\\'Words\\')\\nplt.ylabel(\\'Instances\\')\\nplt.show()'"
      ]
     },
     "execution_count": 62,
     "metadata": {},
     "output_type": "execute_result"
    }
   ],
   "source": [
    "'''subset = vector[:10, :10]\n",
    "\n",
    "# Create a heatmap\n",
    "plt.figure(figsize=(10, 6))\n",
    "sns.heatmap(subset, annot=True, cmap=\"YlGnBu\", xticklabels=feature_names[:10], yticklabels=range(1, 11))\n",
    "plt.title('Heatmap of TF-IDF Values (First 10 Rows and Columns)')\n",
    "plt.xlabel('Words')\n",
    "plt.ylabel('Instances')\n",
    "plt.show()'''"
   ]
  },
  {
   "cell_type": "markdown",
   "metadata": {},
   "source": [
    "### 5. COSINE SIMILARITY"
   ]
  },
  {
   "cell_type": "code",
   "execution_count": 63,
   "metadata": {},
   "outputs": [],
   "source": [
    "from sklearn.metrics.pairwise import cosine_similarity"
   ]
  },
  {
   "cell_type": "code",
   "execution_count": 64,
   "metadata": {},
   "outputs": [],
   "source": [
    "similarity = cosine_similarity(vector)"
   ]
  },
  {
   "cell_type": "code",
   "execution_count": 65,
   "metadata": {},
   "outputs": [
    {
     "data": {
      "text/plain": [
       "array([[1.        , 0.5809475 , 0.71004695, ..., 0.5728919 , 0.83914639,\n",
       "        0.73333333],\n",
       "       [0.5809475 , 1.        , 0.625     , ..., 0.69337525, 0.625     ,\n",
       "        0.45184806],\n",
       "       [0.71004695, 0.625     , 1.        , ..., 0.5547002 , 0.875     ,\n",
       "        0.71004695],\n",
       "       ...,\n",
       "       [0.5728919 , 0.69337525, 0.5547002 , ..., 1.        , 0.5547002 ,\n",
       "        0.64450339],\n",
       "       [0.83914639, 0.625     , 0.875     , ..., 0.5547002 , 1.        ,\n",
       "        0.71004695],\n",
       "       [0.73333333, 0.45184806, 0.71004695, ..., 0.64450339, 0.71004695,\n",
       "        1.        ]])"
      ]
     },
     "execution_count": 65,
     "metadata": {},
     "output_type": "execute_result"
    }
   ],
   "source": [
    "similarity #similarity != distance"
   ]
  },
  {
   "cell_type": "code",
   "execution_count": 66,
   "metadata": {},
   "outputs": [
    {
     "data": {
      "text/plain": [
       "(796, 796)"
      ]
     },
     "execution_count": 66,
     "metadata": {},
     "output_type": "execute_result"
    }
   ],
   "source": [
    "similarity.shape "
   ]
  },
  {
   "cell_type": "code",
   "execution_count": 67,
   "metadata": {},
   "outputs": [
    {
     "data": {
      "text/plain": [
       "(796, 11)"
      ]
     },
     "execution_count": 67,
     "metadata": {},
     "output_type": "execute_result"
    }
   ],
   "source": [
    "rec_df.shape"
   ]
  },
  {
   "cell_type": "code",
   "execution_count": 68,
   "metadata": {},
   "outputs": [
    {
     "data": {
      "text/plain": [
       "0.9999999999999998"
      ]
     },
     "execution_count": 68,
     "metadata": {},
     "output_type": "execute_result"
    }
   ],
   "source": [
    "similarity[0][0]"
   ]
  },
  {
   "cell_type": "code",
   "execution_count": 69,
   "metadata": {},
   "outputs": [
    {
     "data": {
      "text/plain": [
       "\"plt.figure(figsize=(5, 5))  # Adjust the size to fit the data\\nsns.heatmap(similarity[:100, :100], cmap='coolwarm', annot=False, fmt='.2f', linewidths=0.5)\\n\\n# Set title and labels\\nplt.title('Cosine Similarity Matrix of Laptops', fontsize=16)\\nplt.xlabel('Laptop Instances', fontsize=12)\\nplt.ylabel('Laptop Instances', fontsize=12)\\n\\n# Show the plot\\nplt.show()\""
      ]
     },
     "execution_count": 69,
     "metadata": {},
     "output_type": "execute_result"
    }
   ],
   "source": [
    "'''plt.figure(figsize=(5, 5))  # Adjust the size to fit the data\n",
    "sns.heatmap(similarity[:100, :100], cmap='coolwarm', annot=False, fmt='.2f', linewidths=0.5)\n",
    "\n",
    "# Set title and labels\n",
    "plt.title('Cosine Similarity Matrix of Laptops', fontsize=16)\n",
    "plt.xlabel('Laptop Instances', fontsize=12)\n",
    "plt.ylabel('Laptop Instances', fontsize=12)\n",
    "\n",
    "# Show the plot\n",
    "plt.show()'''"
   ]
  },
  {
   "cell_type": "code",
   "execution_count": 70,
   "metadata": {},
   "outputs": [
    {
     "data": {
      "text/plain": [
       "\"from sklearn.decomposition import PCA\\n\\n# Reduce the similarity matrix to 2D\\npca = PCA(n_components=2)\\nreduced_data = pca.fit_transform(similarity)\\n\\n# Plot the reduced data\\nplt.scatter(reduced_data[:, 0], reduced_data[:, 1], c='blue', alpha=0.6)\\nplt.title('2D PCA Visualization of Cosine Similarity')\\nplt.xlabel('Principal Component 1')\\nplt.ylabel('Principal Component 2')\\nplt.show()\\n\""
      ]
     },
     "execution_count": 70,
     "metadata": {},
     "output_type": "execute_result"
    }
   ],
   "source": [
    "'''from sklearn.decomposition import PCA\n",
    "\n",
    "# Reduce the similarity matrix to 2D\n",
    "pca = PCA(n_components=2)\n",
    "reduced_data = pca.fit_transform(similarity)\n",
    "\n",
    "# Plot the reduced data\n",
    "plt.scatter(reduced_data[:, 0], reduced_data[:, 1], c='blue', alpha=0.6)\n",
    "plt.title('2D PCA Visualization of Cosine Similarity')\n",
    "plt.xlabel('Principal Component 1')\n",
    "plt.ylabel('Principal Component 2')\n",
    "plt.show()\n",
    "'''"
   ]
  },
  {
   "cell_type": "markdown",
   "metadata": {},
   "source": [
    "### 6. RECOMMENDING FUNCTION"
   ]
  },
  {
   "cell_type": "code",
   "execution_count": 71,
   "metadata": {},
   "outputs": [
    {
     "data": {
      "text/plain": [
       "[(1, 1.0),\n",
       " (30, 1.0),\n",
       " (97, 1.0),\n",
       " (336, 1.0),\n",
       " (341, 1.0),\n",
       " (384, 1.0),\n",
       " (429, 1.0),\n",
       " (666, 1.0),\n",
       " (726, 1.0),\n",
       " (669, 0.9682458365518538),\n",
       " (287, 0.9428090415820631),\n",
       " (317, 0.9428090415820631),\n",
       " (414, 0.9428090415820631),\n",
       " (478, 0.9428090415820631),\n",
       " (608, 0.9428090415820631),\n",
       " (624, 0.9428090415820631),\n",
       " (72, 0.9375),\n",
       " (83, 0.9375),\n",
       " (90, 0.9375),\n",
       " (142, 0.9375),\n",
       " (158, 0.9375),\n",
       " (161, 0.9375),\n",
       " (166, 0.9375),\n",
       " (219, 0.9375),\n",
       " (238, 0.9375),\n",
       " (256, 0.9375),\n",
       " (322, 0.9375),\n",
       " (325, 0.9375),\n",
       " (357, 0.9375),\n",
       " (364, 0.9375),\n",
       " (379, 0.9375),\n",
       " (590, 0.9375),\n",
       " (754, 0.9375),\n",
       " (772, 0.9375),\n",
       " (775, 0.9375),\n",
       " (231, 0.9354143466934851),\n",
       " (295, 0.9354143466934851),\n",
       " (345, 0.9354143466934851),\n",
       " (420, 0.9354143466934851),\n",
       " (494, 0.9354143466934851),\n",
       " (633, 0.9354143466934851),\n",
       " (709, 0.9354143466934851),\n",
       " (718, 0.9354143466934851),\n",
       " (50, 0.9036961141150636),\n",
       " (100, 0.9036961141150636),\n",
       " (164, 0.9036961141150636),\n",
       " (217, 0.9036961141150636),\n",
       " (243, 0.9036961141150636),\n",
       " (302, 0.9036961141150636),\n",
       " (444, 0.9036961141150636),\n",
       " (215, 0.8838834764831842),\n",
       " (235, 0.8838834764831842),\n",
       " (244, 0.8838834764831842),\n",
       " (461, 0.8838834764831842),\n",
       " (474, 0.8838834764831842),\n",
       " (619, 0.8838834764831842),\n",
       " (31, 0.875),\n",
       " (95, 0.875),\n",
       " (99, 0.875),\n",
       " (115, 0.875),\n",
       " (130, 0.875),\n",
       " (218, 0.875),\n",
       " (249, 0.875),\n",
       " (263, 0.875),\n",
       " (292, 0.875),\n",
       " (346, 0.875),\n",
       " (371, 0.875),\n",
       " (410, 0.875),\n",
       " (448, 0.875),\n",
       " (462, 0.875),\n",
       " (473, 0.875),\n",
       " (512, 0.875),\n",
       " (517, 0.875),\n",
       " (533, 0.875),\n",
       " (568, 0.875),\n",
       " (606, 0.875),\n",
       " (617, 0.875),\n",
       " (446, 0.868599036215379),\n",
       " (502, 0.868599036215379),\n",
       " (660, 0.868599036215379),\n",
       " (770, 0.868599036215379),\n",
       " (54, 0.8391463916782733),\n",
       " (58, 0.8391463916782733),\n",
       " (197, 0.8391463916782733),\n",
       " (221, 0.8391463916782733),\n",
       " (245, 0.8391463916782733),\n",
       " (274, 0.8391463916782733),\n",
       " (278, 0.8391463916782733),\n",
       " (284, 0.8391463916782733),\n",
       " (315, 0.8391463916782733),\n",
       " (440, 0.8391463916782733),\n",
       " (503, 0.8391463916782733),\n",
       " (505, 0.8391463916782733),\n",
       " (522, 0.8391463916782733),\n",
       " (554, 0.8391463916782733),\n",
       " (584, 0.8391463916782733),\n",
       " (603, 0.8391463916782733),\n",
       " (703, 0.8391463916782733),\n",
       " (279, 0.8249579113843053),\n",
       " (541, 0.8249579113843053),\n",
       " (773, 0.8249579113843053),\n",
       " (15, 0.8125),\n",
       " (124, 0.8125),\n",
       " (148, 0.8125),\n",
       " (162, 0.8125),\n",
       " (227, 0.8125),\n",
       " (342, 0.8125),\n",
       " (348, 0.8125),\n",
       " (374, 0.8125),\n",
       " (387, 0.8125),\n",
       " (450, 0.8125),\n",
       " (507, 0.8125),\n",
       " (601, 0.8125),\n",
       " (653, 0.8125),\n",
       " (731, 0.8125),\n",
       " (75, 0.801783725737273),\n",
       " (193, 0.801783725737273),\n",
       " (199, 0.801783725737273),\n",
       " (234, 0.801783725737273),\n",
       " (436, 0.801783725737273),\n",
       " (441, 0.801783725737273),\n",
       " (510, 0.801783725737273),\n",
       " (107, 0.7882407813680824),\n",
       " (192, 0.7882407813680824),\n",
       " (194, 0.7882407813680824),\n",
       " (298, 0.7882407813680824),\n",
       " (314, 0.7882407813680824),\n",
       " (319, 0.7882407813680824),\n",
       " (372, 0.7882407813680824),\n",
       " (424, 0.7882407813680824),\n",
       " (595, 0.7882407813680824),\n",
       " (632, 0.7882407813680824),\n",
       " (737, 0.7882407813680824),\n",
       " (627, 0.7826237921249266),\n",
       " (8, 0.7745966692414831),\n",
       " (16, 0.7745966692414831),\n",
       " (21, 0.7745966692414831),\n",
       " (27, 0.7745966692414831),\n",
       " (71, 0.7745966692414831),\n",
       " (133, 0.7745966692414831),\n",
       " (144, 0.7745966692414831),\n",
       " (156, 0.7745966692414831),\n",
       " (165, 0.7745966692414831),\n",
       " (178, 0.7745966692414831),\n",
       " (206, 0.7745966692414831),\n",
       " (208, 0.7745966692414831),\n",
       " (210, 0.7745966692414831),\n",
       " (280, 0.7745966692414831),\n",
       " (283, 0.7745966692414831),\n",
       " (288, 0.7745966692414831),\n",
       " (333, 0.7745966692414831),\n",
       " (366, 0.7745966692414831),\n",
       " (376, 0.7745966692414831),\n",
       " (377, 0.7745966692414831),\n",
       " (378, 0.7745966692414831),\n",
       " (383, 0.7745966692414831),\n",
       " (399, 0.7745966692414831),\n",
       " (432, 0.7745966692414831),\n",
       " (456, 0.7745966692414831),\n",
       " (489, 0.7745966692414831),\n",
       " (501, 0.7745966692414831),\n",
       " (508, 0.7745966692414831),\n",
       " (519, 0.7745966692414831),\n",
       " (528, 0.7745966692414831),\n",
       " (563, 0.7745966692414831),\n",
       " (599, 0.7745966692414831),\n",
       " (607, 0.7745966692414831),\n",
       " (611, 0.7745966692414831),\n",
       " (612, 0.7745966692414831),\n",
       " (615, 0.7745966692414831),\n",
       " (621, 0.7745966692414831),\n",
       " (649, 0.7745966692414831),\n",
       " (654, 0.7745966692414831),\n",
       " (659, 0.7745966692414831),\n",
       " (664, 0.7745966692414831),\n",
       " (767, 0.7745966692414831),\n",
       " (774, 0.7745966692414831),\n",
       " (66, 0.7660323462854264),\n",
       " (184, 0.7660323462854264),\n",
       " (506, 0.7627127698096903),\n",
       " (594, 0.7627127698096903),\n",
       " (711, 0.7627127698096903),\n",
       " (94, 0.75),\n",
       " (119, 0.75),\n",
       " (146, 0.75),\n",
       " (152, 0.75),\n",
       " (173, 0.75),\n",
       " (312, 0.75),\n",
       " (497, 0.75),\n",
       " (516, 0.75),\n",
       " (581, 0.75),\n",
       " (600, 0.75),\n",
       " (616, 0.75),\n",
       " (629, 0.75),\n",
       " (637, 0.75),\n",
       " (753, 0.75),\n",
       " (188, 0.7456011350793256),\n",
       " (306, 0.7456011350793256),\n",
       " (350, 0.7456011350793256),\n",
       " (362, 0.7456011350793256),\n",
       " (481, 0.7456011350793256),\n",
       " (681, 0.7349684152591669),\n",
       " (39, 0.7276068751089991),\n",
       " (120, 0.7276068751089991),\n",
       " (153, 0.7276068751089991),\n",
       " (155, 0.7276068751089991),\n",
       " (200, 0.7276068751089991),\n",
       " (203, 0.7276068751089991),\n",
       " (213, 0.7276068751089991),\n",
       " (228, 0.7276068751089991),\n",
       " (233, 0.7276068751089991),\n",
       " (267, 0.7276068751089991),\n",
       " (309, 0.7276068751089991),\n",
       " (313, 0.7276068751089991),\n",
       " (328, 0.7276068751089991),\n",
       " (380, 0.7276068751089991),\n",
       " (395, 0.7276068751089991),\n",
       " (425, 0.7276068751089991),\n",
       " (525, 0.7276068751089991),\n",
       " (532, 0.7276068751089991),\n",
       " (569, 0.7276068751089991),\n",
       " (579, 0.7276068751089991),\n",
       " (587, 0.7276068751089991),\n",
       " (598, 0.7276068751089991),\n",
       " (641, 0.7276068751089991),\n",
       " (668, 0.7276068751089991),\n",
       " (693, 0.7276068751089991),\n",
       " (743, 0.7276068751089991),\n",
       " (780, 0.7276068751089991),\n",
       " (787, 0.7276068751089991),\n",
       " (26, 0.7100469468046928),\n",
       " (35, 0.7100469468046928),\n",
       " (68, 0.7100469468046928),\n",
       " (80, 0.7100469468046928),\n",
       " (159, 0.7100469468046928),\n",
       " (160, 0.7100469468046928),\n",
       " (167, 0.7100469468046928),\n",
       " (190, 0.7100469468046928),\n",
       " (191, 0.7100469468046928),\n",
       " (222, 0.7100469468046928),\n",
       " (262, 0.7100469468046928),\n",
       " (264, 0.7100469468046928),\n",
       " (276, 0.7100469468046928),\n",
       " (282, 0.7100469468046928),\n",
       " (338, 0.7100469468046928),\n",
       " (442, 0.7100469468046928),\n",
       " (534, 0.7100469468046928),\n",
       " (546, 0.7100469468046928),\n",
       " (573, 0.7100469468046928),\n",
       " (591, 0.7100469468046928),\n",
       " (665, 0.7100469468046928),\n",
       " (704, 0.7100469468046928),\n",
       " (752, 0.7100469468046928),\n",
       " (783, 0.7100469468046928),\n",
       " (428, 0.7071067811865475),\n",
       " (490, 0.7071067811865475),\n",
       " (223, 0.6933752452815366),\n",
       " (394, 0.6933752452815366),\n",
       " (491, 0.6933752452815366),\n",
       " (500, 0.6933752452815366),\n",
       " (570, 0.6933752452815366),\n",
       " (751, 0.6933752452815366),\n",
       " (782, 0.6933752452815366),\n",
       " (793, 0.6933752452815365),\n",
       " (82, 0.6882472016116852),\n",
       " (451, 0.6882472016116852),\n",
       " (676, 0.6882472016116852),\n",
       " (147, 0.6875),\n",
       " (187, 0.6875),\n",
       " (255, 0.6875),\n",
       " (257, 0.6875),\n",
       " (261, 0.6875),\n",
       " (402, 0.6875),\n",
       " (435, 0.6875),\n",
       " (464, 0.6875),\n",
       " (523, 0.6875),\n",
       " (530, 0.6875),\n",
       " (663, 0.6875),\n",
       " (674, 0.6875),\n",
       " (675, 0.6875),\n",
       " (785, 0.6875),\n",
       " (70, 0.6681531047810608),\n",
       " (78, 0.6681531047810608),\n",
       " (722, 0.6681531047810608),\n",
       " (45, 0.6669729688499159),\n",
       " (55, 0.6669729688499159),\n",
       " (57, 0.6669729688499159),\n",
       " (84, 0.6669729688499159),\n",
       " (102, 0.6669729688499159),\n",
       " (104, 0.6669729688499159),\n",
       " (105, 0.6669729688499159),\n",
       " (117, 0.6669729688499159),\n",
       " (123, 0.6669729688499159),\n",
       " (129, 0.6669729688499159),\n",
       " (137, 0.6669729688499159),\n",
       " (140, 0.6669729688499159),\n",
       " (168, 0.6669729688499159),\n",
       " (169, 0.6669729688499159),\n",
       " (172, 0.6669729688499159),\n",
       " (175, 0.6669729688499159),\n",
       " (180, 0.6669729688499159),\n",
       " (183, 0.6669729688499159),\n",
       " (185, 0.6669729688499159),\n",
       " (189, 0.6669729688499159),\n",
       " (196, 0.6669729688499159),\n",
       " (201, 0.6669729688499159),\n",
       " (214, 0.6669729688499159),\n",
       " (251, 0.6669729688499159),\n",
       " (259, 0.6669729688499159),\n",
       " (266, 0.6669729688499159),\n",
       " (271, 0.6669729688499159),\n",
       " (293, 0.6669729688499159),\n",
       " (296, 0.6669729688499159),\n",
       " (311, 0.6669729688499159),\n",
       " (318, 0.6669729688499159),\n",
       " (331, 0.6669729688499159),\n",
       " (340, 0.6669729688499159),\n",
       " (351, 0.6669729688499159),\n",
       " (352, 0.6669729688499159),\n",
       " (359, 0.6669729688499159),\n",
       " (360, 0.6669729688499159),\n",
       " (373, 0.6669729688499159),\n",
       " (388, 0.6669729688499159),\n",
       " (418, 0.6669729688499159),\n",
       " (430, 0.6669729688499159),\n",
       " (437, 0.6669729688499159),\n",
       " (439, 0.6669729688499159),\n",
       " (443, 0.6669729688499159),\n",
       " (524, 0.6669729688499159),\n",
       " (555, 0.6669729688499159),\n",
       " (556, 0.6669729688499159),\n",
       " (602, 0.6669729688499159),\n",
       " (651, 0.6669729688499159),\n",
       " (658, 0.6669729688499159),\n",
       " (678, 0.6669729688499159),\n",
       " (682, 0.6669729688499159),\n",
       " (695, 0.6669729688499159),\n",
       " (715, 0.6669729688499159),\n",
       " (732, 0.6669729688499159),\n",
       " (789, 0.6669729688499159),\n",
       " (411, 0.6481812160876685),\n",
       " (416, 0.6481812160876685),\n",
       " (24, 0.6454972243679026),\n",
       " (44, 0.6454972243679026),\n",
       " (65, 0.6454972243679026),\n",
       " (127, 0.6454972243679026),\n",
       " (224, 0.6454972243679026),\n",
       " (272, 0.6454972243679026),\n",
       " (337, 0.6454972243679026),\n",
       " (403, 0.6454972243679026),\n",
       " (409, 0.6454972243679026),\n",
       " (422, 0.6454972243679026),\n",
       " (452, 0.6454972243679026),\n",
       " (460, 0.6454972243679026),\n",
       " (526, 0.6454972243679026),\n",
       " (540, 0.6454972243679026),\n",
       " (544, 0.6454972243679026),\n",
       " (577, 0.6454972243679026),\n",
       " (642, 0.6454972243679026),\n",
       " (686, 0.6454972243679026),\n",
       " (728, 0.6454972243679026),\n",
       " (108, 0.6308932681440448),\n",
       " (326, 0.6308932681440448),\n",
       " (438, 0.6308932681440448),\n",
       " (477, 0.6308932681440448),\n",
       " (514, 0.6308932681440448),\n",
       " (518, 0.6308932681440448),\n",
       " (583, 0.6308932681440448),\n",
       " (723, 0.6308932681440448),\n",
       " (2, 0.625),\n",
       " (6, 0.625),\n",
       " (10, 0.625),\n",
       " (19, 0.625),\n",
       " (20, 0.625),\n",
       " (25, 0.625),\n",
       " (28, 0.625),\n",
       " (32, 0.625),\n",
       " (33, 0.625),\n",
       " (37, 0.625),\n",
       " (41, 0.625),\n",
       " (43, 0.625),\n",
       " (47, 0.625),\n",
       " (73, 0.625),\n",
       " (74, 0.625),\n",
       " (81, 0.625),\n",
       " (103, 0.625),\n",
       " (106, 0.625),\n",
       " (118, 0.625),\n",
       " (134, 0.625),\n",
       " (135, 0.625),\n",
       " (141, 0.625),\n",
       " (151, 0.625),\n",
       " (154, 0.625),\n",
       " (182, 0.625),\n",
       " (195, 0.625),\n",
       " (204, 0.625),\n",
       " (207, 0.625),\n",
       " (212, 0.625),\n",
       " (232, 0.625),\n",
       " (239, 0.625),\n",
       " (241, 0.625),\n",
       " (242, 0.625),\n",
       " (285, 0.625),\n",
       " (286, 0.625),\n",
       " (304, 0.625),\n",
       " (307, 0.625),\n",
       " (320, 0.625),\n",
       " (321, 0.625),\n",
       " (327, 0.625),\n",
       " (349, 0.625),\n",
       " (354, 0.625),\n",
       " (358, 0.625),\n",
       " (370, 0.625),\n",
       " (385, 0.625),\n",
       " (396, 0.625),\n",
       " (401, 0.625),\n",
       " (407, 0.625),\n",
       " (426, 0.625),\n",
       " (434, 0.625),\n",
       " (445, 0.625),\n",
       " (449, 0.625),\n",
       " (457, 0.625),\n",
       " (465, 0.625),\n",
       " (468, 0.625),\n",
       " (476, 0.625),\n",
       " (480, 0.625),\n",
       " (482, 0.625),\n",
       " (509, 0.625),\n",
       " (513, 0.625),\n",
       " (520, 0.625),\n",
       " (550, 0.625),\n",
       " (553, 0.625),\n",
       " (566, 0.625),\n",
       " (571, 0.625),\n",
       " (614, 0.625),\n",
       " (635, 0.625),\n",
       " (645, 0.625),\n",
       " (652, 0.625),\n",
       " (661, 0.625),\n",
       " (670, 0.625),\n",
       " (683, 0.625),\n",
       " (684, 0.625),\n",
       " (685, 0.625),\n",
       " (689, 0.625),\n",
       " (700, 0.625),\n",
       " (706, 0.625),\n",
       " (707, 0.625),\n",
       " (708, 0.625),\n",
       " (724, 0.625),\n",
       " (725, 0.625),\n",
       " (738, 0.625),\n",
       " (740, 0.625),\n",
       " (748, 0.625),\n",
       " (755, 0.625),\n",
       " (756, 0.625),\n",
       " (757, 0.625),\n",
       " (766, 0.625),\n",
       " (776, 0.625),\n",
       " (778, 0.625),\n",
       " (790, 0.625),\n",
       " (794, 0.625),\n",
       " (463, 0.6240377207533829),\n",
       " (9, 0.6063390625908326),\n",
       " (17, 0.6063390625908326),\n",
       " (40, 0.6063390625908326),\n",
       " (69, 0.6063390625908326),\n",
       " (89, 0.6063390625908326),\n",
       " (98, 0.6063390625908326),\n",
       " (111, 0.6063390625908326),\n",
       " (113, 0.6063390625908326),\n",
       " (205, 0.6063390625908326),\n",
       " (211, 0.6063390625908326),\n",
       " (229, 0.6063390625908326),\n",
       " (237, 0.6063390625908326),\n",
       " (247, 0.6063390625908326),\n",
       " (270, 0.6063390625908326),\n",
       " (275, 0.6063390625908326),\n",
       " (281, 0.6063390625908326),\n",
       " (303, 0.6063390625908326),\n",
       " (305, 0.6063390625908326),\n",
       " (369, 0.6063390625908326),\n",
       " (382, 0.6063390625908326),\n",
       " (393, 0.6063390625908326),\n",
       " (413, 0.6063390625908326),\n",
       " (493, 0.6063390625908326),\n",
       " (496, 0.6063390625908326),\n",
       " (529, 0.6063390625908326),\n",
       " (552, 0.6063390625908326),\n",
       " (562, 0.6063390625908326),\n",
       " (565, 0.6063390625908326),\n",
       " (596, 0.6063390625908326),\n",
       " (623, 0.6063390625908326),\n",
       " (638, 0.6063390625908326),\n",
       " (646, 0.6063390625908326),\n",
       " (648, 0.6063390625908326),\n",
       " (657, 0.6063390625908326),\n",
       " (694, 0.6063390625908326),\n",
       " (696, 0.6063390625908326),\n",
       " (714, 0.6063390625908326),\n",
       " (742, 0.6063390625908326),\n",
       " (750, 0.6063390625908326),\n",
       " (759, 0.6063390625908326),\n",
       " (788, 0.6063390625908326),\n",
       " (791, 0.6063390625908326),\n",
       " (122, 0.6013377943029548),\n",
       " (138, 0.6013377943029548),\n",
       " (471, 0.6013377943029548),\n",
       " (535, 0.6013377943029548),\n",
       " (542, 0.6013377943029548),\n",
       " (545, 0.6013377943029548),\n",
       " (0, 0.5809475019311123),\n",
       " (5, 0.5809475019311123),\n",
       " (11, 0.5809475019311123),\n",
       " (29, 0.5809475019311123),\n",
       " (61, 0.5809475019311123),\n",
       " (109, 0.5809475019311123),\n",
       " (131, 0.5809475019311123),\n",
       " (145, 0.5809475019311123),\n",
       " (181, 0.5809475019311123),\n",
       " (220, 0.5809475019311123),\n",
       " (258, 0.5809475019311123),\n",
       " (277, 0.5809475019311123),\n",
       " (297, 0.5809475019311123),\n",
       " (316, 0.5809475019311123),\n",
       " (343, 0.5809475019311123),\n",
       " (406, 0.5809475019311123),\n",
       " (415, 0.5809475019311123),\n",
       " (527, 0.5809475019311123),\n",
       " (538, 0.5809475019311123),\n",
       " (589, 0.5809475019311123),\n",
       " (631, 0.5809475019311123),\n",
       " (650, 0.5809475019311123),\n",
       " (688, 0.5809475019311123),\n",
       " (697, 0.5809475019311123),\n",
       " (720, 0.5809475019311123),\n",
       " (745, 0.5809475019311123),\n",
       " (749, 0.5809475019311123),\n",
       " (784, 0.5809475019311123),\n",
       " (386, 0.5735393346764044),\n",
       " (14, 0.5625),\n",
       " (22, 0.5625),\n",
       " (36, 0.5625),\n",
       " (46, 0.5625),\n",
       " (51, 0.5625),\n",
       " (52, 0.5625),\n",
       " (60, 0.5625),\n",
       " (64, 0.5625),\n",
       " (67, 0.5625),\n",
       " (77, 0.5625),\n",
       " (91, 0.5625),\n",
       " (92, 0.5625),\n",
       " (112, 0.5625),\n",
       " (128, 0.5625),\n",
       " (176, 0.5625),\n",
       " (177, 0.5625),\n",
       " (250, 0.5625),\n",
       " (252, 0.5625),\n",
       " (268, 0.5625),\n",
       " (269, 0.5625),\n",
       " (308, 0.5625),\n",
       " (310, 0.5625),\n",
       " (323, 0.5625),\n",
       " (324, 0.5625),\n",
       " (329, 0.5625),\n",
       " (335, 0.5625),\n",
       " (339, 0.5625),\n",
       " (361, 0.5625),\n",
       " (381, 0.5625),\n",
       " (389, 0.5625),\n",
       " (391, 0.5625),\n",
       " (398, 0.5625),\n",
       " (404, 0.5625),\n",
       " (408, 0.5625),\n",
       " (419, 0.5625),\n",
       " (454, 0.5625),\n",
       " (455, 0.5625),\n",
       " (458, 0.5625),\n",
       " (467, 0.5625),\n",
       " (470, 0.5625),\n",
       " (484, 0.5625),\n",
       " (537, 0.5625),\n",
       " (551, 0.5625),\n",
       " (557, 0.5625),\n",
       " (559, 0.5625),\n",
       " (560, 0.5625),\n",
       " (580, 0.5625),\n",
       " (582, 0.5625),\n",
       " (593, 0.5625),\n",
       " (610, 0.5625),\n",
       " (613, 0.5625),\n",
       " (618, 0.5625),\n",
       " (622, 0.5625),\n",
       " (643, 0.5625),\n",
       " (656, 0.5625),\n",
       " (687, 0.5625),\n",
       " (691, 0.5625),\n",
       " (699, 0.5625),\n",
       " (705, 0.5625),\n",
       " (712, 0.5625),\n",
       " (719, 0.5625),\n",
       " (721, 0.5625),\n",
       " (777, 0.5625),\n",
       " (549, 0.5547001962252293),\n",
       " (729, 0.5547001962252293),\n",
       " (300, 0.5457051563317493),\n",
       " (365, 0.5457051563317493),\n",
       " (423, 0.5457051563317493),\n",
       " (447, 0.5457051563317493),\n",
       " (483, 0.5457051563317493),\n",
       " (492, 0.5457051563317493),\n",
       " (531, 0.5457051563317493),\n",
       " (585, 0.5457051563317493),\n",
       " (586, 0.5457051563317493),\n",
       " (605, 0.5457051563317493),\n",
       " (673, 0.5457051563317493),\n",
       " (677, 0.5457051563317493),\n",
       " (713, 0.5457051563317493),\n",
       " (746, 0.5457051563317493),\n",
       " (747, 0.5457051563317493),\n",
       " (762, 0.5457051563317493),\n",
       " (764, 0.5457051563317493),\n",
       " (769, 0.5457051563317493),\n",
       " (786, 0.5457051563317493),\n",
       " (7, 0.5345224838248487),\n",
       " (12, 0.5345224838248487),\n",
       " (42, 0.5345224838248487),\n",
       " (53, 0.5345224838248487),\n",
       " (59, 0.5345224838248487),\n",
       " (79, 0.5345224838248487),\n",
       " (116, 0.5345224838248487),\n",
       " (126, 0.5345224838248487),\n",
       " (136, 0.5345224838248487),\n",
       " (216, 0.5345224838248487),\n",
       " (225, 0.5345224838248487),\n",
       " (265, 0.5345224838248487),\n",
       " (291, 0.5345224838248487),\n",
       " (344, 0.5345224838248487),\n",
       " (368, 0.5345224838248487),\n",
       " (427, 0.5345224838248487),\n",
       " (433, 0.5345224838248487),\n",
       " (466, 0.5345224838248487),\n",
       " (469, 0.5345224838248487),\n",
       " (479, 0.5345224838248487),\n",
       " (485, 0.5345224838248487),\n",
       " (511, 0.5345224838248487),\n",
       " (521, 0.5345224838248487),\n",
       " (558, 0.5345224838248487),\n",
       " (575, 0.5345224838248487),\n",
       " (576, 0.5345224838248487),\n",
       " (604, 0.5345224838248487),\n",
       " (609, 0.5345224838248487),\n",
       " (620, 0.5345224838248487),\n",
       " (639, 0.5345224838248487),\n",
       " (644, 0.5345224838248487),\n",
       " (655, 0.5345224838248487),\n",
       " (662, 0.5345224838248487),\n",
       " (667, 0.5345224838248487),\n",
       " (672, 0.5345224838248487),\n",
       " (679, 0.5345224838248487),\n",
       " (765, 0.5345224838248487),\n",
       " (76, 0.5163977794943221),\n",
       " (85, 0.5163977794943221),\n",
       " (93, 0.5163977794943221),\n",
       " (96, 0.5163977794943221),\n",
       " (139, 0.5163977794943221),\n",
       " (171, 0.5163977794943221),\n",
       " (174, 0.5163977794943221),\n",
       " (253, 0.5163977794943221),\n",
       " (254, 0.5163977794943221),\n",
       " (294, 0.5163977794943221),\n",
       " (353, 0.5163977794943221),\n",
       " (488, 0.5163977794943221),\n",
       " (499, 0.5163977794943221),\n",
       " (561, 0.5163977794943221),\n",
       " (636, 0.5163977794943221),\n",
       " (736, 0.5163977794943221),\n",
       " (781, 0.5163977794943221),\n",
       " (630, 0.5051814855409226),\n",
       " (13, 0.5),\n",
       " (38, 0.5),\n",
       " (110, 0.5),\n",
       " (143, 0.5),\n",
       " (149, 0.5),\n",
       " (230, 0.5),\n",
       " (330, 0.5),\n",
       " (347, 0.5),\n",
       " (356, 0.5),\n",
       " (363, 0.5),\n",
       " (392, 0.5),\n",
       " (412, 0.5),\n",
       " (453, 0.5),\n",
       " (459, 0.5),\n",
       " (472, 0.5),\n",
       " (487, 0.5),\n",
       " (495, 0.5),\n",
       " (498, 0.5),\n",
       " (504, 0.5),\n",
       " (536, 0.5),\n",
       " (572, 0.5),\n",
       " (578, 0.5),\n",
       " (592, 0.5),\n",
       " (625, 0.5),\n",
       " (626, 0.5),\n",
       " (628, 0.5),\n",
       " (634, 0.5),\n",
       " (640, 0.5),\n",
       " (647, 0.5),\n",
       " (680, 0.5),\n",
       " (701, 0.5),\n",
       " (727, 0.5),\n",
       " (730, 0.5),\n",
       " (758, 0.5),\n",
       " (760, 0.5),\n",
       " (761, 0.5),\n",
       " (763, 0.5),\n",
       " (768, 0.5),\n",
       " (771, 0.5),\n",
       " (597, 0.4853626716970756),\n",
       " (717, 0.4853626716970756),\n",
       " (792, 0.4853626716970755),\n",
       " (431, 0.48507125007266605),\n",
       " (716, 0.48507125007266605),\n",
       " (735, 0.48507125007266605),\n",
       " (23, 0.4677071733467426),\n",
       " (114, 0.4677071733467426),\n",
       " (132, 0.4677071733467426),\n",
       " (246, 0.4677071733467426),\n",
       " (301, 0.4677071733467426),\n",
       " (334, 0.4677071733467426),\n",
       " (475, 0.4677071733467426),\n",
       " (515, 0.4677071733467426),\n",
       " (574, 0.4677071733467426),\n",
       " (588, 0.4677071733467426),\n",
       " (690, 0.4677071733467426),\n",
       " (710, 0.4677071733467426),\n",
       " (733, 0.4677071733467426),\n",
       " (734, 0.4677071733467426),\n",
       " (741, 0.4677071733467426),\n",
       " (744, 0.4677071733467426),\n",
       " (3, 0.4522670168666455),\n",
       " (260, 0.4522670168666455),\n",
       " (795, 0.45184805705753195),\n",
       " (49, 0.45184805705753184),\n",
       " (202, 0.45184805705753184),\n",
       " (739, 0.45184805705753184),\n",
       " (62, 0.43301270189221935),\n",
       " (63, 0.43301270189221935),\n",
       " (564, 0.43301270189221935),\n",
       " (567, 0.43301270189221935),\n",
       " (692, 0.43301270189221935),\n",
       " (698, 0.43301270189221935),\n",
       " (779, 0.43301270189221935),\n",
       " (34, 0.4160251471689219),\n",
       " (421, 0.40089186286863654),\n",
       " (702, 0.40089186286863654),\n",
       " (209, 0.375),\n",
       " (290, 0.375),\n",
       " (367, 0.375),\n",
       " (486, 0.375),\n",
       " (101, 0.36084391824351614),\n",
       " (121, 0.36084391824351614),\n",
       " (170, 0.36084391824351614),\n",
       " (186, 0.36084391824351614),\n",
       " (397, 0.36084391824351614),\n",
       " (539, 0.36084391824351614),\n",
       " (547, 0.36084391824351614),\n",
       " (548, 0.36084391824351614),\n",
       " (226, 0.34668762264076824),\n",
       " (289, 0.34668762264076824),\n",
       " (299, 0.34668762264076824),\n",
       " (375, 0.34668762264076824),\n",
       " (125, 0.33407655239053047),\n",
       " (150, 0.33407655239053047),\n",
       " (157, 0.33407655239053047),\n",
       " (332, 0.33407655239053047),\n",
       " (355, 0.33407655239053047),\n",
       " (400, 0.33407655239053047),\n",
       " (405, 0.33407655239053047),\n",
       " (671, 0.33407655239053047),\n",
       " (4, 0.30151134457776363),\n",
       " (18, 0.30151134457776363),\n",
       " (56, 0.30151134457776363),\n",
       " (179, 0.30151134457776363),\n",
       " (198, 0.30151134457776363),\n",
       " (240, 0.30151134457776363),\n",
       " (248, 0.30151134457776363),\n",
       " (273, 0.30151134457776363),\n",
       " (543, 0.30151134457776363),\n",
       " (48, 0.2886751345948129),\n",
       " (86, 0.2886751345948129),\n",
       " (87, 0.2886751345948129),\n",
       " (88, 0.2886751345948129),\n",
       " (163, 0.2886751345948129),\n",
       " (236, 0.2886751345948129),\n",
       " (390, 0.2886751345948129),\n",
       " (417, 0.2886751345948129)]"
      ]
     },
     "execution_count": 71,
     "metadata": {},
     "output_type": "execute_result"
    }
   ],
   "source": [
    "sorted(list(enumerate(similarity[1])), reverse=True, key= lambda x: x[1]) #distance between item to all items"
   ]
  },
  {
   "cell_type": "code",
   "execution_count": 72,
   "metadata": {},
   "outputs": [
    {
     "data": {
      "text/html": [
       "<div>\n",
       "<style scoped>\n",
       "    .dataframe tbody tr th:only-of-type {\n",
       "        vertical-align: middle;\n",
       "    }\n",
       "\n",
       "    .dataframe tbody tr th {\n",
       "        vertical-align: top;\n",
       "    }\n",
       "\n",
       "    .dataframe thead th {\n",
       "        text-align: right;\n",
       "    }\n",
       "</style>\n",
       "<table border=\"1\" class=\"dataframe\">\n",
       "  <thead>\n",
       "    <tr style=\"text-align: right;\">\n",
       "      <th></th>\n",
       "      <th>laptop_id</th>\n",
       "      <th>name</th>\n",
       "      <th>tags</th>\n",
       "      <th>img_link</th>\n",
       "      <th>price</th>\n",
       "      <th>brand</th>\n",
       "      <th>use</th>\n",
       "      <th>processor</th>\n",
       "      <th>ram</th>\n",
       "      <th>os</th>\n",
       "      <th>storage</th>\n",
       "    </tr>\n",
       "  </thead>\n",
       "  <tbody>\n",
       "    <tr>\n",
       "      <th>724</th>\n",
       "      <td>724</td>\n",
       "      <td>MSI GF63 Thin Core i7 9th Gen</td>\n",
       "      <td>intel core i7 processor (9th gen) 8 gb ddr4 ra...</td>\n",
       "      <td>https://rukminim1.flixcart.com/image/312/312/k...</td>\n",
       "      <td>3684.45</td>\n",
       "      <td>MSI</td>\n",
       "      <td>Gaming</td>\n",
       "      <td>[Intel, Core, i7, Processor, (9th, Gen)]</td>\n",
       "      <td>[8, GB, DDR4, RAM]</td>\n",
       "      <td>[64, bit, Windows, 10, Operating, System]</td>\n",
       "      <td>512 GB SSD</td>\n",
       "    </tr>\n",
       "  </tbody>\n",
       "</table>\n",
       "</div>"
      ],
      "text/plain": [
       "     laptop_id                           name  \\\n",
       "724        724  MSI GF63 Thin Core i7 9th Gen   \n",
       "\n",
       "                                                  tags  \\\n",
       "724  intel core i7 processor (9th gen) 8 gb ddr4 ra...   \n",
       "\n",
       "                                              img_link    price brand     use  \\\n",
       "724  https://rukminim1.flixcart.com/image/312/312/k...  3684.45   MSI  Gaming   \n",
       "\n",
       "                                    processor                 ram  \\\n",
       "724  [Intel, Core, i7, Processor, (9th, Gen)]  [8, GB, DDR4, RAM]   \n",
       "\n",
       "                                            os     storage  \n",
       "724  [64, bit, Windows, 10, Operating, System]  512 GB SSD  "
      ]
     },
     "execution_count": 72,
     "metadata": {},
     "output_type": "execute_result"
    }
   ],
   "source": [
    "rec_df[rec_df['name'] == 'MSI GF63 Thin Core i7 9th Gen'] #we get the index for the specific laptop"
   ]
  },
  {
   "cell_type": "code",
   "execution_count": 73,
   "metadata": {},
   "outputs": [
    {
     "data": {
      "text/plain": [
       "724"
      ]
     },
     "execution_count": 73,
     "metadata": {},
     "output_type": "execute_result"
    }
   ],
   "source": [
    "rec_df[rec_df['name'] == 'MSI GF63 Thin Core i7 9th Gen'].index[0] #we get the index for the specific laptop"
   ]
  },
  {
   "cell_type": "code",
   "execution_count": 74,
   "metadata": {},
   "outputs": [
    {
     "data": {
      "text/html": [
       "<div>\n",
       "<style scoped>\n",
       "    .dataframe tbody tr th:only-of-type {\n",
       "        vertical-align: middle;\n",
       "    }\n",
       "\n",
       "    .dataframe tbody tr th {\n",
       "        vertical-align: top;\n",
       "    }\n",
       "\n",
       "    .dataframe thead th {\n",
       "        text-align: right;\n",
       "    }\n",
       "</style>\n",
       "<table border=\"1\" class=\"dataframe\">\n",
       "  <thead>\n",
       "    <tr style=\"text-align: right;\">\n",
       "      <th></th>\n",
       "      <th>laptop_id</th>\n",
       "      <th>name</th>\n",
       "      <th>tags</th>\n",
       "      <th>img_link</th>\n",
       "      <th>price</th>\n",
       "      <th>brand</th>\n",
       "      <th>use</th>\n",
       "      <th>processor</th>\n",
       "      <th>ram</th>\n",
       "      <th>os</th>\n",
       "      <th>storage</th>\n",
       "    </tr>\n",
       "  </thead>\n",
       "  <tbody>\n",
       "    <tr>\n",
       "      <th>0</th>\n",
       "      <td>0</td>\n",
       "      <td>Lenovo Intel Core i5 11th Gen</td>\n",
       "      <td>intel core i5 processor (11th gen) 16 gb ddr4 ...</td>\n",
       "      <td>https://rukminim1.flixcart.com/image/312/312/x...</td>\n",
       "      <td>3464.45</td>\n",
       "      <td>Lenovo</td>\n",
       "      <td>Office</td>\n",
       "      <td>[Intel, Core, i5, Processor, (11th, Gen)]</td>\n",
       "      <td>[16, GB, DDR4, RAM]</td>\n",
       "      <td>[Windows, 11, Operating, System]</td>\n",
       "      <td>512 GB SSD</td>\n",
       "    </tr>\n",
       "    <tr>\n",
       "      <th>1</th>\n",
       "      <td>1</td>\n",
       "      <td>ASUS ROG Zephyrus G15 (2022) with 90Whr Batter...</td>\n",
       "      <td>amd ryzen 9 octa core processor 16 gb ddr5 ram...</td>\n",
       "      <td>https://rukminim1.flixcart.com/image/312/312/l...</td>\n",
       "      <td>8909.45</td>\n",
       "      <td>ASUS</td>\n",
       "      <td>Gaming</td>\n",
       "      <td>[AMD, Ryzen, 9, Octa, Core, Processor]</td>\n",
       "      <td>[16, GB, DDR5, RAM]</td>\n",
       "      <td>[64, bit, Windows, 11, Operating, System]</td>\n",
       "      <td>1 TB SSD</td>\n",
       "    </tr>\n",
       "    <tr>\n",
       "      <th>2</th>\n",
       "      <td>2</td>\n",
       "      <td>ASUS VivoBook 15 (2022) Core i3 10th Gen</td>\n",
       "      <td>intel core i3 processor (10th gen) 8 gb ddr4 r...</td>\n",
       "      <td>https://rukminim1.flixcart.com/image/312/312/x...</td>\n",
       "      <td>1869.45</td>\n",
       "      <td>ASUS</td>\n",
       "      <td>Hybrid</td>\n",
       "      <td>[Intel, Core, i3, Processor, (10th, Gen)]</td>\n",
       "      <td>[8, GB, DDR4, RAM]</td>\n",
       "      <td>[64, bit, Windows, 11, Operating, System]</td>\n",
       "      <td>512 GB SSD</td>\n",
       "    </tr>\n",
       "    <tr>\n",
       "      <th>3</th>\n",
       "      <td>3</td>\n",
       "      <td>Lenovo Athlon Dual Core</td>\n",
       "      <td>amd athlon dual core processor 4 gb ddr4 ram d...</td>\n",
       "      <td>https://rukminim1.flixcart.com/image/312/312/x...</td>\n",
       "      <td>1044.45</td>\n",
       "      <td>Lenovo</td>\n",
       "      <td>Office</td>\n",
       "      <td>[AMD, Athlon, Dual, Core, Processor]</td>\n",
       "      <td>[4, GB, DDR4, RAM]</td>\n",
       "      <td>[DOS, Operating, System]</td>\n",
       "      <td>256 GB SSD</td>\n",
       "    </tr>\n",
       "  </tbody>\n",
       "</table>\n",
       "</div>"
      ],
      "text/plain": [
       "   laptop_id                                               name  \\\n",
       "0          0                      Lenovo Intel Core i5 11th Gen   \n",
       "1          1  ASUS ROG Zephyrus G15 (2022) with 90Whr Batter...   \n",
       "2          2           ASUS VivoBook 15 (2022) Core i3 10th Gen   \n",
       "3          3                            Lenovo Athlon Dual Core   \n",
       "\n",
       "                                                tags  \\\n",
       "0  intel core i5 processor (11th gen) 16 gb ddr4 ...   \n",
       "1  amd ryzen 9 octa core processor 16 gb ddr5 ram...   \n",
       "2  intel core i3 processor (10th gen) 8 gb ddr4 r...   \n",
       "3  amd athlon dual core processor 4 gb ddr4 ram d...   \n",
       "\n",
       "                                            img_link    price   brand     use  \\\n",
       "0  https://rukminim1.flixcart.com/image/312/312/x...  3464.45  Lenovo  Office   \n",
       "1  https://rukminim1.flixcart.com/image/312/312/l...  8909.45    ASUS  Gaming   \n",
       "2  https://rukminim1.flixcart.com/image/312/312/x...  1869.45    ASUS  Hybrid   \n",
       "3  https://rukminim1.flixcart.com/image/312/312/x...  1044.45  Lenovo  Office   \n",
       "\n",
       "                                   processor                  ram  \\\n",
       "0  [Intel, Core, i5, Processor, (11th, Gen)]  [16, GB, DDR4, RAM]   \n",
       "1     [AMD, Ryzen, 9, Octa, Core, Processor]  [16, GB, DDR5, RAM]   \n",
       "2  [Intel, Core, i3, Processor, (10th, Gen)]   [8, GB, DDR4, RAM]   \n",
       "3       [AMD, Athlon, Dual, Core, Processor]   [4, GB, DDR4, RAM]   \n",
       "\n",
       "                                          os     storage  \n",
       "0           [Windows, 11, Operating, System]  512 GB SSD  \n",
       "1  [64, bit, Windows, 11, Operating, System]    1 TB SSD  \n",
       "2  [64, bit, Windows, 11, Operating, System]  512 GB SSD  \n",
       "3                   [DOS, Operating, System]  256 GB SSD  "
      ]
     },
     "execution_count": 74,
     "metadata": {},
     "output_type": "execute_result"
    }
   ],
   "source": [
    "rec_df.head(4)"
   ]
  },
  {
   "cell_type": "code",
   "execution_count": 75,
   "metadata": {},
   "outputs": [
    {
     "data": {
      "text/plain": [
       "\" From github\\ndef recommend(use):\\n    index = rec_df[rec_df['name'] == use].index[0]\\n    distances = sorted(list(enumerate(similarity[index])), reverse=True, key=lambda x: x[1])\\n    printed_names = set()\\n    #display top 5\\n    for i in distances[1:6]: #iterates 1 to 5, excluding 6\\n        row_index = i[0]\\n        name = rec_df.iloc[row_index]['name']\\n        if name not in printed_names:\\n            printed_names.add(name)\\n            print(name)\\n\""
      ]
     },
     "execution_count": 75,
     "metadata": {},
     "output_type": "execute_result"
    }
   ],
   "source": [
    "''' From github\n",
    "def recommend(use):\n",
    "    index = rec_df[rec_df['name'] == use].index[0]\n",
    "    distances = sorted(list(enumerate(similarity[index])), reverse=True, key=lambda x: x[1])\n",
    "    printed_names = set()\n",
    "    #display top 5\n",
    "    for i in distances[1:6]: #iterates 1 to 5, excluding 6\n",
    "        row_index = i[0]\n",
    "        name = rec_df.iloc[row_index]['name']\n",
    "        if name not in printed_names:\n",
    "            printed_names.add(name)\n",
    "            print(name)\n",
    "'''"
   ]
  },
  {
   "cell_type": "code",
   "execution_count": 76,
   "metadata": {},
   "outputs": [
    {
     "data": {
      "text/plain": [
       "'\\ndef recommend(x):\\n    index = rec_df[rec_df[\\'name\\'] == x].index[0]  # Find the index of the input laptop\\n    distance = sorted(list(enumerate(similarity[index])), reverse=True, key= lambda x: x[1])  # Sort the similarities\\n    print(f\"Laptops similar to \\'{x}\\':\")\\n    for i in distance[1:6]:\\n        laptop = rec_df.iloc[i[0]]  #get the laptop information\\n        similarity_score = i[1]  #get the similarity score\\n        print(f\"{laptop[\\'name\\']} | Similarity Score: {similarity_score:.2f} | Image Link: {laptop[\\'img_link\\']}\")\\n'"
      ]
     },
     "execution_count": 76,
     "metadata": {},
     "output_type": "execute_result"
    }
   ],
   "source": [
    "#create Recommend Function 1 (CHOOSE THIS FOR STREAMLIT)\n",
    "'''\n",
    "def recommend(x):\n",
    "    index = rec_df[rec_df['name'] == x].index[0]  # Find the index of the input laptop\n",
    "    distance = sorted(list(enumerate(similarity[index])), reverse=True, key= lambda x: x[1])  # Sort the similarities\n",
    "    print(f\"Laptops similar to '{x}':\")\n",
    "    for i in distance[1:6]:\n",
    "        laptop = rec_df.iloc[i[0]]  #get the laptop information\n",
    "        similarity_score = i[1]  #get the similarity score\n",
    "        print(f\"{laptop['name']} | Similarity Score: {similarity_score:.2f} | Image Link: {laptop['img_link']}\")\n",
    "'''"
   ]
  },
  {
   "cell_type": "code",
   "execution_count": 77,
   "metadata": {},
   "outputs": [],
   "source": [
    "#Recommend Function 2\n",
    "rec_df.reset_index(drop=True, inplace=True) # Reset the index to align with the similarity matrix\n",
    "def recommend(x):\n",
    "    # Check if the input exists in the database\n",
    "    if x not in rec_df['name'].values:\n",
    "        print(f\"Laptop '{x}' is not found in the database.\")\n",
    "        return\n",
    "\n",
    "    # Get the index of the laptop model of the input\n",
    "    index = rec_df[rec_df['name'] == x].index[0]\n",
    "\n",
    "    # Ensure the index is within bounds\n",
    "    if index >= len(similarity):\n",
    "        print(\"Error: The index is out of bounds for the similarity matrix.\")\n",
    "        return\n",
    "\n",
    "    # Sort laptops by similarity, retrieving similarity scores\n",
    "    distances = sorted(list(enumerate(similarity[index])), reverse=True, key=lambda x: x[1])\n",
    "\n",
    "    printed_names = set()\n",
    "    print(f\"Laptops similar to '{x}':\")\n",
    "\n",
    "    # Display recommendations\n",
    "    for i in distances[1:]:\n",
    "        name = rec_df.iloc[i[0]]['name']\n",
    "        similarity_score = i[1]\n",
    "\n",
    "        # Check to ensure that the input is excluded as recommendations\n",
    "        if name != x and name not in printed_names:\n",
    "            printed_names.add(name)\n",
    "            print(f\"{name} (Similarity Score: {similarity_score:.2f})\")\n",
    "        if len(printed_names) == 5:\n",
    "            break\n"
   ]
  },
  {
   "cell_type": "markdown",
   "metadata": {},
   "source": [
    "7. TESTING"
   ]
  },
  {
   "cell_type": "code",
   "execution_count": 78,
   "metadata": {},
   "outputs": [
    {
     "name": "stdout",
     "output_type": "stream",
     "text": [
      "Laptops similar to 'Lenovo Intel Core i5 11th Gen':\n",
      "RedmiBook Pro Core i5 11th Gen (Similarity Score: 0.97)\n",
      "ASUS Vivobook 15 Touch Core i5 11th Gen (Similarity Score: 0.97)\n",
      "Lenovo IdeaPad Core i5 11th Gen (Similarity Score: 0.97)\n",
      "DELL Core i5 11th Gen (Similarity Score: 0.97)\n",
      "ASUS VivoBook K15 OLED (2022) Core i5 11th Gen (Similarity Score: 0.94)\n"
     ]
    }
   ],
   "source": [
    "recommend('Lenovo Intel Core i5 11th Gen')"
   ]
  },
  {
   "cell_type": "code",
   "execution_count": 79,
   "metadata": {},
   "outputs": [
    {
     "data": {
      "text/html": [
       "<div>\n",
       "<style scoped>\n",
       "    .dataframe tbody tr th:only-of-type {\n",
       "        vertical-align: middle;\n",
       "    }\n",
       "\n",
       "    .dataframe tbody tr th {\n",
       "        vertical-align: top;\n",
       "    }\n",
       "\n",
       "    .dataframe thead th {\n",
       "        text-align: right;\n",
       "    }\n",
       "</style>\n",
       "<table border=\"1\" class=\"dataframe\">\n",
       "  <thead>\n",
       "    <tr style=\"text-align: right;\">\n",
       "      <th></th>\n",
       "      <th>laptop_id</th>\n",
       "      <th>name</th>\n",
       "      <th>processor</th>\n",
       "      <th>ram</th>\n",
       "      <th>os</th>\n",
       "      <th>storage</th>\n",
       "      <th>img_link</th>\n",
       "      <th>display</th>\n",
       "      <th>laptop_brand</th>\n",
       "      <th>os_brand</th>\n",
       "      <th>processor_brand</th>\n",
       "      <th>usecases</th>\n",
       "      <th>price_rm</th>\n",
       "      <th>use</th>\n",
       "      <th>tags</th>\n",
       "    </tr>\n",
       "  </thead>\n",
       "  <tbody>\n",
       "    <tr>\n",
       "      <th>0</th>\n",
       "      <td>0</td>\n",
       "      <td>Lenovo Intel Core i5 11th Gen</td>\n",
       "      <td>[Intel, Core, i5, Processor, (11th, Gen)]</td>\n",
       "      <td>[16, GB, DDR4, RAM]</td>\n",
       "      <td>[Windows, 11, Operating, System]</td>\n",
       "      <td>512 GB SSD</td>\n",
       "      <td>https://rukminim1.flixcart.com/image/312/312/x...</td>\n",
       "      <td>[15.6]</td>\n",
       "      <td>Lenovo</td>\n",
       "      <td>Windows</td>\n",
       "      <td>Intel</td>\n",
       "      <td>Office</td>\n",
       "      <td>3464.45</td>\n",
       "      <td>[Office]</td>\n",
       "      <td>[Intel, Core, i5, Processor, (11th, Gen), 16, ...</td>\n",
       "    </tr>\n",
       "    <tr>\n",
       "      <th>29</th>\n",
       "      <td>29</td>\n",
       "      <td>Lenovo Intel Core i5 11th Gen</td>\n",
       "      <td>[Intel, Core, i5, Processor, (11th, Gen)]</td>\n",
       "      <td>[16, GB, DDR4, RAM]</td>\n",
       "      <td>[Windows, 11, Operating, System]</td>\n",
       "      <td>512 GB SSD</td>\n",
       "      <td>https://rukminim1.flixcart.com/image/312/312/x...</td>\n",
       "      <td>[15.6]</td>\n",
       "      <td>Lenovo</td>\n",
       "      <td>Windows</td>\n",
       "      <td>Intel</td>\n",
       "      <td>Office</td>\n",
       "      <td>2908.95</td>\n",
       "      <td>[Office]</td>\n",
       "      <td>[Intel, Core, i5, Processor, (11th, Gen), 16, ...</td>\n",
       "    </tr>\n",
       "    <tr>\n",
       "      <th>182</th>\n",
       "      <td>182</td>\n",
       "      <td>Lenovo Intel Core i5 11th Gen</td>\n",
       "      <td>[Intel, Core, i5, Processor, (11th, Gen)]</td>\n",
       "      <td>[8, GB, DDR4, RAM]</td>\n",
       "      <td>[64, bit, Windows, 11, Operating, System]</td>\n",
       "      <td>1 TB HDD|256 GB SSD</td>\n",
       "      <td>https://rukminim1.flixcart.com/image/312/312/k...</td>\n",
       "      <td>[15.6]</td>\n",
       "      <td>Lenovo</td>\n",
       "      <td>Windows</td>\n",
       "      <td>Intel</td>\n",
       "      <td>Hybrid</td>\n",
       "      <td>3574.45</td>\n",
       "      <td>[Hybrid]</td>\n",
       "      <td>[Intel, Core, i5, Processor, (11th, Gen), 8, G...</td>\n",
       "    </tr>\n",
       "    <tr>\n",
       "      <th>697</th>\n",
       "      <td>697</td>\n",
       "      <td>Lenovo Intel Core i5 11th Gen</td>\n",
       "      <td>[Intel, Core, i5, Processor, (11th, Gen)]</td>\n",
       "      <td>[16, GB, DDR4, RAM]</td>\n",
       "      <td>[Windows, 11, Operating, System]</td>\n",
       "      <td>512 GB SSD</td>\n",
       "      <td>https://rukminim1.flixcart.com/image/312/312/x...</td>\n",
       "      <td>[15.6]</td>\n",
       "      <td>Lenovo</td>\n",
       "      <td>Windows</td>\n",
       "      <td>Intel</td>\n",
       "      <td>Office</td>\n",
       "      <td>3755.95</td>\n",
       "      <td>[Office]</td>\n",
       "      <td>[Intel, Core, i5, Processor, (11th, Gen), 16, ...</td>\n",
       "    </tr>\n",
       "  </tbody>\n",
       "</table>\n",
       "</div>"
      ],
      "text/plain": [
       "     laptop_id                           name  \\\n",
       "0            0  Lenovo Intel Core i5 11th Gen   \n",
       "29          29  Lenovo Intel Core i5 11th Gen   \n",
       "182        182  Lenovo Intel Core i5 11th Gen   \n",
       "697        697  Lenovo Intel Core i5 11th Gen   \n",
       "\n",
       "                                     processor                  ram  \\\n",
       "0    [Intel, Core, i5, Processor, (11th, Gen)]  [16, GB, DDR4, RAM]   \n",
       "29   [Intel, Core, i5, Processor, (11th, Gen)]  [16, GB, DDR4, RAM]   \n",
       "182  [Intel, Core, i5, Processor, (11th, Gen)]   [8, GB, DDR4, RAM]   \n",
       "697  [Intel, Core, i5, Processor, (11th, Gen)]  [16, GB, DDR4, RAM]   \n",
       "\n",
       "                                            os              storage  \\\n",
       "0             [Windows, 11, Operating, System]           512 GB SSD   \n",
       "29            [Windows, 11, Operating, System]           512 GB SSD   \n",
       "182  [64, bit, Windows, 11, Operating, System]  1 TB HDD|256 GB SSD   \n",
       "697           [Windows, 11, Operating, System]           512 GB SSD   \n",
       "\n",
       "                                              img_link display laptop_brand  \\\n",
       "0    https://rukminim1.flixcart.com/image/312/312/x...  [15.6]       Lenovo   \n",
       "29   https://rukminim1.flixcart.com/image/312/312/x...  [15.6]       Lenovo   \n",
       "182  https://rukminim1.flixcart.com/image/312/312/k...  [15.6]       Lenovo   \n",
       "697  https://rukminim1.flixcart.com/image/312/312/x...  [15.6]       Lenovo   \n",
       "\n",
       "    os_brand processor_brand usecases  price_rm       use  \\\n",
       "0    Windows           Intel   Office   3464.45  [Office]   \n",
       "29   Windows           Intel   Office   2908.95  [Office]   \n",
       "182  Windows           Intel   Hybrid   3574.45  [Hybrid]   \n",
       "697  Windows           Intel   Office   3755.95  [Office]   \n",
       "\n",
       "                                                  tags  \n",
       "0    [Intel, Core, i5, Processor, (11th, Gen), 16, ...  \n",
       "29   [Intel, Core, i5, Processor, (11th, Gen), 16, ...  \n",
       "182  [Intel, Core, i5, Processor, (11th, Gen), 8, G...  \n",
       "697  [Intel, Core, i5, Processor, (11th, Gen), 16, ...  "
      ]
     },
     "execution_count": 79,
     "metadata": {},
     "output_type": "execute_result"
    }
   ],
   "source": [
    "laptop[laptop['name'] == 'Lenovo Intel Core i5 11th Gen']"
   ]
  },
  {
   "cell_type": "code",
   "execution_count": 80,
   "metadata": {},
   "outputs": [
    {
     "name": "stderr",
     "output_type": "stream",
     "text": [
      "C:\\Users\\aiman\\AppData\\Local\\Temp\\ipykernel_21468\\1203269833.py:1: SettingWithCopyWarning: \n",
      "A value is trying to be set on a copy of a slice from a DataFrame.\n",
      "Try using .loc[row_indexer,col_indexer] = value instead\n",
      "\n",
      "See the caveats in the documentation: https://pandas.pydata.org/pandas-docs/stable/user_guide/indexing.html#returning-a-view-versus-a-copy\n",
      "  rec_df['ram'] = new_csv['ram']\n",
      "C:\\Users\\aiman\\AppData\\Local\\Temp\\ipykernel_21468\\1203269833.py:2: SettingWithCopyWarning: \n",
      "A value is trying to be set on a copy of a slice from a DataFrame.\n",
      "Try using .loc[row_indexer,col_indexer] = value instead\n",
      "\n",
      "See the caveats in the documentation: https://pandas.pydata.org/pandas-docs/stable/user_guide/indexing.html#returning-a-view-versus-a-copy\n",
      "  rec_df['processor'] = new_csv['processor']\n",
      "C:\\Users\\aiman\\AppData\\Local\\Temp\\ipykernel_21468\\1203269833.py:3: SettingWithCopyWarning: \n",
      "A value is trying to be set on a copy of a slice from a DataFrame.\n",
      "Try using .loc[row_indexer,col_indexer] = value instead\n",
      "\n",
      "See the caveats in the documentation: https://pandas.pydata.org/pandas-docs/stable/user_guide/indexing.html#returning-a-view-versus-a-copy\n",
      "  rec_df['os'] = new_csv['os']\n"
     ]
    }
   ],
   "source": [
    "rec_df['ram'] = new_csv['ram']\n",
    "rec_df['processor'] = new_csv['processor']\n",
    "rec_df['os'] = new_csv['os']"
   ]
  },
  {
   "cell_type": "code",
   "execution_count": 81,
   "metadata": {},
   "outputs": [
    {
     "data": {
      "text/html": [
       "<div>\n",
       "<style scoped>\n",
       "    .dataframe tbody tr th:only-of-type {\n",
       "        vertical-align: middle;\n",
       "    }\n",
       "\n",
       "    .dataframe tbody tr th {\n",
       "        vertical-align: top;\n",
       "    }\n",
       "\n",
       "    .dataframe thead th {\n",
       "        text-align: right;\n",
       "    }\n",
       "</style>\n",
       "<table border=\"1\" class=\"dataframe\">\n",
       "  <thead>\n",
       "    <tr style=\"text-align: right;\">\n",
       "      <th></th>\n",
       "      <th>laptop_id</th>\n",
       "      <th>name</th>\n",
       "      <th>tags</th>\n",
       "      <th>img_link</th>\n",
       "      <th>price</th>\n",
       "      <th>brand</th>\n",
       "      <th>use</th>\n",
       "      <th>processor</th>\n",
       "      <th>ram</th>\n",
       "      <th>os</th>\n",
       "      <th>storage</th>\n",
       "    </tr>\n",
       "  </thead>\n",
       "  <tbody>\n",
       "    <tr>\n",
       "      <th>0</th>\n",
       "      <td>0</td>\n",
       "      <td>Lenovo Intel Core i5 11th Gen</td>\n",
       "      <td>intel core i5 processor (11th gen) 16 gb ddr4 ...</td>\n",
       "      <td>https://rukminim1.flixcart.com/image/312/312/x...</td>\n",
       "      <td>3464.45</td>\n",
       "      <td>Lenovo</td>\n",
       "      <td>Office</td>\n",
       "      <td>Intel Core i5 Processor (11th Gen)</td>\n",
       "      <td>16 GB DDR4 RAM</td>\n",
       "      <td>Windows 11 Operating System</td>\n",
       "      <td>512 GB SSD</td>\n",
       "    </tr>\n",
       "  </tbody>\n",
       "</table>\n",
       "</div>"
      ],
      "text/plain": [
       "   laptop_id                           name  \\\n",
       "0          0  Lenovo Intel Core i5 11th Gen   \n",
       "\n",
       "                                                tags  \\\n",
       "0  intel core i5 processor (11th gen) 16 gb ddr4 ...   \n",
       "\n",
       "                                            img_link    price   brand     use  \\\n",
       "0  https://rukminim1.flixcart.com/image/312/312/x...  3464.45  Lenovo  Office   \n",
       "\n",
       "                            processor             ram  \\\n",
       "0  Intel Core i5 Processor (11th Gen)  16 GB DDR4 RAM   \n",
       "\n",
       "                            os     storage  \n",
       "0  Windows 11 Operating System  512 GB SSD  "
      ]
     },
     "execution_count": 81,
     "metadata": {},
     "output_type": "execute_result"
    }
   ],
   "source": [
    "rec_df.head(1)"
   ]
  },
  {
   "cell_type": "code",
   "execution_count": 82,
   "metadata": {},
   "outputs": [],
   "source": [
    "import pickle\n",
    "\n",
    "pickle.dump(rec_df, open('model/laptop_list.pkl', 'wb'))\n",
    "pickle.dump(similarity, open('model/similarity.pkl', 'wb'))\n",
    "new_csv.to_csv('model/update_laptop.csv', sep=',', index=False, encoding='utf-8')\n",
    "pickle.dump(laptop, open('model/analysis.pkl', 'wb'))"
   ]
  },
  {
   "cell_type": "code",
   "execution_count": 83,
   "metadata": {},
   "outputs": [
    {
     "name": "stdout",
     "output_type": "stream",
     "text": [
      "(796, 15)\n",
      "(796, 10)\n",
      "(796, 11)\n"
     ]
    }
   ],
   "source": [
    "print(laptop.shape)\n",
    "print(new_csv.shape)\n",
    "print(rec_df.shape)"
   ]
  }
 ],
 "metadata": {
  "kernelspec": {
   "display_name": "base",
   "language": "python",
   "name": "python3"
  },
  "language_info": {
   "codemirror_mode": {
    "name": "ipython",
    "version": 3
   },
   "file_extension": ".py",
   "mimetype": "text/x-python",
   "name": "python",
   "nbconvert_exporter": "python",
   "pygments_lexer": "ipython3",
   "version": "3.11.7"
  }
 },
 "nbformat": 4,
 "nbformat_minor": 2
}

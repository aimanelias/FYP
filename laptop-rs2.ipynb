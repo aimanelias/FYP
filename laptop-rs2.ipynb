{
 "cells": [
  {
   "cell_type": "markdown",
   "metadata": {},
   "source": [
    "FIRST TRY RANDOM FOREST BASED ON rndm-frst-model.ipynb\n"
   ]
  },
  {
   "cell_type": "code",
   "execution_count": 1,
   "metadata": {},
   "outputs": [],
   "source": [
    "import pandas as pd\n",
    "import numpy as np\n",
    "\n",
    "import matplotlib.pyplot as plt #to visualise\n",
    "import seaborn as sns\n",
    "\n",
    "import nltk #to vectorizer\n",
    "from nltk.stem import PorterStemmer\n",
    "\n",
    "from sklearn.feature_extraction.text import CountVectorizer #to find the similarity\n",
    "\n",
    "#Random Forest\n",
    "from sklearn.model_selection import train_test_split\n",
    "from sklearn.ensemble import RandomForestClassifier #not regression\n",
    "from sklearn.metrics import classification_report, accuracy_score\n",
    "\n",
    "import re"
   ]
  },
  {
   "cell_type": "code",
   "execution_count": 2,
   "metadata": {},
   "outputs": [],
   "source": [
    "laptop = pd.read_csv('dataset/laptops.csv')"
   ]
  },
  {
   "cell_type": "code",
   "execution_count": 3,
   "metadata": {},
   "outputs": [
    {
     "data": {
      "text/plain": [
       "(796, 16)"
      ]
     },
     "execution_count": 3,
     "metadata": {},
     "output_type": "execute_result"
    }
   ],
   "source": [
    "laptop.shape"
   ]
  },
  {
   "cell_type": "markdown",
   "metadata": {},
   "source": [
    "# DATA PREPROCESS\n",
    "-remove null and duplicate\n"
   ]
  },
  {
   "cell_type": "code",
   "execution_count": 4,
   "metadata": {},
   "outputs": [
    {
     "name": "stdout",
     "output_type": "stream",
     "text": [
      "CHECK NULL VALUE:  laptop_id            0\n",
      "name                 0\n",
      "price                0\n",
      "processor            0\n",
      "ram                  0\n",
      "os                   0\n",
      "storage              0\n",
      "img_link             0\n",
      "display              0\n",
      "rating             266\n",
      "no_of_ratings      266\n",
      "no_of_reviews      266\n",
      "laptop_brand         0\n",
      "os_brand             0\n",
      "processor_brand      0\n",
      "usecases             0\n",
      "dtype: int64\n",
      "CHECK MISSING VALUE:  0\n"
     ]
    }
   ],
   "source": [
    "print('CHECK NULL VALUE: ', laptop.isnull().sum())\n",
    "print('CHECK MISSING VALUE: ', laptop.duplicated().sum())"
   ]
  },
  {
   "cell_type": "code",
   "execution_count": 5,
   "metadata": {},
   "outputs": [],
   "source": [
    "laptop.dropna(inplace=True)"
   ]
  },
  {
   "cell_type": "code",
   "execution_count": 6,
   "metadata": {},
   "outputs": [
    {
     "name": "stdout",
     "output_type": "stream",
     "text": [
      "DF SHAPE:  (530, 16)\n",
      "CHECK NULL VALUE:  laptop_id          0\n",
      "name               0\n",
      "price              0\n",
      "processor          0\n",
      "ram                0\n",
      "os                 0\n",
      "storage            0\n",
      "img_link           0\n",
      "display            0\n",
      "rating             0\n",
      "no_of_ratings      0\n",
      "no_of_reviews      0\n",
      "laptop_brand       0\n",
      "os_brand           0\n",
      "processor_brand    0\n",
      "usecases           0\n",
      "dtype: int64\n",
      "CHECK MISSING VALUE:  0\n"
     ]
    }
   ],
   "source": [
    "print('DF SHAPE: ', laptop.shape)\n",
    "print('CHECK NULL VALUE: ', laptop.isnull().sum())\n",
    "print('CHECK MISSING VALUE: ', laptop.duplicated().sum())"
   ]
  },
  {
   "cell_type": "markdown",
   "metadata": {},
   "source": [
    "---END OF DATA PREPROCESS---"
   ]
  },
  {
   "cell_type": "markdown",
   "metadata": {},
   "source": [
    "# DATA TRANSFORM"
   ]
  },
  {
   "cell_type": "code",
   "execution_count": 7,
   "metadata": {},
   "outputs": [
    {
     "name": "stdout",
     "output_type": "stream",
     "text": [
      "laptop_id            int64\n",
      "name                object\n",
      "price                int64\n",
      "processor           object\n",
      "ram                 object\n",
      "os                  object\n",
      "storage             object\n",
      "img_link            object\n",
      "display            float64\n",
      "rating             float64\n",
      "no_of_ratings      float64\n",
      "no_of_reviews      float64\n",
      "laptop_brand        object\n",
      "os_brand            object\n",
      "processor_brand     object\n",
      "usecases            object\n",
      "dtype: object\n"
     ]
    }
   ],
   "source": [
    "#laptop['display'] = laptop['display'].astype(str)\n",
    "print(laptop.dtypes)"
   ]
  },
  {
   "cell_type": "code",
   "execution_count": 8,
   "metadata": {},
   "outputs": [
    {
     "name": "stdout",
     "output_type": "stream",
     "text": [
      "laptop_id            int64\n",
      "name                object\n",
      "price                int64\n",
      "processor           object\n",
      "ram                 object\n",
      "os                  object\n",
      "storage            float64\n",
      "img_link            object\n",
      "display            float64\n",
      "rating             float64\n",
      "no_of_ratings      float64\n",
      "no_of_reviews      float64\n",
      "laptop_brand        object\n",
      "os_brand            object\n",
      "processor_brand     object\n",
      "usecases            object\n",
      "dtype: object\n"
     ]
    }
   ],
   "source": [
    "#laptop['display'] = pd.to_numeric(laptop['display'], errors='coerce')\n",
    "\n",
    "laptop['storage'] = pd.to_numeric(laptop['storage'], errors='coerce')\n",
    "print(laptop.dtypes)"
   ]
  },
  {
   "cell_type": "markdown",
   "metadata": {},
   "source": [
    "# A. CURRENCY\n",
    "\n",
    "-change from Rupee to MYR\n",
    "\n",
    "-drop rupee column and change with rm\n"
   ]
  },
  {
   "cell_type": "code",
   "execution_count": 9,
   "metadata": {},
   "outputs": [],
   "source": [
    "laptop['price'] = laptop['price'] * 0.055 "
   ]
  },
  {
   "cell_type": "code",
   "execution_count": 10,
   "metadata": {},
   "outputs": [
    {
     "data": {
      "text/plain": [
       "(530, 16)"
      ]
     },
     "execution_count": 10,
     "metadata": {},
     "output_type": "execute_result"
    }
   ],
   "source": [
    "laptop.shape"
   ]
  },
  {
   "cell_type": "code",
   "execution_count": 11,
   "metadata": {},
   "outputs": [],
   "source": [
    "#Drop 4 columns\n",
    "laptop.drop(columns=['os', 'no_of_ratings', 'no_of_reviews', 'rating'], inplace=True) #To drop column\n",
    "laptop.rename(columns={'os_brand': 'os'}, inplace=True)"
   ]
  },
  {
   "cell_type": "code",
   "execution_count": 12,
   "metadata": {},
   "outputs": [
    {
     "data": {
      "text/plain": [
       "(530, 12)"
      ]
     },
     "execution_count": 12,
     "metadata": {},
     "output_type": "execute_result"
    }
   ],
   "source": [
    "laptop.shape"
   ]
  },
  {
   "cell_type": "code",
   "execution_count": 13,
   "metadata": {},
   "outputs": [
    {
     "data": {
      "text/plain": [
       "Index(['laptop_id', 'name', 'price', 'processor', 'ram', 'storage', 'img_link',\n",
       "       'display', 'laptop_brand', 'os', 'processor_brand', 'usecases'],\n",
       "      dtype='object')"
      ]
     },
     "execution_count": 13,
     "metadata": {},
     "output_type": "execute_result"
    }
   ],
   "source": [
    "laptop.columns"
   ]
  },
  {
   "cell_type": "code",
   "execution_count": 14,
   "metadata": {},
   "outputs": [
    {
     "data": {
      "text/plain": [
       "usecases\n",
       " Gaming                      152\n",
       " Business/Professional       108\n",
       " Home/Everyday use            81\n",
       " Budget Friendly              55\n",
       " Student/Education            47\n",
       " Creative/Design              37\n",
       " Multimedia/Entertainment     31\n",
       "Ultra-portable                19\n",
       "Name: count, dtype: int64"
      ]
     },
     "execution_count": 14,
     "metadata": {},
     "output_type": "execute_result"
    }
   ],
   "source": [
    "#laptop['usecases'].unique() #to display all usecase without total them\n",
    "laptop['usecases'].value_counts()"
   ]
  },
  {
   "cell_type": "markdown",
   "metadata": {},
   "source": [
    "# B. RAM"
   ]
  },
  {
   "cell_type": "code",
   "execution_count": 15,
   "metadata": {},
   "outputs": [
    {
     "data": {
      "text/plain": [
       "ram\n",
       "8 GB DDR4 RAM       264\n",
       "16 GB DDR4 RAM      123\n",
       "4 GB DDR4 RAM        34\n",
       "16 GB DDR5 RAM       23\n",
       "8 GB LPDDR4X RAM     18\n",
       "Name: count, dtype: int64"
      ]
     },
     "execution_count": 15,
     "metadata": {},
     "output_type": "execute_result"
    }
   ],
   "source": [
    "laptop['ram'].value_counts().head()"
   ]
  },
  {
   "cell_type": "code",
   "execution_count": 16,
   "metadata": {},
   "outputs": [],
   "source": [
    "#need to extract value of each RAM and create column for each value/category\n",
    "#we extracts numeric values from the text, and convert into integer\n",
    "laptop['ram'] = laptop['ram'].str.extract('(\\d+)').astype(int)"
   ]
  },
  {
   "cell_type": "code",
   "execution_count": 17,
   "metadata": {},
   "outputs": [
    {
     "data": {
      "text/plain": [
       "ram\n",
       "8     299\n",
       "16    173\n",
       "4      51\n",
       "32      7\n",
       "Name: count, dtype: int64"
      ]
     },
     "execution_count": 17,
     "metadata": {},
     "output_type": "execute_result"
    }
   ],
   "source": [
    "laptop['ram'].value_counts().head()"
   ]
  },
  {
   "cell_type": "markdown",
   "metadata": {},
   "source": [
    "# C. STORAGE"
   ]
  },
  {
   "cell_type": "code",
   "execution_count": 18,
   "metadata": {},
   "outputs": [],
   "source": [
    "#laptop['storage'] = laptop['storage'].str.extract('(\\d+)').astype(int)"
   ]
  },
  {
   "cell_type": "code",
   "execution_count": 19,
   "metadata": {},
   "outputs": [
    {
     "data": {
      "text/plain": [
       "0    16\n",
       "1    16\n",
       "2     8\n",
       "3     4\n",
       "4     8\n",
       "Name: ram, dtype: int32"
      ]
     },
     "execution_count": 19,
     "metadata": {},
     "output_type": "execute_result"
    }
   ],
   "source": [
    "laptop['ram'].head()"
   ]
  },
  {
   "cell_type": "code",
   "execution_count": 20,
   "metadata": {},
   "outputs": [],
   "source": [
    "laptop['storage'] = laptop['storage'].apply(lambda x: 1000 if x == 1 else x)\n",
    "laptop['storage'] = laptop['storage'].apply(lambda x: 2000 if x == 2 else x)"
   ]
  },
  {
   "cell_type": "code",
   "execution_count": 21,
   "metadata": {},
   "outputs": [
    {
     "data": {
      "text/plain": [
       "Series([], Name: count, dtype: int64)"
      ]
     },
     "execution_count": 21,
     "metadata": {},
     "output_type": "execute_result"
    }
   ],
   "source": [
    "laptop['storage'].value_counts().head()"
   ]
  },
  {
   "cell_type": "markdown",
   "metadata": {},
   "source": [
    "# D. DISPLAY"
   ]
  },
  {
   "cell_type": "code",
   "execution_count": 22,
   "metadata": {},
   "outputs": [
    {
     "data": {
      "text/plain": [
       "[11.6,\n",
       " 13.3,\n",
       " 13.4,\n",
       " 13.6,\n",
       " 14.0,\n",
       " 14.1,\n",
       " 14.2,\n",
       " 14.96,\n",
       " 15.0,\n",
       " 15.6,\n",
       " 16.0,\n",
       " 16.1,\n",
       " 16.2,\n",
       " 16.6,\n",
       " 17.3,\n",
       " 35.0]"
      ]
     },
     "execution_count": 22,
     "metadata": {},
     "output_type": "execute_result"
    }
   ],
   "source": [
    "sorted(laptop['display'].unique())"
   ]
  },
  {
   "cell_type": "markdown",
   "metadata": {},
   "source": [
    "# E. OS"
   ]
  },
  {
   "cell_type": "code",
   "execution_count": 23,
   "metadata": {},
   "outputs": [
    {
     "data": {
      "text/plain": [
       "os\n",
       "Windows     486\n",
       "MacOS        25\n",
       "ChromeOS     14\n",
       "DOS           5\n",
       "Name: count, dtype: int64"
      ]
     },
     "execution_count": 23,
     "metadata": {},
     "output_type": "execute_result"
    }
   ],
   "source": [
    "laptop['os'].value_counts().head()"
   ]
  },
  {
   "cell_type": "code",
   "execution_count": 24,
   "metadata": {},
   "outputs": [
    {
     "data": {
      "text/html": [
       "<div>\n",
       "<style scoped>\n",
       "    .dataframe tbody tr th:only-of-type {\n",
       "        vertical-align: middle;\n",
       "    }\n",
       "\n",
       "    .dataframe tbody tr th {\n",
       "        vertical-align: top;\n",
       "    }\n",
       "\n",
       "    .dataframe thead th {\n",
       "        text-align: right;\n",
       "    }\n",
       "</style>\n",
       "<table border=\"1\" class=\"dataframe\">\n",
       "  <thead>\n",
       "    <tr style=\"text-align: right;\">\n",
       "      <th></th>\n",
       "      <th>os</th>\n",
       "      <th>os_windows</th>\n",
       "      <th>os_mac</th>\n",
       "    </tr>\n",
       "  </thead>\n",
       "  <tbody>\n",
       "    <tr>\n",
       "      <th>0</th>\n",
       "      <td>Windows</td>\n",
       "      <td>1</td>\n",
       "      <td>0</td>\n",
       "    </tr>\n",
       "    <tr>\n",
       "      <th>1</th>\n",
       "      <td>Windows</td>\n",
       "      <td>1</td>\n",
       "      <td>0</td>\n",
       "    </tr>\n",
       "    <tr>\n",
       "      <th>2</th>\n",
       "      <td>Windows</td>\n",
       "      <td>1</td>\n",
       "      <td>0</td>\n",
       "    </tr>\n",
       "    <tr>\n",
       "      <th>3</th>\n",
       "      <td>DOS</td>\n",
       "      <td>0</td>\n",
       "      <td>0</td>\n",
       "    </tr>\n",
       "    <tr>\n",
       "      <th>4</th>\n",
       "      <td>MacOS</td>\n",
       "      <td>0</td>\n",
       "      <td>1</td>\n",
       "    </tr>\n",
       "    <tr>\n",
       "      <th>...</th>\n",
       "      <td>...</td>\n",
       "      <td>...</td>\n",
       "      <td>...</td>\n",
       "    </tr>\n",
       "    <tr>\n",
       "      <th>786</th>\n",
       "      <td>Windows</td>\n",
       "      <td>1</td>\n",
       "      <td>0</td>\n",
       "    </tr>\n",
       "    <tr>\n",
       "      <th>788</th>\n",
       "      <td>Windows</td>\n",
       "      <td>1</td>\n",
       "      <td>0</td>\n",
       "    </tr>\n",
       "    <tr>\n",
       "      <th>791</th>\n",
       "      <td>Windows</td>\n",
       "      <td>1</td>\n",
       "      <td>0</td>\n",
       "    </tr>\n",
       "    <tr>\n",
       "      <th>793</th>\n",
       "      <td>Windows</td>\n",
       "      <td>1</td>\n",
       "      <td>0</td>\n",
       "    </tr>\n",
       "    <tr>\n",
       "      <th>794</th>\n",
       "      <td>Windows</td>\n",
       "      <td>1</td>\n",
       "      <td>0</td>\n",
       "    </tr>\n",
       "  </tbody>\n",
       "</table>\n",
       "<p>530 rows × 3 columns</p>\n",
       "</div>"
      ],
      "text/plain": [
       "          os  os_windows  os_mac\n",
       "0    Windows           1       0\n",
       "1    Windows           1       0\n",
       "2    Windows           1       0\n",
       "3        DOS           0       0\n",
       "4      MacOS           0       1\n",
       "..       ...         ...     ...\n",
       "786  Windows           1       0\n",
       "788  Windows           1       0\n",
       "791  Windows           1       0\n",
       "793  Windows           1       0\n",
       "794  Windows           1       0\n",
       "\n",
       "[530 rows x 3 columns]"
      ]
     },
     "execution_count": 24,
     "metadata": {},
     "output_type": "execute_result"
    }
   ],
   "source": [
    "laptop['os_windows'] = laptop['os'].apply(lambda x: 1 if 'windows' in str(x).lower() else 0)\n",
    "laptop['os_mac'] = laptop['os'].apply(lambda x: 1 if 'macos' in str(x).lower() else 0)\n",
    "\n",
    "laptop[['os', 'os_windows', 'os_mac']]"
   ]
  },
  {
   "cell_type": "markdown",
   "metadata": {},
   "source": [
    "# F. PROCESSOR / CPU\n"
   ]
  },
  {
   "cell_type": "code",
   "execution_count": 25,
   "metadata": {},
   "outputs": [
    {
     "data": {
      "text/plain": [
       "processor\n",
       "Intel Core i3 Processor (11th Gen)    62\n",
       "Intel Core i5 Processor (11th Gen)    57\n",
       "AMD Ryzen 5 Hexa Core Processor       57\n",
       "Intel Core i5 Processor (12th Gen)    48\n",
       "AMD Ryzen 7 Octa Core Processor       36\n",
       "Name: count, dtype: int64"
      ]
     },
     "execution_count": 25,
     "metadata": {},
     "output_type": "execute_result"
    }
   ],
   "source": [
    "laptop['processor'].value_counts().head()"
   ]
  },
  {
   "cell_type": "code",
   "execution_count": 26,
   "metadata": {},
   "outputs": [
    {
     "data": {
      "text/plain": [
       "processor_brand\n",
       "Intel       355\n",
       "AMD         149\n",
       "Apple M1     23\n",
       "Qualcomm      1\n",
       "Apple M2      1\n",
       "Name: count, dtype: int64"
      ]
     },
     "execution_count": 26,
     "metadata": {},
     "output_type": "execute_result"
    }
   ],
   "source": [
    "laptop['processor_brand'].value_counts().head()"
   ]
  },
  {
   "cell_type": "code",
   "execution_count": 27,
   "metadata": {},
   "outputs": [
    {
     "data": {
      "text/html": [
       "<div>\n",
       "<style scoped>\n",
       "    .dataframe tbody tr th:only-of-type {\n",
       "        vertical-align: middle;\n",
       "    }\n",
       "\n",
       "    .dataframe tbody tr th {\n",
       "        vertical-align: top;\n",
       "    }\n",
       "\n",
       "    .dataframe thead th {\n",
       "        text-align: right;\n",
       "    }\n",
       "</style>\n",
       "<table border=\"1\" class=\"dataframe\">\n",
       "  <thead>\n",
       "    <tr style=\"text-align: right;\">\n",
       "      <th></th>\n",
       "      <th>laptop_id</th>\n",
       "      <th>name</th>\n",
       "      <th>price</th>\n",
       "      <th>processor</th>\n",
       "      <th>ram</th>\n",
       "      <th>storage</th>\n",
       "      <th>img_link</th>\n",
       "      <th>display</th>\n",
       "      <th>laptop_brand</th>\n",
       "      <th>os</th>\n",
       "      <th>processor_brand</th>\n",
       "      <th>usecases</th>\n",
       "      <th>os_windows</th>\n",
       "      <th>os_mac</th>\n",
       "    </tr>\n",
       "  </thead>\n",
       "  <tbody>\n",
       "    <tr>\n",
       "      <th>0</th>\n",
       "      <td>0</td>\n",
       "      <td>Lenovo Intel Core i5 11th Gen</td>\n",
       "      <td>3464.45</td>\n",
       "      <td>Intel Core i5 Processor (11th Gen)</td>\n",
       "      <td>16</td>\n",
       "      <td>NaN</td>\n",
       "      <td>https://rukminim1.flixcart.com/image/312/312/x...</td>\n",
       "      <td>15.6</td>\n",
       "      <td>Lenovo</td>\n",
       "      <td>Windows</td>\n",
       "      <td>Intel</td>\n",
       "      <td>Business/Professional</td>\n",
       "      <td>1</td>\n",
       "      <td>0</td>\n",
       "    </tr>\n",
       "    <tr>\n",
       "      <th>1</th>\n",
       "      <td>1</td>\n",
       "      <td>ASUS ROG Zephyrus G15 (2022) with 90Whr Batter...</td>\n",
       "      <td>8909.45</td>\n",
       "      <td>AMD Ryzen 9 Octa Core Processor</td>\n",
       "      <td>16</td>\n",
       "      <td>NaN</td>\n",
       "      <td>https://rukminim1.flixcart.com/image/312/312/l...</td>\n",
       "      <td>15.6</td>\n",
       "      <td>ASUS</td>\n",
       "      <td>Windows</td>\n",
       "      <td>AMD</td>\n",
       "      <td>Gaming</td>\n",
       "      <td>1</td>\n",
       "      <td>0</td>\n",
       "    </tr>\n",
       "    <tr>\n",
       "      <th>2</th>\n",
       "      <td>2</td>\n",
       "      <td>ASUS VivoBook 15 (2022) Core i3 10th Gen</td>\n",
       "      <td>1869.45</td>\n",
       "      <td>Intel Core i3 Processor (10th Gen)</td>\n",
       "      <td>8</td>\n",
       "      <td>NaN</td>\n",
       "      <td>https://rukminim1.flixcart.com/image/312/312/x...</td>\n",
       "      <td>15.6</td>\n",
       "      <td>ASUS</td>\n",
       "      <td>Windows</td>\n",
       "      <td>Intel</td>\n",
       "      <td>Home/Everyday use</td>\n",
       "      <td>1</td>\n",
       "      <td>0</td>\n",
       "    </tr>\n",
       "    <tr>\n",
       "      <th>3</th>\n",
       "      <td>3</td>\n",
       "      <td>Lenovo Athlon Dual Core</td>\n",
       "      <td>1044.45</td>\n",
       "      <td>AMD Athlon Dual Core Processor</td>\n",
       "      <td>4</td>\n",
       "      <td>NaN</td>\n",
       "      <td>https://rukminim1.flixcart.com/image/312/312/x...</td>\n",
       "      <td>14.0</td>\n",
       "      <td>Lenovo</td>\n",
       "      <td>DOS</td>\n",
       "      <td>AMD</td>\n",
       "      <td>Budget Friendly</td>\n",
       "      <td>0</td>\n",
       "      <td>0</td>\n",
       "    </tr>\n",
       "    <tr>\n",
       "      <th>4</th>\n",
       "      <td>4</td>\n",
       "      <td>APPLE 2020 Macbook Air M1</td>\n",
       "      <td>4784.45</td>\n",
       "      <td>Apple M1 Processor</td>\n",
       "      <td>8</td>\n",
       "      <td>NaN</td>\n",
       "      <td>https://rukminim1.flixcart.com/image/312/312/k...</td>\n",
       "      <td>13.3</td>\n",
       "      <td>APPLE</td>\n",
       "      <td>MacOS</td>\n",
       "      <td>Apple M1</td>\n",
       "      <td>Multimedia/Entertainment</td>\n",
       "      <td>0</td>\n",
       "      <td>1</td>\n",
       "    </tr>\n",
       "  </tbody>\n",
       "</table>\n",
       "</div>"
      ],
      "text/plain": [
       "   laptop_id                                               name    price  \\\n",
       "0          0                      Lenovo Intel Core i5 11th Gen  3464.45   \n",
       "1          1  ASUS ROG Zephyrus G15 (2022) with 90Whr Batter...  8909.45   \n",
       "2          2           ASUS VivoBook 15 (2022) Core i3 10th Gen  1869.45   \n",
       "3          3                            Lenovo Athlon Dual Core  1044.45   \n",
       "4          4                          APPLE 2020 Macbook Air M1  4784.45   \n",
       "\n",
       "                            processor  ram  storage  \\\n",
       "0  Intel Core i5 Processor (11th Gen)   16      NaN   \n",
       "1     AMD Ryzen 9 Octa Core Processor   16      NaN   \n",
       "2  Intel Core i3 Processor (10th Gen)    8      NaN   \n",
       "3      AMD Athlon Dual Core Processor    4      NaN   \n",
       "4                  Apple M1 Processor    8      NaN   \n",
       "\n",
       "                                            img_link  display laptop_brand  \\\n",
       "0  https://rukminim1.flixcart.com/image/312/312/x...     15.6       Lenovo   \n",
       "1  https://rukminim1.flixcart.com/image/312/312/l...     15.6         ASUS   \n",
       "2  https://rukminim1.flixcart.com/image/312/312/x...     15.6         ASUS   \n",
       "3  https://rukminim1.flixcart.com/image/312/312/x...     14.0       Lenovo   \n",
       "4  https://rukminim1.flixcart.com/image/312/312/k...     13.3        APPLE   \n",
       "\n",
       "        os processor_brand                   usecases  os_windows  os_mac  \n",
       "0  Windows           Intel      Business/Professional           1       0  \n",
       "1  Windows             AMD                     Gaming           1       0  \n",
       "2  Windows           Intel          Home/Everyday use           1       0  \n",
       "3      DOS             AMD            Budget Friendly           0       0  \n",
       "4    MacOS        Apple M1   Multimedia/Entertainment           0       1  "
      ]
     },
     "execution_count": 27,
     "metadata": {},
     "output_type": "execute_result"
    }
   ],
   "source": [
    "laptop.head()"
   ]
  },
  {
   "cell_type": "code",
   "execution_count": 28,
   "metadata": {},
   "outputs": [],
   "source": [
    "#need to extract and create new columns for unique processor\n",
    "#display all distinct CPU\n",
    "#laptop['processor'].unique()\n",
    "#display only this CPU\n",
    "#laptop[laptop['processor'].str.contains('Apple', case=False, na=False)]['processor'].unique()\n",
    "#display other than selective CPU\n",
    "#laptop[~laptop['processor'].str.contains('Apple|Intel Core', case=False, na=False)]['processor'].unique()"
   ]
  },
  {
   "cell_type": "code",
   "execution_count": 29,
   "metadata": {},
   "outputs": [
    {
     "data": {
      "text/html": [
       "<div>\n",
       "<style scoped>\n",
       "    .dataframe tbody tr th:only-of-type {\n",
       "        vertical-align: middle;\n",
       "    }\n",
       "\n",
       "    .dataframe tbody tr th {\n",
       "        vertical-align: top;\n",
       "    }\n",
       "\n",
       "    .dataframe thead th {\n",
       "        text-align: right;\n",
       "    }\n",
       "</style>\n",
       "<table border=\"1\" class=\"dataframe\">\n",
       "  <thead>\n",
       "    <tr style=\"text-align: right;\">\n",
       "      <th></th>\n",
       "      <th>laptop_id</th>\n",
       "      <th>name</th>\n",
       "      <th>price</th>\n",
       "      <th>processor</th>\n",
       "      <th>ram</th>\n",
       "      <th>storage</th>\n",
       "      <th>img_link</th>\n",
       "      <th>display</th>\n",
       "      <th>laptop_brand</th>\n",
       "      <th>os</th>\n",
       "      <th>processor_brand</th>\n",
       "      <th>usecases</th>\n",
       "      <th>os_windows</th>\n",
       "      <th>os_mac</th>\n",
       "      <th>i3</th>\n",
       "      <th>i5</th>\n",
       "      <th>r3</th>\n",
       "      <th>r5</th>\n",
       "    </tr>\n",
       "  </thead>\n",
       "  <tbody>\n",
       "    <tr>\n",
       "      <th>0</th>\n",
       "      <td>0</td>\n",
       "      <td>Lenovo Intel Core i5 11th Gen</td>\n",
       "      <td>3464.45</td>\n",
       "      <td>Intel Core i5 Processor (11th Gen)</td>\n",
       "      <td>16</td>\n",
       "      <td>NaN</td>\n",
       "      <td>https://rukminim1.flixcart.com/image/312/312/x...</td>\n",
       "      <td>15.6</td>\n",
       "      <td>Lenovo</td>\n",
       "      <td>Windows</td>\n",
       "      <td>Intel</td>\n",
       "      <td>Business/Professional</td>\n",
       "      <td>1</td>\n",
       "      <td>0</td>\n",
       "      <td>0</td>\n",
       "      <td>1</td>\n",
       "      <td>0</td>\n",
       "      <td>0</td>\n",
       "    </tr>\n",
       "    <tr>\n",
       "      <th>1</th>\n",
       "      <td>1</td>\n",
       "      <td>ASUS ROG Zephyrus G15 (2022) with 90Whr Batter...</td>\n",
       "      <td>8909.45</td>\n",
       "      <td>AMD Ryzen 9 Octa Core Processor</td>\n",
       "      <td>16</td>\n",
       "      <td>NaN</td>\n",
       "      <td>https://rukminim1.flixcart.com/image/312/312/l...</td>\n",
       "      <td>15.6</td>\n",
       "      <td>ASUS</td>\n",
       "      <td>Windows</td>\n",
       "      <td>AMD</td>\n",
       "      <td>Gaming</td>\n",
       "      <td>1</td>\n",
       "      <td>0</td>\n",
       "      <td>0</td>\n",
       "      <td>0</td>\n",
       "      <td>0</td>\n",
       "      <td>0</td>\n",
       "    </tr>\n",
       "    <tr>\n",
       "      <th>2</th>\n",
       "      <td>2</td>\n",
       "      <td>ASUS VivoBook 15 (2022) Core i3 10th Gen</td>\n",
       "      <td>1869.45</td>\n",
       "      <td>Intel Core i3 Processor (10th Gen)</td>\n",
       "      <td>8</td>\n",
       "      <td>NaN</td>\n",
       "      <td>https://rukminim1.flixcart.com/image/312/312/x...</td>\n",
       "      <td>15.6</td>\n",
       "      <td>ASUS</td>\n",
       "      <td>Windows</td>\n",
       "      <td>Intel</td>\n",
       "      <td>Home/Everyday use</td>\n",
       "      <td>1</td>\n",
       "      <td>0</td>\n",
       "      <td>1</td>\n",
       "      <td>0</td>\n",
       "      <td>0</td>\n",
       "      <td>0</td>\n",
       "    </tr>\n",
       "    <tr>\n",
       "      <th>3</th>\n",
       "      <td>3</td>\n",
       "      <td>Lenovo Athlon Dual Core</td>\n",
       "      <td>1044.45</td>\n",
       "      <td>AMD Athlon Dual Core Processor</td>\n",
       "      <td>4</td>\n",
       "      <td>NaN</td>\n",
       "      <td>https://rukminim1.flixcart.com/image/312/312/x...</td>\n",
       "      <td>14.0</td>\n",
       "      <td>Lenovo</td>\n",
       "      <td>DOS</td>\n",
       "      <td>AMD</td>\n",
       "      <td>Budget Friendly</td>\n",
       "      <td>0</td>\n",
       "      <td>0</td>\n",
       "      <td>0</td>\n",
       "      <td>0</td>\n",
       "      <td>0</td>\n",
       "      <td>0</td>\n",
       "    </tr>\n",
       "    <tr>\n",
       "      <th>4</th>\n",
       "      <td>4</td>\n",
       "      <td>APPLE 2020 Macbook Air M1</td>\n",
       "      <td>4784.45</td>\n",
       "      <td>Apple M1 Processor</td>\n",
       "      <td>8</td>\n",
       "      <td>NaN</td>\n",
       "      <td>https://rukminim1.flixcart.com/image/312/312/k...</td>\n",
       "      <td>13.3</td>\n",
       "      <td>APPLE</td>\n",
       "      <td>MacOS</td>\n",
       "      <td>Apple M1</td>\n",
       "      <td>Multimedia/Entertainment</td>\n",
       "      <td>0</td>\n",
       "      <td>1</td>\n",
       "      <td>0</td>\n",
       "      <td>0</td>\n",
       "      <td>0</td>\n",
       "      <td>0</td>\n",
       "    </tr>\n",
       "  </tbody>\n",
       "</table>\n",
       "</div>"
      ],
      "text/plain": [
       "   laptop_id                                               name    price  \\\n",
       "0          0                      Lenovo Intel Core i5 11th Gen  3464.45   \n",
       "1          1  ASUS ROG Zephyrus G15 (2022) with 90Whr Batter...  8909.45   \n",
       "2          2           ASUS VivoBook 15 (2022) Core i3 10th Gen  1869.45   \n",
       "3          3                            Lenovo Athlon Dual Core  1044.45   \n",
       "4          4                          APPLE 2020 Macbook Air M1  4784.45   \n",
       "\n",
       "                            processor  ram  storage  \\\n",
       "0  Intel Core i5 Processor (11th Gen)   16      NaN   \n",
       "1     AMD Ryzen 9 Octa Core Processor   16      NaN   \n",
       "2  Intel Core i3 Processor (10th Gen)    8      NaN   \n",
       "3      AMD Athlon Dual Core Processor    4      NaN   \n",
       "4                  Apple M1 Processor    8      NaN   \n",
       "\n",
       "                                            img_link  display laptop_brand  \\\n",
       "0  https://rukminim1.flixcart.com/image/312/312/x...     15.6       Lenovo   \n",
       "1  https://rukminim1.flixcart.com/image/312/312/l...     15.6         ASUS   \n",
       "2  https://rukminim1.flixcart.com/image/312/312/x...     15.6         ASUS   \n",
       "3  https://rukminim1.flixcart.com/image/312/312/x...     14.0       Lenovo   \n",
       "4  https://rukminim1.flixcart.com/image/312/312/k...     13.3        APPLE   \n",
       "\n",
       "        os processor_brand                   usecases  os_windows  os_mac  i3  \\\n",
       "0  Windows           Intel      Business/Professional           1       0   0   \n",
       "1  Windows             AMD                     Gaming           1       0   0   \n",
       "2  Windows           Intel          Home/Everyday use           1       0   1   \n",
       "3      DOS             AMD            Budget Friendly           0       0   0   \n",
       "4    MacOS        Apple M1   Multimedia/Entertainment           0       1   0   \n",
       "\n",
       "   i5  r3  r5  \n",
       "0   1   0   0  \n",
       "1   0   0   0  \n",
       "2   0   0   0  \n",
       "3   0   0   0  \n",
       "4   0   0   0  "
      ]
     },
     "execution_count": 29,
     "metadata": {},
     "output_type": "execute_result"
    }
   ],
   "source": [
    "#CPU Intel\n",
    "laptop['i3'] = laptop['processor'].apply(lambda x: 1 if 'i3' in str(x).lower() else 0)\n",
    "laptop['i5'] = laptop['processor'].apply(lambda x: 1 if 'i5' in str(x).lower() else 0)\n",
    "'''laptop['i7'] = laptop['processor'].apply(lambda x: 1 if 'i7' in str(x).lower() else 0)\n",
    "laptop['i9'] = laptop['processor'].apply(lambda x: 1 if 'i9' in str(x).lower() else 0)'''\n",
    "#CPU Ryzen\n",
    "laptop['r3'] = laptop['processor'].apply(lambda x: 1 if 'Ryzen 3' in str(x).lower() else 0)\n",
    "laptop['r5'] = laptop['processor'].apply(lambda x: 1 if 'Ryzen 5' in str(x).lower() else 0)\n",
    "'''laptop['r7'] = laptop['processor'].apply(lambda x: 1 if 'Ryzen 7' in str(x).lower() else 0)\n",
    "laptop['r9'] = laptop['processor'].apply(lambda x: 1 if 'Ryzen 9' in str(x).lower() else 0)\n",
    "#CPU MAC\n",
    "laptop['m1'] = laptop['processor'].apply(lambda x: 1 if 'M1' in str(x).lower() else 0)\n",
    "laptop['m2'] = laptop['processor'].apply(lambda x: 1 if 'M2' in str(x).lower() else 0)\n",
    "#CPU Others\n",
    "laptop['sd'] = laptop['processor'].apply(lambda x: 1 if 'Snapdragon' in str(x).lower() else 0)\n",
    "laptop['mdtk'] = laptop['processor'].apply(lambda x: 1 if 'MediaTek' in str(x).lower() else 0)\n",
    "laptop['2c'] = laptop['processor'].apply(lambda x: 1 if 'Dual Core' in str(x).lower() else 0)\n",
    "laptop['4c'] = laptop['processor'].apply(lambda x: 1 if 'Quad Core' in str(x).lower() else 0)\n",
    "laptop['6c'] = laptop['processor'].apply(lambda x: 1 if 'Hexa Core' in str(x).lower() else 0)\n",
    "laptop['8c'] = laptop['processor'].apply(lambda x: 1 if 'Octa Core' in str(x).lower() else 0)'''\n",
    "\n",
    "#display selective columns\n",
    "#laptop[['name', 'usecases']].head() \n",
    "laptop.head()"
   ]
  },
  {
   "cell_type": "markdown",
   "metadata": {},
   "source": [
    "ASSIGN NEW USECASE"
   ]
  },
  {
   "cell_type": "code",
   "execution_count": 30,
   "metadata": {},
   "outputs": [
    {
     "data": {
      "text/plain": [
       "Index(['laptop_id', 'name', 'price', 'processor', 'ram', 'storage', 'img_link',\n",
       "       'display', 'laptop_brand', 'os', 'processor_brand', 'usecases',\n",
       "       'os_windows', 'os_mac', 'i3', 'i5', 'r3', 'r5'],\n",
       "      dtype='object')"
      ]
     },
     "execution_count": 30,
     "metadata": {},
     "output_type": "execute_result"
    }
   ],
   "source": [
    "laptop.columns"
   ]
  },
  {
   "cell_type": "code",
   "execution_count": 31,
   "metadata": {},
   "outputs": [
    {
     "ename": "NameError",
     "evalue": "name 'assign_usecase' is not defined",
     "output_type": "error",
     "traceback": [
      "\u001b[1;31m---------------------------------------------------------------------------\u001b[0m",
      "\u001b[1;31mNameError\u001b[0m                                 Traceback (most recent call last)",
      "Cell \u001b[1;32mIn[31], line 15\u001b[0m\n\u001b[0;32m      1\u001b[0m \u001b[38;5;124;03m'''def assign_usecase(row):\u001b[39;00m\n\u001b[0;32m      2\u001b[0m \u001b[38;5;124;03m    # For GAMING: Display (>=15.6), CPU (i5, r5), RAM (>=16), Storage (>=512)\u001b[39;00m\n\u001b[0;32m      3\u001b[0m \u001b[38;5;124;03m    if (row['display'] >= 15.6 and (row['i5'] == 1 or row['r5'] == 1) and row['ram'] >= 16 and row['storage'] >= 512):\u001b[39;00m\n\u001b[1;32m   (...)\u001b[0m\n\u001b[0;32m     11\u001b[0m \u001b[38;5;124;03m    # Default case (if no criteria match)\u001b[39;00m\n\u001b[0;32m     12\u001b[0m \u001b[38;5;124;03m    return \"unknown\"'''\u001b[39;00m\n\u001b[0;32m     14\u001b[0m \u001b[38;5;66;03m# Apply the function to the DataFrame\u001b[39;00m\n\u001b[1;32m---> 15\u001b[0m laptop[\u001b[38;5;124m'\u001b[39m\u001b[38;5;124musecases\u001b[39m\u001b[38;5;124m'\u001b[39m] \u001b[38;5;241m=\u001b[39m laptop\u001b[38;5;241m.\u001b[39mapply(assign_usecase, axis\u001b[38;5;241m=\u001b[39m\u001b[38;5;241m1\u001b[39m)\n",
      "\u001b[1;31mNameError\u001b[0m: name 'assign_usecase' is not defined"
     ]
    }
   ],
   "source": [
    "'''def assign_usecase(row):\n",
    "    # For GAMING: Display (>=15.6), CPU (i5, r5), RAM (>=16), Storage (>=512)\n",
    "    if (row['display'] >= 15.6 and (row['i5'] == 1 or row['r5'] == 1) and row['ram'] >= 16 and row['storage'] >= 512):\n",
    "        return \"gaming\"\n",
    "    # For OFFICE: Display (<=15.6), CPU (i3, r3), RAM (8-16), Storage (256-1000)\n",
    "    elif (row['display'] <= 15.6 and (row['i3'] == 1 or row['r3'] == 1) and 8 <= row['ram'] <= 16 and 256 <= row['storage'] <= 1000):\n",
    "        return \"office\"\n",
    "    # For HYBRID: Display (15.6 - 17.3), CPU (i5, r5), RAM (<=8), Storage (<=512)\n",
    "    elif (15.6 <= row['display'] <= 17.3 and (row['i5'] == 1 or row['r5'] == 1) and row['ram'] <= 8 and row['storage'] <= 512):\n",
    "        return \"hybrid\"\n",
    "    # Default case (if no criteria match)\n",
    "    return \"unknown\"'''\n",
    "\n",
    "# Apply the function to the DataFrame\n",
    "laptop['usecases'] = laptop.apply(assign_usecase, axis=1)\n"
   ]
  },
  {
   "cell_type": "code",
   "execution_count": 284,
   "metadata": {},
   "outputs": [],
   "source": [
    "import pickle\n",
    "\n",
    "#laptop.to_csv('model/rf-dataset.csv', sep=',', index=False, encoding='utf-8')"
   ]
  },
  {
   "cell_type": "code",
   "execution_count": 285,
   "metadata": {},
   "outputs": [
    {
     "data": {
      "text/html": [
       "<div>\n",
       "<style scoped>\n",
       "    .dataframe tbody tr th:only-of-type {\n",
       "        vertical-align: middle;\n",
       "    }\n",
       "\n",
       "    .dataframe tbody tr th {\n",
       "        vertical-align: top;\n",
       "    }\n",
       "\n",
       "    .dataframe thead th {\n",
       "        text-align: right;\n",
       "    }\n",
       "</style>\n",
       "<table border=\"1\" class=\"dataframe\">\n",
       "  <thead>\n",
       "    <tr style=\"text-align: right;\">\n",
       "      <th></th>\n",
       "      <th>ram</th>\n",
       "      <th>storage</th>\n",
       "      <th>i3</th>\n",
       "      <th>i5</th>\n",
       "      <th>r3</th>\n",
       "      <th>r5</th>\n",
       "    </tr>\n",
       "  </thead>\n",
       "  <tbody>\n",
       "    <tr>\n",
       "      <th>0</th>\n",
       "      <td>16</td>\n",
       "      <td>NaN</td>\n",
       "      <td>0</td>\n",
       "      <td>1</td>\n",
       "      <td>0</td>\n",
       "      <td>0</td>\n",
       "    </tr>\n",
       "    <tr>\n",
       "      <th>1</th>\n",
       "      <td>16</td>\n",
       "      <td>NaN</td>\n",
       "      <td>0</td>\n",
       "      <td>0</td>\n",
       "      <td>0</td>\n",
       "      <td>0</td>\n",
       "    </tr>\n",
       "    <tr>\n",
       "      <th>2</th>\n",
       "      <td>8</td>\n",
       "      <td>NaN</td>\n",
       "      <td>1</td>\n",
       "      <td>0</td>\n",
       "      <td>0</td>\n",
       "      <td>0</td>\n",
       "    </tr>\n",
       "    <tr>\n",
       "      <th>3</th>\n",
       "      <td>4</td>\n",
       "      <td>NaN</td>\n",
       "      <td>0</td>\n",
       "      <td>0</td>\n",
       "      <td>0</td>\n",
       "      <td>0</td>\n",
       "    </tr>\n",
       "    <tr>\n",
       "      <th>4</th>\n",
       "      <td>8</td>\n",
       "      <td>NaN</td>\n",
       "      <td>0</td>\n",
       "      <td>0</td>\n",
       "      <td>0</td>\n",
       "      <td>0</td>\n",
       "    </tr>\n",
       "    <tr>\n",
       "      <th>5</th>\n",
       "      <td>4</td>\n",
       "      <td>NaN</td>\n",
       "      <td>0</td>\n",
       "      <td>0</td>\n",
       "      <td>0</td>\n",
       "      <td>0</td>\n",
       "    </tr>\n",
       "    <tr>\n",
       "      <th>6</th>\n",
       "      <td>8</td>\n",
       "      <td>NaN</td>\n",
       "      <td>1</td>\n",
       "      <td>0</td>\n",
       "      <td>0</td>\n",
       "      <td>0</td>\n",
       "    </tr>\n",
       "    <tr>\n",
       "      <th>7</th>\n",
       "      <td>8</td>\n",
       "      <td>NaN</td>\n",
       "      <td>0</td>\n",
       "      <td>1</td>\n",
       "      <td>0</td>\n",
       "      <td>0</td>\n",
       "    </tr>\n",
       "    <tr>\n",
       "      <th>8</th>\n",
       "      <td>8</td>\n",
       "      <td>NaN</td>\n",
       "      <td>0</td>\n",
       "      <td>0</td>\n",
       "      <td>0</td>\n",
       "      <td>0</td>\n",
       "    </tr>\n",
       "    <tr>\n",
       "      <th>9</th>\n",
       "      <td>16</td>\n",
       "      <td>NaN</td>\n",
       "      <td>0</td>\n",
       "      <td>1</td>\n",
       "      <td>0</td>\n",
       "      <td>0</td>\n",
       "    </tr>\n",
       "  </tbody>\n",
       "</table>\n",
       "</div>"
      ],
      "text/plain": [
       "   ram  storage  i3  i5  r3  r5\n",
       "0   16      NaN   0   1   0   0\n",
       "1   16      NaN   0   0   0   0\n",
       "2    8      NaN   1   0   0   0\n",
       "3    4      NaN   0   0   0   0\n",
       "4    8      NaN   0   0   0   0\n",
       "5    4      NaN   0   0   0   0\n",
       "6    8      NaN   1   0   0   0\n",
       "7    8      NaN   0   1   0   0\n",
       "8    8      NaN   0   0   0   0\n",
       "9   16      NaN   0   1   0   0"
      ]
     },
     "execution_count": 285,
     "metadata": {},
     "output_type": "execute_result"
    }
   ],
   "source": [
    "laptop[['ram', 'storage', 'i3', 'i5', 'r3', 'r5']].head(10)"
   ]
  },
  {
   "cell_type": "code",
   "execution_count": 286,
   "metadata": {},
   "outputs": [
    {
     "data": {
      "text/plain": [
       "usecases\n",
       "unknown    530\n",
       "Name: count, dtype: int64"
      ]
     },
     "execution_count": 286,
     "metadata": {},
     "output_type": "execute_result"
    }
   ],
   "source": [
    "laptop['usecases'].value_counts().head()"
   ]
  },
  {
   "cell_type": "markdown",
   "metadata": {},
   "source": [
    "# MODEL CREATION"
   ]
  },
  {
   "cell_type": "code",
   "execution_count": 287,
   "metadata": {},
   "outputs": [],
   "source": [
    "# Ensure laptop DataFrame is not empty and contains required columns\n",
    "if 'ram' in laptop.columns and not laptop.empty:\n",
    "    X = laptop[['ram', 'i3', 'i5', 'r3', 'r5']]\n",
    "    y = laptop['usecases']\n",
    "    \n",
    "    # Split the data\n",
    "    X_train, X_test, y_train, y_test = train_test_split(X, y, test_size=0.2, random_state=42)\n",
    "else:\n",
    "    print(\"Error: DataFrame is empty or required columns are missing.\")\n"
   ]
  },
  {
   "cell_type": "code",
   "execution_count": 288,
   "metadata": {},
   "outputs": [
    {
     "data": {
      "text/plain": [
       "((424, 5), (106, 5), (424,), (106,))"
      ]
     },
     "execution_count": 288,
     "metadata": {},
     "output_type": "execute_result"
    }
   ],
   "source": [
    "X_train.shape, X_test.shape, y_train.shape, y_test.shape"
   ]
  },
  {
   "cell_type": "code",
   "execution_count": 289,
   "metadata": {},
   "outputs": [
    {
     "name": "stdout",
     "output_type": "stream",
     "text": [
      "Accuracy: 1.0000\n",
      "              precision    recall  f1-score   support\n",
      "\n",
      "     unknown       1.00      1.00      1.00       106\n",
      "\n",
      "    accuracy                           1.00       106\n",
      "   macro avg       1.00      1.00      1.00       106\n",
      "weighted avg       1.00      1.00      1.00       106\n",
      "\n"
     ]
    }
   ],
   "source": [
    "# Initialize the Random Forest model\n",
    "rf_model = RandomForestClassifier(n_estimators=100, random_state=42)\n",
    "\n",
    "# Train the model on the training data\n",
    "rf_model.fit(X_train, y_train)\n",
    "\n",
    "# Make predictions on the test set\n",
    "y_pred = rf_model.predict(X_test)\n",
    "\n",
    "# Evaluate the model's performance\n",
    "accuracy = accuracy_score(y_test, y_pred)\n",
    "print(f\"Accuracy: {accuracy:.4f}\")\n",
    "\n",
    "# Classification report for more detailed evaluation\n",
    "print(classification_report(y_test, y_pred))"
   ]
  },
  {
   "cell_type": "code",
   "execution_count": 290,
   "metadata": {},
   "outputs": [
    {
     "data": {
      "text/plain": [
       "\"     'i7': [1 if 'i7' in processor.lower() else 0],\\n        'i9': [1 if 'i9' in processor.lower() else 0],\\n        'r7': [1 if 'ryzen 7' in processor.lower() else 0],\\n        'r9': [1 if 'ryzen 9' in processor.lower() else 0],\\n        'm1': [1 if 'm1' in processor.lower() else 0],\\n        'm2': [1 if 'm2' in processor.lower() else 0],\\n        'sd': [1 if 'snapdragon' in processor.lower() else 0],\\n        'mdtk': [1 if 'mediatek' in processor.lower() else 0],\\n        '2c': [1 if 'dual core' in processor.lower() else 0],\\n        '4c': [1 if 'quad core' in processor.lower() else 0],\\n        '6c': [1 if 'hexa core' in processor.lower() else 0],\\n        '8c': [1 if 'octa core' in processor.lower() else 0]\\n\""
      ]
     },
     "execution_count": 290,
     "metadata": {},
     "output_type": "execute_result"
    }
   ],
   "source": [
    "# Example of predicting the usecase for a new laptop based on user input\n",
    "def predict_usecase(ram, processor, os):\n",
    "    input_data = {\n",
    "        'ram': [ram],\n",
    "        'i3': [1 if 'i3' in processor.lower() else 0],\n",
    "        'i5': [1 if 'i5' in processor.lower() else 0],\n",
    "        'r3': [1 if 'ryzen 3' in processor.lower() else 0],\n",
    "        'r5': [1 if 'ryzen 5' in processor.lower() else 0],\n",
    "        'os': [os]\n",
    "    }\n",
    "\n",
    "    input_df = pd.DataFrame(input_data)\n",
    "\n",
    "    # Predict the usecase for the given laptop specifications\n",
    "    predicted_usecase = rf_model.predict(input_df)\n",
    "    \n",
    "    return predicted_usecase[0]\n",
    "\n",
    "'''     'i7': [1 if 'i7' in processor.lower() else 0],\n",
    "        'i9': [1 if 'i9' in processor.lower() else 0],\n",
    "        'r7': [1 if 'ryzen 7' in processor.lower() else 0],\n",
    "        'r9': [1 if 'ryzen 9' in processor.lower() else 0],\n",
    "        'm1': [1 if 'm1' in processor.lower() else 0],\n",
    "        'm2': [1 if 'm2' in processor.lower() else 0],\n",
    "        'sd': [1 if 'snapdragon' in processor.lower() else 0],\n",
    "        'mdtk': [1 if 'mediatek' in processor.lower() else 0],\n",
    "        '2c': [1 if 'dual core' in processor.lower() else 0],\n",
    "        '4c': [1 if 'quad core' in processor.lower() else 0],\n",
    "        '6c': [1 if 'hexa core' in processor.lower() else 0],\n",
    "        '8c': [1 if 'octa core' in processor.lower() else 0]\n",
    "'''\n"
   ]
  },
  {
   "cell_type": "code",
   "execution_count": 291,
   "metadata": {},
   "outputs": [],
   "source": [
    "# User Input Function\n",
    "def get_user_input():\n",
    "    print(\"\\nPlease enter your laptop preferences:\")\n",
    "    ram = input(\"Enter RAM size (e.g., 8GB, 16GB): \").strip().lower()\n",
    "    processor = input(\"Enter Processor type (e.g., i5, Ryzen 5): \").strip().lower()\n",
    "    os = input(\"Enter Operating System (e.g., Windows, Linux): \").strip().lower()\n",
    "    storage = input(\"Enter Storage size (e.g., 512GB SSD, 1TB HDD): \").strip().lower()\n",
    "    laptop_brand = input(\"Enter Laptop Brand (e.g., Dell, HP): \").strip().lower()\n",
    "    return {\n",
    "        'ram': ram,\n",
    "        'processor': processor,\n",
    "        'os': os,\n",
    "        'storage': storage,\n",
    "        'laptop_brand': laptop_brand\n",
    "    }"
   ]
  },
  {
   "cell_type": "code",
   "execution_count": 292,
   "metadata": {},
   "outputs": [],
   "source": [
    "from sklearn.exceptions import NotFittedError\n",
    "\n",
    "\n",
    "def recommend_laptop():\n",
    "    try:\n",
    "        user_input = get_user_input()\n",
    "        user_df = pd.DataFrame([user_input])\n",
    "        user_encoded = pd.get_dummies(user_df, drop_first=True)\n",
    "        # Align columns with training data\n",
    "        user_encoded = user_encoded.reindex(columns=X_encoded.columns, fill_value=0)\n",
    "        prediction = rf_model.predict(user_encoded)\n",
    "        print(f\"\\nRecommended laptop use case: {prediction[0]}\")\n",
    "    except NotFittedError:\n",
    "        print(\"The model is not trained yet. Train the model before making predictions.\")\n",
    "    except ValueError as e:\n",
    "        print(f\"An error occurred during prediction: {e}\")"
   ]
  },
  {
   "cell_type": "code",
   "execution_count": 293,
   "metadata": {},
   "outputs": [
    {
     "name": "stdout",
     "output_type": "stream",
     "text": [
      "\n",
      "Please enter your laptop preferences:\n"
     ]
    },
    {
     "ename": "NameError",
     "evalue": "name 'X_encoded' is not defined",
     "output_type": "error",
     "traceback": [
      "\u001b[1;31m---------------------------------------------------------------------------\u001b[0m",
      "\u001b[1;31mNameError\u001b[0m                                 Traceback (most recent call last)",
      "Cell \u001b[1;32mIn[293], line 1\u001b[0m\n\u001b[1;32m----> 1\u001b[0m recommend_laptop()\n",
      "Cell \u001b[1;32mIn[292], line 10\u001b[0m, in \u001b[0;36mrecommend_laptop\u001b[1;34m()\u001b[0m\n\u001b[0;32m      8\u001b[0m user_encoded \u001b[38;5;241m=\u001b[39m pd\u001b[38;5;241m.\u001b[39mget_dummies(user_df, drop_first\u001b[38;5;241m=\u001b[39m\u001b[38;5;28;01mTrue\u001b[39;00m)\n\u001b[0;32m      9\u001b[0m \u001b[38;5;66;03m# Align columns with training data\u001b[39;00m\n\u001b[1;32m---> 10\u001b[0m user_encoded \u001b[38;5;241m=\u001b[39m user_encoded\u001b[38;5;241m.\u001b[39mreindex(columns\u001b[38;5;241m=\u001b[39mX_encoded\u001b[38;5;241m.\u001b[39mcolumns, fill_value\u001b[38;5;241m=\u001b[39m\u001b[38;5;241m0\u001b[39m)\n\u001b[0;32m     11\u001b[0m prediction \u001b[38;5;241m=\u001b[39m rf_model\u001b[38;5;241m.\u001b[39mpredict(user_encoded)\n\u001b[0;32m     12\u001b[0m \u001b[38;5;28mprint\u001b[39m(\u001b[38;5;124mf\u001b[39m\u001b[38;5;124m\"\u001b[39m\u001b[38;5;130;01m\\n\u001b[39;00m\u001b[38;5;124mRecommended laptop use case: \u001b[39m\u001b[38;5;132;01m{\u001b[39;00mprediction[\u001b[38;5;241m0\u001b[39m]\u001b[38;5;132;01m}\u001b[39;00m\u001b[38;5;124m\"\u001b[39m)\n",
      "\u001b[1;31mNameError\u001b[0m: name 'X_encoded' is not defined"
     ]
    }
   ],
   "source": [
    "recommend_laptop()"
   ]
  },
  {
   "cell_type": "code",
   "execution_count": null,
   "metadata": {},
   "outputs": [
    {
     "ename": "TypeError",
     "evalue": "predict_usecase() missing 1 required positional argument: 'os'",
     "output_type": "error",
     "traceback": [
      "\u001b[1;31m---------------------------------------------------------------------------\u001b[0m",
      "\u001b[1;31mTypeError\u001b[0m                                 Traceback (most recent call last)",
      "Cell \u001b[1;32mIn[166], line 7\u001b[0m\n\u001b[0;32m      4\u001b[0m os \u001b[38;5;241m=\u001b[39m \u001b[38;5;124m'\u001b[39m\u001b[38;5;124mwindows\u001b[39m\u001b[38;5;124m'\u001b[39m\n\u001b[0;32m      6\u001b[0m \u001b[38;5;66;03m# Get the predicted course\u001b[39;00m\n\u001b[1;32m----> 7\u001b[0m predicted_usecase \u001b[38;5;241m=\u001b[39m predict_usecase(ram, processor)\n\u001b[0;32m      9\u001b[0m \u001b[38;5;66;03m# Output the predicted course\u001b[39;00m\n\u001b[0;32m     10\u001b[0m \u001b[38;5;28mprint\u001b[39m(\u001b[38;5;124mf\u001b[39m\u001b[38;5;124m\"\u001b[39m\u001b[38;5;124mThe recommended usecase for this laptop is: \u001b[39m\u001b[38;5;132;01m{\u001b[39;00mpredicted_usecase\u001b[38;5;132;01m}\u001b[39;00m\u001b[38;5;124m\"\u001b[39m)\n",
      "\u001b[1;31mTypeError\u001b[0m: predict_usecase() missing 1 required positional argument: 'os'"
     ]
    }
   ],
   "source": [
    "# Example: User selects a laptop with 8GB RAM and Intel i5 processor\n",
    "ram = 64  # Example RAM size\n",
    "processor = 'i5'  # Example processor\n",
    "os = 'windows'\n",
    "\n",
    "# Get the predicted course\n",
    "predicted_usecase = predict_usecase(ram, processor)\n",
    "\n",
    "# Output the predicted course\n",
    "print(f\"The recommended usecase for this laptop is: {predicted_usecase}\")"
   ]
  },
  {
   "cell_type": "code",
   "execution_count": 348,
   "metadata": {},
   "outputs": [
    {
     "data": {
      "text/html": [
       "<style>#sk-container-id-1 {color: black;background-color: white;}#sk-container-id-1 pre{padding: 0;}#sk-container-id-1 div.sk-toggleable {background-color: white;}#sk-container-id-1 label.sk-toggleable__label {cursor: pointer;display: block;width: 100%;margin-bottom: 0;padding: 0.3em;box-sizing: border-box;text-align: center;}#sk-container-id-1 label.sk-toggleable__label-arrow:before {content: \"▸\";float: left;margin-right: 0.25em;color: #696969;}#sk-container-id-1 label.sk-toggleable__label-arrow:hover:before {color: black;}#sk-container-id-1 div.sk-estimator:hover label.sk-toggleable__label-arrow:before {color: black;}#sk-container-id-1 div.sk-toggleable__content {max-height: 0;max-width: 0;overflow: hidden;text-align: left;background-color: #f0f8ff;}#sk-container-id-1 div.sk-toggleable__content pre {margin: 0.2em;color: black;border-radius: 0.25em;background-color: #f0f8ff;}#sk-container-id-1 input.sk-toggleable__control:checked~div.sk-toggleable__content {max-height: 200px;max-width: 100%;overflow: auto;}#sk-container-id-1 input.sk-toggleable__control:checked~label.sk-toggleable__label-arrow:before {content: \"▾\";}#sk-container-id-1 div.sk-estimator input.sk-toggleable__control:checked~label.sk-toggleable__label {background-color: #d4ebff;}#sk-container-id-1 div.sk-label input.sk-toggleable__control:checked~label.sk-toggleable__label {background-color: #d4ebff;}#sk-container-id-1 input.sk-hidden--visually {border: 0;clip: rect(1px 1px 1px 1px);clip: rect(1px, 1px, 1px, 1px);height: 1px;margin: -1px;overflow: hidden;padding: 0;position: absolute;width: 1px;}#sk-container-id-1 div.sk-estimator {font-family: monospace;background-color: #f0f8ff;border: 1px dotted black;border-radius: 0.25em;box-sizing: border-box;margin-bottom: 0.5em;}#sk-container-id-1 div.sk-estimator:hover {background-color: #d4ebff;}#sk-container-id-1 div.sk-parallel-item::after {content: \"\";width: 100%;border-bottom: 1px solid gray;flex-grow: 1;}#sk-container-id-1 div.sk-label:hover label.sk-toggleable__label {background-color: #d4ebff;}#sk-container-id-1 div.sk-serial::before {content: \"\";position: absolute;border-left: 1px solid gray;box-sizing: border-box;top: 0;bottom: 0;left: 50%;z-index: 0;}#sk-container-id-1 div.sk-serial {display: flex;flex-direction: column;align-items: center;background-color: white;padding-right: 0.2em;padding-left: 0.2em;position: relative;}#sk-container-id-1 div.sk-item {position: relative;z-index: 1;}#sk-container-id-1 div.sk-parallel {display: flex;align-items: stretch;justify-content: center;background-color: white;position: relative;}#sk-container-id-1 div.sk-item::before, #sk-container-id-1 div.sk-parallel-item::before {content: \"\";position: absolute;border-left: 1px solid gray;box-sizing: border-box;top: 0;bottom: 0;left: 50%;z-index: -1;}#sk-container-id-1 div.sk-parallel-item {display: flex;flex-direction: column;z-index: 1;position: relative;background-color: white;}#sk-container-id-1 div.sk-parallel-item:first-child::after {align-self: flex-end;width: 50%;}#sk-container-id-1 div.sk-parallel-item:last-child::after {align-self: flex-start;width: 50%;}#sk-container-id-1 div.sk-parallel-item:only-child::after {width: 0;}#sk-container-id-1 div.sk-dashed-wrapped {border: 1px dashed gray;margin: 0 0.4em 0.5em 0.4em;box-sizing: border-box;padding-bottom: 0.4em;background-color: white;}#sk-container-id-1 div.sk-label label {font-family: monospace;font-weight: bold;display: inline-block;line-height: 1.2em;}#sk-container-id-1 div.sk-label-container {text-align: center;}#sk-container-id-1 div.sk-container {/* jupyter's `normalize.less` sets `[hidden] { display: none; }` but bootstrap.min.css set `[hidden] { display: none !important; }` so we also need the `!important` here to be able to override the default hidden behavior on the sphinx rendered scikit-learn.org. See: https://github.com/scikit-learn/scikit-learn/issues/21755 */display: inline-block !important;position: relative;}#sk-container-id-1 div.sk-text-repr-fallback {display: none;}</style><div id=\"sk-container-id-1\" class=\"sk-top-container\"><div class=\"sk-text-repr-fallback\"><pre>RandomForestClassifier(random_state=100)</pre><b>In a Jupyter environment, please rerun this cell to show the HTML representation or trust the notebook. <br />On GitHub, the HTML representation is unable to render, please try loading this page with nbviewer.org.</b></div><div class=\"sk-container\" hidden><div class=\"sk-item\"><div class=\"sk-estimator sk-toggleable\"><input class=\"sk-toggleable__control sk-hidden--visually\" id=\"sk-estimator-id-1\" type=\"checkbox\" checked><label for=\"sk-estimator-id-1\" class=\"sk-toggleable__label sk-toggleable__label-arrow\">RandomForestClassifier</label><div class=\"sk-toggleable__content\"><pre>RandomForestClassifier(random_state=100)</pre></div></div></div></div></div>"
      ],
      "text/plain": [
       "RandomForestClassifier(random_state=100)"
      ]
     },
     "execution_count": 348,
     "metadata": {},
     "output_type": "execute_result"
    }
   ],
   "source": [
    "rf_model"
   ]
  }
 ],
 "metadata": {
  "kernelspec": {
   "display_name": "base",
   "language": "python",
   "name": "python3"
  },
  "language_info": {
   "codemirror_mode": {
    "name": "ipython",
    "version": 3
   },
   "file_extension": ".py",
   "mimetype": "text/x-python",
   "name": "python",
   "nbconvert_exporter": "python",
   "pygments_lexer": "ipython3",
   "version": "3.11.7"
  }
 },
 "nbformat": 4,
 "nbformat_minor": 2
}

{
 "cells": [
  {
   "cell_type": "markdown",
   "metadata": {},
   "source": [
    "COMBINATION OF TF IDF AND RANDOM FOREST\n",
    "\n",
    "SPECS FOR EACH USECASE\n",
    "https://us.dynabook.com/computers/research-center/shopping-guides/laptop-buying-guide/types-of-laptops/ "
   ]
  },
  {
   "cell_type": "code",
   "execution_count": 1,
   "metadata": {},
   "outputs": [],
   "source": [
    "import pandas as pd\n",
    "import numpy as np\n",
    "\n",
    "import matplotlib.pyplot as plt #to visualise\n",
    "import seaborn as sns\n",
    "\n",
    "import nltk #to vectorizer\n",
    "from nltk.stem import PorterStemmer\n",
    "\n",
    "from sklearn.feature_extraction.text import CountVectorizer #to find the similarity"
   ]
  },
  {
   "cell_type": "markdown",
   "metadata": {},
   "source": [
    "### 1. DATA LOADING"
   ]
  },
  {
   "cell_type": "code",
   "execution_count": 2,
   "metadata": {},
   "outputs": [],
   "source": [
    "laptop = pd.read_csv('dataset/laptops.csv')"
   ]
  },
  {
   "cell_type": "code",
   "execution_count": 3,
   "metadata": {},
   "outputs": [
    {
     "data": {
      "text/plain": [
       "Index(['laptop_id', 'name', 'price', 'processor', 'ram', 'os', 'storage',\n",
       "       'img_link', 'display', 'rating', 'no_of_ratings', 'no_of_reviews',\n",
       "       'laptop_brand', 'os_brand', 'processor_brand', 'usecases'],\n",
       "      dtype='object')"
      ]
     },
     "execution_count": 3,
     "metadata": {},
     "output_type": "execute_result"
    }
   ],
   "source": [
    "laptop.columns"
   ]
  },
  {
   "cell_type": "code",
   "execution_count": 4,
   "metadata": {},
   "outputs": [
    {
     "data": {
      "text/plain": [
       "laptop_id            int64\n",
       "name                object\n",
       "price                int64\n",
       "processor           object\n",
       "ram                 object\n",
       "os                  object\n",
       "storage             object\n",
       "img_link            object\n",
       "display            float64\n",
       "rating             float64\n",
       "no_of_ratings      float64\n",
       "no_of_reviews      float64\n",
       "laptop_brand        object\n",
       "os_brand            object\n",
       "processor_brand     object\n",
       "usecases            object\n",
       "dtype: object"
      ]
     },
     "execution_count": 4,
     "metadata": {},
     "output_type": "execute_result"
    }
   ],
   "source": [
    "laptop.dtypes"
   ]
  },
  {
   "cell_type": "code",
   "execution_count": 5,
   "metadata": {},
   "outputs": [
    {
     "data": {
      "text/plain": [
       "(796, 16)"
      ]
     },
     "execution_count": 5,
     "metadata": {},
     "output_type": "execute_result"
    }
   ],
   "source": [
    "laptop.shape "
   ]
  },
  {
   "cell_type": "markdown",
   "metadata": {},
   "source": [
    "DATA VISUALISE"
   ]
  },
  {
   "cell_type": "markdown",
   "metadata": {},
   "source": [
    "### 2. DATA PREPROCESSING"
   ]
  },
  {
   "cell_type": "code",
   "execution_count": 6,
   "metadata": {},
   "outputs": [
    {
     "data": {
      "text/plain": [
       "laptop_id            0\n",
       "name                 0\n",
       "price                0\n",
       "processor            0\n",
       "ram                  0\n",
       "os                   0\n",
       "storage              0\n",
       "img_link             0\n",
       "display              0\n",
       "rating             266\n",
       "no_of_ratings      266\n",
       "no_of_reviews      266\n",
       "laptop_brand         0\n",
       "os_brand             0\n",
       "processor_brand      0\n",
       "usecases             0\n",
       "dtype: int64"
      ]
     },
     "execution_count": 6,
     "metadata": {},
     "output_type": "execute_result"
    }
   ],
   "source": [
    "#Checking NULL value\n",
    "laptop.isnull().sum()"
   ]
  },
  {
   "cell_type": "code",
   "execution_count": 7,
   "metadata": {},
   "outputs": [
    {
     "data": {
      "text/plain": [
       "0"
      ]
     },
     "execution_count": 7,
     "metadata": {},
     "output_type": "execute_result"
    }
   ],
   "source": [
    "laptop.duplicated().sum() #Checking DUPLICATE rows"
   ]
  },
  {
   "cell_type": "code",
   "execution_count": 8,
   "metadata": {},
   "outputs": [],
   "source": [
    "laptop.drop(columns=['no_of_ratings', 'no_of_reviews', 'rating', 'os', 'processor_brand'], inplace=True) #To drop column"
   ]
  },
  {
   "cell_type": "code",
   "execution_count": 9,
   "metadata": {},
   "outputs": [
    {
     "data": {
      "text/plain": [
       "laptop_id       0\n",
       "name            0\n",
       "price           0\n",
       "processor       0\n",
       "ram             0\n",
       "storage         0\n",
       "img_link        0\n",
       "display         0\n",
       "laptop_brand    0\n",
       "os_brand        0\n",
       "usecases        0\n",
       "dtype: int64"
      ]
     },
     "execution_count": 9,
     "metadata": {},
     "output_type": "execute_result"
    }
   ],
   "source": [
    "laptop.isnull().sum()"
   ]
  },
  {
   "cell_type": "code",
   "execution_count": 10,
   "metadata": {},
   "outputs": [
    {
     "data": {
      "text/plain": [
       "(796, 11)"
      ]
     },
     "execution_count": 10,
     "metadata": {},
     "output_type": "execute_result"
    }
   ],
   "source": [
    "laptop.shape"
   ]
  },
  {
   "cell_type": "code",
   "execution_count": 11,
   "metadata": {},
   "outputs": [],
   "source": [
    "laptop.dropna(inplace=True)\n"
   ]
  },
  {
   "cell_type": "code",
   "execution_count": 12,
   "metadata": {},
   "outputs": [
    {
     "data": {
      "text/plain": [
       "(796, 11)"
      ]
     },
     "execution_count": 12,
     "metadata": {},
     "output_type": "execute_result"
    }
   ],
   "source": [
    "laptop.shape #total instances have been reduced"
   ]
  },
  {
   "cell_type": "code",
   "execution_count": 13,
   "metadata": {},
   "outputs": [
    {
     "data": {
      "text/plain": [
       "laptop_id         int64\n",
       "name             object\n",
       "price             int64\n",
       "processor        object\n",
       "ram              object\n",
       "storage          object\n",
       "img_link         object\n",
       "display         float64\n",
       "laptop_brand     object\n",
       "os_brand         object\n",
       "usecases         object\n",
       "dtype: object"
      ]
     },
     "execution_count": 13,
     "metadata": {},
     "output_type": "execute_result"
    }
   ],
   "source": [
    "laptop.dtypes"
   ]
  },
  {
   "cell_type": "markdown",
   "metadata": {},
   "source": [
    "### --- END OF DATA PREPROCESSING ---\n",
    "### 3. DATA TRANSFORMATION"
   ]
  },
  {
   "cell_type": "code",
   "execution_count": 14,
   "metadata": {},
   "outputs": [
    {
     "data": {
      "text/plain": [
       "Index(['laptop_id', 'name', 'price', 'processor', 'ram', 'storage', 'img_link',\n",
       "       'display', 'laptop_brand', 'os_brand', 'usecases'],\n",
       "      dtype='object')"
      ]
     },
     "execution_count": 14,
     "metadata": {},
     "output_type": "execute_result"
    }
   ],
   "source": [
    "laptop.columns"
   ]
  },
  {
   "cell_type": "code",
   "execution_count": 15,
   "metadata": {},
   "outputs": [],
   "source": [
    "laptop.rename(columns={'laptop_brand': 'brand', 'os_brand': 'os'}, inplace=True)"
   ]
  },
  {
   "cell_type": "markdown",
   "metadata": {},
   "source": [
    "#### 3.1. DISPLAY"
   ]
  },
  {
   "cell_type": "code",
   "execution_count": 16,
   "metadata": {},
   "outputs": [
    {
     "data": {
      "text/plain": [
       "[11, 12, 13, 14, 15, 16, 17, 35]"
      ]
     },
     "execution_count": 16,
     "metadata": {},
     "output_type": "execute_result"
    }
   ],
   "source": [
    "laptop['display'] = laptop['display'].astype(int)\n",
    "sorted(laptop['display'].unique())"
   ]
  },
  {
   "cell_type": "code",
   "execution_count": 17,
   "metadata": {},
   "outputs": [
    {
     "name": "stdout",
     "output_type": "stream",
     "text": [
      "display\n",
      "15inch    420\n",
      "14inch    195\n",
      "16inch     72\n",
      "13inch     69\n",
      "17inch     27\n",
      "11inch     10\n",
      "35inch      2\n",
      "12inch      1\n",
      "Name: count, dtype: int64\n"
     ]
    }
   ],
   "source": [
    "laptop['display'] = laptop['display'].astype(str) #convert to string\n",
    "laptop['display'] = laptop['display'].apply(lambda x: f'{x}inch')\n",
    "print(laptop['display'].value_counts())"
   ]
  },
  {
   "cell_type": "markdown",
   "metadata": {},
   "source": [
    "#### 3.2. PRICE"
   ]
  },
  {
   "cell_type": "code",
   "execution_count": 18,
   "metadata": {},
   "outputs": [
    {
     "data": {
      "text/html": [
       "<div>\n",
       "<style scoped>\n",
       "    .dataframe tbody tr th:only-of-type {\n",
       "        vertical-align: middle;\n",
       "    }\n",
       "\n",
       "    .dataframe tbody tr th {\n",
       "        vertical-align: top;\n",
       "    }\n",
       "\n",
       "    .dataframe thead th {\n",
       "        text-align: right;\n",
       "    }\n",
       "</style>\n",
       "<table border=\"1\" class=\"dataframe\">\n",
       "  <thead>\n",
       "    <tr style=\"text-align: right;\">\n",
       "      <th></th>\n",
       "      <th>price</th>\n",
       "    </tr>\n",
       "  </thead>\n",
       "  <tbody>\n",
       "    <tr>\n",
       "      <th>0</th>\n",
       "      <td>3464.45</td>\n",
       "    </tr>\n",
       "    <tr>\n",
       "      <th>1</th>\n",
       "      <td>8909.45</td>\n",
       "    </tr>\n",
       "  </tbody>\n",
       "</table>\n",
       "</div>"
      ],
      "text/plain": [
       "     price\n",
       "0  3464.45\n",
       "1  8909.45"
      ]
     },
     "execution_count": 18,
     "metadata": {},
     "output_type": "execute_result"
    }
   ],
   "source": [
    "#Price Conversion\n",
    "laptop['price'] = laptop['price'] * 0.055   \n",
    "\n",
    "laptop[['price']].head(2)  "
   ]
  },
  {
   "cell_type": "code",
   "execution_count": 19,
   "metadata": {},
   "outputs": [
    {
     "data": {
      "text/plain": [
       "\"laptop['price'] = laptop['price'].astype(str) #convert to string\\n\\n#add RM in front of str\\nlaptop['price'] = laptop['price'].apply(lambda x: f'RM{x}')\\n\\nprint(laptop['price'].value_counts())\""
      ]
     },
     "execution_count": 19,
     "metadata": {},
     "output_type": "execute_result"
    }
   ],
   "source": [
    "'''laptop['price'] = laptop['price'].astype(str) #convert to string\n",
    "\n",
    "#add RM in front of str\n",
    "laptop['price'] = laptop['price'].apply(lambda x: f'RM{x}')\n",
    "\n",
    "print(laptop['price'].value_counts())'''"
   ]
  },
  {
   "cell_type": "markdown",
   "metadata": {},
   "source": [
    "#### 3.3. STORAGE"
   ]
  },
  {
   "cell_type": "code",
   "execution_count": 20,
   "metadata": {},
   "outputs": [
    {
     "name": "stdout",
     "output_type": "stream",
     "text": [
      "storage\n",
      "512    452\n",
      "1      226\n",
      "256     95\n",
      "2       12\n",
      "128      8\n",
      "4        2\n",
      "5        1\n",
      "Name: count, dtype: int64\n",
      "---AFTER---\n",
      "storage\n",
      "512GB     452\n",
      "1000GB    229\n",
      "256GB      95\n",
      "2000GB     12\n",
      "128GB       8\n",
      "Name: count, dtype: int64\n"
     ]
    }
   ],
   "source": [
    "laptop['storage'] = laptop['storage'].str.extract('(\\d+)').astype(int)\n",
    "print(laptop['storage'].value_counts())\n",
    "print(\"---AFTER---\")\n",
    "laptop['storage'] = laptop['storage'].apply(lambda x: 1000 if x == 1 else x)\n",
    "laptop['storage'] = laptop['storage'].apply(lambda x: 2000 if x == 2 else x)\n",
    "laptop['storage'] = laptop['storage'].apply(lambda x: 1000 if x == 4 else x)\n",
    "laptop['storage'] = laptop['storage'].apply(lambda x: 1000 if x == 5 else x)\n",
    "\n",
    "laptop['storage'] = laptop['storage'].apply(lambda x: f'{x}GB')\n",
    "laptop['storage'] = laptop['storage'].astype(str)\n",
    "print(laptop['storage'].value_counts())"
   ]
  },
  {
   "cell_type": "markdown",
   "metadata": {},
   "source": [
    "#### 3.4. USECASE"
   ]
  },
  {
   "cell_type": "code",
   "execution_count": 21,
   "metadata": {},
   "outputs": [
    {
     "name": "stdout",
     "output_type": "stream",
     "text": [
      "usecases\n",
      " Gaming                      263\n",
      " Business/Professional       163\n",
      " Home/Everyday use           100\n",
      " Budget Friendly              68\n",
      " Creative/Design              64\n",
      " Student/Education            54\n",
      " Multimedia/Entertainment     48\n",
      "Ultra-portable                36\n",
      "Name: count, dtype: int64\n"
     ]
    }
   ],
   "source": [
    "print(laptop['usecases'].value_counts())"
   ]
  },
  {
   "cell_type": "code",
   "execution_count": 22,
   "metadata": {},
   "outputs": [
    {
     "name": "stdout",
     "output_type": "stream",
     "text": [
      "usecases\n",
      "Hybrid    302\n",
      "Gaming    263\n",
      "Office    231\n",
      "Name: count, dtype: int64\n"
     ]
    }
   ],
   "source": [
    "laptop['usecases'] = laptop['usecases'].replace(' Gaming', 'Gaming')\n",
    "laptop['usecases'] = laptop['usecases'].replace(' Business/Professional', 'Office')\n",
    "laptop['usecases'] = laptop['usecases'].replace(' Budget Friendly', 'Office')\n",
    "laptop['usecases'] = laptop['usecases'].replace(' Home/Everyday use', 'Hybrid')\n",
    "laptop['usecases'] = laptop['usecases'].replace(' Student/Education', 'Hybrid')\n",
    "laptop['usecases'] = laptop['usecases'].replace(' Creative/Design', 'Hybrid')\n",
    "laptop['usecases'] = laptop['usecases'].replace(' Multimedia/Entertainment', 'Hybrid')\n",
    "laptop['usecases'] = laptop['usecases'].replace('Ultra-portable', 'Hybrid')\n",
    "\n",
    "print(laptop['usecases'].value_counts())"
   ]
  },
  {
   "cell_type": "markdown",
   "metadata": {},
   "source": [
    "#### 3.5. RAM"
   ]
  },
  {
   "cell_type": "code",
   "execution_count": 23,
   "metadata": {},
   "outputs": [
    {
     "name": "stdout",
     "output_type": "stream",
     "text": [
      "ram\n",
      "8     386\n",
      "16    314\n",
      "4      61\n",
      "32     35\n",
      "Name: count, dtype: int64\n",
      "---AFTER--- ram\n",
      "8RAM     386\n",
      "16RAM    314\n",
      "4RAM      61\n",
      "32RAM     35\n",
      "Name: count, dtype: int64\n"
     ]
    }
   ],
   "source": [
    "laptop['ram'] = laptop['ram'].str.extract('(\\d+)').astype(str)\n",
    "print(laptop['ram'].value_counts())\n",
    "\n",
    "laptop['ram'] = laptop['ram'].apply(lambda x: f'{x}RAM')\n",
    "\n",
    "print('---AFTER---',laptop['ram'].value_counts())"
   ]
  },
  {
   "cell_type": "markdown",
   "metadata": {},
   "source": [
    "#### 3.6. CPU"
   ]
  },
  {
   "cell_type": "code",
   "execution_count": 24,
   "metadata": {},
   "outputs": [
    {
     "name": "stdout",
     "output_type": "stream",
     "text": [
      "cpu\n",
      "AMD Ryzen 7 Octa Core Processor                 81\n",
      "Intel Core i5 Processor (12th Gen)              81\n",
      "AMD Ryzen 5 Hexa Core Processor                 76\n",
      "Intel Core i3 Processor (11th Gen)              73\n",
      "Intel Core i5 Processor (11th Gen)              72\n",
      "Intel Core i7 Processor (12th Gen)              63\n",
      "Intel Core i5 Processor (10th Gen)              30\n",
      "Intel Core i3 Processor (10th Gen)              29\n",
      "Intel Core i7 Processor (11th Gen)              26\n",
      "Intel Core i7 Processor (10th Gen)              26\n",
      "Intel Celeron Dual Core Processor               23\n",
      "AMD Ryzen 3 Dual Core Processor                 20\n",
      "AMD Ryzen 9 Octa Core Processor                 20\n",
      "Intel Core i5 Processor (8th Gen)               16\n",
      "Apple M1 Processor                              13\n",
      "Apple M2 Processor                              13\n",
      "Intel Core i9 Processor (12th Gen)              13\n",
      "Intel Core i3 Processor (12th Gen)              12\n",
      "AMD Ryzen 5 Quad Core Processor                 11\n",
      "AMD Ryzen 3 Quad Core Processor                 10\n",
      "Intel Core i7 Processor (8th Gen)                7\n",
      "Intel Core i9 Processor (11th Gen)               6\n",
      "Intel Pentium Quad Core Processor                6\n",
      "Apple M1 Pro Processor                           5\n",
      "Intel Core i5 Processor (7th Gen)                4\n",
      "Apple M2 Pro Processor                           4\n",
      "Intel Core i7 Processor (13th Gen)               4\n",
      "AMD Athlon Dual Core Processor                   4\n",
      "Intel Core i5 Processor (9th Gen)                4\n",
      "Intel Core i7 Processor (7th Gen)                3\n",
      "Intel Celeron Quad Core Processor                3\n",
      "Intel Core i9 Processor (10th Gen)               3\n",
      "Intel Pentium Silver Processor                   3\n",
      "Intel Celeron Dual Core Processor (4th Gen)      2\n",
      "AMD Ryzen 5 Hexa Core Processor (10th Gen)       2\n",
      "Intel Core i3 Processor (7th Gen)                2\n",
      "Intel Core i7 Processor (9th Gen)                2\n",
      "AMD Ryzen 9 Octa Core Processor (9th Gen)        2\n",
      "AMD Dual Core Processor                          2\n",
      "Intel Pentium Quad Core Processor (11th Gen)     1\n",
      "Intel Core i5 Processor (5th Gen)                1\n",
      "AMD Ryzen 7 Octa Core Processor (4th Gen)        1\n",
      "Intel Core i5 Processor (4th Gen)                1\n",
      "AMD Ryzen 3 Dual Core Processor (3rd Gen)        1\n",
      "MediaTek MediaTek Kompanio 500 Processor         1\n",
      "Intel Core i9 Processor (8th Gen)                1\n",
      "AMD APU Dual Core A6 Processor                   1\n",
      "AMD Ryzen 9 Octa Core Processor (5th Gen)        1\n",
      "AMD Ryzen 9 Octa Core Processor (10th Gen)       1\n",
      "AMD Ryzen 7 Octa Core Processor (5th Gen)        1\n",
      "AMD Ryzen 5 Dual Core Processor (10th Gen)       1\n",
      "AMD Ryzen 7 Hexa Core Processor                  1\n",
      "AMD Ryzen 7 Quad Core Processor                  1\n",
      "Intel Core i7 Processor (6th Gen)                1\n",
      "AMD Ryzen 5 Dual Core Processor (5th Gen)        1\n",
      "Apple M1 Max Processor                           1\n",
      "Intel Core i9 Processor (13th Gen)               1\n",
      "Qualcomm Snapdragon 7c Gen 2 Processor           1\n",
      "Intel Celeron Dual Core Processor (10th Gen)     1\n",
      "Name: count, dtype: int64\n"
     ]
    }
   ],
   "source": [
    "laptop['cpu'] = laptop['processor']\n",
    "\n",
    "print(laptop['cpu'].value_counts())"
   ]
  },
  {
   "cell_type": "code",
   "execution_count": 25,
   "metadata": {},
   "outputs": [],
   "source": [
    "#intel\n",
    "laptop['cpu'] = laptop['cpu'].apply(lambda x: 'i3' if 'i3' in str(x).lower() else x)\n",
    "laptop['cpu'] = laptop['cpu'].apply(lambda x: 'i5' if 'i5' in str(x).lower() else x)\n",
    "laptop['cpu'] = laptop['cpu'].apply(lambda x: 'i7' if 'i7' in str(x).lower() else x)\n",
    "laptop['cpu'] = laptop['cpu'].apply(lambda x: 'i9' if 'i9' in str(x).lower() else x)\n",
    "\n",
    "#ryzen\n",
    "laptop['cpu'] = laptop['cpu'].apply(lambda x: 'ryzen 3' if 'ryzen 3' in str(x).lower() else x)\n",
    "laptop['cpu'] = laptop['cpu'].apply(lambda x: 'ryzen 5' if 'ryzen 5' in str(x).lower() else x)\n",
    "laptop['cpu'] = laptop['cpu'].apply(lambda x: 'ryzen 7' if 'ryzen 7' in str(x).lower() else x)\n",
    "laptop['cpu'] = laptop['cpu'].apply(lambda x: 'ryzen 9' if 'ryzen 9' in str(x).lower() else x)\n",
    "\n",
    "#others\n",
    "keywords = ['m1','m2']\n",
    "laptop['cpu'] = laptop['cpu'].apply(\n",
    "    lambda x: 'apple' if any(keyword in str(x).lower() for keyword in keywords) else x)\n",
    "keywords = ['pentium', 'celeron', 'qualcomm', 'mediatek', 'amd']\n",
    "laptop['cpu'] = laptop['cpu'].apply(\n",
    "    lambda x: 'integrated' if any(keyword in str(x).lower() for keyword in keywords) else x)\n"
   ]
  },
  {
   "cell_type": "code",
   "execution_count": 26,
   "metadata": {},
   "outputs": [
    {
     "name": "stdout",
     "output_type": "stream",
     "text": [
      "cpu\n",
      "i5            209\n",
      "i7            132\n",
      "i3            116\n",
      "ryzen 5        91\n",
      "ryzen 7        85\n",
      "integrated     48\n",
      "apple          36\n",
      "ryzen 3        31\n",
      "ryzen 9        24\n",
      "i9             24\n",
      "Name: count, dtype: int64\n"
     ]
    }
   ],
   "source": [
    "print(laptop['cpu'].value_counts())"
   ]
  },
  {
   "cell_type": "code",
   "execution_count": 27,
   "metadata": {},
   "outputs": [
    {
     "data": {
      "text/plain": [
       "laptop_id      int64\n",
       "name          object\n",
       "price        float64\n",
       "processor     object\n",
       "ram           object\n",
       "storage       object\n",
       "img_link      object\n",
       "display       object\n",
       "brand         object\n",
       "os            object\n",
       "usecases      object\n",
       "cpu           object\n",
       "dtype: object"
      ]
     },
     "execution_count": 27,
     "metadata": {},
     "output_type": "execute_result"
    }
   ],
   "source": [
    "laptop.dtypes"
   ]
  },
  {
   "cell_type": "code",
   "execution_count": 28,
   "metadata": {},
   "outputs": [
    {
     "data": {
      "text/plain": [
       "Index(['laptop_id', 'name', 'price', 'processor', 'ram', 'storage', 'img_link',\n",
       "       'display', 'brand', 'os', 'usecases', 'cpu'],\n",
       "      dtype='object')"
      ]
     },
     "execution_count": 28,
     "metadata": {},
     "output_type": "execute_result"
    }
   ],
   "source": [
    "laptop.columns"
   ]
  },
  {
   "cell_type": "code",
   "execution_count": 29,
   "metadata": {},
   "outputs": [
    {
     "name": "stdout",
     "output_type": "stream",
     "text": [
      "(796, 10)\n"
     ]
    }
   ],
   "source": [
    "#STORE DF INTO CSV SO CAN DISPLAY TO STREAMLIT\n",
    "\n",
    "new_csv = laptop[['laptop_id','img_link','name','price','brand','usecases', 'processor','ram', 'os', 'storage']]\t\n",
    "print(new_csv.shape) #reduced dataset, same as laptops\n",
    "#new_csv.rename(columns={'laptop_brand': 'brand', 'usecases': 'use'}, inplace=True)"
   ]
  },
  {
   "cell_type": "code",
   "execution_count": 30,
   "metadata": {},
   "outputs": [
    {
     "data": {
      "text/html": [
       "<div>\n",
       "<style scoped>\n",
       "    .dataframe tbody tr th:only-of-type {\n",
       "        vertical-align: middle;\n",
       "    }\n",
       "\n",
       "    .dataframe tbody tr th {\n",
       "        vertical-align: top;\n",
       "    }\n",
       "\n",
       "    .dataframe thead th {\n",
       "        text-align: right;\n",
       "    }\n",
       "</style>\n",
       "<table border=\"1\" class=\"dataframe\">\n",
       "  <thead>\n",
       "    <tr style=\"text-align: right;\">\n",
       "      <th></th>\n",
       "      <th>laptop_id</th>\n",
       "      <th>name</th>\n",
       "      <th>price</th>\n",
       "      <th>processor</th>\n",
       "      <th>ram</th>\n",
       "      <th>storage</th>\n",
       "      <th>img_link</th>\n",
       "      <th>display</th>\n",
       "      <th>brand</th>\n",
       "      <th>os</th>\n",
       "      <th>usecases</th>\n",
       "      <th>cpu</th>\n",
       "    </tr>\n",
       "  </thead>\n",
       "  <tbody>\n",
       "    <tr>\n",
       "      <th>0</th>\n",
       "      <td>0</td>\n",
       "      <td>Lenovo Intel Core i5 11th Gen</td>\n",
       "      <td>3464.45</td>\n",
       "      <td>Intel Core i5 Processor (11th Gen)</td>\n",
       "      <td>16RAM</td>\n",
       "      <td>512GB</td>\n",
       "      <td>https://rukminim1.flixcart.com/image/312/312/x...</td>\n",
       "      <td>15inch</td>\n",
       "      <td>Lenovo</td>\n",
       "      <td>Windows</td>\n",
       "      <td>Office</td>\n",
       "      <td>i5</td>\n",
       "    </tr>\n",
       "  </tbody>\n",
       "</table>\n",
       "</div>"
      ],
      "text/plain": [
       "   laptop_id                           name    price  \\\n",
       "0          0  Lenovo Intel Core i5 11th Gen  3464.45   \n",
       "\n",
       "                            processor    ram storage  \\\n",
       "0  Intel Core i5 Processor (11th Gen)  16RAM   512GB   \n",
       "\n",
       "                                            img_link display   brand       os  \\\n",
       "0  https://rukminim1.flixcart.com/image/312/312/x...  15inch  Lenovo  Windows   \n",
       "\n",
       "  usecases cpu  \n",
       "0   Office  i5  "
      ]
     },
     "execution_count": 30,
     "metadata": {},
     "output_type": "execute_result"
    }
   ],
   "source": [
    "laptop.head(1)"
   ]
  },
  {
   "cell_type": "markdown",
   "metadata": {},
   "source": [
    "### --- END OF DATA TRANSFORMATION ---\n",
    "\n",
    "### --- DATA VISUALISATION, EDA ---"
   ]
  },
  {
   "cell_type": "code",
   "execution_count": 31,
   "metadata": {},
   "outputs": [
    {
     "data": {
      "image/png": "[encoded data removed]",
      "text/plain": [
       "<Figure size 1000x500 with 1 Axes>"
      ]
     },
     "metadata": {},
     "output_type": "display_data"
    }
   ],
   "source": [
    "gaming_laptops = laptop[laptop['usecases'] == 'Gaming']\n",
    "\n",
    "# Count the occurrences of each brand for gaming laptops\n",
    "brand_counts = gaming_laptops['brand'].value_counts()\n",
    "\n",
    "# Create the bar plot (Optional: Adjust figure size)\n",
    "plt.figure(figsize=(10, 5))  # Optional: Adjust figure size\n",
    "ax = brand_counts.plot(kind='bar')\n",
    "\n",
    "# Set labels and title\n",
    "plt.xlabel('Laptop Brand', fontsize=10)\n",
    "plt.ylabel('Number of Laptops', fontsize=10)\n",
    "plt.title('Laptop Brand Distribution for Gaming Laptops', fontsize=12, weight='bold')\n",
    "\n",
    "# Adding annotations for each bar\n",
    "for i, value in enumerate(brand_counts):\n",
    "    plt.text(i, value + 0.5, str(value), ha='center', fontsize=13)\n",
    "    \n",
    "# Display the plot\n",
    "plt.show()"
   ]
  },
  {
   "cell_type": "code",
   "execution_count": 32,
   "metadata": {},
   "outputs": [
    {
     "data": {
      "image/png": "[encoded data removed]",
      "text/plain": [
       "<Figure size 1000x500 with 1 Axes>"
      ]
     },
     "metadata": {},
     "output_type": "display_data"
    },
    {
     "data": {
      "image/png": "[encoded data removed]",
      "text/plain": [
       "<Figure size 500x300 with 1 Axes>"
      ]
     },
     "metadata": {},
     "output_type": "display_data"
    }
   ],
   "source": [
    "#to count the occurrences of each brand\n",
    "brand_counts = laptop['brand'].value_counts()\n",
    "#create the bar plot OPTIONAL\n",
    "plt.figure(figsize=(10, 5))  # Optional: Adjust figure size\n",
    "ax = brand_counts.plot(kind='bar')\n",
    "#ax = brand_counts.plot(kind='bar', color='blue', edgecolor='black')\n",
    "\n",
    "# Set labels and title\n",
    "plt.xlabel('Laptop Brand', fontsize=10)\n",
    "plt.ylabel('Number of Laptops', fontsize=10)\n",
    "plt.title('Laptop Brand Distribution', fontsize=10, weight='bold')\n",
    "\n",
    "\n",
    "# Adding annotations for each bar\n",
    "for i, value in enumerate(brand_counts):\n",
    "    plt.text(i, value + 0.5, str(value), ha='center', fontsize=13)\n",
    "\n",
    "# Show the plot\n",
    "plt.tight_layout()\n",
    "plt.show()\n",
    "\n",
    "plt.figure(figsize=(5, 3))  # Optional: Adjust figure size\n",
    "ax = brand_counts.plot(kind='bar')\n",
    "# Add a title\n",
    "plt.title('Laptop Brand Distribution', fontsize=12, weight='bold')\n",
    "\n",
    "# Show the pie chart\n",
    "plt.show()"
   ]
  },
  {
   "cell_type": "code",
   "execution_count": 33,
   "metadata": {},
   "outputs": [
    {
     "data": {
      "image/png": "[encoded data removed]",
      "text/plain": [
       "<Figure size 600x600 with 1 Axes>"
      ]
     },
     "metadata": {},
     "output_type": "display_data"
    }
   ],
   "source": [
    "usecase_counts = laptop['os'].value_counts()\n",
    "\n",
    "# Create the pie chart\n",
    "plt.figure(figsize=(6, 6))  # Adjust figure size\n",
    "plt.pie(\n",
    "    usecase_counts, \n",
    "    labels=usecase_counts.index,  # Add labels for each use case\n",
    "    autopct='%1.1f%%',  # Display percentages with 1 decimal point\n",
    "    startangle=140,  # Rotate chart for better appearance\n",
    "    colors=plt.cm.tab10.colors  # Optional: Use a color map\n",
    ")\n",
    "\n",
    "# Add a title\n",
    "plt.title('Laptop OS Distribution', fontsize=12, weight='bold')\n",
    "\n",
    "# Show the pie chart\n",
    "plt.show()"
   ]
  },
  {
   "cell_type": "code",
   "execution_count": null,
   "metadata": {},
   "outputs": [],
   "source": [
    "# Count the occurrences of each use case\n",
    "usecase_counts = laptop['os'].value_counts()\n",
    "\n",
    "# Create the pie chart\n",
    "def func(pct, allvalues):\n",
    "    absolute = round(pct / 100.*sum(allvalues), 0)  # Calculate the absolute count\n",
    "    return f\"{absolute} ({pct:.1f}%)\"  # Return formatted string\n",
    "\n",
    "plt.figure(figsize=(6, 6))  # Adjust figure size\n",
    "plt.pie(\n",
    "    usecase_counts, \n",
    "    labels=usecase_counts.index,  # Add labels for each use case\n",
    "    autopct=lambda pct: func(pct, usecase_counts),  # Use the custom function\n",
    "    startangle=140,  # Rotate chart for better appearance\n",
    "    colors=plt.cm.tab10.colors  # Optional: Use a color map\n",
    ")\n",
    "plt.title('Laptop OS Distribution', fontsize=12, weight='bold')  # Add the title\n",
    "plt.show() "
   ]
  },
  {
   "cell_type": "code",
   "execution_count": 34,
   "metadata": {},
   "outputs": [
    {
     "data": {
      "image/png": "[encoded data removed]",
      "text/plain": [
       "<Figure size 600x600 with 1 Axes>"
      ]
     },
     "metadata": {},
     "output_type": "display_data"
    },
    {
     "data": {
      "image/png": "[encoded data removed]",
      "text/plain": [
       "<Figure size 400x400 with 1 Axes>"
      ]
     },
     "metadata": {},
     "output_type": "display_data"
    }
   ],
   "source": [
    "# Count the occurrences of each use case\n",
    "usecase_counts = laptop['usecases'].value_counts()\n",
    "\n",
    "# Create the pie chart\n",
    "def func(pct, allvalues):\n",
    "    absolute = round(pct / 100.*sum(allvalues), 0)  # Calculate the absolute count\n",
    "    return f\"{absolute} ({pct:.1f}%)\"  # Return formatted string\n",
    "\n",
    "plt.figure(figsize=(6, 6))  # Adjust figure size\n",
    "plt.pie(\n",
    "    usecase_counts, \n",
    "    labels=usecase_counts.index,  # Add labels for each use case\n",
    "    autopct=lambda pct: func(pct, usecase_counts),  # Use the custom function\n",
    "    startangle=140,  # Rotate chart for better appearance\n",
    "    colors=plt.cm.tab10.colors  # Optional: Use a color map\n",
    ")\n",
    "plt.title('Laptop Usecase Distribution', fontsize=12, weight='bold')  # Add the title\n",
    "plt.show() \n",
    "\n",
    "\n",
    "\n",
    "plt.figure(figsize=(4, 4))  # Adjust the size of the figure\n",
    "sns.barplot(x=new_csv['usecases'], y=new_csv['price'])\n",
    "plt.xticks(rotation='vertical')\n",
    "plt.show()"
   ]
  },
  {
   "cell_type": "code",
   "execution_count": 35,
   "metadata": {},
   "outputs": [
    {
     "name": "stdout",
     "output_type": "stream",
     "text": [
      "   min_saleprice  max_saleprice\n",
      "0         879.45       23099.45\n"
     ]
    },
    {
     "name": "stderr",
     "output_type": "stream",
     "text": [
      "c:\\Users\\aiman\\AppData\\Local\\anaconda3\\Lib\\site-packages\\seaborn\\_oldcore.py:1119: FutureWarning: use_inf_as_na option is deprecated and will be removed in a future version. Convert inf values to NaN before operating instead.\n",
      "  with pd.option_context('mode.use_inf_as_na', True):\n"
     ]
    },
    {
     "data": {
      "image/png": "[encoded data removed]",
      "text/plain": [
       "<Figure size 1000x500 with 1 Axes>"
      ]
     },
     "metadata": {},
     "output_type": "display_data"
    },
    {
     "name": "stderr",
     "output_type": "stream",
     "text": [
      "C:\\Users\\aiman\\AppData\\Local\\Temp\\ipykernel_4784\\3356294016.py:13: UserWarning: \n",
      "\n",
      "`distplot` is a deprecated function and will be removed in seaborn v0.14.0.\n",
      "\n",
      "Please adapt your code to use either `displot` (a figure-level function with\n",
      "similar flexibility) or `histplot` (an axes-level function for histograms).\n",
      "\n",
      "For a guide to updating your code to use the new functions, please see\n",
      "https://gist.github.com/mwaskom/de44147ed2974457ad6372750bbe5751\n",
      "\n",
      "  sns.distplot(new_csv['price'])\n",
      "c:\\Users\\aiman\\AppData\\Local\\anaconda3\\Lib\\site-packages\\seaborn\\_oldcore.py:1119: FutureWarning: use_inf_as_na option is deprecated and will be removed in a future version. Convert inf values to NaN before operating instead.\n",
      "  with pd.option_context('mode.use_inf_as_na', True):\n"
     ]
    },
    {
     "data": {
      "image/png": "[encoded data removed]",
      "text/plain": [
       "<Figure size 640x480 with 1 Axes>"
      ]
     },
     "metadata": {},
     "output_type": "display_data"
    }
   ],
   "source": [
    "d = {\"min_saleprice\": [new_csv[\"price\"].min()] ,\n",
    "     \"max_saleprice\": [new_csv[\"price\"].max()]\n",
    "    }\n",
    "min_max_price=pd.DataFrame(d)\n",
    "print(min_max_price)\n",
    "\n",
    "plt.figure(figsize=(10, 5))\n",
    "sns.histplot(new_csv['price'], kde=True)  # kde=True adds a smooth line\n",
    "plt.xlabel('Price')  # Label the x-axis as 'Price'\n",
    "plt.title('Price Distribution of Laptops')\n",
    "plt.show()\n",
    "\n",
    "sns.distplot(new_csv['price'])\n",
    "\n",
    "sns.barplot(x=new_csv['brand'],y=new_csv['price'],color='orange')\n",
    "plt.xticks(rotation='vertical')\n",
    "plt.xlabel('Laptop Brand') \n",
    "plt.ylabel('Price') \n",
    "plt.show()\n",
    "\n"
   ]
  },
  {
   "cell_type": "code",
   "execution_count": 36,
   "metadata": {},
   "outputs": [
    {
     "name": "stdout",
     "output_type": "stream",
     "text": [
      "price\n",
      "RM3299.45     13\n",
      "RM4124.45     11\n",
      "RM4949.45      9\n",
      "RM7259.45      8\n",
      "RM2089.45      8\n",
      "              ..\n",
      "RM12094.17     1\n",
      "RM5581.95      1\n",
      "RM3234.0       1\n",
      "RM15179.45     1\n",
      "RM1349.7       1\n",
      "Name: count, Length: 449, dtype: int64\n"
     ]
    }
   ],
   "source": [
    "laptop['price'] = laptop['price'].astype(str) #convert to string\n",
    "\n",
    "#add RM in front of str\n",
    "laptop['price'] = laptop['price'].apply(lambda x: f'RM{x}')\n",
    "\n",
    "print(laptop['price'].value_counts())"
   ]
  },
  {
   "cell_type": "markdown",
   "metadata": {},
   "source": [
    "### 4.0 TAG CREATION"
   ]
  },
  {
   "cell_type": "code",
   "execution_count": 37,
   "metadata": {},
   "outputs": [
    {
     "data": {
      "text/plain": [
       "'Lenovo i5 16RAM 512GB Windows 15inch Office RM3464.45'"
      ]
     },
     "execution_count": 37,
     "metadata": {},
     "output_type": "execute_result"
    }
   ],
   "source": [
    "#COMBINE BRAND, CPU, RAM, STORAGE, OS, DISPLAY, PRICE\n",
    "laptop['tags'] = (\n",
    "    laptop['brand'] + \" \" + \n",
    "    laptop['cpu'] + \" \" + \n",
    "    laptop['ram'] + \" \" + \n",
    "    laptop['storage'] + \" \" + \n",
    "    laptop['os'] + \" \" + \n",
    "    laptop['display'] + \" \" + \n",
    "    laptop['usecases'] + \" \" + \n",
    "    laptop['price']\n",
    ")\n",
    "laptop.iloc[0]['tags']"
   ]
  },
  {
   "cell_type": "code",
   "execution_count": 38,
   "metadata": {},
   "outputs": [
    {
     "data": {
      "text/plain": [
       "'lenovo i5 16ram 512gb windows 15inch office rm3464.45'"
      ]
     },
     "execution_count": 38,
     "metadata": {},
     "output_type": "execute_result"
    }
   ],
   "source": [
    "laptop['tags'] = laptop['tags'].apply(lambda x:x.lower()) #convert tags into small letter\n",
    "laptop.iloc[0]['tags']"
   ]
  },
  {
   "cell_type": "code",
   "execution_count": 39,
   "metadata": {},
   "outputs": [],
   "source": [
    "#new = laptop[['laptop_id','img_link','name','price_rm','laptop_brand','use','tags', 'processor','ram', 'os', 'storage']]\t\n",
    "#COMBINE BRAND, CPU, RAM, STORAGE, OS, DISPLAY, PRICE\n",
    "#rec_df = laptop[['laptop_id','name','tags', 'img_link', 'price_rm','brand','usecases', 'processor','ram', 'os', 'storage']] #create a new df and only store 3 specs/attributes"
   ]
  },
  {
   "cell_type": "code",
   "execution_count": 40,
   "metadata": {},
   "outputs": [
    {
     "name": "stdout",
     "output_type": "stream",
     "text": [
      "lenovo i5 16ram 512gb windows 15inch office rm3464.45\n",
      "0    lenovo i5 16ram 512gb windows 15inch office rm...\n",
      "1    asus ryzen 9 16ram 1000gb windows 15inch gamin...\n",
      "2    asus i3 8ram 512gb windows 15inch hybrid rm186...\n",
      "Name: tags, dtype: object\n"
     ]
    }
   ],
   "source": [
    "print(laptop.iloc[0]['tags'])\n",
    "\n",
    "print(laptop['tags'].head(3))"
   ]
  },
  {
   "cell_type": "markdown",
   "metadata": {},
   "source": [
    "### 4. TF IDF"
   ]
  },
  {
   "cell_type": "code",
   "execution_count": 41,
   "metadata": {},
   "outputs": [
    {
     "name": "stdout",
     "output_type": "stream",
     "text": [
      "Original 'tags': lenovo i5 16ram 512gb windows 15inch office rm3464.45\n",
      "Split text: ['lenovo', 'i5', '16ram', '512gb', 'windows', '15inch', 'office', 'rm3464.45']\n",
      "Split text: ['asus', 'ryzen', '9', '16ram', '1000gb', 'windows', '15inch', 'gaming', 'rm8909.45']\n",
      "Split text: ['asus', 'i3', '8ram', '512gb', 'windows', '15inch', 'hybrid', 'rm1869.45']\n",
      "Split text: ['lenovo', 'integrated', '4ram', '256gb', 'dos', '14inch', 'office', 'rm1044.45']\n",
      "Split text: ['apple', 'apple', '8ram', '256gb', 'macos', '13inch', 'hybrid', 'rm4784.45']\n",
      "Split text: ['asus', 'integrated', '4ram', '256gb', 'windows', '14inch', 'office', 'rm1319.45']\n",
      "Split text: ['lenovo', 'i3', '8ram', '512gb', 'windows', '15inch', 'hybrid', 'rm1869.945']\n",
      "Split text: ['redmi', 'i5', '8ram', '512gb', 'windows', '15inch', 'office', 'rm2144.45']\n",
      "Split text: ['acer', 'ryzen', '3', '8ram', '256gb', 'windows', '15inch', 'hybrid', 'rm1484.45']\n",
      "Split text: ['asus', 'i5', '16ram', '512gb', 'windows', '14inch', 'office', 'rm3684.45']\n",
      "Split text: ['asus', 'i3', '8ram', '512gb', 'windows', '15inch', 'office', 'rm2089.45']\n",
      "Split text: ['asus', 'i7', '16ram', '512gb', 'windows', '15inch', 'office', 'rm3134.45']\n",
      "Split text: ['dell', 'i3', '8ram', '1000gb', 'windows', '15inch', 'office', 'rm2199.45']\n",
      "Split text: ['realme', 'i3', '8ram', '256gb', 'windows', '14inch', 'hybrid', 'rm2584.45']\n",
      "Split text: ['hp', 'i3', '8ram', '256gb', 'windows', '14inch', 'hybrid', 'rm2089.45']\n",
      "Split text: ['hp', 'ryzen', '5', '16ram', '512gb', 'windows', '15inch', 'office', 'rm2701.765']\n",
      "Split text: ['msi', 'ryzen', '5', '8ram', '512gb', 'windows', '15inch', 'office', 'rm2639.45']\n",
      "Split text: ['asus', 'i5', '16ram', '512gb', 'windows', '14inch', 'hybrid', 'rm4757.5']\n",
      "Split text: ['apple', 'apple', '8ram', '256gb', 'macos', '13inch', 'hybrid', 'rm4784.45']\n",
      "Split text: ['hp', 'i3', '8ram', '512gb', 'windows', '15inch', 'hybrid', 'rm2474.45']\n",
      "Split text: ['hp', 'i5', '8ram', '512gb', 'windows', '15inch', 'office', 'rm2914.45']\n",
      "Split text: ['hp', 'ryzen', '3', '8ram', '512gb', 'windows', '15inch', 'office', 'rm2144.45']\n",
      "Split text: ['lenovo', 'i3', '8ram', '256gb', 'windows', '14inch', 'hybrid', 'rm1863.95']\n",
      "Split text: ['asus', 'i3', '8ram', '512gb', 'windows', '14inch', 'office', 'rm1869.45']\n",
      "Split text: ['hp', 'integrated', '8ram', '256gb', 'windows', '14inch', 'office', 'rm1484.45']\n",
      "Split text: ['lenovo', 'i3', '8ram', '512gb', 'windows', '15inch', 'office', 'rm2117.5']\n",
      "Split text: ['hp', 'ryzen', '5', '8ram', '512gb', 'windows', '14inch', 'office', 'rm2524.995']\n",
      "Split text: ['asus', 'ryzen', '5', '8ram', '1000gb', 'windows', '15inch', 'hybrid', 'rm2749.45']\n",
      "Split text: ['hp', 'i3', '8ram', '512gb', 'windows', '15inch', 'office', 'rm2252.25']\n",
      "Split text: ['lenovo', 'i5', '16ram', '512gb', 'windows', '15inch', 'office', 'rm2908.95']\n",
      "Split text: ['asus', 'ryzen', '7', '16ram', '512gb', 'windows', '15inch', 'gaming', 'rm5499.45']\n",
      "Split text: ['asus', 'ryzen', '7', '16ram', '512gb', 'windows', '15inch', 'hybrid', 'rm3299.45']\n",
      "Split text: ['hp', 'i5', '8ram', '512gb', 'windows', '15inch', 'office', 'rm3190.9900000000002']\n",
      "Split text: ['lenovo', 'i3', '8ram', '512gb', 'windows', '15inch', 'office', 'rm2128.445']\n",
      "Split text: ['samsung', 'integrated', '4ram', '512gb', 'windows', '14inch', 'office', 'rm1814.45']\n",
      "Split text: ['hp', 'ryzen', '5', '8ram', '512gb', 'windows', '14inch', 'office', 'rm2969.45']\n",
      "Split text: ['acer', 'i5', '8ram', '512gb', 'windows', '14inch', 'office', 'rm3574.45']\n",
      "Split text: ['lenovo', 'i5', '8ram', '512gb', 'windows', '15inch', 'office', 'rm2914.45']\n",
      "Split text: ['realme', 'i3', '8ram', '256gb', 'windows', '14inch', 'hybrid', 'rm2584.45']\n",
      "Split text: ['asus', 'i7', '16ram', '1000gb', 'windows', '17inch', 'gaming', 'rm6049.45']\n",
      "Split text: ['hp', 'i5', '16ram', '512gb', 'windows', '14inch', 'office', 'rm3746.27']\n",
      "Split text: ['lenovo', 'i5', '8ram', '512gb', 'windows', '15inch', 'office', 'rm3082.695']\n",
      "Split text: ['asus', 'integrated', '4ram', '256gb', 'windows', '14inch', 'office', 'rm1429.45']\n",
      "Split text: ['acer', 'i3', '8ram', '512gb', 'windows', '15inch', 'hybrid', 'rm1869.45']\n",
      "Split text: ['asus', 'ryzen', '5', '8ram', '512gb', 'windows', '14inch', 'hybrid', 'rm2144.45']\n",
      "Split text: ['dell', 'i5', '16ram', '512gb', 'windows', '15inch', 'office', 'rm3739.45']\n",
      "Split text: ['asus', 'i3', '8ram', '512gb', 'windows', '14inch', 'hybrid', 'rm2254.45']\n",
      "Split text: ['asus', 'i5', '8ram', '512gb', 'windows', '15inch', 'office', 'rm2749.45']\n",
      "Split text: ['apple', 'apple', '8ram', '512gb', 'macos', '13inch', 'hybrid', 'rm7259.45']\n",
      "Split text: ['asus', 'i9', '32ram', '1000gb', 'windows', '14inch', 'hybrid', 'rm8799.45']\n",
      "Split text: ['msi', 'ryzen', '7', '8ram', '512gb', 'windows', '15inch', 'gaming', 'rm4124.45']\n",
      "Split text: ['asus', 'i5', '8ram', '512gb', 'windows', '14inch', 'office', 'rm4124.45']\n",
      "Split text: ['asus', 'i3', '8ram', '512gb', 'windows', '14inch', 'office', 'rm2584.45']\n",
      "Split text: ['dell', 'i5', '8ram', '1000gb', 'windows', '15inch', 'office', 'rm3189.45']\n",
      "Split text: ['acer', 'ryzen', '5', '8ram', '512gb', 'windows', '15inch', 'gaming', 'rm2859.45']\n",
      "Split text: ['hp', 'i7', '16ram', '1000gb', 'windows', '14inch', 'gaming', 'rm4949.45']\n",
      "Split text: ['apple', 'apple', '8ram', '256gb', 'macos', '13inch', 'hybrid', 'rm4784.45']\n",
      "Split text: ['asus', 'i5', '16ram', '1000gb', 'windows', '15inch', 'office', 'rm3574.45']\n",
      "Split text: ['hp', 'ryzen', '5', '8ram', '512gb', 'windows', '15inch', 'gaming', 'rm3574.45']\n",
      "Split text: ['asus', 'i3', '8ram', '512gb', 'windows', '15inch', 'office', 'rm1979.45']\n",
      "Split text: ['lenovo', 'i3', '8ram', '512gb', 'windows', '14inch', 'office', 'rm2105.95']\n",
      "Split text: ['msi', 'i9', '32ram', '2000gb', 'windows', '17inch', 'gaming', 'rm21999.45']\n",
      "Split text: ['asus', 'integrated', '4ram', '2000gb', 'chromeos', '15inch', 'office', 'rm989.45']\n",
      "Split text: ['asus', 'integrated', '4ram', '2000gb', 'chromeos', '11inch', 'office', 'rm879.45']\n",
      "Split text: ['asus', 'i3', '8ram', '512gb', 'windows', '14inch', 'office', 'rm2364.45']\n",
      "Split text: ['msi', 'i7', '16ram', '1000gb', 'windows', '17inch', 'gaming', 'rm7644.45']\n",
      "Split text: ['asus', 'ryzen', '5', '16ram', '512gb', 'windows', '16inch', 'hybrid', 'rm3024.45']\n",
      "Split text: ['infinix', 'i3', '8ram', '256gb', 'windows', '14inch', 'office', 'rm1704.45']\n",
      "Split text: ['lenovo', 'ryzen', '5', '8ram', '512gb', 'windows', '14inch', 'gaming', 'rm2804.45']\n",
      "Split text: ['asus', 'i5', '16ram', '512gb', 'windows', '14inch', 'office', 'rm4399.45']\n",
      "Split text: ['acer', 'integrated', '4ram', '256gb', 'windows', '14inch', 'hybrid', 'rm1259.5']\n",
      "Split text: ['lenovo', 'ryzen', '3', '8ram', '512gb', 'windows', '15inch', 'hybrid', 'rm1856.305']\n",
      "Split text: ['lenovo', 'ryzen', '7', '16ram', '512gb', 'windows', '15inch', 'gaming', 'rm6393.75']\n",
      "Split text: ['asus', 'i3', '8ram', '512gb', 'windows', '15inch', 'office', 'rm2804.45']\n",
      "Split text: ['asus', 'i5', '8ram', '512gb', 'windows', '15inch', 'office', 'rm2529.45']\n",
      "Split text: ['asus', 'ryzen', '7', '16ram', '1000gb', 'windows', '17inch', 'gaming', 'rm4972.0']\n",
      "Split text: ['hp', 'i7', '16ram', '512gb', 'windows', '14inch', 'office', 'rm5059.45']\n",
      "Split text: ['hp', 'i5', '8ram', '512gb', 'windows', '14inch', 'office', 'rm3437.445']\n",
      "Split text: ['asus', 'i5', '8ram', '512gb', 'windows', '15inch', 'gaming', 'rm4234.945']\n",
      "Split text: ['asus', 'i5', '8ram', '512gb', 'windows', '15inch', 'office', 'rm2859.45']\n",
      "Split text: ['hp', 'integrated', '8ram', '512gb', 'windows', '15inch', 'hybrid', 'rm1814.45']\n",
      "Split text: ['asus', 'i3', '8ram', '512gb', 'windows', '15inch', 'office', 'rm2529.45']\n",
      "Split text: ['hp', 'i7', '16ram', '1000gb', 'windows', '16inch', 'gaming', 'rm4867.445']\n",
      "Split text: ['asus', 'ryzen', '7', '16ram', '512gb', 'windows', '15inch', 'gaming', 'rm3629.45']\n",
      "Split text: ['msi', 'i5', '16ram', '512gb', 'windows', '15inch', 'office', 'rm4729.45']\n",
      "Split text: ['hp', 'i7', '16ram', '512gb', 'windows', '13inch', 'office', 'rm5774.45']\n",
      "Split text: ['apple', 'apple', '8ram', '512gb', 'macos', '13inch', 'office', 'rm7699.45']\n",
      "Split text: ['apple', 'apple', '8ram', '256gb', 'macos', '13inch', 'office', 'rm6241.95']\n",
      "Split text: ['apple', 'apple', '8ram', '256gb', 'macos', '13inch', 'office', 'rm6269.45']\n",
      "Split text: ['asus', 'i5', '16ram', '512gb', 'windows', '14inch', 'office', 'rm4124.45']\n",
      "Split text: ['asus', 'ryzen', '7', '16ram', '512gb', 'windows', '15inch', 'gaming', 'rm4949.45']\n",
      "Split text: ['hp', 'i3', '8ram', '512gb', 'windows', '14inch', 'office', 'rm2309.45']\n",
      "Split text: ['asus', 'i5', '8ram', '512gb', 'windows', '14inch', 'office', 'rm3519.45']\n",
      "Split text: ['hp', 'i5', '16ram', '512gb', 'windows', '13inch', 'office', 'rm4784.45']\n",
      "Split text: ['hp', 'ryzen', '5', '16ram', '512gb', 'windows', '14inch', 'office', 'rm3409.45']\n",
      "Split text: ['asus', 'ryzen', '7', '16ram', '512gb', 'windows', '17inch', 'gaming', 'rm4894.45']\n",
      "Split text: ['msi', 'i7', '32ram', '1000gb', 'windows', '17inch', 'office', 'rm13749.45']\n",
      "Split text: ['asus', 'ryzen', '7', '16ram', '1000gb', 'windows', '15inch', 'gaming', 'rm7149.45']\n",
      "Split text: ['msi', 'i9', '32ram', '2000gb', 'windows', '17inch', 'office', 'rm16224.45']\n",
      "Split text: ['asus', 'ryzen', '7', '16ram', '512gb', 'windows', '15inch', 'office', 'rm3409.45']\n",
      "Split text: ['lenovo', 'ryzen', '7', '8ram', '512gb', 'windows', '15inch', 'gaming', 'rm4234.45']\n",
      "Split text: ['apple', 'apple', '16ram', '256gb', 'macos', '13inch', 'office', 'rm5774.45']\n",
      "Split text: ['lenovo', 'i5', '16ram', '512gb', 'windows', '15inch', 'office', 'rm4344.45']\n",
      "Split text: ['dell', 'i5', '8ram', '512gb', 'windows', '15inch', 'office', 'rm3519.45']\n",
      "Split text: ['dell', 'i7', '16ram', '512gb', 'windows', '14inch', 'office', 'rm5939.45']\n",
      "Split text: ['asus', 'i5', '16ram', '512gb', 'windows', '15inch', 'office', 'rm3794.45']\n",
      "Split text: ['acer', 'i5', '8ram', '512gb', 'windows', '15inch', 'office', 'rm3189.45']\n",
      "Split text: ['asus', 'i7', '16ram', '1000gb', 'windows', '15inch', 'gaming', 'rm5279.45']\n",
      "Split text: ['msi', 'i7', '16ram', '512gb', 'windows', '16inch', 'office', 'rm5829.45']\n",
      "Split text: ['hp', 'i5', '16ram', '512gb', 'windows', '15inch', 'office', 'rm4564.45']\n",
      "Split text: ['realme', 'i5', '8ram', '512gb', 'windows', '14inch', 'office', 'rm3299.45']\n",
      "Split text: ['hp', 'i5', '16ram', '512gb', 'windows', '14inch', 'office', 'rm3377.0']\n",
      "Split text: ['infinix', 'i5', '8ram', '512gb', 'windows', '14inch', 'office', 'rm2089.45']\n",
      "Split text: ['hp', 'i5', '16ram', '512gb', 'windows', '14inch', 'office', 'rm4238.85']\n",
      "Split text: ['asus', 'i5', '8ram', '512gb', 'windows', '14inch', 'office', 'rm3134.45']\n",
      "Split text: ['acer', 'ryzen', '5', '16ram', '512gb', 'windows', '15inch', 'gaming', 'rm3134.45']\n",
      "Split text: ['dell', 'i3', '8ram', '1000gb', 'windows', '15inch', 'hybrid', 'rm2336.95']\n",
      "Split text: ['acer', 'i7', '16ram', '1000gb', 'windows', '15inch', 'gaming', 'rm5279.45']\n",
      "Split text: ['dell', 'i3', '8ram', '512gb', 'windows', '15inch', 'office', 'rm2435.95']\n",
      "Split text: ['hp', 'ryzen', '5', '16ram', '512gb', 'windows', '14inch', 'office', 'rm3495.25']\n",
      "Split text: ['msi', 'i9', '16ram', '1000gb', 'windows', '15inch', 'gaming', 'rm6599.45']\n",
      "Split text: ['apple', 'apple', '16ram', '512gb', 'macos', '13inch', 'office', 'rm7149.45']\n",
      "Split text: ['asus', 'i5', '8ram', '512gb', 'windows', '15inch', 'gaming', 'rm2749.45']\n",
      "Split text: ['infinix', 'i5', '16ram', '512gb', 'windows', '15inch', 'office', 'rm2639.45']\n",
      "Split text: ['dell', 'ryzen', '5', '16ram', '512gb', 'windows', '15inch', 'gaming', 'rm4069.45']\n",
      "Split text: ['apple', 'apple', '32ram', '1000gb', 'macos', '16inch', 'office', 'rm16939.45']\n",
      "Split text: ['asus', 'i3', '8ram', '512gb', 'windows', '15inch', 'hybrid', 'rm2529.45']\n",
      "Split text: ['lenovo', 'integrated', '8ram', '256gb', 'windows', '15inch', 'office', 'rm1539.45']\n",
      "Split text: ['msi', 'i5', '8ram', '512gb', 'windows', '15inch', 'office', 'rm3412.75']\n",
      "Split text: ['infinix', 'i7', '16ram', '512gb', 'windows', '15inch', 'hybrid', 'rm2914.45']\n",
      "Split text: ['asus', 'ryzen', '7', '16ram', '512gb', 'windows', '15inch', 'hybrid', 'rm3629.45']\n",
      "Split text: ['msi', 'i5', '16ram', '512gb', 'windows', '15inch', 'office', 'rm3216.95']\n",
      "Split text: ['asus', 'i5', '8ram', '512gb', 'windows', '14inch', 'hybrid', 'rm3134.45']\n",
      "Split text: ['dell', 'ryzen', '3', '8ram', '512gb', 'windows', '15inch', 'office', 'rm2265.45']\n",
      "Split text: ['dell', 'i5', '8ram', '512gb', 'windows', '15inch', 'office', 'rm3189.45']\n",
      "Split text: ['hp', 'i7', '8ram', '512gb', 'windows', '15inch', 'office', 'rm4729.45']\n",
      "Split text: ['lenovo', 'i5', '8ram', '512gb', 'windows', '15inch', 'office', 'rm3079.45']\n",
      "Split text: ['asus', 'i5', '16ram', '512gb', 'windows', '14inch', 'gaming', 'rm4399.45']\n",
      "Split text: ['dell', 'integrated', '8ram', '256gb', 'windows', '15inch', 'office', 'rm1760.0']\n",
      "Split text: ['asus', 'i5', '16ram', '512gb', 'windows', '14inch', 'hybrid', 'rm4949.45']\n",
      "Split text: ['hp', 'i7', '16ram', '1000gb', 'windows', '15inch', 'office', 'rm4889.5']\n",
      "Split text: ['asus', 'i3', '8ram', '512gb', 'windows', '15inch', 'hybrid', 'rm2309.45']\n",
      "Split text: ['lenovo', 'ryzen', '7', '16ram', '512gb', 'windows', '15inch', 'gaming', 'rm4949.45']\n",
      "Split text: ['asus', 'i3', '8ram', '512gb', 'windows', '14inch', 'hybrid', 'rm2446.95']\n",
      "Split text: ['lenovo', 'ryzen', '5', '8ram', '512gb', 'windows', '15inch', 'hybrid', 'rm2639.45']\n",
      "Split text: ['samsung', 'i7', '16ram', '512gb', 'windows', '15inch', 'office', 'rm4014.45']\n",
      "Split text: ['hp', 'ryzen', '5', '16ram', '512gb', 'windows', '13inch', 'hybrid', 'rm4345.0']\n",
      "Split text: ['asus', 'i5', '8ram', '1000gb', 'windows', '15inch', 'gaming', 'rm3629.45']\n",
      "Split text: ['asus', 'ryzen', '5', '16ram', '512gb', 'windows', '15inch', 'hybrid', 'rm3134.45']\n",
      "Split text: ['hp', 'i3', '8ram', '512gb', 'windows', '14inch', 'hybrid', 'rm1907.95']\n",
      "Split text: ['apple', 'apple', '16ram', '1000gb', 'macos', '14inch', 'hybrid', 'rm11764.17']\n",
      "Split text: ['asus', 'i3', '8ram', '512gb', 'windows', '15inch', 'hybrid', 'rm1979.45']\n",
      "Split text: ['hp', 'ryzen', '5', '16ram', '512gb', 'windows', '14inch', 'hybrid', 'rm2777.445']\n",
      "Split text: ['msi', 'i7', '16ram', '1000gb', 'windows', '17inch', 'gaming', 'rm9404.45']\n",
      "Split text: ['acer', 'i5', '8ram', '512gb', 'windows', '15inch', 'office', 'rm2254.45']\n",
      "Split text: ['dell', 'i5', '16ram', '512gb', 'windows', '13inch', 'gaming', 'rm4300.45']\n",
      "Split text: ['dell', 'ryzen', '3', '8ram', '512gb', 'windows', '15inch', 'hybrid', 'rm2391.95']\n",
      "Split text: ['apple', 'apple', '16ram', '512gb', 'macos', '14inch', 'hybrid', 'rm10994.5']\n",
      "Split text: ['dell', 'ryzen', '7', '16ram', '512gb', 'windows', '15inch', 'hybrid', 'rm5499.45']\n",
      "Split text: ['dell', 'ryzen', '5', '8ram', '256gb', 'windows', '14inch', 'office', 'rm2034.45']\n",
      "Split text: ['dell', 'ryzen', '3', '8ram', '256gb', 'windows', '14inch', 'office', 'rm2028.95']\n",
      "Split text: ['asus', 'ryzen', '7', '32ram', '2000gb', 'windows', '16inch', 'gaming', 'rm12374.45']\n",
      "Split text: ['asus', 'ryzen', '5', '16ram', '512gb', 'windows', '15inch', 'hybrid', 'rm3134.45']\n",
      "Split text: ['apple', 'apple', '8ram', '256gb', 'macos', '13inch', 'hybrid', 'rm6709.45']\n",
      "Split text: ['asus', 'ryzen', '7', '8ram', '512gb', 'windows', '15inch', 'gaming', 'rm4839.45']\n",
      "Split text: ['lenovo', 'ryzen', '5', '8ram', '512gb', 'windows', '15inch', 'office', 'rm2359.5']\n",
      "Split text: ['dell', 'ryzen', '7', '16ram', '512gb', 'windows', '15inch', 'gaming', 'rm4866.95']\n",
      "Split text: ['dell', 'ryzen', '5', '8ram', '512gb', 'windows', '14inch', 'hybrid', 'rm4293.3550000000005']\n",
      "Split text: ['asus', 'i5', '16ram', '512gb', 'windows', '15inch', 'hybrid', 'rm4949.45']\n",
      "Split text: ['msi', 'i7', '16ram', '1000gb', 'windows', '15inch', 'hybrid', 'rm7754.45']\n",
      "Split text: ['apple', 'apple', '16ram', '256gb', 'macos', '13inch', 'hybrid', 'rm5856.95']\n",
      "Split text: ['hp', 'i5', '16ram', '512gb', 'windows', '14inch', 'hybrid', 'rm4238.85']\n",
      "Split text: ['asus', 'i5', '16ram', '512gb', 'windows', '15inch', 'hybrid', 'rm4949.45']\n",
      "Split text: ['dell', 'i5', '8ram', '512gb', 'windows', '15inch', 'gaming', 'rm4399.45']\n",
      "Split text: ['dell', 'i7', '16ram', '512gb', 'windows', '13inch', 'hybrid', 'rm4949.45']\n",
      "Split text: ['dell', 'i5', '16ram', '512gb', 'windows', '15inch', 'hybrid', 'rm4014.45']\n",
      "Split text: ['dell', 'i5', '8ram', '512gb', 'windows', '14inch', 'hybrid', 'rm4208.545']\n",
      "Split text: ['asus', 'i5', '8ram', '512gb', 'windows', '14inch', 'hybrid', 'rm4124.45']\n",
      "Split text: ['dell', 'ryzen', '3', '8ram', '256gb', 'windows', '15inch', 'hybrid', 'rm2091.595']\n",
      "Split text: ['apple', 'apple', '8ram', '512gb', 'macos', '13inch', 'hybrid', 'rm5774.45']\n",
      "Split text: ['lenovo', 'i5', '16ram', '512gb', 'windows', '15inch', 'hybrid', 'rm3762.0']\n",
      "Split text: ['asus', 'integrated', '4ram', '1000gb', 'windows', '15inch', 'hybrid', 'rm1319.45']\n",
      "Split text: ['lenovo', 'i5', '8ram', '1000gb', 'windows', '15inch', 'hybrid', 'rm3574.45']\n",
      "Split text: ['dell', 'i5', '16ram', '512gb', 'windows', '15inch', 'hybrid', 'rm2743.95']\n",
      "Split text: ['dell', 'ryzen', '5', '16ram', '512gb', 'windows', '16inch', 'hybrid', 'rm3497.45']\n",
      "Split text: ['lenovo', 'i5', '16ram', '512gb', 'windows', '15inch', 'hybrid', 'rm3436.95']\n",
      "Split text: ['apple', 'apple', '16ram', '512gb', 'macos', '13inch', 'hybrid', 'rm6984.45']\n",
      "Split text: ['asus', 'i5', '8ram', '512gb', 'windows', '15inch', 'gaming', 'rm3354.45']\n",
      "Split text: ['hp', 'i7', '16ram', '1000gb', 'windows', '16inch', 'gaming', 'rm8551.95']\n",
      "Split text: ['acer', 'i5', '16ram', '512gb', 'windows', '15inch', 'hybrid', 'rm3409.45']\n",
      "Split text: ['dell', 'ryzen', '3', '8ram', '512gb', 'windows', '14inch', 'office', 'rm2281.95']\n",
      "Split text: ['asus', 'i5', '16ram', '512gb', 'windows', '15inch', 'gaming', 'rm4289.45']\n",
      "Split text: ['asus', 'i7', '16ram', '512gb', 'windows', '15inch', 'gaming', 'rm5197.5']\n",
      "Split text: ['asus', 'ryzen', '9', '16ram', '1000gb', 'windows', '15inch', 'gaming', 'rm8524.45']\n",
      "Split text: ['dell', 'i7', '16ram', '512gb', 'windows', '15inch', 'gaming', 'rm9294.45']\n",
      "Split text: ['dell', 'i5', '8ram', '512gb', 'windows', '15inch', 'hybrid', 'rm3513.95']\n",
      "Split text: ['hp', 'i5', '16ram', '512gb', 'windows', '15inch', 'hybrid', 'rm4124.45']\n",
      "Split text: ['asus', 'ryzen', '5', '8ram', '1000gb', 'windows', '15inch', 'gaming', 'rm3629.45']\n",
      "Split text: ['apple', 'apple', '8ram', '256gb', 'macos', '13inch', 'hybrid', 'rm6324.45']\n",
      "Split text: ['acer', 'ryzen', '5', '16ram', '512gb', 'windows', '15inch', 'gaming', 'rm3519.45']\n",
      "Split text: ['msi', 'i5', '16ram', '512gb', 'windows', '15inch', 'gaming', 'rm4454.45']\n",
      "Split text: ['hp', 'i7', '16ram', '1000gb', 'windows', '14inch', 'gaming', 'rm5389.45']\n",
      "Split text: ['hp', 'i5', '8ram', '256gb', 'chromeos', '14inch', 'hybrid', 'rm3409.45']\n",
      "Split text: ['asus', 'i9', '32ram', '1000gb', 'windows', '15inch', 'gaming', 'rm15509.45']\n",
      "Split text: ['dell', 'i5', '8ram', '512gb', 'windows', '15inch', 'hybrid', 'rm3315.95']\n",
      "Split text: ['asus', 'i5', '16ram', '512gb', 'windows', '14inch', 'hybrid', 'rm2694.45']\n",
      "Split text: ['dell', 'ryzen', '5', '8ram', '512gb', 'windows', '16inch', 'hybrid', 'rm3299.45']\n",
      "Split text: ['dell', 'i5', '8ram', '512gb', 'windows', '16inch', 'hybrid', 'rm3640.45']\n",
      "Split text: ['hp', 'ryzen', '5', '8ram', '1000gb', 'windows', '15inch', 'gaming', 'rm3024.45']\n",
      "Split text: ['apple', 'apple', '16ram', '1000gb', 'macos', '16inch', 'hybrid', 'rm13419.45']\n",
      "Split text: ['dell', 'ryzen', '3', '8ram', '512gb', 'windows', '15inch', 'hybrid', 'rm2303.95']\n",
      "Split text: ['asus', 'i7', '16ram', '512gb', 'windows', '13inch', 'hybrid', 'rm5774.45']\n",
      "Split text: ['asus', 'i3', '8ram', '256gb', 'windows', '15inch', 'hybrid', 'rm2364.45']\n",
      "Split text: ['msi', 'i7', '16ram', '512gb', 'windows', '15inch', 'gaming', 'rm5774.45']\n",
      "Split text: ['lenovo', 'i7', '16ram', '512gb', 'windows', '15inch', 'gaming', 'rm4756.95']\n",
      "Split text: ['msi', 'ryzen', '9', '16ram', '1000gb', 'windows', '15inch', 'gaming', 'rm7149.45']\n",
      "Split text: ['dell', 'i5', '8ram', '512gb', 'windows', '15inch', 'hybrid', 'rm2908.95']\n",
      "Split text: ['hp', 'ryzen', '7', '8ram', '512gb', 'windows', '16inch', 'gaming', 'rm3959.45']\n",
      "Split text: ['asus', 'ryzen', '9', '32ram', '1000gb', 'windows', '14inch', 'gaming', 'rm10559.45']\n",
      "Split text: ['asus', 'ryzen', '7', '16ram', '1000gb', 'windows', '15inch', 'gaming', 'rm8084.45']\n",
      "Split text: ['hp', 'i7', '16ram', '1000gb', 'windows', '15inch', 'hybrid', 'rm6049.45']\n",
      "Split text: ['hp', 'ryzen', '5', '8ram', '512gb', 'windows', '16inch', 'gaming', 'rm4289.45']\n",
      "Split text: ['lenovo', 'ryzen', '3', '4ram', '1000gb', 'windows', '15inch', 'hybrid', 'rm1731.95']\n",
      "Split text: ['lenovo', 'ryzen', '5', '8ram', '512gb', 'windows', '15inch', 'hybrid', 'rm2199.45']\n",
      "Split text: ['acer', 'ryzen', '5', '8ram', '512gb', 'windows', '14inch', 'hybrid', 'rm3382.5']\n",
      "Split text: ['acer', 'i5', '8ram', '512gb', 'windows', '15inch', 'hybrid', 'rm3189.45']\n",
      "Split text: ['apple', 'apple', '16ram', '256gb', 'macos', '13inch', 'hybrid', 'rm7259.45']\n",
      "Split text: ['asus', 'ryzen', '9', '16ram', '1000gb', 'windows', '15inch', 'gaming', 'rm4971.45']\n",
      "Split text: ['asus', 'i9', '32ram', '1000gb', 'windows', '15inch', 'gaming', 'rm12591.04']\n",
      "Split text: ['alienware', 'i9', '32ram', '1000gb', 'windows', '15inch', 'gaming', 'rm18996.45']\n",
      "Split text: ['dell', 'i5', '8ram', '512gb', 'windows', '14inch', 'hybrid', 'rm3464.45']\n",
      "Split text: ['asus', 'ryzen', '9', '16ram', '1000gb', 'windows', '15inch', 'gaming', 'rm9624.45']\n",
      "Split text: ['dell', 'i5', '8ram', '512gb', 'windows', '15inch', 'hybrid', 'rm3392.95']\n",
      "Split text: ['gigabyte', 'i5', '16ram', '512gb', 'windows', '15inch', 'gaming', 'rm4399.45']\n",
      "Split text: ['acer', 'ryzen', '5', '16ram', '1000gb', 'windows', '15inch', 'gaming', 'rm4179.45']\n",
      "Split text: ['lenovo', 'ryzen', '7', '16ram', '1000gb', 'windows', '16inch', 'gaming', 'rm7149.395']\n",
      "Split text: ['apple', 'apple', '8ram', '512gb', 'macos', '13inch', 'hybrid', 'rm7699.45']\n",
      "Split text: ['hp', 'i5', '16ram', '512gb', 'windows', '14inch', 'office', 'rm3794.45']\n",
      "Split text: ['asus', 'ryzen', '9', '16ram', '1000gb', 'windows', '15inch', 'gaming', 'rm9789.45']\n",
      "Split text: ['msi', 'i5', '8ram', '512gb', 'windows', '15inch', 'gaming', 'rm3299.45']\n",
      "Split text: ['apple', 'apple', '8ram', '512gb', 'macos', '13inch', 'hybrid', 'rm6049.45']\n",
      "Split text: ['samsung', 'i5', '8ram', '256gb', 'windows', '15inch', 'hybrid', 'rm3409.45']\n",
      "Split text: ['dell', 'i5', '8ram', '1000gb', 'windows', '15inch', 'hybrid', 'rm3354.45']\n",
      "Split text: ['asus', 'ryzen', '7', '8ram', '512gb', 'windows', '15inch', 'gaming', 'rm3904.45']\n",
      "Split text: ['hp', 'ryzen', '7', '16ram', '1000gb', 'windows', '16inch', 'gaming', 'rm6050.0']\n",
      "Split text: ['asus', 'ryzen', '7', '8ram', '512gb', 'windows', '15inch', 'gaming', 'rm4234.45']\n",
      "Split text: ['hp', 'i3', '8ram', '512gb', 'windows', '14inch', 'hybrid', 'rm3299.45']\n",
      "Split text: ['hp', 'i9', '32ram', '2000gb', 'windows', '17inch', 'hybrid', 'rm16499.945']\n",
      "Split text: ['apple', 'apple', '8ram', '512gb', 'macos', '13inch', 'hybrid', 'rm6049.45']\n",
      "Split text: ['asus', 'ryzen', '9', '16ram', '1000gb', 'windows', '15inch', 'gaming', 'rm7149.45']\n",
      "Split text: ['acer', 'i5', '8ram', '1000gb', 'windows', '15inch', 'hybrid', 'rm3299.45']\n",
      "Split text: ['msi', 'i7', '16ram', '1000gb', 'windows', '15inch', 'gaming', 'rm7925.5']\n",
      "Split text: ['hp', 'i5', '8ram', '512gb', 'windows', '14inch', 'office', 'rm3492.5']\n",
      "Split text: ['lenovo', 'i5', '16ram', '512gb', 'windows', '15inch', 'hybrid', 'rm3202.43']\n",
      "Split text: ['asus', 'i5', '16ram', '512gb', 'windows', '14inch', 'hybrid', 'rm6874.45']\n",
      "Split text: ['gigabyte', 'i5', '8ram', '512gb', 'windows', '15inch', 'gaming', 'rm4014.45']\n",
      "Split text: ['lenovo', 'ryzen', '7', '32ram', '1000gb', 'windows', '16inch', 'gaming', 'rm10449.45']\n",
      "Split text: ['acer', 'i5', '8ram', '512gb', 'windows', '15inch', 'gaming', 'rm3629.945']\n",
      "Split text: ['asus', 'integrated', '8ram', '256gb', 'windows', '14inch', 'office', 'rm1567.5']\n",
      "Split text: ['msi', 'i7', '16ram', '1000gb', 'windows', '15inch', 'gaming', 'rm7149.45']\n",
      "Split text: ['lenovo', 'integrated', '4ram', '256gb', 'dos', '15inch', 'office', 'rm1099.45']\n",
      "Split text: ['hp', 'i5', '8ram', '512gb', 'windows', '15inch', 'gaming', 'rm3739.45']\n",
      "Split text: ['asus', 'ryzen', '5', '8ram', '512gb', 'windows', '17inch', 'gaming', 'rm3552.45']\n",
      "Split text: ['acer', 'ryzen', '7', '16ram', '1000gb', 'windows', '15inch', 'gaming', 'rm6341.5']\n",
      "Split text: ['asus', 'ryzen', '7', '8ram', '512gb', 'windows', '14inch', 'hybrid', 'rm3189.45']\n",
      "Split text: ['acer', 'integrated', '4ram', '256gb', 'windows', '14inch', 'office', 'rm1456.95']\n",
      "Split text: ['msi', 'i7', '16ram', '1000gb', 'windows', '15inch', 'gaming', 'rm6324.45']\n",
      "Split text: ['asus', 'i7', '16ram', '1000gb', 'windows', '17inch', 'gaming', 'rm6324.45']\n",
      "Split text: ['acer', 'i5', '8ram', '512gb', 'windows', '15inch', 'hybrid', 'rm3139.95']\n",
      "Split text: ['lenovo', 'i5', '4ram', '1000gb', 'windows', '15inch', 'hybrid', 'rm3134.45']\n",
      "Split text: ['hp', 'i7', '32ram', '1000gb', 'windows', '17inch', 'hybrid', 'rm10999.945']\n",
      "Split text: ['dell', 'i7', '32ram', '1000gb', 'windows', '17inch', 'gaming', 'rm16526.95']\n",
      "Split text: ['asus', 'ryzen', '5', '8ram', '512gb', 'windows', '15inch', 'hybrid', 'rm3079.45']\n",
      "Split text: ['apple', 'apple', '8ram', '512gb', 'macos', '13inch', 'hybrid', 'rm6049.45']\n",
      "Split text: ['hp', 'ryzen', '5', '8ram', '512gb', 'windows', '15inch', 'gaming', 'rm4014.45']\n",
      "Split text: ['acer', 'i7', '16ram', '1000gb', 'windows', '15inch', 'hybrid', 'rm6415.2']\n",
      "Split text: ['acer', 'ryzen', '5', '8ram', '512gb', 'windows', '15inch', 'hybrid', 'rm3079.45']\n",
      "Split text: ['hp', 'integrated', '8ram', '256gb', 'windows', '14inch', 'hybrid', 'rm1374.945']\n",
      "Split text: ['asus', 'ryzen', '7', '8ram', '1000gb', 'windows', '17inch', 'gaming', 'rm4234.45']\n",
      "Split text: ['dell', 'ryzen', '7', '16ram', '512gb', 'windows', '16inch', 'office', 'rm3937.45']\n",
      "Split text: ['dell', 'ryzen', '5', '8ram', '512gb', 'windows', '14inch', 'gaming', 'rm3299.945']\n",
      "Split text: ['dell', 'i9', '32ram', '1000gb', 'windows', '17inch', 'gaming', 'rm17819.45']\n",
      "Split text: ['hp', 'ryzen', '3', '8ram', '512gb', 'windows', '14inch', 'hybrid', 'rm2221.45']\n",
      "Split text: ['dell', 'ryzen', '5', '8ram', '512gb', 'windows', '15inch', 'hybrid', 'rm2886.95']\n",
      "Split text: ['hp', 'ryzen', '5', '8ram', '512gb', 'windows', '15inch', 'gaming', 'rm3409.45']\n",
      "Split text: ['hp', 'i5', '8ram', '512gb', 'windows', '15inch', 'hybrid', 'rm2853.95']\n",
      "Split text: ['dell', 'i5', '8ram', '512gb', 'windows', '14inch', 'office', 'rm4894.45']\n",
      "Split text: ['lenovo', 'ryzen', '7', '16ram', '1000gb', 'windows', '16inch', 'gaming', 'rm8799.45']\n",
      "Split text: ['dell', 'ryzen', '3', '8ram', '512gb', 'windows', '15inch', 'hybrid', 'rm2171.95']\n",
      "Split text: ['apple', 'apple', '16ram', '512gb', 'macos', '13inch', 'hybrid', 'rm8304.45']\n",
      "Split text: ['apple', 'apple', '16ram', '1000gb', 'macos', '16inch', 'hybrid', 'rm13309.45']\n",
      "Split text: ['dell', 'i3', '8ram', '256gb', 'windows', '14inch', 'hybrid', 'rm3121.195']\n",
      "Split text: ['asus', 'ryzen', '7', '16ram', '1000gb', 'windows', '13inch', 'gaming', 'rm13639.45']\n",
      "Split text: ['asus', 'i9', '16ram', '1000gb', 'windows', '13inch', 'gaming', 'rm10009.45']\n",
      "Split text: ['hp', 'i7', '16ram', '1000gb', 'windows', '13inch', 'hybrid', 'rm6324.45']\n",
      "Split text: ['dell', 'ryzen', '9', '16ram', '1000gb', 'windows', '15inch', 'gaming', 'rm8084.45']\n",
      "Split text: ['gigabyte', 'i7', '16ram', '1000gb', 'windows', '15inch', 'hybrid', 'rm8249.45']\n",
      "Split text: ['infinix', 'i5', '16ram', '512gb', 'windows', '15inch', 'hybrid', 'rm2834.26']\n",
      "Split text: ['msi', 'i7', '16ram', '1000gb', 'windows', '15inch', 'gaming', 'rm13474.45']\n",
      "Split text: ['apple', 'apple', '16ram', '256gb', 'macos', '13inch', 'hybrid', 'rm7259.45']\n",
      "Split text: ['asus', 'i7', '16ram', '1000gb', 'windows', '16inch', 'gaming', 'rm7699.45']\n",
      "Split text: ['asus', 'i3', '8ram', '512gb', 'windows', '14inch', 'hybrid', 'rm2639.45']\n",
      "Split text: ['acer', 'ryzen', '5', '8ram', '1000gb', 'windows', '15inch', 'gaming', 'rm4674.45']\n",
      "Split text: ['lenovo', 'i5', '16ram', '512gb', 'windows', '14inch', 'hybrid', 'rm3899.5']\n",
      "Split text: ['hp', 'i3', '8ram', '256gb', 'windows', '15inch', 'hybrid', 'rm1963.445']\n",
      "Split text: ['asus', 'i7', '16ram', '512gb', 'windows', '14inch', 'hybrid', 'rm4674.45']\n",
      "Split text: ['hp', 'i7', '16ram', '1000gb', 'windows', '16inch', 'gaming', 'rm7040.0']\n",
      "Split text: ['dell', 'i3', '8ram', '512gb', 'windows', '15inch', 'hybrid', 'rm2392.5']\n",
      "Split text: ['asus', 'i3', '8ram', '512gb', 'windows', '14inch', 'hybrid', 'rm2584.45']\n",
      "Split text: ['dell', 'i7', '16ram', '512gb', 'windows', '15inch', 'gaming', 'rm5691.95']\n",
      "Split text: ['asus', 'i5', '8ram', '512gb', 'windows', '13inch', 'hybrid', 'rm3354.45']\n",
      "Split text: ['asus', 'i7', '16ram', '512gb', 'windows', '13inch', 'gaming', 'rm8274.75']\n",
      "Split text: ['asus', 'ryzen', '7', '16ram', '512gb', 'windows', '14inch', 'hybrid', 'rm2584.45']\n",
      "Split text: ['acer', 'i9', '16ram', '1000gb', 'windows', '15inch', 'gaming', 'rm7699.945']\n",
      "Split text: ['acer', 'i7', '16ram', '1000gb', 'windows', '15inch', 'gaming', 'rm8606.95']\n",
      "Split text: ['hp', 'ryzen', '7', '8ram', '512gb', 'windows', '15inch', 'office', 'rm4344.45']\n",
      "Split text: ['avita', 'integrated', '4ram', '128gb', 'windows', '14inch', 'office', 'rm906.95']\n",
      "Split text: ['asus', 'ryzen', '7', '16ram', '1000gb', 'windows', '16inch', 'gaming', 'rm9459.45']\n",
      "Split text: ['alienware', 'i7', '16ram', '1000gb', 'windows', '15inch', 'gaming', 'rm13750.0']\n",
      "Split text: ['dell', 'i9', '16ram', '1000gb', 'windows', '15inch', 'gaming', 'rm8359.45']\n",
      "Split text: ['dell', 'i5', '8ram', '512gb', 'windows', '15inch', 'hybrid', 'rm3189.45']\n",
      "Split text: ['dell', 'ryzen', '5', '8ram', '512gb', 'windows', '14inch', 'office', 'rm3959.45']\n",
      "Split text: ['asus', 'ryzen', '7', '16ram', '512gb', 'windows', '15inch', 'gaming', 'rm4454.45']\n",
      "Split text: ['asus', 'i3', '8ram', '256gb', 'windows', '14inch', 'hybrid', 'rm2474.45']\n",
      "Split text: ['hp', 'i5', '8ram', '512gb', 'windows', '14inch', 'office', 'rm4069.45']\n",
      "Split text: ['dell', 'ryzen', '5', '16ram', '512gb', 'windows', '15inch', 'gaming', 'rm4894.45']\n",
      "Split text: ['hp', 'i7', '16ram', '512gb', 'windows', '16inch', 'office', 'rm8002.445']\n",
      "Split text: ['infinix', 'i3', '8ram', '512gb', 'windows', '15inch', 'hybrid', 'rm1869.45']\n",
      "Split text: ['msi', 'i7', '32ram', '1000gb', 'windows', '15inch', 'gaming', 'rm15179.45']\n",
      "Split text: ['asus', 'i3', '8ram', '512gb', 'windows', '15inch', 'hybrid', 'rm2199.45']\n",
      "Split text: ['hp', 'i5', '8ram', '256gb', 'windows', '13inch', 'office', 'rm3234.0']\n",
      "Split text: ['asus', 'i7', '16ram', '1000gb', 'windows', '15inch', 'gaming', 'rm5581.95']\n",
      "Split text: ['apple', 'apple', '16ram', '1000gb', 'macos', '14inch', 'hybrid', 'rm12094.17']\n",
      "Split text: ['hp', 'ryzen', '5', '8ram', '512gb', 'windows', '15inch', 'office', 'rm3849.45']\n",
      "Split text: ['dell', 'i3', '8ram', '1000gb', 'windows', '15inch', 'hybrid', 'rm2309.45']\n",
      "Split text: ['asus', 'i3', '8ram', '256gb', 'windows', '14inch', 'hybrid', 'rm2474.45']\n",
      "Split text: ['asus', 'ryzen', '7', '16ram', '1000gb', 'windows', '15inch', 'gaming', 'rm8964.45']\n",
      "Split text: ['asus', 'i7', '16ram', '1000gb', 'windows', '15inch', 'office', 'rm4949.45']\n",
      "Split text: ['dell', 'ryzen', '5', '8ram', '512gb', 'windows', '15inch', 'hybrid', 'rm4003.45']\n",
      "Split text: ['acer', 'i5', '8ram', '1000gb', 'windows', '15inch', 'hybrid', 'rm3307.15']\n",
      "Split text: ['msi', 'i5', '16ram', '512gb', 'windows', '15inch', 'gaming', 'rm4124.45']\n",
      "Split text: ['asus', 'ryzen', '7', '16ram', '1000gb', 'windows', '15inch', 'gaming', 'rm8689.45']\n",
      "Split text: ['asus', 'ryzen', '7', '32ram', '1000gb', 'windows', '13inch', 'gaming', 'rm15674.45']\n",
      "Split text: ['asus', 'i7', '16ram', '512gb', 'windows', '15inch', 'office', 'rm3271.95']\n",
      "Split text: ['dell', 'i5', '8ram', '512gb', 'windows', '15inch', 'hybrid', 'rm3216.95']\n",
      "Split text: ['asus', 'ryzen', '9', '16ram', '1000gb', 'windows', '15inch', 'gaming', 'rm14024.45']\n",
      "Split text: ['lenovo', 'ryzen', '7', '16ram', '1000gb', 'windows', '16inch', 'gaming', 'rm12005.95']\n",
      "Split text: ['avita', 'i3', '4ram', '256gb', 'windows', '14inch', 'hybrid', 'rm1649.45']\n",
      "Split text: ['hp', 'ryzen', '7', '16ram', '1000gb', 'windows', '13inch', 'office', 'rm5393.3']\n",
      "Split text: ['asus', 'i7', '8ram', '1000gb', 'windows', '15inch', 'gaming', 'rm4806.45']\n",
      "Split text: ['hp', 'i7', '16ram', '1000gb', 'windows', '16inch', 'gaming', 'rm9459.45']\n",
      "Split text: ['alienware', 'i7', '16ram', '1000gb', 'windows', '15inch', 'gaming', 'rm11813.45']\n",
      "Split text: ['alienware', 'i7', '16ram', '512gb', 'windows', '15inch', 'gaming', 'rm10999.45']\n",
      "Split text: ['hp', 'i5', '16ram', '512gb', 'windows', '14inch', 'office', 'rm4701.95']\n",
      "Split text: ['infinix', 'i5', '8ram', '512gb', 'windows', '15inch', 'hybrid', 'rm2364.45']\n",
      "Split text: ['apple', 'apple', '16ram', '1000gb', 'macos', '14inch', 'hybrid', 'rm13744.5']\n",
      "Split text: ['mi', 'i7', '8ram', '512gb', 'windows', '14inch', 'hybrid', 'rm3299.45']\n",
      "Split text: ['asus', 'ryzen', '7', '32ram', '2000gb', 'windows', '16inch', 'gaming', 'rm11220.0']\n",
      "Split text: ['dell', 'i5', '8ram', '512gb', 'windows', '15inch', 'hybrid', 'rm3403.95']\n",
      "Split text: ['acer', 'i7', '32ram', '2000gb', 'windows', '16inch', 'gaming', 'rm12649.45']\n",
      "Split text: ['asus', 'i9', '32ram', '1000gb', 'windows', '17inch', 'gaming', 'rm21999.45']\n",
      "Split text: ['hp', 'i5', '8ram', '512gb', 'windows', '14inch', 'hybrid', 'rm4124.45']\n",
      "Split text: ['hp', 'i7', '16ram', '1000gb', 'windows', '16inch', 'gaming', 'rm7302.075']\n",
      "Split text: ['acer', 'i5', '8ram', '1000gb', 'windows', '14inch', 'hybrid', 'rm2584.45']\n",
      "Split text: ['asus', 'ryzen', '9', '16ram', '1000gb', 'windows', '15inch', 'gaming', 'rm9624.45']\n",
      "Split text: ['dell', 'i3', '8ram', '256gb', 'windows', '14inch', 'hybrid', 'rm2347.95']\n",
      "Split text: ['hp', 'ryzen', '5', '8ram', '512gb', 'windows', '15inch', 'gaming', 'rm3299.45']\n",
      "Split text: ['apple', 'apple', '16ram', '512gb', 'macos', '16inch', 'hybrid', 'rm12264.45']\n",
      "Split text: ['asus', 'i3', '8ram', '512gb', 'windows', '15inch', 'hybrid', 'rm2364.45']\n",
      "Split text: ['msi', 'i7', '32ram', '1000gb', 'windows', '15inch', 'gaming', 'rm8584.95']\n",
      "Split text: ['dell', 'i5', '8ram', '512gb', 'windows', '15inch', 'gaming', 'rm3843.95']\n",
      "Split text: ['asus', 'ryzen', '7', '16ram', '512gb', 'windows', '15inch', 'hybrid', 'rm3519.45']\n",
      "Split text: ['dell', 'i7', '16ram', '512gb', 'windows', '15inch', 'gaming', 'rm5994.45']\n",
      "Split text: ['asus', 'i9', '16ram', '1000gb', 'windows', '13inch', 'gaming', 'rm16773.9']\n",
      "Split text: ['dell', 'ryzen', '7', '16ram', '512gb', 'windows', '14inch', 'hybrid', 'rm4663.45']\n",
      "Split text: ['apple', 'apple', '16ram', '256gb', 'macos', '13inch', 'hybrid', 'rm7259.45']\n",
      "Split text: ['msi', 'ryzen', '5', '8ram', '512gb', 'windows', '15inch', 'gaming', 'rm3217.5']\n",
      "Split text: ['acer', 'ryzen', '3', '8ram', '512gb', 'windows', '15inch', 'hybrid', 'rm1826.0']\n",
      "Split text: ['dell', 'ryzen', '3', '8ram', '512gb', 'windows', '15inch', 'hybrid', 'rm2303.95']\n",
      "Split text: ['asus', 'ryzen', '9', '16ram', '1000gb', 'windows', '17inch', 'gaming', 'rm11604.45']\n",
      "Split text: ['dell', 'i7', '16ram', '512gb', 'windows', '14inch', 'gaming', 'rm9706.95']\n",
      "Split text: ['lenovo', 'i3', '4ram', '256gb', 'windows', '14inch', 'hybrid', 'rm1979.45']\n",
      "Split text: ['hp', 'i7', '16ram', '512gb', 'windows', '13inch', 'office', 'rm7204.45']\n",
      "Split text: ['dell', 'ryzen', '5', '8ram', '512gb', 'windows', '15inch', 'hybrid', 'rm3959.45']\n",
      "Split text: ['asus', 'ryzen', '7', '16ram', '1000gb', 'windows', '15inch', 'gaming', 'rm5829.45']\n",
      "Split text: ['lenovo', 'i5', '8ram', '512gb', 'windows', '15inch', 'gaming', 'rm3239.5']\n",
      "Split text: ['msi', 'i9', '16ram', '1000gb', 'windows', '16inch', 'office', 'rm11604.45']\n",
      "Split text: ['lenovo', 'ryzen', '7', '16ram', '512gb', 'windows', '15inch', 'hybrid', 'rm3629.45']\n",
      "Split text: ['acer', 'i7', '16ram', '2000gb', 'windows', '15inch', 'gaming', 'rm8276.95']\n",
      "Split text: ['dell', 'i3', '4ram', '1000gb', 'windows', '14inch', 'hybrid', 'rm2336.95']\n",
      "Split text: ['apple', 'apple', '8ram', '512gb', 'macos', '13inch', 'hybrid', 'rm7259.45']\n",
      "Split text: ['asus', 'i3', '8ram', '512gb', 'windows', '14inch', 'hybrid', 'rm2254.45']\n",
      "Split text: ['dell', 'i5', '8ram', '1000gb', 'windows', '13inch', 'hybrid', 'rm4300.45']\n",
      "Split text: ['asus', 'i7', '16ram', '1000gb', 'windows', '17inch', 'hybrid', 'rm18149.45']\n",
      "Split text: ['asus', 'ryzen', '3', '8ram', '512gb', 'windows', '15inch', 'hybrid', 'rm1924.45']\n",
      "Split text: ['acer', 'i9', '16ram', '1000gb', 'windows', '15inch', 'gaming', 'rm6599.45']\n",
      "Split text: ['dell', 'i5', '8ram', '512gb', 'windows', '15inch', 'hybrid', 'rm3873.65']\n",
      "Split text: ['asus', 'i5', '8ram', '1000gb', 'dos', '14inch', 'office', 'rm3810.95']\n",
      "Split text: ['dell', 'i3', '8ram', '256gb', 'windows', '15inch', 'hybrid', 'rm2248.95']\n",
      "Split text: ['lenovo', 'ryzen', '5', '8ram', '512gb', 'windows', '15inch', 'office', 'rm2587.145']\n",
      "Split text: ['apple', 'apple', '16ram', '1000gb', 'macos', '14inch', 'hybrid', 'rm13744.5']\n",
      "Split text: ['hp', 'i3', '8ram', '256gb', 'windows', '15inch', 'hybrid', 'rm2171.95']\n",
      "Split text: ['acer', 'i5', '8ram', '512gb', 'windows', '15inch', 'gaming', 'rm3574.45']\n",
      "Split text: ['lenovo', 'i5', '16ram', '512gb', 'windows', '15inch', 'gaming', 'rm4674.45']\n",
      "Split text: ['infinix', 'i3', '8ram', '256gb', 'windows', '14inch', 'hybrid', 'rm1704.45']\n",
      "Split text: ['apple', 'i5', '8ram', '512gb', 'macos', '13inch', 'hybrid', 'rm9019.45']\n",
      "Split text: ['acer', 'integrated', '4ram', '256gb', 'windows', '14inch', 'office', 'rm2309.945']\n",
      "Split text: ['hp', 'i3', '8ram', '1000gb', 'windows', '15inch', 'hybrid', 'rm2243.34']\n",
      "Split text: ['hp', 'i5', '8ram', '512gb', 'windows', '15inch', 'office', 'rm3018.95']\n",
      "Split text: ['asus', 'i5', '16ram', '512gb', 'windows', '13inch', 'gaming', 'rm6324.45']\n",
      "Split text: ['dell', 'ryzen', '7', '16ram', '512gb', 'windows', '14inch', 'gaming', 'rm4888.95']\n",
      "Split text: ['asus', 'ryzen', '5', '16ram', '512gb', 'windows', '16inch', 'hybrid', 'rm3024.45']\n",
      "Split text: ['dell', 'i3', '8ram', '256gb', 'windows', '14inch', 'hybrid', 'rm2237.95']\n",
      "Split text: ['asus', 'integrated', '4ram', '128gb', 'windows', '11inch', 'office', 'rm1335.95']\n",
      "Split text: ['hp', 'ryzen', '7', '16ram', '512gb', 'windows', '16inch', 'gaming', 'rm6132.5']\n",
      "Split text: ['asus', 'i5', '16ram', '512gb', 'windows', '15inch', 'office', 'rm4124.45']\n",
      "Split text: ['asus', 'ryzen', '5', '16ram', '512gb', 'windows', '16inch', 'hybrid', 'rm3024.45']\n",
      "Split text: ['apple', 'apple', '8ram', '512gb', 'macos', '13inch', 'hybrid', 'rm7259.45']\n",
      "Split text: ['dell', 'i7', '32ram', '1000gb', 'windows', '14inch', 'gaming', 'rm11549.45']\n",
      "Split text: ['infinix', 'i5', '8ram', '512gb', 'windows', '14inch', 'hybrid', 'rm2089.45']\n",
      "Split text: ['dell', 'ryzen', '7', '16ram', '1000gb', 'windows', '15inch', 'gaming', 'rm8744.45']\n",
      "Split text: ['lenovo', 'i3', '8ram', '256gb', 'windows', '14inch', 'hybrid', 'rm2083.95']\n",
      "Split text: ['asus', 'i5', '16ram', '512gb', 'windows', '15inch', 'office', 'rm5114.45']\n",
      "Split text: ['asus', 'i7', '16ram', '2000gb', 'windows', '14inch', 'office', 'rm12869.45']\n",
      "Split text: ['dell', 'i7', '16ram', '512gb', 'windows', '15inch', 'gaming', 'rm7011.95']\n",
      "Split text: ['gigabyte', 'i7', '16ram', '1000gb', 'windows', '15inch', 'gaming', 'rm10669.45']\n",
      "Split text: ['acer', 'i5', '8ram', '1000gb', 'windows', '15inch', 'gaming', 'rm7149.945']\n",
      "Split text: ['lenovo', 'i3', '8ram', '512gb', 'windows', '15inch', 'hybrid', 'rm2238.445']\n",
      "Split text: ['lenovo', 'ryzen', '7', '16ram', '512gb', 'windows', '14inch', 'hybrid', 'rm5403.53']\n",
      "Split text: ['asus', 'ryzen', '7', '16ram', '1000gb', 'windows', '15inch', 'gaming', 'rm8689.45']\n",
      "Split text: ['msi', 'i7', '16ram', '512gb', 'windows', '15inch', 'gaming', 'rm10218.45']\n",
      "Split text: ['dell', 'i3', '8ram', '256gb', 'windows', '14inch', 'hybrid', 'rm2270.95']\n",
      "Split text: ['dell', 'ryzen', '3', '8ram', '256gb', 'windows', '15inch', 'office', 'rm2127.95']\n",
      "Split text: ['lenovo', 'i5', '8ram', '512gb', 'windows', '15inch', 'gaming', 'rm3959.45']\n",
      "Split text: ['lenovo', 'i5', '8ram', '512gb', 'windows', '15inch', 'hybrid', 'rm3986.95']\n",
      "Split text: ['acer', 'i5', '8ram', '512gb', 'windows', '15inch', 'gaming', 'rm3409.945']\n",
      "Split text: ['asus', 'ryzen', '9', '16ram', '512gb', 'windows', '15inch', 'gaming', 'rm5829.45']\n",
      "Split text: ['msi', 'i7', '16ram', '1000gb', 'windows', '15inch', 'gaming', 'rm11384.45']\n",
      "Split text: ['msi', 'i7', '16ram', '1000gb', 'windows', '16inch', 'hybrid', 'rm6599.45']\n",
      "Split text: ['asus', 'i7', '32ram', '1000gb', 'windows', '16inch', 'hybrid', 'rm13199.45']\n",
      "Split text: ['lenovo', 'ryzen', '5', '8ram', '512gb', 'windows', '15inch', 'gaming', 'rm3464.45']\n",
      "Split text: ['lenovo', 'ryzen', '7', '32ram', '1000gb', 'windows', '16inch', 'hybrid', 'rm10449.45']\n",
      "Split text: ['dell', 'ryzen', '5', '8ram', '256gb', 'windows', '15inch', 'hybrid', 'rm2347.95']\n",
      "Split text: ['msi', 'i5', '16ram', '512gb', 'windows', '15inch', 'gaming', 'rm4069.45']\n",
      "Split text: ['hp', 'ryzen', '5', '8ram', '512gb', 'windows', '16inch', 'gaming', 'rm4564.45']\n",
      "Split text: ['lenovo', 'i3', '8ram', '512gb', 'windows', '15inch', 'hybrid', 'rm2199.45']\n",
      "Split text: ['asus', 'ryzen', '7', '16ram', '1000gb', 'windows', '15inch', 'gaming', 'rm6379.45']\n",
      "Split text: ['msi', 'i7', '32ram', '1000gb', 'windows', '15inch', 'hybrid', 'rm11824.45']\n",
      "Split text: ['dell', 'ryzen', '7', '16ram', '512gb', 'windows', '15inch', 'gaming', 'rm5164.5']\n",
      "Split text: ['msi', 'i5', '8ram', '512gb', 'windows', '15inch', 'gaming', 'rm3217.445']\n",
      "Split text: ['hp', 'ryzen', '5', '16ram', '512gb', 'windows', '15inch', 'hybrid', 'rm2804.065']\n",
      "Split text: ['asus', 'i9', '16ram', '1000gb', 'windows', '16inch', 'hybrid', 'rm12099.45']\n",
      "Split text: ['dell', 'ryzen', '5', '8ram', '512gb', 'windows', '14inch', 'hybrid', 'rm2589.95']\n",
      "Split text: ['asus', 'i7', '8ram', '512gb', 'windows', '13inch', 'hybrid', 'rm3684.45']\n",
      "Split text: ['lenovo', 'i3', '4ram', '256gb', 'windows', '15inch', 'office', 'rm2211.0']\n",
      "Split text: ['hp', 'i3', '8ram', '256gb', 'windows', '14inch', 'hybrid', 'rm2199.45']\n",
      "Split text: ['acer', 'ryzen', '7', '8ram', '512gb', 'windows', '15inch', 'hybrid', 'rm3299.45']\n",
      "Split text: ['hp', 'i3', '8ram', '256gb', 'windows', '15inch', 'hybrid', 'rm2171.95']\n",
      "Split text: ['lenovo', 'i3', '4ram', '256gb', 'windows', '15inch', 'hybrid', 'rm2144.45']\n",
      "Split text: ['asus', 'i5', '4ram', '1000gb', 'windows', '14inch', 'office', 'rm3368.695']\n",
      "Split text: ['dell', 'integrated', '4ram', '256gb', 'windows', '15inch', 'hybrid', 'rm1952.5']\n",
      "Split text: ['hp', 'ryzen', '7', '16ram', '512gb', 'windows', '16inch', 'hybrid', 'rm5922.95']\n",
      "Split text: ['lenovo', 'ryzen', '7', '16ram', '1000gb', 'windows', '15inch', 'hybrid', 'rm7259.45']\n",
      "Split text: ['hp', 'ryzen', '3', '8ram', '512gb', 'windows', '14inch', 'office', 'rm1566.95']\n",
      "Split text: ['hp', 'i5', '8ram', '512gb', 'windows', '15inch', 'gaming', 'rm3574.45']\n",
      "Split text: ['asus', 'i7', '8ram', '1000gb', 'windows', '15inch', 'gaming', 'rm8056.95']\n",
      "Split text: ['dell', 'i5', '8ram', '512gb', 'windows', '15inch', 'office', 'rm3304.95']\n",
      "Split text: ['asus', 'i3', '8ram', '1000gb', 'windows', '15inch', 'hybrid', 'rm2089.45']\n",
      "Split text: ['lenovo', 'i3', '8ram', '256gb', 'windows', '15inch', 'hybrid', 'rm2061.95']\n",
      "Split text: ['asus', 'i5', '8ram', '1000gb', 'windows', '15inch', 'hybrid', 'rm3959.945']\n",
      "Split text: ['acer', 'i5', '8ram', '512gb', 'windows', '14inch', 'hybrid', 'rm3849.45']\n",
      "Split text: ['hp', 'i5', '8ram', '512gb', 'windows', '16inch', 'gaming', 'rm3464.45']\n",
      "Split text: ['dell', 'i5', '8ram', '512gb', 'windows', '35inch', 'office', 'rm3469.95']\n",
      "Split text: ['msi', 'ryzen', '7', '16ram', '1000gb', 'windows', '15inch', 'gaming', 'rm5444.45']\n",
      "Split text: ['hp', 'ryzen', '7', '16ram', '1000gb', 'windows', '16inch', 'gaming', 'rm5939.45']\n",
      "Split text: ['dell', 'i3', '4ram', '1000gb', 'windows', '15inch', 'office', 'rm2694.945']\n",
      "Split text: ['lenovo', 'i5', '8ram', '512gb', 'windows', '15inch', 'gaming', 'rm3183.95']\n",
      "Split text: ['dell', 'i5', '16ram', '512gb', 'windows', '16inch', 'office', 'rm4866.95']\n",
      "Split text: ['hp', 'ryzen', '7', '16ram', '512gb', 'windows', '16inch', 'gaming', 'rm5491.75']\n",
      "Split text: ['asus', 'i3', '8ram', '256gb', 'windows', '15inch', 'hybrid', 'rm2034.45']\n",
      "Split text: ['dell', 'i3', '8ram', '512gb', 'windows', '15inch', 'office', 'rm2237.95']\n",
      "Split text: ['hp', 'i7', '16ram', '1000gb', 'windows', '16inch', 'gaming', 'rm9404.45']\n",
      "Split text: ['dell', 'i5', '8ram', '512gb', 'windows', '15inch', 'office', 'rm3952.135']\n",
      "Split text: ['asus', 'i7', '16ram', '1000gb', 'windows', '14inch', 'office', 'rm8524.45']\n",
      "Split text: ['acer', 'i5', '8ram', '512gb', 'windows', '15inch', 'hybrid', 'rm5527.5']\n",
      "Split text: ['dell', 'i5', '8ram', '1000gb', 'windows', '15inch', 'office', 'rm5174.125']\n",
      "Split text: ['apple', 'apple', '16ram', '512gb', 'macos', '16inch', 'hybrid', 'rm13744.5']\n",
      "Split text: ['asus', 'i5', '8ram', '512gb', 'windows', '13inch', 'hybrid', 'rm4399.45']\n",
      "Split text: ['acer', 'i7', '16ram', '1000gb', 'windows', '14inch', 'hybrid', 'rm6379.945']\n",
      "Split text: ['acer', 'ryzen', '3', '4ram', '512gb', 'windows', '15inch', 'office', 'rm1539.45']\n",
      "Split text: ['asus', 'ryzen', '9', '16ram', '512gb', 'windows', '16inch', 'hybrid', 'rm5444.45']\n",
      "Split text: ['asus', 'ryzen', '3', '8ram', '512gb', 'windows', '15inch', 'hybrid', 'rm1924.45']\n",
      "Split text: ['dell', 'i3', '8ram', '256gb', 'windows', '14inch', 'office', 'rm2430.45']\n",
      "Split text: ['asus', 'i5', '16ram', '512gb', 'windows', '14inch', 'hybrid', 'rm4399.45']\n",
      "Split text: ['asus', 'ryzen', '7', '16ram', '1000gb', 'windows', '15inch', 'gaming', 'rm5334.45']\n",
      "Split text: ['dell', 'i3', '8ram', '512gb', 'windows', '14inch', 'office', 'rm2364.45']\n",
      "Split text: ['asus', 'i7', '32ram', '1000gb', 'windows', '15inch', 'gaming', 'rm12924.45']\n",
      "Split text: ['hp', 'ryzen', '5', '16ram', '512gb', 'windows', '16inch', 'gaming', 'rm4729.45']\n",
      "Split text: ['acer', 'i5', '8ram', '512gb', 'windows', '14inch', 'hybrid', 'rm3814.305']\n",
      "Split text: ['asus', 'i7', '16ram', '512gb', 'windows', '14inch', 'hybrid', 'rm5903.205']\n",
      "Split text: ['lenovo', 'ryzen', '3', '8ram', '256gb', 'windows', '15inch', 'hybrid', 'rm1924.45']\n",
      "Split text: ['hp', 'ryzen', '3', '8ram', '512gb', 'windows', '15inch', 'office', 'rm2089.45']\n",
      "Split text: ['asus', 'ryzen', '9', '16ram', '1000gb', 'windows', '15inch', 'gaming', 'rm8304.45']\n",
      "Split text: ['lenovo', 'ryzen', '7', '8ram', '512gb', 'windows', '15inch', 'gaming', 'rm4234.45']\n",
      "Split text: ['asus', 'i3', '4ram', '256gb', 'windows', '14inch', 'hybrid', 'rm1924.45']\n",
      "Split text: ['hp', 'ryzen', '5', '8ram', '512gb', 'windows', '16inch', 'gaming', 'rm4630.89']\n",
      "Split text: ['hp', 'ryzen', '3', '8ram', '512gb', 'windows', '15inch', 'gaming', 'rm2364.45']\n",
      "Split text: ['asus', 'ryzen', '7', '32ram', '1000gb', 'windows', '13inch', 'gaming', 'rm9784.5']\n",
      "Split text: ['lenovo', 'ryzen', '5', '8ram', '1000gb', 'windows', '15inch', 'gaming', 'rm3436.95']\n",
      "Split text: ['infinix', 'i3', '8ram', '512gb', 'windows', '15inch', 'hybrid', 'rm1869.45']\n",
      "Split text: ['asus', 'ryzen', '9', '16ram', '1000gb', 'windows', '13inch', 'gaming', 'rm8359.45']\n",
      "Split text: ['lenovo', 'i3', '8ram', '256gb', 'windows', '15inch', 'hybrid', 'rm1841.95']\n",
      "Split text: ['asus', 'ryzen', '7', '16ram', '1000gb', 'windows', '13inch', 'gaming', 'rm8139.45']\n",
      "Split text: ['acer', 'i3', '8ram', '256gb', 'windows', '15inch', 'hybrid', 'rm1759.45']\n",
      "Split text: ['lenovo', 'i7', '16ram', '512gb', 'windows', '16inch', 'office', 'rm6544.45']\n",
      "Split text: ['lenovo', 'i3', '4ram', '256gb', 'windows', '14inch', 'hybrid', 'rm1735.855']\n",
      "Split text: ['asus', 'ryzen', '9', '32ram', '1000gb', 'windows', '13inch', 'gaming', 'rm12924.45']\n",
      "Split text: ['asus', 'ryzen', '7', '16ram', '1000gb', 'windows', '16inch', 'gaming', 'rm9459.45']\n",
      "Split text: ['acer', 'i5', '16ram', '512gb', 'windows', '16inch', 'hybrid', 'rm5224.45']\n",
      "Split text: ['hp', 'ryzen', '5', '8ram', '512gb', 'windows', '15inch', 'gaming', 'rm3684.45']\n",
      "Split text: ['infinix', 'i3', '8ram', '256gb', 'windows', '15inch', 'hybrid', 'rm1704.45']\n",
      "Split text: ['dell', 'i3', '8ram', '1000gb', 'windows', '15inch', 'office', 'rm2337.5']\n",
      "Split text: ['asus', 'ryzen', '5', '8ram', '1000gb', 'windows', '15inch', 'gaming', 'rm3354.45']\n",
      "Split text: ['asus', 'i5', '8ram', '512gb', 'windows', '15inch', 'gaming', 'rm3244.45']\n",
      "Split text: ['acer', 'i7', '16ram', '1000gb', 'windows', '15inch', 'gaming', 'rm6599.45']\n",
      "Split text: ['lenovo', 'i7', '16ram', '512gb', 'windows', '15inch', 'gaming', 'rm5829.45']\n",
      "Split text: ['msi', 'i7', '16ram', '1000gb', 'windows', '17inch', 'gaming', 'rm10174.45']\n",
      "Split text: ['lenovo', 'i7', '32ram', '1000gb', 'windows', '16inch', 'gaming', 'rm10614.45']\n",
      "Split text: ['hp', 'ryzen', '3', '8ram', '256gb', 'windows', '15inch', 'office', 'rm2144.945']\n",
      "Split text: ['acer', 'i7', '16ram', '1000gb', 'windows', '15inch', 'office', 'rm7479.45']\n",
      "Split text: ['dell', 'i5', '8ram', '1000gb', 'windows', '15inch', 'gaming', 'rm3766.95']\n",
      "Split text: ['hp', 'i7', '16ram', '1000gb', 'windows', '14inch', 'hybrid', 'rm4861.45']\n",
      "Split text: ['dell', 'i7', '16ram', '512gb', 'windows', '13inch', 'gaming', 'rm6220.72']\n",
      "Split text: ['asus', 'ryzen', '7', '16ram', '1000gb', 'windows', '13inch', 'gaming', 'rm6324.45']\n",
      "Split text: ['hp', 'ryzen', '5', '8ram', '512gb', 'windows', '15inch', 'office', 'rm3080.0']\n",
      "Split text: ['lenovo', 'i7', '8ram', '1000gb', 'windows', '16inch', 'office', 'rm8249.45']\n",
      "Split text: ['acer', 'i3', '8ram', '1000gb', 'windows', '14inch', 'hybrid', 'rm2532.2']\n",
      "Split text: ['hp', 'i5', '8ram', '1000gb', 'windows', '15inch', 'hybrid', 'rm5640.305']\n",
      "Split text: ['avita', 'integrated', '4ram', '128gb', 'windows', '14inch', 'office', 'rm934.45']\n",
      "Split text: ['apple', 'apple', '8ram', '512gb', 'macos', '13inch', 'gaming', 'rm7259.45']\n",
      "Split text: ['hp', 'ryzen', '3', '8ram', '512gb', 'windows', '14inch', 'office', 'rm2469.5']\n",
      "Split text: ['hp', 'ryzen', '7', '16ram', '512gb', 'windows', '16inch', 'hybrid', 'rm5444.45']\n",
      "Split text: ['asus', 'i5', '8ram', '512gb', 'windows', '15inch', 'gaming', 'rm2804.45']\n",
      "Split text: ['apple', 'apple', '8ram', '512gb', 'macos', '13inch', 'hybrid', 'rm7149.45']\n",
      "Split text: ['msi', 'i7', '16ram', '1000gb', 'windows', '17inch', 'gaming', 'rm8139.45']\n",
      "Split text: ['dell', 'i3', '8ram', '1000gb', 'windows', '15inch', 'gaming', 'rm2523.95']\n",
      "Split text: ['lenovo', 'ryzen', '5', '8ram', '512gb', 'windows', '15inch', 'office', 'rm3326.95']\n",
      "Split text: ['asus', 'integrated', '4ram', '1000gb', 'chromeos', '14inch', 'hybrid', 'rm1429.45']\n",
      "Split text: ['asus', 'integrated', '4ram', '512gb', 'chromeos', '14inch', 'hybrid', 'rm1209.45']\n",
      "Split text: ['lenovo', 'integrated', '4ram', '256gb', 'windows', '14inch', 'gaming', 'rm1154.45']\n",
      "Split text: ['asus', 'i3', '8ram', '512gb', 'windows', '14inch', 'gaming', 'rm2309.45']\n",
      "Split text: ['msi', 'i7', '8ram', '512gb', 'windows', '15inch', 'office', 'rm4206.95']\n",
      "Split text: ['asus', 'i9', '16ram', '1000gb', 'windows', '13inch', 'office', 'rm10559.45']\n",
      "Split text: ['dell', 'i3', '8ram', '1000gb', 'windows', '15inch', 'office', 'rm2358.95']\n",
      "Split text: ['dell', 'ryzen', '5', '8ram', '512gb', 'windows', '15inch', 'gaming', 'rm2743.95']\n",
      "Split text: ['hp', 'i5', '16ram', '512gb', 'windows', '14inch', 'gaming', 'rm3821.95']\n",
      "Split text: ['msi', 'i7', '16ram', '1000gb', 'windows', '15inch', 'office', 'rm6104.45']\n",
      "Split text: ['lenovo', 'i5', '8ram', '512gb', 'windows', '15inch', 'office', 'rm3464.45']\n",
      "Split text: ['dell', 'i3', '8ram', '512gb', 'windows', '14inch', 'office', 'rm3546.95']\n",
      "Split text: ['asus', 'i3', '4ram', '1000gb', 'windows', '15inch', 'office', 'rm1594.45']\n",
      "Split text: ['dell', 'i3', '8ram', '1000gb', 'windows', '15inch', 'office', 'rm2364.45']\n",
      "Split text: ['dell', 'i5', '16ram', '512gb', 'windows', '14inch', 'office', 'rm5057.69']\n",
      "Split text: ['msi', 'i5', '16ram', '1000gb', 'windows', '14inch', 'gaming', 'rm4124.45']\n",
      "Split text: ['acer', 'ryzen', '5', '8ram', '512gb', 'windows', '15inch', 'office', 'rm3299.45']\n",
      "Split text: ['asus', 'integrated', '4ram', '512gb', 'chromeos', '11inch', 'hybrid', 'rm1264.45']\n",
      "Split text: ['msi', 'i7', '16ram', '512gb', 'windows', '14inch', 'gaming', 'rm4124.45']\n",
      "Split text: ['hp', 'i7', '8ram', '512gb', 'windows', '15inch', 'office', 'rm4871.35']\n",
      "Split text: ['asus', 'integrated', '4ram', '512gb', 'chromeos', '15inch', 'hybrid', 'rm1264.45']\n",
      "Split text: ['hp', 'ryzen', '7', '16ram', '1000gb', 'windows', '13inch', 'gaming', 'rm4488.0']\n",
      "Split text: ['asus', 'i7', '16ram', '1000gb', 'windows', '15inch', 'office', 'rm6764.45']\n",
      "Split text: ['lenovo', 'ryzen', '5', '8ram', '512gb', 'windows', '15inch', 'office', 'rm2639.45']\n",
      "Split text: ['asus', 'i3', '8ram', '256gb', 'windows', '15inch', 'gaming', 'rm1979.45']\n",
      "Split text: ['asus', 'i3', '4ram', '1000gb', 'windows', '14inch', 'office', 'rm1685.75']\n",
      "Split text: ['hp', 'ryzen', '5', '8ram', '512gb', 'windows', '15inch', 'office', 'rm2891.625']\n",
      "Split text: ['lenovo', 'i3', '4ram', '256gb', 'windows', '15inch', 'office', 'rm2083.95']\n",
      "Split text: ['dell', 'i3', '8ram', '512gb', 'windows', '15inch', 'hybrid', 'rm2529.45']\n",
      "Split text: ['hp', 'i3', '8ram', '512gb', 'windows', '15inch', 'office', 'rm2193.95']\n",
      "Split text: ['asus', 'i7', '16ram', '1000gb', 'windows', '15inch', 'hybrid', 'rm5742.275']\n",
      "Split text: ['asus', 'i3', '4ram', '256gb', 'windows', '14inch', 'office', 'rm1869.45']\n",
      "Split text: ['hp', 'i5', '16ram', '512gb', 'windows', '15inch', 'gaming', 'rm3480.95']\n",
      "Split text: ['hp', 'i5', '8ram', '512gb', 'windows', '15inch', 'hybrid', 'rm3022.8']\n",
      "Split text: ['lenovo', 'ryzen', '5', '16ram', '512gb', 'windows', '14inch', 'hybrid', 'rm3366.0']\n",
      "Split text: ['avita', 'integrated', '8ram', '256gb', 'windows', '14inch', 'office', 'rm1346.95']\n",
      "Split text: ['dell', 'i5', '16ram', '512gb', 'windows', '16inch', 'office', 'rm3931.95']\n",
      "Split text: ['acer', 'ryzen', '5', '8ram', '512gb', 'windows', '15inch', 'gaming', 'rm3739.45']\n",
      "Split text: ['asus', 'i7', '16ram', '512gb', 'windows', '13inch', 'office', 'rm5499.45']\n",
      "Split text: ['asus', 'i7', '16ram', '1000gb', 'windows', '14inch', 'hybrid', 'rm9129.45']\n",
      "Split text: ['asus', 'i5', '16ram', '512gb', 'windows', '17inch', 'gaming', 'rm5224.45']\n",
      "Split text: ['hp', 'i3', '8ram', '512gb', 'windows', '14inch', 'hybrid', 'rm2386.45']\n",
      "Split text: ['dell', 'i5', '16ram', '512gb', 'windows', '13inch', 'office', 'rm5499.45']\n",
      "Split text: ['hp', 'ryzen', '9', '32ram', '1000gb', 'windows', '16inch', 'gaming', 'rm8809.9']\n",
      "Split text: ['asus', 'ryzen', '3', '4ram', '256gb', 'windows', '15inch', 'hybrid', 'rm1484.45']\n",
      "Split text: ['asus', 'i5', '8ram', '1000gb', 'windows', '14inch', 'hybrid', 'rm3436.95']\n",
      "Split text: ['hp', 'i3', '8ram', '512gb', 'windows', '15inch', 'hybrid', 'rm2307.8']\n",
      "Split text: ['acer', 'ryzen', '5', '8ram', '1000gb', 'windows', '15inch', 'gaming', 'rm3794.45']\n",
      "Split text: ['asus', 'i7', '16ram', '1000gb', 'windows', '15inch', 'gaming', 'rm8228.55']\n",
      "Split text: ['asus', 'i5', '16ram', '1000gb', 'windows', '15inch', 'hybrid', 'rm3519.45']\n",
      "Split text: ['asus', 'integrated', '8ram', '256gb', 'windows', '14inch', 'hybrid', 'rm1592.8']\n",
      "Split text: ['gigabyte', 'i5', '16ram', '512gb', 'windows', '15inch', 'gaming', 'rm3794.45']\n",
      "Split text: ['lenovo', 'ryzen', '5', '8ram', '1000gb', 'windows', '15inch', 'gaming', 'rm3326.95']\n",
      "Split text: ['asus', 'ryzen', '7', '32ram', '1000gb', 'windows', '13inch', 'hybrid', 'rm9239.45']\n",
      "Split text: ['asus', 'ryzen', '7', '16ram', '1000gb', 'windows', '16inch', 'hybrid', 'rm10339.45']\n",
      "Split text: ['hp', 'i7', '16ram', '512gb', 'windows', '15inch', 'gaming', 'rm4345.0']\n",
      "Split text: ['hp', 'ryzen', '5', '8ram', '512gb', 'windows', '15inch', 'gaming', 'rm3520.0']\n",
      "Split text: ['hp', 'i3', '8ram', '512gb', 'windows', '15inch', 'hybrid', 'rm2238.445']\n",
      "Split text: ['asus', 'i9', '32ram', '1000gb', 'windows', '15inch', 'office', 'rm14849.45']\n",
      "Split text: ['asus', 'ryzen', '9', '32ram', '1000gb', 'windows', '16inch', 'hybrid', 'rm14409.45']\n",
      "Split text: ['hp', 'ryzen', '5', '8ram', '512gb', 'windows', '15inch', 'gaming', 'rm2783.0']\n",
      "Split text: ['hp', 'ryzen', '7', '16ram', '512gb', 'windows', '16inch', 'gaming', 'rm5955.95']\n",
      "Split text: ['lenovo', 'i3', '8ram', '256gb', 'dos', '15inch', 'hybrid', 'rm2089.45']\n",
      "Split text: ['asus', 'i3', '8ram', '512gb', 'windows', '14inch', 'hybrid', 'rm2144.45']\n",
      "Split text: ['hp', 'ryzen', '3', '8ram', '512gb', 'windows', '15inch', 'hybrid', 'rm1977.8']\n",
      "Split text: ['hp', 'ryzen', '5', '8ram', '1000gb', 'windows', '15inch', 'gaming', 'rm4400.0']\n",
      "Split text: ['asus', 'i3', '4ram', '256gb', 'windows', '14inch', 'hybrid', 'rm1704.45']\n",
      "Split text: ['asus', 'i3', '8ram', '1000gb', 'windows', '15inch', 'hybrid', 'rm2529.45']\n",
      "Split text: ['dell', 'ryzen', '5', '8ram', '512gb', 'windows', '15inch', 'office', 'rm2798.95']\n",
      "Split text: ['dell', 'ryzen', '7', '16ram', '512gb', 'windows', '14inch', 'office', 'rm4729.45']\n",
      "Split text: ['hp', 'ryzen', '7', '16ram', '512gb', 'windows', '16inch', 'gaming', 'rm6740.8']\n",
      "Split text: ['asus', 'i5', '8ram', '512gb', 'windows', '17inch', 'gaming', 'rm4069.45']\n",
      "Split text: ['hp', 'ryzen', '7', '16ram', '512gb', 'windows', '16inch', 'gaming', 'rm6692.235']\n",
      "Split text: ['lenovo', 'i3', '8ram', '512gb', 'windows', '15inch', 'hybrid', 'rm2199.45']\n",
      "Split text: ['dell', 'ryzen', '5', '8ram', '512gb', 'windows', '16inch', 'office', 'rm3483.205']\n",
      "Split text: ['dell', 'i3', '8ram', '1000gb', 'windows', '15inch', 'hybrid', 'rm2391.95']\n",
      "Split text: ['asus', 'i7', '16ram', '512gb', 'windows', '16inch', 'hybrid', 'rm9624.45']\n",
      "Split text: ['hp', 'ryzen', '7', '16ram', '1000gb', 'windows', '16inch', 'gaming', 'rm7480.0']\n",
      "Split text: ['asus', 'i5', '8ram', '1000gb', 'windows', '14inch', 'office', 'rm4509.45']\n",
      "Split text: ['acer', 'i7', '8ram', '256gb', 'windows', '14inch', 'hybrid', 'rm6599.45']\n",
      "Split text: ['asus', 'ryzen', '9', '16ram', '1000gb', 'windows', '16inch', 'hybrid', 'rm7177.5']\n",
      "Split text: ['lenovo', 'i7', '8ram', '512gb', 'windows', '13inch', 'office', 'rm4730.0']\n",
      "Split text: ['asus', 'ryzen', '7', '16ram', '1000gb', 'windows', '13inch', 'hybrid', 'rm4399.45']\n",
      "Split text: ['msi', 'i7', '8ram', '1000gb', 'dos', '15inch', 'gaming', 'rm3299.45']\n",
      "Split text: ['lenovo', 'i7', '16ram', '512gb', 'windows', '14inch', 'gaming', 'rm6599.45']\n",
      "Split text: ['dell', 'i5', '16ram', '512gb', 'windows', '15inch', 'gaming', 'rm4674.45']\n",
      "Split text: ['asus', 'ryzen', '7', '16ram', '1000gb', 'windows', '15inch', 'gaming', 'rm10449.45']\n",
      "Split text: ['lenovo', 'i5', '8ram', '512gb', 'windows', '13inch', 'office', 'rm4124.45']\n",
      "Split text: ['hp', 'i5', '8ram', '1000gb', 'windows', '15inch', 'gaming', 'rm3777.95']\n",
      "Split text: ['hp', 'i7', '16ram', '512gb', 'windows', '14inch', 'hybrid', 'rm5063.85']\n",
      "Split text: ['dell', 'ryzen', '5', '16ram', '512gb', 'windows', '14inch', 'office', 'rm3183.95']\n",
      "Split text: ['msi', 'i7', '16ram', '1000gb', 'windows', '17inch', 'gaming', 'rm9954.45']\n",
      "Split text: ['hp', 'i5', '8ram', '512gb', 'windows', '14inch', 'gaming', 'rm3464.45']\n",
      "Split text: ['hp', 'i5', '8ram', '256gb', 'windows', '13inch', 'hybrid', 'rm7512.45']\n",
      "Split text: ['hp', 'i5', '16ram', '512gb', 'windows', '15inch', 'gaming', 'rm4018.85']\n",
      "Split text: ['asus', 'i9', '16ram', '512gb', 'windows', '15inch', 'gaming', 'rm4894.45']\n",
      "Split text: ['hp', 'i3', '8ram', '1000gb', 'windows', '15inch', 'hybrid', 'rm2213.75']\n",
      "Split text: ['dell', 'i5', '8ram', '1000gb', 'windows', '15inch', 'office', 'rm3403.95']\n",
      "Split text: ['hp', 'i5', '8ram', '512gb', 'windows', '15inch', 'office', 'rm3419.9']\n",
      "Split text: ['hp', 'i5', '16ram', '512gb', 'windows', '15inch', 'office', 'rm5362.5']\n",
      "Split text: ['asus', 'i5', '8ram', '512gb', 'windows', '13inch', 'hybrid', 'rm4096.95']\n",
      "Split text: ['asus', 'i9', '16ram', '1000gb', 'windows', '15inch', 'hybrid', 'rm11532.95']\n",
      "Split text: ['lenovo', 'ryzen', '5', '8ram', '512gb', 'windows', '15inch', 'gaming', 'rm4069.45']\n",
      "Split text: ['asus', 'i7', '16ram', '512gb', 'windows', '14inch', 'gaming', 'rm5774.45']\n",
      "Split text: ['msi', 'i7', '16ram', '512gb', 'windows', '15inch', 'gaming', 'rm8249.45']\n",
      "Split text: ['dell', 'i3', '8ram', '512gb', 'windows', '15inch', 'hybrid', 'rm2354.0']\n",
      "Split text: ['asus', 'ryzen', '7', '16ram', '512gb', 'windows', '17inch', 'gaming', 'rm4729.45']\n",
      "Split text: ['hp', 'ryzen', '5', '8ram', '512gb', 'windows', '16inch', 'gaming', 'rm3245.0']\n",
      "Split text: ['dell', 'i5', '8ram', '512gb', 'windows', '15inch', 'office', 'rm3452.845']\n",
      "Split text: ['dell', 'i3', '8ram', '1000gb', 'windows', '15inch', 'hybrid', 'rm2556.95']\n",
      "Split text: ['dell', 'i7', '16ram', '512gb', 'windows', '14inch', 'hybrid', 'rm5823.95']\n",
      "Split text: ['infinix', 'i7', '16ram', '512gb', 'windows', '15inch', 'hybrid', 'rm2914.45']\n",
      "Split text: ['hp', 'ryzen', '5', '8ram', '512gb', 'windows', '15inch', 'gaming', 'rm4014.45']\n",
      "Split text: ['asus', 'ryzen', '7', '16ram', '1000gb', 'windows', '14inch', 'gaming', 'rm9734.45']\n",
      "Split text: ['asus', 'i5', '8ram', '512gb', 'windows', '15inch', 'gaming', 'rm3299.45']\n",
      "Split text: ['dell', 'i3', '8ram', '1000gb', 'windows', '15inch', 'hybrid', 'rm2474.45']\n",
      "Split text: ['hp', 'i5', '8ram', '512gb', 'windows', '15inch', 'gaming', 'rm3355.0']\n",
      "Split text: ['hp', 'ryzen', '3', '8ram', '256gb', 'windows', '15inch', 'hybrid', 'rm1731.95']\n",
      "Split text: ['microsoft', 'ryzen', '5', '8ram', '128gb', 'windows', '15inch', 'office', 'rm5499.45']\n",
      "Split text: ['asus', 'ryzen', '9', '16ram', '1000gb', 'windows', '15inch', 'gaming', 'rm9184.45']\n",
      "Split text: ['dell', 'i5', '8ram', '512gb', 'windows', '16inch', 'hybrid', 'rm3629.45']\n",
      "Split text: ['gigabyte', 'i5', '16ram', '512gb', 'windows', '15inch', 'gaming', 'rm5224.45']\n",
      "Split text: ['hp', 'ryzen', '7', '8ram', '512gb', 'windows', '16inch', 'gaming', 'rm5224.45']\n",
      "Split text: ['msi', 'i5', '8ram', '512gb', 'windows', '15inch', 'gaming', 'rm3299.45']\n",
      "Split text: ['hp', 'integrated', '4ram', '1000gb', 'chromeos', '11inch', 'hybrid', 'rm1246.85']\n",
      "Split text: ['asus', 'i3', '8ram', '256gb', 'windows', '15inch', 'hybrid', 'rm2340.25']\n",
      "Split text: ['hp', 'i7', '16ram', '512gb', 'windows', '13inch', 'hybrid', 'rm13186.745']\n",
      "Split text: ['acer', 'i5', '8ram', '512gb', 'windows', '15inch', 'gaming', 'rm4702.445']\n",
      "Split text: ['dell', 'ryzen', '5', '16ram', '512gb', 'windows', '16inch', 'office', 'rm3739.45']\n",
      "Split text: ['lenovo', 'i7', '16ram', '1000gb', 'windows', '16inch', 'gaming', 'rm8366.82']\n",
      "Split text: ['hp', 'i7', '16ram', '512gb', 'windows', '13inch', 'hybrid', 'rm9019.45']\n",
      "Split text: ['dell', 'i9', '16ram', '1000gb', 'windows', '15inch', 'gaming', 'rm11356.95']\n",
      "Split text: ['lenovo', 'integrated', '4ram', '1000gb', 'chromeos', '11inch', 'hybrid', 'rm1566.95']\n",
      "Split text: ['dell', 'i5', '8ram', '1000gb', 'windows', '14inch', 'office', 'rm2481.93']\n",
      "Split text: ['hp', 'ryzen', '5', '16ram', '512gb', 'windows', '15inch', 'hybrid', 'rm3849.45']\n",
      "Split text: ['asus', 'i9', '16ram', '1000gb', 'windows', '15inch', 'gaming', 'rm7974.45']\n",
      "Split text: ['asus', 'i7', '8ram', '512gb', 'windows', '15inch', 'gaming', 'rm3629.45']\n",
      "Split text: ['infinix', 'i3', '8ram', '256gb', 'windows', '15inch', 'office', 'rm1649.45']\n",
      "Split text: ['asus', 'ryzen', '5', '16ram', '512gb', 'windows', '14inch', 'hybrid', 'rm4014.45']\n",
      "Split text: ['dell', 'ryzen', '5', '8ram', '512gb', 'windows', '14inch', 'office', 'rm3656.95']\n",
      "Split text: ['dell', 'i3', '4ram', '1000gb', 'windows', '35inch', 'office', 'rm2369.95']\n",
      "Split text: ['dell', 'ryzen', '3', '8ram', '256gb', 'windows', '15inch', 'office', 'rm2391.95']\n",
      "Split text: ['infinix', 'i5', '8ram', '512gb', 'windows', '15inch', 'hybrid', 'rm2364.45']\n",
      "Split text: ['hp', 'integrated', '4ram', '256gb', 'chromeos', '14inch', 'hybrid', 'rm1429.45']\n",
      "Split text: ['acer', 'i5', '8ram', '1000gb', 'windows', '15inch', 'hybrid', 'rm2592.15']\n",
      "Split text: ['hp', 'i3', '8ram', '512gb', 'dos', '15inch', 'office', 'rm2199.945']\n",
      "Split text: ['asus', 'ryzen', '7', '8ram', '1000gb', 'windows', '14inch', 'gaming', 'rm4234.45']\n",
      "Split text: ['dell', 'i7', '16ram', '512gb', 'windows', '14inch', 'office', 'rm5494.5']\n",
      "Split text: ['msi', 'i7', '16ram', '1000gb', 'windows', '15inch', 'gaming', 'rm8854.45']\n",
      "Split text: ['asus', 'integrated', '4ram', '1000gb', 'windows', '11inch', 'hybrid', 'rm1374.45']\n",
      "Split text: ['lenovo', 'i5', '16ram', '512gb', 'windows', '15inch', 'office', 'rm3755.95']\n",
      "Split text: ['lenovo', 'i3', '4ram', '1000gb', 'dos', '15inch', 'office', 'rm1980.0']\n",
      "Split text: ['dell', 'i5', '8ram', '1000gb', 'windows', '15inch', 'office', 'rm3794.45']\n",
      "Split text: ['infinix', 'i3', '8ram', '256gb', 'windows', '15inch', 'hybrid', 'rm1649.45']\n",
      "Split text: ['asus', 'i5', '8ram', '512gb', 'windows', '14inch', 'hybrid', 'rm3024.45']\n",
      "Split text: ['hp', 'i5', '8ram', '512gb', 'windows', '13inch', 'office', 'rm3666.63']\n",
      "Split text: ['asus', 'ryzen', '7', '8ram', '512gb', 'windows', '17inch', 'gaming', 'rm4014.45']\n",
      "Split text: ['lenovo', 'ryzen', '5', '8ram', '512gb', 'windows', '15inch', 'hybrid', 'rm3189.45']\n",
      "Split text: ['infinix', 'i5', '8ram', '512gb', 'windows', '14inch', 'hybrid', 'rm2089.45']\n",
      "Split text: ['dell', 'i5', '8ram', '512gb', 'windows', '15inch', 'office', 'rm3656.95']\n",
      "Split text: ['msi', 'i5', '8ram', '1000gb', 'windows', '15inch', 'gaming', 'rm2994.75']\n",
      "Split text: ['dell', 'i3', '8ram', '512gb', 'windows', '15inch', 'office', 'rm3481.94']\n",
      "Split text: ['asus', 'ryzen', '7', '16ram', '1000gb', 'windows', '15inch', 'gaming', 'rm5939.45']\n",
      "Split text: ['redmi', 'i3', '8ram', '512gb', 'windows', '15inch', 'office', 'rm2474.45']\n",
      "Split text: ['hp', 'ryzen', '5', '8ram', '512gb', 'windows', '15inch', 'gaming', 'rm4234.945']\n",
      "Split text: ['lenovo', 'i5', '8ram', '2000gb', 'windows', '15inch', 'hybrid', 'rm3565.155']\n",
      "Split text: ['lenovo', 'i7', '16ram', '512gb', 'windows', '14inch', 'office', 'rm13464.055']\n",
      "Split text: ['infinix', 'i7', '16ram', '512gb', 'windows', '14inch', 'hybrid', 'rm2584.45']\n",
      "Split text: ['dell', 'i5', '16ram', '512gb', 'windows', '15inch', 'office', 'rm3794.45']\n",
      "Split text: ['lenovo', 'integrated', '4ram', '256gb', 'windows', '14inch', 'hybrid', 'rm1429.45']\n",
      "Split text: ['acer', 'integrated', '4ram', '256gb', 'windows', '14inch', 'office', 'rm1974.005']\n",
      "Split text: ['asus', 'ryzen', '9', '16ram', '1000gb', 'windows', '15inch', 'gaming', 'rm8909.45']\n",
      "Split text: ['dell', 'i5', '8ram', '1000gb', 'windows', '15inch', 'office', 'rm4234.45']\n",
      "Split text: ['lenovo', 'i5', '8ram', '1000gb', 'windows', '15inch', 'office', 'rm2886.95']\n",
      "Split text: ['dell', 'i5', '8ram', '512gb', 'windows', '15inch', 'office', 'rm3271.95']\n",
      "Split text: ['lenovo', 'integrated', '4ram', '256gb', 'windows', '14inch', 'hybrid', 'rm1539.45']\n",
      "Split text: ['hp', 'i7', '16ram', '1000gb', 'windows', '16inch', 'gaming', 'rm8690.0']\n",
      "Split text: ['msi', 'i7', '8ram', '512gb', 'windows', '15inch', 'gaming', 'rm3684.45']\n",
      "Split text: ['dell', 'i5', '8ram', '512gb', 'windows', '15inch', 'office', 'rm3035.45']\n",
      "Split text: ['asus', 'ryzen', '9', '16ram', '1000gb', 'windows', '15inch', 'gaming', 'rm10449.45']\n",
      "Split text: ['sony', 'i5', '8ram', '512gb', 'windows', '14inch', 'office', 'rm3458.95']\n",
      "Split text: ['acer', 'integrated', '4ram', '256gb', 'windows', '15inch', 'office', 'rm1364.0']\n",
      "Split text: ['ultimus', 'integrated', '4ram', '256gb', 'windows', '15inch', 'office', 'rm1319.45']\n",
      "Split text: ['msi', 'i7', '8ram', '512gb', 'windows', '14inch', 'office', 'rm4432.45']\n",
      "Split text: ['hp', 'ryzen', '5', '16ram', '512gb', 'windows', '15inch', 'hybrid', 'rm3491.95']\n",
      "Split text: ['dell', 'i5', '16ram', '512gb', 'windows', '15inch', 'gaming', 'rm4069.45']\n",
      "Split text: ['asus', 'i5', '8ram', '512gb', 'windows', '14inch', 'office', 'rm2474.45']\n",
      "Split text: ['hp', 'integrated', '4ram', '512gb', 'chromeos', '14inch', 'hybrid', 'rm1429.45']\n",
      "Split text: ['dell', 'i3', '8ram', '256gb', 'windows', '14inch', 'office', 'rm2182.95']\n",
      "Split text: ['lenovo', 'i7', '16ram', '1000gb', 'windows', '13inch', 'hybrid', 'rm10003.95']\n",
      "Split text: ['dell', 'i7', '16ram', '1000gb', 'windows', '15inch', 'gaming', 'rm8249.45']\n",
      "Split text: ['lenovo', 'i3', '8ram', '1000gb', 'windows', '15inch', 'office', 'rm2062.5']\n",
      "Split text: ['lenovo', 'i7', '16ram', '512gb', 'windows', '12inch', 'office', 'rm7620.25']\n",
      "Split text: ['asus', 'i5', '8ram', '512gb', 'windows', '15inch', 'gaming', 'rm3574.45']\n",
      "Split text: ['hp', 'integrated', '4ram', '512gb', 'chromeos', '14inch', 'office', 'rm1539.45']\n",
      "Split text: ['lenovo', 'i7', '16ram', '1000gb', 'windows', '15inch', 'office', 'rm12727.0']\n",
      "Split text: ['acer', 'i5', '16ram', '512gb', 'windows', '15inch', 'gaming', 'rm3586.0']\n",
      "Split text: ['hp', 'i3', '4ram', '1000gb', 'windows', '15inch', 'office', 'rm2180.3650000000002']\n",
      "Split text: ['infinix', 'integrated', '4ram', '128gb', 'windows', '14inch', 'hybrid', 'rm1154.45']\n",
      "Split text: ['lenovo', 'i5', '16ram', '512gb', 'windows', '14inch', 'office', 'rm8547.605']\n",
      "Split text: ['asus', 'integrated', '4ram', '512gb', 'windows', '11inch', 'office', 'rm1154.45']\n",
      "Split text: ['hp', 'i3', '8ram', '512gb', 'windows', '15inch', 'office', 'rm2392.5']\n",
      "Split text: ['infinix', 'integrated', '4ram', '128gb', 'windows', '14inch', 'hybrid', 'rm1154.45']\n",
      "Split text: ['dell', 'integrated', '4ram', '256gb', 'windows', '15inch', 'office', 'rm1952.5']\n",
      "Split text: ['hp', 'ryzen', '3', '8ram', '256gb', 'windows', '15inch', 'office', 'rm2013.0']\n",
      "Split text: ['hp', 'ryzen', '3', '8ram', '512gb', 'windows', '15inch', 'hybrid', 'rm2227.445']\n",
      "Split text: ['hp', 'ryzen', '5', '16ram', '512gb', 'windows', '14inch', 'hybrid', 'rm3129.5']\n",
      "Split text: ['lenovo', 'ryzen', '7', '32ram', '1000gb', 'windows', '16inch', 'gaming', 'rm9899.945']\n",
      "Split text: ['infinix', 'i3', '8ram', '512gb', 'windows', '15inch', 'office', 'rm1814.45']\n",
      "Split text: ['acer', 'i5', '8ram', '1000gb', 'windows', '15inch', 'gaming', 'rm4359.19']\n",
      "Split text: ['dell', 'i5', '8ram', '512gb', 'windows', '15inch', 'gaming', 'rm3843.95']\n",
      "Split text: ['asus', 'i5', '8ram', '512gb', 'windows', '14inch', 'office', 'rm7303.45']\n",
      "Split text: ['asus', 'i5', '16ram', '512gb', 'windows', '15inch', 'hybrid', 'rm4894.45']\n",
      "Split text: ['asus', 'i5', '8ram', '512gb', 'windows', '14inch', 'office', 'rm4729.45']\n",
      "Split text: ['asus', 'i7', '8ram', '1000gb', 'windows', '14inch', 'office', 'rm5169.45']\n",
      "Split text: ['lenovo', 'i7', '16ram', '512gb', 'windows', '13inch', 'office', 'rm9598.985']\n",
      "Split text: ['hp', 'i5', '8ram', '512gb', 'windows', '13inch', 'office', 'rm6985.0']\n",
      "Split text: ['lenovo', 'i7', '16ram', '512gb', 'windows', '14inch', 'hybrid', 'rm9583.75']\n",
      "Split text: ['asus', 'integrated', '4ram', '512gb', 'chromeos', '11inch', 'hybrid', 'rm1044.45']\n",
      "Split text: ['infinix', 'i3', '8ram', '512gb', 'windows', '15inch', 'hybrid', 'rm1814.45']\n",
      "Split text: ['hp', 'ryzen', '5', '8ram', '512gb', 'windows', '15inch', 'gaming', 'rm2776.95']\n",
      "Split text: ['asus', 'i7', '8ram', '1000gb', 'windows', '14inch', 'hybrid', 'rm3739.45']\n",
      "Split text: ['lenovo', 'i7', '16ram', '512gb', 'windows', '14inch', 'hybrid', 'rm5829.45']\n",
      "Split text: ['hp', 'ryzen', '7', '16ram', '512gb', 'windows', '15inch', 'gaming', 'rm4564.45']\n",
      "Split text: ['acer', 'i5', '8ram', '256gb', 'windows', '14inch', 'hybrid', 'rm4509.89']\n",
      "Split text: ['asus', 'ryzen', '9', '16ram', '1000gb', 'windows', '15inch', 'gaming', 'rm10339.45']\n",
      "Split text: ['asus', 'ryzen', '7', '16ram', '512gb', 'windows', '16inch', 'hybrid', 'rm3749.9']\n",
      "Split text: ['msi', 'ryzen', '5', '8ram', '512gb', 'windows', '14inch', 'gaming', 'rm2529.45']\n",
      "Split text: ['asus', 'ryzen', '7', '16ram', '512gb', 'windows', '15inch', 'gaming', 'rm4894.45']\n",
      "Split text: ['hp', 'i5', '8ram', '512gb', 'windows', '15inch', 'office', 'rm3678.95']\n",
      "Split text: ['nokia', 'i5', '8ram', '512gb', 'windows', '14inch', 'office', 'rm2639.45']\n",
      "Split text: ['lg', 'i5', '8ram', '512gb', 'windows', '14inch', 'hybrid', 'rm4949.45']\n",
      "Split text: ['lenovo', 'integrated', '4ram', '128gb', 'chromeos', '11inch', 'office', 'rm934.45']\n",
      "Split text: ['msi', 'i9', '32ram', '2000gb', 'windows', '15inch', 'gaming', 'rm23099.45']\n",
      "Split text: ['hp', 'i5', '16ram', '512gb', 'windows', '14inch', 'hybrid', 'rm4234.45']\n",
      "Split text: ['hp', 'ryzen', '3', '8ram', '256gb', 'windows', '15inch', 'office', 'rm1539.45']\n",
      "Split text: ['sony', 'ryzen', '5', '8ram', '512gb', 'windows', '15inch', 'hybrid', 'rm2309.45']\n",
      "Split text: ['hp', 'i5', '16ram', '512gb', 'windows', '15inch', 'hybrid', 'rm5499.945']\n",
      "Split text: ['msi', 'i5', '8ram', '512gb', 'windows', '15inch', 'gaming', 'rm4041.95']\n",
      "Split text: ['avita', 'i7', '16ram', '1000gb', 'windows', '14inch', 'hybrid', 'rm2859.45']\n",
      "Split text: ['msi', 'i7', '16ram', '1000gb', 'windows', '17inch', 'gaming', 'rm11275.0']\n",
      "Split text: ['infinix', 'i7', '16ram', '512gb', 'windows', '14inch', 'hybrid', 'rm2584.45']\n",
      "Split text: ['dell', 'i5', '16ram', '512gb', 'windows', '15inch', 'office', 'rm3712.5']\n",
      "Split text: ['lg', 'i5', '8ram', '512gb', 'windows', '17inch', 'hybrid', 'rm5571.445']\n",
      "Split text: ['asus', 'integrated', '4ram', '1000gb', 'windows', '11inch', 'hybrid', 'rm1044.45']\n",
      "Split text: ['ultimus', 'integrated', '4ram', '128gb', 'windows', '14inch', 'hybrid', 'rm1099.45']\n",
      "Split text: ['asus', 'ryzen', '5', '8ram', '512gb', 'windows', '14inch', 'gaming', 'rm3024.45']\n",
      "Split text: ['dell', 'i3', '8ram', '1000gb', 'windows', '15inch', 'office', 'rm2254.45']\n",
      "Split text: ['asus', 'integrated', '4ram', '256gb', 'windows', '14inch', 'office', 'rm1349.7']\n",
      "Transformed 'tags': lenovo i5 16ram 512gb window 15inch offic rm3464.45\n"
     ]
    }
   ],
   "source": [
    "#use stem to reduce words in the tags column to their base or root forms. For example, \"running\" might be reduced to \"run.\"\n",
    "#import nltk\n",
    "#from nltk.stem import PorterStemmer\n",
    "\n",
    "ps = PorterStemmer()\n",
    "\n",
    "def stem(text):\n",
    "    # Split the string into words and print the result\n",
    "    split_text = text.split()\n",
    "    print(f\"Split text: {split_text}\")  # Display the split text (list of words)\n",
    "    \n",
    "    l = []\n",
    "    for i in split_text:\n",
    "        l.append(ps.stem(i))\n",
    "    \n",
    "    return \" \".join(l)\n",
    "\n",
    "# Print the original 'tags' value for the first row before stemming\n",
    "print(\"Original 'tags':\", laptop.iloc[0]['tags'])\n",
    "\n",
    "# Apply stemming to the 'tags' column\n",
    "laptop['tags'] = laptop['tags'].apply(stem)\n",
    "\n",
    "# Print the transformed 'tags' value for the first row after stemming\n",
    "print(\"Transformed 'tags':\", laptop.iloc[0]['tags'])"
   ]
  },
  {
   "cell_type": "code",
   "execution_count": 42,
   "metadata": {},
   "outputs": [
    {
     "name": "stdout",
     "output_type": "stream",
     "text": [
      "lenovo i5 16ram 512gb window 15inch offic rm3464.45\n"
     ]
    }
   ],
   "source": [
    "cv = CountVectorizer(max_features=5000, stop_words='english')\n",
    "vector = cv.fit_transform(laptop['tags']).toarray()\n",
    "\n",
    "print(laptop.iloc[0]['tags'])"
   ]
  },
  {
   "cell_type": "code",
   "execution_count": 43,
   "metadata": {},
   "outputs": [
    {
     "data": {
      "text/plain": [
       "array([[0, 0, 0, ..., 0, 0, 1],\n",
       "       [0, 0, 0, ..., 0, 0, 1],\n",
       "       [0, 0, 0, ..., 0, 0, 1],\n",
       "       ...,\n",
       "       [0, 0, 0, ..., 0, 0, 1],\n",
       "       [0, 0, 0, ..., 0, 0, 1],\n",
       "       [0, 0, 0, ..., 0, 0, 1]], dtype=int64)"
      ]
     },
     "execution_count": 43,
     "metadata": {},
     "output_type": "execute_result"
    }
   ],
   "source": [
    "vector"
   ]
  },
  {
   "cell_type": "code",
   "execution_count": 44,
   "metadata": {},
   "outputs": [
    {
     "data": {
      "text/plain": [
       "(796, 532)"
      ]
     },
     "execution_count": 44,
     "metadata": {},
     "output_type": "execute_result"
    }
   ],
   "source": [
    "vector.shape"
   ]
  },
  {
   "cell_type": "code",
   "execution_count": 45,
   "metadata": {},
   "outputs": [
    {
     "data": {
      "image/png": "[encoded data removed]",
      "text/plain": [
       "<Figure size 1200x600 with 1 Axes>"
      ]
     },
     "metadata": {},
     "output_type": "display_data"
    },
    {
     "data": {
      "image/png": "[encoded data removed]",
      "text/plain": [
       "<Figure size 1000x600 with 2 Axes>"
      ]
     },
     "metadata": {},
     "output_type": "display_data"
    }
   ],
   "source": [
    "# Get feature names (unique words) and their counts\n",
    "feature_names = cv.get_feature_names_out()\n",
    "word_counts = vector.sum(axis=0)  # Sum the occurrences of each word across all rows\n",
    "\n",
    "# Convert to a DataFrame for visualization\n",
    "word_freq_df = pd.DataFrame({'Word': feature_names, 'Count': word_counts.tolist()[0]})\n",
    "word_freq_df = word_freq_df.sort_values(by='Count', ascending=False)\n",
    "\n",
    "# Plot the top 15 words\n",
    "plt.figure(figsize=(12, 6))\n",
    "plt.bar(word_freq_df['Word'][:15], word_freq_df['Count'][:15], color='orange')\n",
    "plt.title('Top 15 Words in Tags Column')\n",
    "plt.xticks(rotation=45)\n",
    "plt.xlabel('Words')\n",
    "plt.ylabel('Frequency')\n",
    "plt.show()\n",
    "\n",
    "subset = vector[:10, :10]\n",
    "\n",
    "# Create a heatmap\n",
    "plt.figure(figsize=(10, 6))\n",
    "sns.heatmap(subset, annot=True, cmap=\"YlGnBu\", xticklabels=feature_names[:10], yticklabels=range(1, 11))\n",
    "plt.title('Heatmap of TF-IDF Values (First 10 Rows and Columns)')\n",
    "plt.xlabel('Words')\n",
    "plt.ylabel('Instances')\n",
    "plt.show()"
   ]
  },
  {
   "cell_type": "code",
   "execution_count": 46,
   "metadata": {},
   "outputs": [
    {
     "name": "stdout",
     "output_type": "stream",
     "text": [
      "Training Accuracy: 99.37%\n",
      "Testing Accuracy: 98.75%\n",
      "\n",
      "               precision    recall  f1-score   support\n",
      "\n",
      "      Gaming       0.97      1.00      0.98        62\n",
      "      Hybrid       1.00      1.00      1.00        54\n",
      "      Office       1.00      0.95      0.98        44\n",
      "\n",
      "    accuracy                           0.99       160\n",
      "   macro avg       0.99      0.98      0.99       160\n",
      "weighted avg       0.99      0.99      0.99       160\n",
      "\n",
      "Cross-validation accuracy: 95.44%\n",
      "Misclassified samples: 2\n"
     ]
    }
   ],
   "source": [
    "from sklearn.metrics import accuracy_score, classification_report, mean_squared_error\n",
    "from sklearn.ensemble import RandomForestClassifier\n",
    "from sklearn.model_selection import train_test_split\n",
    "from sklearn.model_selection import cross_val_score\n",
    "\n",
    "# Split the data into training and testing sets\n",
    "X_train, X_test, y_train, y_test = train_test_split(vector, \n",
    "                                                    laptop['usecases'], \n",
    "                                                    test_size=0.2, \n",
    "                                                    random_state=42)\n",
    "\n",
    "# Train the Random Forest model\n",
    "rf_model = RandomForestClassifier(n_estimators=40, \n",
    "                                  max_features=4, \n",
    "                                  max_depth=10, \n",
    "                                  random_state=42)\n",
    "rf_model.fit(X_train, y_train)\n",
    "\n",
    "# Predict on the test set\n",
    "y_pred = rf_model.predict(X_test)\n",
    "\n",
    "#Calculate training and testing accuracy\n",
    "train_acc = rf_model.score(X_train, y_train)\n",
    "test_acc = rf_model.score(X_test, y_test)\n",
    "print(f\"Training Accuracy: {train_acc:.2%}\")\n",
    "print(f\"Testing Accuracy: {test_acc:.2%}\")\n",
    "\n",
    "#Generate classification report (recall, precision and F1 score)\n",
    "print('\\n',classification_report(y_test, y_pred))\n",
    "\n",
    "\n",
    "#Cross Validation testing\n",
    "cv_scores = cross_val_score(rf_model, X_train, y_train, cv=5)\n",
    "print(f\"Cross-validation accuracy: {cv_scores.mean():.2%}\")\n",
    "\n",
    "#Display sample misclassification\n",
    "misclassified = X_test[y_test != y_pred]\n",
    "print(\"Misclassified samples:\", misclassified.shape[0])\n"
   ]
  },
  {
   "cell_type": "code",
   "execution_count": 47,
   "metadata": {},
   "outputs": [
    {
     "name": "stdout",
     "output_type": "stream",
     "text": [
      "Fitting 5 folds for each of 50 candidates, totalling 250 fits\n",
      "Best Parameters: {'max_features': 4, 'n_estimators': 40}\n",
      "Best Score: 0.95435531496063\n"
     ]
    }
   ],
   "source": [
    "#help to know what is the best value/number to increase the accuracy\n",
    "\n",
    "from sklearn.model_selection import GridSearchCV\n",
    "\n",
    "max_features_range = np.arange(1,6,1)\n",
    "n_estimators_range = np.arange(10,110,10)\n",
    "\n",
    "param_grid = {\n",
    "    'max_features': max_features_range,\n",
    "    'n_estimators': n_estimators_range\n",
    "}\n",
    "\n",
    "grid_search = GridSearchCV(\n",
    "    estimator = rf_model, \n",
    "    param_grid = param_grid, \n",
    "    cv = 5, \n",
    "    n_jobs=-1, \n",
    "    verbose = 2)\n",
    "\n",
    "grid_search.fit(X_train, y_train)\n",
    "\n",
    "print(\"Best Parameters:\", grid_search.best_params_)\n",
    "print(\"Best Score:\", grid_search.best_score_)"
   ]
  },
  {
   "cell_type": "code",
   "execution_count": 66,
   "metadata": {},
   "outputs": [
    {
     "data": {
      "image/png": "[encoded data removed]",
      "text/plain": [
       "<Figure size 1000x600 with 1 Axes>"
      ]
     },
     "metadata": {},
     "output_type": "display_data"
    },
    {
     "data": {
      "image/png": "[encoded data removed]",
      "text/plain": [
       "<Figure size 800x600 with 2 Axes>"
      ]
     },
     "metadata": {},
     "output_type": "display_data"
    },
    {
     "name": "stdout",
     "output_type": "stream",
     "text": [
      "Confusion Matrix:\n",
      " [[62  0  0]\n",
      " [ 0 54  0]\n",
      " [ 0  0 44]]\n"
     ]
    }
   ],
   "source": [
    "import matplotlib.pyplot as plt\n",
    "import seaborn as sns\n",
    "import numpy as np\n",
    "from sklearn.metrics import confusion_matrix, classification_report\n",
    "import pandas as pd\n",
    "\n",
    "# Ensure `cv` is your TfidfVectorizer\n",
    "feature_names = cv.get_feature_names_out()  # Use the TF-IDF vectorizer, not the vectorized output\n",
    "\n",
    "# Extract feature importances\n",
    "feature_importances = rf_model.feature_importances_\n",
    "\n",
    "# Create DataFrame\n",
    "importance_df = pd.DataFrame({'Feature': feature_names, 'Importance': feature_importances})\n",
    "importance_df = importance_df.sort_values(by='Importance', ascending=False).head(20)  # Top 20 words\n",
    "\n",
    "# Plot\n",
    "plt.figure(figsize=(10,6))\n",
    "sns.barplot(x='Importance', y='Feature', data=importance_df, palette='viridis')\n",
    "plt.xlabel('Importance Score')\n",
    "plt.ylabel('Feature (TF-IDF Word)')\n",
    "plt.title('Top 20 Important Words for Classification')\n",
    "plt.show()\n",
    "\n",
    "\n",
    "\n",
    "# ----- 1. Confusion Matrix -----\n",
    "plt.figure(figsize=(8,6))\n",
    "cm = confusion_matrix(y_test, y_pred)\n",
    "sns.heatmap(cm, annot=True, fmt='d', cmap='Blues', xticklabels=rf_model.classes_, yticklabels=rf_model.classes_)\n",
    "plt.xlabel('Predicted')\n",
    "plt.ylabel('Actual')\n",
    "plt.title('Confusion Matrix')\n",
    "plt.show()\n",
    "print(\"Confusion Matrix:\\n\", cm)\n"
   ]
  },
  {
   "cell_type": "code",
   "execution_count": 65,
   "metadata": {},
   "outputs": [
    {
     "name": "stdout",
     "output_type": "stream",
     "text": [
      "Confusion Matrix:\n",
      " [[62  0  0]\n",
      " [ 0 54  0]\n",
      " [ 0  0 44]]\n"
     ]
    },
    {
     "data": {
      "image/png": "[encoded data removed]",
      "text/plain": [
       "<Figure size 800x600 with 2 Axes>"
      ]
     },
     "metadata": {},
     "output_type": "display_data"
    }
   ],
   "source": [
    "model = RandomForestClassifier(n_estimators=100, random_state=42)\n",
    "model.fit(X_train, y_train)\n",
    "\n",
    "# Make predictions\n",
    "y_pred = model.predict(X_test)\n",
    "# Compute confusion matrix\n",
    "cm = confusion_matrix(y_test, y_pred)\n",
    "\n",
    "print(\"Confusion Matrix:\\n\", cm)\n",
    "# Plot the confusion matrix using seaborn\n",
    "plt.figure(figsize=(8,6))  # Increase figure size\n",
    "sns.heatmap(cm, annot=True, fmt='d', cmap='Blues', annot_kws={\"size\": 14}, linewidths=1, linecolor='black')\n",
    "plt.xlabel('Predicted', fontsize=12)\n",
    "plt.ylabel('Actual', fontsize=12)\n",
    "plt.title('Confusion Matrix', fontsize=14)\n",
    "plt.show()\n"
   ]
  },
  {
   "cell_type": "code",
   "execution_count": 49,
   "metadata": {},
   "outputs": [
    {
     "name": "stdout",
     "output_type": "stream",
     "text": [
      "Actual Labels:\n",
      " ['Office' 'Office' 'Office' 'Gaming' 'Hybrid' 'Office' 'Office' 'Office'\n",
      " 'Hybrid' 'Office']\n",
      "Predicted Labels:\n",
      " ['Office' 'Office' 'Office' 'Gaming' 'Hybrid' 'Office' 'Office' 'Office'\n",
      " 'Hybrid' 'Office']\n"
     ]
    }
   ],
   "source": [
    "print(\"Actual Labels:\\n\", y_test.values[:10])\n",
    "print(\"Predicted Labels:\\n\", y_pred[:10])"
   ]
  },
  {
   "cell_type": "code",
   "execution_count": null,
   "metadata": {},
   "outputs": [
    {
     "name": "stdout",
     "output_type": "stream",
     "text": [
      "Laptop: Lenovo Intel Core i5 11th Gen\n",
      "Recommended Laptops:\n",
      "- Lenovo IdeaPad Gaming 3 Core i5 10th Gen (0.89 similarity)\n",
      "- Lenovo IdeaPad Core i5 11th Gen (0.89 similarity)\n",
      "- ASUS Vivobook 15 OLED (2022) Core i5 12th Gen (0.78 similarity)\n",
      "- MSI Sword 15 Core i5 12th Gen (0.78 similarity)\n",
      "- DELL Core i5 11th Gen (0.78 similarity)\n"
     ]
    }
   ],
   "source": [
    "from sklearn.metrics.pairwise import cosine_similarity\n",
    "\n",
    "# ----- 4. Example Recommendations -----\n",
    "def get_similar_laptops(laptop_index, tfidf_matrix, laptop_df, top_n=5):\n",
    "    # Ensure the input is 2D before computing similarity\n",
    "    cosine_similarities = cosine_similarity(tfidf_matrix[laptop_index].reshape(1, -1), tfidf_matrix).flatten()\n",
    "    \n",
    "    # Get top N similar laptops (excluding itself)\n",
    "    similar_indices = cosine_similarities.argsort()[-top_n-1:-1][::-1]  \n",
    "    \n",
    "    print(f\"Laptop: {laptop_df.iloc[laptop_index]['name']}\")\n",
    "    print(\"Recommended Laptops:\")\n",
    "    for i in similar_indices:\n",
    "        print(f\"- {laptop_df.iloc[i]['name']} ({cosine_similarities[i]:.2f} similarity)\")\n",
    "\n",
    "# Example Usage (Recommend similar laptops to the first test instance)\n",
    "get_similar_laptops(0, vector, laptop)\n"
   ]
  },
  {
   "cell_type": "code",
   "execution_count": 51,
   "metadata": {},
   "outputs": [
    {
     "name": "stdout",
     "output_type": "stream",
     "text": [
      "Predicted Type: Office\n",
      "Top 5 Recommended Laptops:\n",
      "                                               name usecases\n",
      "605                           ASUS Core i9 10th Gen   Office\n",
      "229                      ALIENWARE Core i9 10th Gen   Gaming\n",
      "203  ASUS ROG Strix SCAR 15 (2022) Core i9 12th Gen   Gaming\n",
      "780             MSI Raider GE67 HX Core i9 12th Gen   Gaming\n",
      "228  ASUS ROG Strix Scar 15 (2022) Core i9 12th Gen   Gaming\n"
     ]
    }
   ],
   "source": [
    "from sklearn.metrics.pairwise import cosine_similarity\n",
    "user_input = \"Avita Intel i9 32RAM Windows 128GB 15inch RM3000\"\n",
    "user_input_vector = cv.transform([user_input])\n",
    "\n",
    "# Calculate cosine similarity between user input and all laptops\n",
    "similarity_scores = cosine_similarity(user_input_vector, vector).flatten()\n",
    "\n",
    "\n",
    "# Predict category\n",
    "predicted_category = rf_model.predict(user_input_vector)[0]\n",
    "print(f\"Predicted Type: {predicted_category}\")\n",
    "\n",
    "# Get the indices of the top 5 laptops\n",
    "top_5_indices = similarity_scores.argsort()[-5:][::-1]\n",
    "\n",
    "# Display the top 5 laptops\n",
    "top_5_laptops = laptop.iloc[top_5_indices]\n",
    "print(\"Top 5 Recommended Laptops:\")\n",
    "print(top_5_laptops[['name', 'usecases']])"
   ]
  },
  {
   "cell_type": "code",
   "execution_count": 52,
   "metadata": {},
   "outputs": [
    {
     "data": {
      "text/html": [
       "<div>\n",
       "<style scoped>\n",
       "    .dataframe tbody tr th:only-of-type {\n",
       "        vertical-align: middle;\n",
       "    }\n",
       "\n",
       "    .dataframe tbody tr th {\n",
       "        vertical-align: top;\n",
       "    }\n",
       "\n",
       "    .dataframe thead th {\n",
       "        text-align: right;\n",
       "    }\n",
       "</style>\n",
       "<table border=\"1\" class=\"dataframe\">\n",
       "  <thead>\n",
       "    <tr style=\"text-align: right;\">\n",
       "      <th></th>\n",
       "      <th>laptop_id</th>\n",
       "      <th>img_link</th>\n",
       "      <th>name</th>\n",
       "      <th>price</th>\n",
       "      <th>brand</th>\n",
       "      <th>usecases</th>\n",
       "      <th>processor</th>\n",
       "      <th>ram</th>\n",
       "      <th>os</th>\n",
       "      <th>storage</th>\n",
       "    </tr>\n",
       "  </thead>\n",
       "  <tbody>\n",
       "    <tr>\n",
       "      <th>0</th>\n",
       "      <td>0</td>\n",
       "      <td>https://rukminim1.flixcart.com/image/312/312/x...</td>\n",
       "      <td>Lenovo Intel Core i5 11th Gen</td>\n",
       "      <td>3464.45</td>\n",
       "      <td>Lenovo</td>\n",
       "      <td>Office</td>\n",
       "      <td>Intel Core i5 Processor (11th Gen)</td>\n",
       "      <td>16RAM</td>\n",
       "      <td>Windows</td>\n",
       "      <td>512GB</td>\n",
       "    </tr>\n",
       "  </tbody>\n",
       "</table>\n",
       "</div>"
      ],
      "text/plain": [
       "   laptop_id                                           img_link  \\\n",
       "0          0  https://rukminim1.flixcart.com/image/312/312/x...   \n",
       "\n",
       "                            name    price   brand usecases  \\\n",
       "0  Lenovo Intel Core i5 11th Gen  3464.45  Lenovo   Office   \n",
       "\n",
       "                            processor    ram       os storage  \n",
       "0  Intel Core i5 Processor (11th Gen)  16RAM  Windows   512GB  "
      ]
     },
     "execution_count": 52,
     "metadata": {},
     "output_type": "execute_result"
    }
   ],
   "source": [
    "new_csv.head(1)"
   ]
  },
  {
   "cell_type": "code",
   "execution_count": 53,
   "metadata": {},
   "outputs": [
    {
     "data": {
      "text/plain": [
       "Index(['laptop_id', 'name', 'price', 'processor', 'ram', 'storage', 'img_link',\n",
       "       'display', 'brand', 'os', 'usecases', 'cpu', 'tags'],\n",
       "      dtype='object')"
      ]
     },
     "execution_count": 53,
     "metadata": {},
     "output_type": "execute_result"
    }
   ],
   "source": [
    "laptop.columns"
   ]
  },
  {
   "cell_type": "code",
   "execution_count": 54,
   "metadata": {},
   "outputs": [],
   "source": [
    "laptops = pd.merge(laptop, new_csv, on='laptop_id', how='left')\n"
   ]
  },
  {
   "cell_type": "code",
   "execution_count": 55,
   "metadata": {},
   "outputs": [
    {
     "data": {
      "text/plain": [
       "Index(['laptop_id', 'name', 'price', 'processor', 'ram', 'storage', 'img_link',\n",
       "       'display', 'brand', 'os', 'usecases', 'cpu', 'tags'],\n",
       "      dtype='object')"
      ]
     },
     "execution_count": 55,
     "metadata": {},
     "output_type": "execute_result"
    }
   ],
   "source": [
    "laptop.columns"
   ]
  },
  {
   "cell_type": "code",
   "execution_count": 56,
   "metadata": {},
   "outputs": [
    {
     "data": {
      "text/plain": [
       "\"with open('model/X_test.pkl', 'wb') as f:\\n    pickle.dump(X_test, f)\\n\\nwith open('model/y_test.pkl', 'wb') as f:\\n    pickle.dump(y_test, f)\\n\\nwith open('model/csv_combined.pkl', 'wb') as f:\\n    pickle.dump(new_csv, f)\""
      ]
     },
     "execution_count": 56,
     "metadata": {},
     "output_type": "execute_result"
    }
   ],
   "source": [
    "import pickle\n",
    "\n",
    "# Models Upload\n",
    "\n",
    "# count vectorizer\n",
    "with open('model/cv_combined.pkl', 'wb') as f:\n",
    "    pickle.dump(cv, f)\n",
    "# completed model\n",
    "with open('model/model_combined.pkl', 'wb') as f:\n",
    "    pickle.dump(rf_model, f)\n",
    "# dataframe\n",
    "with open('model/df_combined.pkl', 'wb') as f: \n",
    "    pickle.dump(laptop, f) \n",
    "# vector\n",
    "with open('model/vector_combined.pkl', 'wb') as f:\n",
    "    pickle.dump(vector, f) \n",
    "# csv dataset\n",
    "new_csv.to_csv('model/combined.csv', sep=',', index=False, encoding='utf-8')\n",
    "\n",
    "\n",
    "'''with open('model/X_test.pkl', 'wb') as f:\n",
    "    pickle.dump(X_test, f)\n",
    "\n",
    "with open('model/y_test.pkl', 'wb') as f:\n",
    "    pickle.dump(y_test, f)\n",
    "\n",
    "with open('model/csv_combined.pkl', 'wb') as f:\n",
    "    pickle.dump(new_csv, f)'''\n"
   ]
  },
  {
   "cell_type": "code",
   "execution_count": 57,
   "metadata": {},
   "outputs": [
    {
     "data": {
      "text/plain": [
       "'pip install scikit-learn==1.6.1'"
      ]
     },
     "execution_count": 57,
     "metadata": {},
     "output_type": "execute_result"
    }
   ],
   "source": [
    "'''pip install scikit-learn==1.6.1'''"
   ]
  },
  {
   "cell_type": "code",
   "execution_count": 58,
   "metadata": {},
   "outputs": [
    {
     "data": {
      "text/plain": [
       "'import joblib\\nimport sklearn\\n\\n# Save the model and include scikit-learn version\\nmetadata = {\"scikit_learn_version\": sklearn.__version__}\\n\\njoblib.dump((rf_model, metadata), \\'model/rf_model2_with_version.joblib\\')\\njoblib.dump(cv, \\'model/count_vectorizer_with_version.joblib\\')\\njoblib.dump(rec_df, \\'model/rf_df2_with_version.joblib\\')'"
      ]
     },
     "execution_count": 58,
     "metadata": {},
     "output_type": "execute_result"
    }
   ],
   "source": [
    "'''import joblib\n",
    "import sklearn\n",
    "\n",
    "# Save the model and include scikit-learn version\n",
    "metadata = {\"scikit_learn_version\": sklearn.__version__}\n",
    "\n",
    "joblib.dump((rf_model, metadata), 'model/rf_model2_with_version.joblib')\n",
    "joblib.dump(cv, 'model/count_vectorizer_with_version.joblib')\n",
    "joblib.dump(rec_df, 'model/rf_df2_with_version.joblib')'''"
   ]
  },
  {
   "cell_type": "code",
   "execution_count": 59,
   "metadata": {},
   "outputs": [
    {
     "data": {
      "text/plain": [
       "'import pickle\\n\\n\\npickle.dump(rec_df, open(\\'model/rf_df2.pkl\\', \\'wb\\')) #dataframe\\njoblib.dump(rf_model, \\'model/rf_model.pkl\\')\\nprint(\"Model saved!\")'"
      ]
     },
     "execution_count": 59,
     "metadata": {},
     "output_type": "execute_result"
    }
   ],
   "source": [
    "'''import pickle\n",
    "\n",
    "\n",
    "pickle.dump(rec_df, open('model/rf_df2.pkl', 'wb')) #dataframe\n",
    "joblib.dump(rf_model, 'model/rf_model.pkl')\n",
    "print(\"Model saved!\")'''"
   ]
  }
 ],
 "metadata": {
  "kernelspec": {
   "display_name": "base",
   "language": "python",
   "name": "python3"
  },
  "language_info": {
   "codemirror_mode": {
    "name": "ipython",
    "version": 3
   },
   "file_extension": ".py",
   "mimetype": "text/x-python",
   "name": "python",
   "nbconvert_exporter": "python",
   "pygments_lexer": "ipython3",
   "version": "3.11.7"
  }
 },
 "nbformat": 4,
 "nbformat_minor": 2
}
